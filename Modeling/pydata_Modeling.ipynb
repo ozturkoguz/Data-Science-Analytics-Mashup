{
  "nbformat": 4,
  "nbformat_minor": 0,
  "metadata": {
    "kernelspec": {
      "display_name": "Python 3",
      "language": "python",
      "name": "python3"
    },
    "language_info": {
      "codemirror_mode": {
        "name": "ipython",
        "version": 3
      },
      "file_extension": ".py",
      "mimetype": "text/x-python",
      "name": "python",
      "nbconvert_exporter": "python",
      "pygments_lexer": "ipython3",
      "version": "3.6.0"
    },
    "colab": {
      "name": "ch13.ipynb",
      "provenance": []
    }
  },
  "cells": [
    {
      "cell_type": "markdown",
      "metadata": {
        "deletable": true,
        "editable": true,
        "id": "92woCwhGxoXg",
        "colab_type": "text"
      },
      "source": [
        "# Introduction to Modeling Libraries "
      ]
    },
    {
      "cell_type": "code",
      "metadata": {
        "deletable": true,
        "editable": true,
        "id": "CHT_n_PaxoXh",
        "colab_type": "code",
        "colab": {}
      },
      "source": [
        "import numpy as np\n",
        "import pandas as pd\n",
        "np.random.seed(12345)\n",
        "import matplotlib.pyplot as plt\n",
        "plt.rc('figure', figsize=(10, 6))\n",
        "PREVIOUS_MAX_ROWS = pd.options.display.max_rows\n",
        "pd.options.display.max_rows = 20\n",
        "np.set_printoptions(precision=4, suppress=True)"
      ],
      "execution_count": 0,
      "outputs": []
    },
    {
      "cell_type": "markdown",
      "metadata": {
        "deletable": true,
        "editable": true,
        "id": "73vA_oXnxoXm",
        "colab_type": "text"
      },
      "source": [
        "## Interfacing Between pandas and Model Code"
      ]
    },
    {
      "cell_type": "code",
      "metadata": {
        "deletable": true,
        "editable": true,
        "id": "plfQruo2xoXm",
        "colab_type": "code",
        "colab": {}
      },
      "source": [
        "import pandas as pd\n",
        "import numpy as np\n",
        "data = pd.DataFrame({\n",
        "    'x0': [1, 2, 3, 4, 5],\n",
        "    'x1': [0.01, -0.01, 0.25, -4.1, 0.],\n",
        "    'y': [-1.5, 0., 3.6, 1.3, -2.]})\n",
        "data\n",
        "data.columns\n",
        "data.values"
      ],
      "execution_count": 0,
      "outputs": []
    },
    {
      "cell_type": "code",
      "metadata": {
        "deletable": true,
        "editable": true,
        "id": "4j2pMGsLxoXq",
        "colab_type": "code",
        "colab": {}
      },
      "source": [
        "df2 = pd.DataFrame(data.values, columns=['one', 'two', 'three'])\n",
        "df2"
      ],
      "execution_count": 0,
      "outputs": []
    },
    {
      "cell_type": "code",
      "metadata": {
        "deletable": true,
        "editable": true,
        "id": "yEE94eLExoXt",
        "colab_type": "code",
        "colab": {}
      },
      "source": [
        "model_cols = ['x0', 'x1']\n",
        "data.loc[:, model_cols].values"
      ],
      "execution_count": 0,
      "outputs": []
    },
    {
      "cell_type": "code",
      "metadata": {
        "deletable": true,
        "editable": true,
        "id": "Z8AE9-O4xoX0",
        "colab_type": "code",
        "colab": {}
      },
      "source": [
        "data['category'] = pd.Categorical(['a', 'b', 'a', 'a', 'b'],\n",
        "                                  categories=['a', 'b'])\n",
        "data"
      ],
      "execution_count": 0,
      "outputs": []
    },
    {
      "cell_type": "code",
      "metadata": {
        "deletable": true,
        "editable": true,
        "id": "-lR2BnFyxoX4",
        "colab_type": "code",
        "colab": {}
      },
      "source": [
        "dummies = pd.get_dummies(data.category, prefix='category')\n",
        "data_with_dummies = data.drop('category', axis=1).join(dummies)\n",
        "data_with_dummies"
      ],
      "execution_count": 0,
      "outputs": []
    },
    {
      "cell_type": "markdown",
      "metadata": {
        "deletable": true,
        "editable": true,
        "id": "EcGK6tdwxoX7",
        "colab_type": "text"
      },
      "source": [
        "## Creating Model Descriptions with Patsy"
      ]
    },
    {
      "cell_type": "markdown",
      "metadata": {
        "deletable": true,
        "editable": true,
        "id": "YeaPa1QBxoX9",
        "colab_type": "text"
      },
      "source": [
        "y ~ x0 + x1"
      ]
    },
    {
      "cell_type": "code",
      "metadata": {
        "deletable": true,
        "editable": true,
        "id": "ibtCxT-hxoX9",
        "colab_type": "code",
        "colab": {}
      },
      "source": [
        "data = pd.DataFrame({\n",
        "    'x0': [1, 2, 3, 4, 5],\n",
        "    'x1': [0.01, -0.01, 0.25, -4.1, 0.],\n",
        "    'y': [-1.5, 0., 3.6, 1.3, -2.]})\n",
        "data\n",
        "import patsy\n",
        "y, X = patsy.dmatrices('y ~ x0 + x1', data)"
      ],
      "execution_count": 0,
      "outputs": []
    },
    {
      "cell_type": "code",
      "metadata": {
        "deletable": true,
        "editable": true,
        "id": "BfPzFdKixoYC",
        "colab_type": "code",
        "colab": {}
      },
      "source": [
        "y\n",
        "X"
      ],
      "execution_count": 0,
      "outputs": []
    },
    {
      "cell_type": "code",
      "metadata": {
        "deletable": true,
        "editable": true,
        "id": "LN-qzBnRxoYF",
        "colab_type": "code",
        "colab": {}
      },
      "source": [
        "np.asarray(y)\n",
        "np.asarray(X)"
      ],
      "execution_count": 0,
      "outputs": []
    },
    {
      "cell_type": "code",
      "metadata": {
        "deletable": true,
        "editable": true,
        "id": "__alCcyUxoYI",
        "colab_type": "code",
        "colab": {}
      },
      "source": [
        "patsy.dmatrices('y ~ x0 + x1 + 0', data)[1]"
      ],
      "execution_count": 0,
      "outputs": []
    },
    {
      "cell_type": "code",
      "metadata": {
        "deletable": true,
        "editable": true,
        "id": "ygfK7-x7xoYL",
        "colab_type": "code",
        "colab": {}
      },
      "source": [
        "coef, resid, _, _ = np.linalg.lstsq(X, y)"
      ],
      "execution_count": 0,
      "outputs": []
    },
    {
      "cell_type": "code",
      "metadata": {
        "deletable": true,
        "editable": true,
        "id": "NUPmzwg5xoYO",
        "colab_type": "code",
        "colab": {}
      },
      "source": [
        "coef\n",
        "coef = pd.Series(coef.squeeze(), index=X.design_info.column_names)\n",
        "coef"
      ],
      "execution_count": 0,
      "outputs": []
    },
    {
      "cell_type": "markdown",
      "metadata": {
        "deletable": true,
        "editable": true,
        "id": "e_kyK_5yxoYT",
        "colab_type": "text"
      },
      "source": [
        "### Data Transformations in Patsy Formulas"
      ]
    },
    {
      "cell_type": "code",
      "metadata": {
        "deletable": true,
        "editable": true,
        "id": "XUwUFcdsxoYT",
        "colab_type": "code",
        "colab": {}
      },
      "source": [
        "y, X = patsy.dmatrices('y ~ x0 + np.log(np.abs(x1) + 1)', data)\n",
        "X"
      ],
      "execution_count": 0,
      "outputs": []
    },
    {
      "cell_type": "code",
      "metadata": {
        "deletable": true,
        "editable": true,
        "id": "-qeJsHhOxoYW",
        "colab_type": "code",
        "colab": {}
      },
      "source": [
        "y, X = patsy.dmatrices('y ~ standardize(x0) + center(x1)', data)\n",
        "X"
      ],
      "execution_count": 0,
      "outputs": []
    },
    {
      "cell_type": "code",
      "metadata": {
        "deletable": true,
        "editable": true,
        "id": "av-u6XMQxoYY",
        "colab_type": "code",
        "colab": {}
      },
      "source": [
        "new_data = pd.DataFrame({\n",
        "    'x0': [6, 7, 8, 9],\n",
        "    'x1': [3.1, -0.5, 0, 2.3],\n",
        "    'y': [1, 2, 3, 4]})\n",
        "new_X = patsy.build_design_matrices([X.design_info], new_data)\n",
        "new_X"
      ],
      "execution_count": 0,
      "outputs": []
    },
    {
      "cell_type": "code",
      "metadata": {
        "deletable": true,
        "editable": true,
        "id": "Bpn_CgqExoYb",
        "colab_type": "code",
        "colab": {}
      },
      "source": [
        "y, X = patsy.dmatrices('y ~ I(x0 + x1)', data)\n",
        "X"
      ],
      "execution_count": 0,
      "outputs": []
    },
    {
      "cell_type": "markdown",
      "metadata": {
        "deletable": true,
        "editable": true,
        "id": "-QgOhLFCxoYf",
        "colab_type": "text"
      },
      "source": [
        "### Categorical Data and Patsy"
      ]
    },
    {
      "cell_type": "code",
      "metadata": {
        "deletable": true,
        "editable": true,
        "id": "Xfw51mzbxoYh",
        "colab_type": "code",
        "colab": {}
      },
      "source": [
        "data = pd.DataFrame({\n",
        "    'key1': ['a', 'a', 'b', 'b', 'a', 'b', 'a', 'b'],\n",
        "    'key2': [0, 1, 0, 1, 0, 1, 0, 0],\n",
        "    'v1': [1, 2, 3, 4, 5, 6, 7, 8],\n",
        "    'v2': [-1, 0, 2.5, -0.5, 4.0, -1.2, 0.2, -1.7]\n",
        "})\n",
        "y, X = patsy.dmatrices('v2 ~ key1', data)\n",
        "X"
      ],
      "execution_count": 0,
      "outputs": []
    },
    {
      "cell_type": "code",
      "metadata": {
        "deletable": true,
        "editable": true,
        "id": "Jnt9xRC_xoYj",
        "colab_type": "code",
        "colab": {}
      },
      "source": [
        "y, X = patsy.dmatrices('v2 ~ key1 + 0', data)\n",
        "X"
      ],
      "execution_count": 0,
      "outputs": []
    },
    {
      "cell_type": "code",
      "metadata": {
        "deletable": true,
        "editable": true,
        "id": "RaJ4FIgRxoYm",
        "colab_type": "code",
        "colab": {}
      },
      "source": [
        "y, X = patsy.dmatrices('v2 ~ C(key2)', data)\n",
        "X"
      ],
      "execution_count": 0,
      "outputs": []
    },
    {
      "cell_type": "code",
      "metadata": {
        "deletable": true,
        "editable": true,
        "id": "5o-BAVTvxoYo",
        "colab_type": "code",
        "colab": {}
      },
      "source": [
        "data['key2'] = data['key2'].map({0: 'zero', 1: 'one'})\n",
        "data\n",
        "y, X = patsy.dmatrices('v2 ~ key1 + key2', data)\n",
        "X\n",
        "y, X = patsy.dmatrices('v2 ~ key1 + key2 + key1:key2', data)\n",
        "X"
      ],
      "execution_count": 0,
      "outputs": []
    },
    {
      "cell_type": "markdown",
      "metadata": {
        "deletable": true,
        "editable": true,
        "id": "Jw0dDAFGxoYr",
        "colab_type": "text"
      },
      "source": [
        "## Introduction to statsmodels"
      ]
    },
    {
      "cell_type": "markdown",
      "metadata": {
        "deletable": true,
        "editable": true,
        "id": "cchFN0BExoYr",
        "colab_type": "text"
      },
      "source": [
        "### Estimating Linear Models"
      ]
    },
    {
      "cell_type": "code",
      "metadata": {
        "deletable": true,
        "editable": true,
        "id": "w-X0LZUgxoYs",
        "colab_type": "code",
        "colab": {}
      },
      "source": [
        "import statsmodels.api as sm\n",
        "import statsmodels.formula.api as smf"
      ],
      "execution_count": 0,
      "outputs": []
    },
    {
      "cell_type": "code",
      "metadata": {
        "deletable": true,
        "editable": true,
        "id": "DFYkGbaRxoYx",
        "colab_type": "code",
        "colab": {}
      },
      "source": [
        "def dnorm(mean, variance, size=1):\n",
        "    if isinstance(size, int):\n",
        "        size = size,\n",
        "    return mean + np.sqrt(variance) * np.random.randn(*size)\n",
        "\n",
        "# For reproducibility\n",
        "np.random.seed(12345)\n",
        "\n",
        "N = 100\n",
        "X = np.c_[dnorm(0, 0.4, size=N),\n",
        "          dnorm(0, 0.6, size=N),\n",
        "          dnorm(0, 0.2, size=N)]\n",
        "eps = dnorm(0, 0.1, size=N)\n",
        "beta = [0.1, 0.3, 0.5]\n",
        "\n",
        "y = np.dot(X, beta) + eps"
      ],
      "execution_count": 0,
      "outputs": []
    },
    {
      "cell_type": "code",
      "metadata": {
        "deletable": true,
        "editable": true,
        "id": "-6tevHyxxoYz",
        "colab_type": "code",
        "colab": {}
      },
      "source": [
        "X[:5]\n",
        "y[:5]"
      ],
      "execution_count": 0,
      "outputs": []
    },
    {
      "cell_type": "code",
      "metadata": {
        "deletable": true,
        "editable": true,
        "id": "TiLCV81YxoY2",
        "colab_type": "code",
        "colab": {}
      },
      "source": [
        "X_model = sm.add_constant(X)\n",
        "X_model[:5]"
      ],
      "execution_count": 0,
      "outputs": []
    },
    {
      "cell_type": "code",
      "metadata": {
        "deletable": true,
        "editable": true,
        "id": "any8wOuzxoY6",
        "colab_type": "code",
        "colab": {}
      },
      "source": [
        "model = sm.OLS(y, X)"
      ],
      "execution_count": 0,
      "outputs": []
    },
    {
      "cell_type": "code",
      "metadata": {
        "deletable": true,
        "editable": true,
        "id": "58Hi_886xoY-",
        "colab_type": "code",
        "colab": {}
      },
      "source": [
        "results = model.fit()\n",
        "results.params"
      ],
      "execution_count": 0,
      "outputs": []
    },
    {
      "cell_type": "code",
      "metadata": {
        "deletable": true,
        "editable": true,
        "id": "AL6ZAVVCxoZA",
        "colab_type": "code",
        "colab": {}
      },
      "source": [
        "print(results.summary())"
      ],
      "execution_count": 0,
      "outputs": []
    },
    {
      "cell_type": "code",
      "metadata": {
        "deletable": true,
        "editable": true,
        "id": "-IK1brFPxoZD",
        "colab_type": "code",
        "colab": {}
      },
      "source": [
        "data = pd.DataFrame(X, columns=['col0', 'col1', 'col2'])\n",
        "data['y'] = y\n",
        "data[:5]"
      ],
      "execution_count": 0,
      "outputs": []
    },
    {
      "cell_type": "code",
      "metadata": {
        "deletable": true,
        "editable": true,
        "id": "P6PzK5m3xoZF",
        "colab_type": "code",
        "colab": {}
      },
      "source": [
        "results = smf.ols('y ~ col0 + col1 + col2', data=data).fit()\n",
        "results.params\n",
        "results.tvalues"
      ],
      "execution_count": 0,
      "outputs": []
    },
    {
      "cell_type": "code",
      "metadata": {
        "deletable": true,
        "editable": true,
        "id": "7qDEHCfLxoZI",
        "colab_type": "code",
        "colab": {}
      },
      "source": [
        "results.predict(data[:5])"
      ],
      "execution_count": 0,
      "outputs": []
    },
    {
      "cell_type": "markdown",
      "metadata": {
        "deletable": true,
        "editable": true,
        "id": "xO_dx8RHxoZK",
        "colab_type": "text"
      },
      "source": [
        "### Estimating Time Series Processes"
      ]
    },
    {
      "cell_type": "code",
      "metadata": {
        "deletable": true,
        "editable": true,
        "id": "PXinuXkIxoZK",
        "colab_type": "code",
        "colab": {}
      },
      "source": [
        "init_x = 4\n",
        "\n",
        "import random\n",
        "values = [init_x, init_x]\n",
        "N = 1000\n",
        "\n",
        "b0 = 0.8\n",
        "b1 = -0.4\n",
        "noise = dnorm(0, 0.1, N)\n",
        "for i in range(N):\n",
        "    new_x = values[-1] * b0 + values[-2] * b1 + noise[i]\n",
        "    values.append(new_x)"
      ],
      "execution_count": 0,
      "outputs": []
    },
    {
      "cell_type": "code",
      "metadata": {
        "deletable": true,
        "editable": true,
        "id": "0NX9b3tExoZN",
        "colab_type": "code",
        "colab": {}
      },
      "source": [
        "MAXLAGS = 5\n",
        "model = sm.tsa.AR(values)\n",
        "results = model.fit(MAXLAGS)"
      ],
      "execution_count": 0,
      "outputs": []
    },
    {
      "cell_type": "code",
      "metadata": {
        "deletable": true,
        "editable": true,
        "id": "nqnfDKkuxoZP",
        "colab_type": "code",
        "colab": {}
      },
      "source": [
        "results.params"
      ],
      "execution_count": 0,
      "outputs": []
    },
    {
      "cell_type": "markdown",
      "metadata": {
        "deletable": true,
        "editable": true,
        "id": "iZcKaIKbxoZT",
        "colab_type": "text"
      },
      "source": [
        "## Introduction to scikit-learn"
      ]
    },
    {
      "cell_type": "code",
      "metadata": {
        "deletable": true,
        "editable": true,
        "id": "A5ZwR5_PxoZU",
        "colab_type": "code",
        "colab": {}
      },
      "source": [
        "train = pd.read_csv('datasets/titanic/train.csv')\n",
        "test = pd.read_csv('datasets/titanic/test.csv')\n",
        "train[:4]"
      ],
      "execution_count": 0,
      "outputs": []
    },
    {
      "cell_type": "code",
      "metadata": {
        "deletable": true,
        "editable": true,
        "id": "sko0VruDxoZX",
        "colab_type": "code",
        "colab": {}
      },
      "source": [
        "train.isnull().sum()\n",
        "test.isnull().sum()"
      ],
      "execution_count": 0,
      "outputs": []
    },
    {
      "cell_type": "code",
      "metadata": {
        "deletable": true,
        "editable": true,
        "id": "S4fM2N1rxoZa",
        "colab_type": "code",
        "colab": {}
      },
      "source": [
        "impute_value = train['Age'].median()\n",
        "train['Age'] = train['Age'].fillna(impute_value)\n",
        "test['Age'] = test['Age'].fillna(impute_value)"
      ],
      "execution_count": 0,
      "outputs": []
    },
    {
      "cell_type": "code",
      "metadata": {
        "deletable": true,
        "editable": true,
        "id": "BU2TKcQDxoZc",
        "colab_type": "code",
        "colab": {}
      },
      "source": [
        "train['IsFemale'] = (train['Sex'] == 'female').astype(int)\n",
        "test['IsFemale'] = (test['Sex'] == 'female').astype(int)"
      ],
      "execution_count": 0,
      "outputs": []
    },
    {
      "cell_type": "code",
      "metadata": {
        "deletable": true,
        "editable": true,
        "id": "cDHMkErpxoZh",
        "colab_type": "code",
        "colab": {}
      },
      "source": [
        "predictors = ['Pclass', 'IsFemale', 'Age']\n",
        "X_train = train[predictors].values\n",
        "X_test = test[predictors].values\n",
        "y_train = train['Survived'].values\n",
        "X_train[:5]\n",
        "y_train[:5]"
      ],
      "execution_count": 0,
      "outputs": []
    },
    {
      "cell_type": "code",
      "metadata": {
        "deletable": true,
        "editable": true,
        "id": "r6SLFnuUxoZp",
        "colab_type": "code",
        "colab": {}
      },
      "source": [
        "from sklearn.linear_model import LogisticRegression\n",
        "model = LogisticRegression()"
      ],
      "execution_count": 0,
      "outputs": []
    },
    {
      "cell_type": "code",
      "metadata": {
        "deletable": true,
        "editable": true,
        "id": "VJAMbphdxoZx",
        "colab_type": "code",
        "colab": {}
      },
      "source": [
        "model.fit(X_train, y_train)"
      ],
      "execution_count": 0,
      "outputs": []
    },
    {
      "cell_type": "code",
      "metadata": {
        "deletable": true,
        "editable": true,
        "id": "xEYtuw3SxoZ1",
        "colab_type": "code",
        "colab": {}
      },
      "source": [
        "y_predict = model.predict(X_test)\n",
        "y_predict[:10]"
      ],
      "execution_count": 0,
      "outputs": []
    },
    {
      "cell_type": "markdown",
      "metadata": {
        "deletable": true,
        "editable": true,
        "id": "ZhUatrlGxoZ5",
        "colab_type": "text"
      },
      "source": [
        "(y_true == y_predict).mean()"
      ]
    },
    {
      "cell_type": "code",
      "metadata": {
        "deletable": true,
        "editable": true,
        "id": "WBr5RTagxoZ5",
        "colab_type": "code",
        "colab": {}
      },
      "source": [
        "from sklearn.linear_model import LogisticRegressionCV\n",
        "model_cv = LogisticRegressionCV(10)\n",
        "model_cv.fit(X_train, y_train)"
      ],
      "execution_count": 0,
      "outputs": []
    },
    {
      "cell_type": "code",
      "metadata": {
        "deletable": true,
        "editable": true,
        "id": "-orWygd_xoZ8",
        "colab_type": "code",
        "colab": {}
      },
      "source": [
        "from sklearn.model_selection import cross_val_score\n",
        "model = LogisticRegression(C=10)\n",
        "scores = cross_val_score(model, X_train, y_train, cv=4)\n",
        "scores"
      ],
      "execution_count": 0,
      "outputs": []
    },
    {
      "cell_type": "markdown",
      "metadata": {
        "deletable": true,
        "editable": true,
        "id": "UsV5WEZexoaA",
        "colab_type": "text"
      },
      "source": [
        "## Continuing Your Education"
      ]
    },
    {
      "cell_type": "code",
      "metadata": {
        "deletable": true,
        "editable": true,
        "id": "gkj4IyWVxoaA",
        "colab_type": "code",
        "colab": {}
      },
      "source": [
        "pd.options.display.max_rows = PREVIOUS_MAX_ROWS"
      ],
      "execution_count": 0,
      "outputs": []
    }
  ]
}