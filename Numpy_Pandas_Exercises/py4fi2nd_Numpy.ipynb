{
  "nbformat": 4,
  "nbformat_minor": 0,
  "metadata": {
    "kernelspec": {
      "display_name": "Python 3",
      "language": "python",
      "name": "python3"
    },
    "language_info": {
      "codemirror_mode": {
        "name": "ipython",
        "version": 3
      },
      "file_extension": ".py",
      "mimetype": "text/x-python",
      "name": "python",
      "nbconvert_exporter": "python",
      "pygments_lexer": "ipython3",
      "version": "3.6.7"
    },
    "colab": {
      "name": "04_numpy.ipynb",
      "provenance": []
    }
  },
  "cells": [
    {
      "cell_type": "markdown",
      "metadata": {
        "id": "guKzDGu9UwkP",
        "colab_type": "text"
      },
      "source": [
        "<img src=\"http://hilpisch.com/tpq_logo.png\" alt=\"The Python Quants\" width=\"35%\" align=\"right\" border=\"0\"><br>"
      ]
    },
    {
      "cell_type": "markdown",
      "metadata": {
        "id": "R3Q-1dBMUwkR",
        "colab_type": "text"
      },
      "source": [
        "# Python for Finance (2nd ed.)\n",
        "\n",
        "**Mastering Data-Driven Finance**\n",
        "\n",
        "&copy; Dr. Yves J. Hilpisch | The Python Quants GmbH\n",
        "\n",
        "<img src=\"http://hilpisch.com/images/py4fi_2nd_shadow.png\" width=\"300px\" align=\"left\">"
      ]
    },
    {
      "cell_type": "markdown",
      "metadata": {
        "id": "s63F8TPxUwkS",
        "colab_type": "text"
      },
      "source": [
        "# Numerical Computing with NumPy"
      ]
    },
    {
      "cell_type": "markdown",
      "metadata": {
        "id": "6krRcMhbUwkT",
        "colab_type": "text"
      },
      "source": [
        "## Arrays with Python Lists"
      ]
    },
    {
      "cell_type": "code",
      "metadata": {
        "uuid": "be5428db-f5f0-48d1-9cb3-46ab122778e7",
        "id": "NSc80PEKUwkU",
        "colab_type": "code",
        "colab": {}
      },
      "source": [
        "v = [0.5, 0.75, 1.0, 1.5, 2.0]  "
      ],
      "execution_count": 0,
      "outputs": []
    },
    {
      "cell_type": "code",
      "metadata": {
        "uuid": "01678cdc-dfe0-481e-b9bc-b735b15c76c0",
        "id": "gmLqhTdZUwkb",
        "colab_type": "code",
        "colab": {},
        "outputId": "94b41304-c52e-4520-cb9c-9344f71b2c35"
      },
      "source": [
        "m = [v, v, v]  \n",
        "m  "
      ],
      "execution_count": 0,
      "outputs": [
        {
          "output_type": "execute_result",
          "data": {
            "text/plain": [
              "[[0.5, 0.75, 1.0, 1.5, 2.0],\n",
              " [0.5, 0.75, 1.0, 1.5, 2.0],\n",
              " [0.5, 0.75, 1.0, 1.5, 2.0]]"
            ]
          },
          "metadata": {
            "tags": []
          },
          "execution_count": 2
        }
      ]
    },
    {
      "cell_type": "code",
      "metadata": {
        "uuid": "e2d1473a-4970-4085-9e8a-de65ed22f986",
        "id": "PN5pt01XUwkg",
        "colab_type": "code",
        "colab": {},
        "outputId": "3d9338a9-8630-4491-d1b5-350b0b48df38"
      },
      "source": [
        "m[1]"
      ],
      "execution_count": 0,
      "outputs": [
        {
          "output_type": "execute_result",
          "data": {
            "text/plain": [
              "[0.5, 0.75, 1.0, 1.5, 2.0]"
            ]
          },
          "metadata": {
            "tags": []
          },
          "execution_count": 3
        }
      ]
    },
    {
      "cell_type": "code",
      "metadata": {
        "uuid": "e33ea433-6716-4d17-9ed3-04a68af6b489",
        "id": "3rmv7aZ7Uwkj",
        "colab_type": "code",
        "colab": {},
        "outputId": "75e88a64-470b-4f64-ab54-df8eaedaaac8"
      },
      "source": [
        "m[1][0]"
      ],
      "execution_count": 0,
      "outputs": [
        {
          "output_type": "execute_result",
          "data": {
            "text/plain": [
              "0.5"
            ]
          },
          "metadata": {
            "tags": []
          },
          "execution_count": 4
        }
      ]
    },
    {
      "cell_type": "code",
      "metadata": {
        "uuid": "d905bfcc-e325-468e-829e-bb5c59def934",
        "id": "4MQ2zzxnUwkm",
        "colab_type": "code",
        "colab": {},
        "outputId": "69f039ba-cd8d-4d5a-ab05-3edb7d25303e"
      },
      "source": [
        "v1 = [0.5, 1.5]\n",
        "v2 = [1, 2]\n",
        "m = [v1, v2]\n",
        "c = [m, m]  \n",
        "c"
      ],
      "execution_count": 0,
      "outputs": [
        {
          "output_type": "execute_result",
          "data": {
            "text/plain": [
              "[[[0.5, 1.5], [1, 2]], [[0.5, 1.5], [1, 2]]]"
            ]
          },
          "metadata": {
            "tags": []
          },
          "execution_count": 5
        }
      ]
    },
    {
      "cell_type": "code",
      "metadata": {
        "scrolled": true,
        "uuid": "be03ed03-1e4a-428e-ac94-e451ceeaa745",
        "id": "-QEVn7cSUwkq",
        "colab_type": "code",
        "colab": {},
        "outputId": "53b2515f-7140-4336-88ce-d15a24448763"
      },
      "source": [
        "c[1][1][0]"
      ],
      "execution_count": 0,
      "outputs": [
        {
          "output_type": "execute_result",
          "data": {
            "text/plain": [
              "1"
            ]
          },
          "metadata": {
            "tags": []
          },
          "execution_count": 6
        }
      ]
    },
    {
      "cell_type": "code",
      "metadata": {
        "uuid": "015e5dd4-fda4-4572-9a23-06ff178ff2be",
        "id": "EVBRZvtjUwkt",
        "colab_type": "code",
        "colab": {},
        "outputId": "545d188a-16ff-4a0d-aa25-6abfe38eee27"
      },
      "source": [
        "v = [0.5, 0.75, 1.0, 1.5, 2.0]\n",
        "m = [v, v, v]\n",
        "m"
      ],
      "execution_count": 0,
      "outputs": [
        {
          "output_type": "execute_result",
          "data": {
            "text/plain": [
              "[[0.5, 0.75, 1.0, 1.5, 2.0],\n",
              " [0.5, 0.75, 1.0, 1.5, 2.0],\n",
              " [0.5, 0.75, 1.0, 1.5, 2.0]]"
            ]
          },
          "metadata": {
            "tags": []
          },
          "execution_count": 7
        }
      ]
    },
    {
      "cell_type": "code",
      "metadata": {
        "uuid": "fd8ebed9-f11c-455a-a660-f4fe8d12d8f4",
        "id": "6ADu_m69Uwkx",
        "colab_type": "code",
        "colab": {},
        "outputId": "367b6cbf-09eb-4647-fc50-57eeeda62099"
      },
      "source": [
        "v[0] = 'Python'\n",
        "m"
      ],
      "execution_count": 0,
      "outputs": [
        {
          "output_type": "execute_result",
          "data": {
            "text/plain": [
              "[['Python', 0.75, 1.0, 1.5, 2.0],\n",
              " ['Python', 0.75, 1.0, 1.5, 2.0],\n",
              " ['Python', 0.75, 1.0, 1.5, 2.0]]"
            ]
          },
          "metadata": {
            "tags": []
          },
          "execution_count": 8
        }
      ]
    },
    {
      "cell_type": "code",
      "metadata": {
        "uuid": "eacab892-e5a6-49be-9ef2-ef2972b313c3",
        "id": "3Q4fWazKUwkz",
        "colab_type": "code",
        "colab": {},
        "outputId": "c6fe9004-80a5-4e0d-bdfd-4d64bb62d724"
      },
      "source": [
        "from copy import deepcopy\n",
        "v = [0.5, 0.75, 1.0, 1.5, 2.0]\n",
        "m = 3 * [deepcopy(v), ]  \n",
        "m"
      ],
      "execution_count": 0,
      "outputs": [
        {
          "output_type": "execute_result",
          "data": {
            "text/plain": [
              "[[0.5, 0.75, 1.0, 1.5, 2.0],\n",
              " [0.5, 0.75, 1.0, 1.5, 2.0],\n",
              " [0.5, 0.75, 1.0, 1.5, 2.0]]"
            ]
          },
          "metadata": {
            "tags": []
          },
          "execution_count": 9
        }
      ]
    },
    {
      "cell_type": "code",
      "metadata": {
        "uuid": "10ed3e78-fdc4-4adf-8f80-75eac48629a1",
        "id": "9dIHjMAoUwk2",
        "colab_type": "code",
        "colab": {},
        "outputId": "84b6a4f9-a3d2-4f67-88b1-3fe0d63b6c8b"
      },
      "source": [
        "v[0] = 'Python'  \n",
        "m  "
      ],
      "execution_count": 0,
      "outputs": [
        {
          "output_type": "execute_result",
          "data": {
            "text/plain": [
              "[[0.5, 0.75, 1.0, 1.5, 2.0],\n",
              " [0.5, 0.75, 1.0, 1.5, 2.0],\n",
              " [0.5, 0.75, 1.0, 1.5, 2.0]]"
            ]
          },
          "metadata": {
            "tags": []
          },
          "execution_count": 10
        }
      ]
    },
    {
      "cell_type": "markdown",
      "metadata": {
        "id": "Qj8u-FTOUwk7",
        "colab_type": "text"
      },
      "source": [
        "## Interlude: Python Array Class"
      ]
    },
    {
      "cell_type": "code",
      "metadata": {
        "id": "auIomC1vUwk8",
        "colab_type": "code",
        "colab": {}
      },
      "source": [
        "v = [0.5, 0.75, 1.0, 1.5, 2.0]"
      ],
      "execution_count": 0,
      "outputs": []
    },
    {
      "cell_type": "code",
      "metadata": {
        "id": "4mJBDeKTUwk_",
        "colab_type": "code",
        "colab": {}
      },
      "source": [
        "import array"
      ],
      "execution_count": 0,
      "outputs": []
    },
    {
      "cell_type": "code",
      "metadata": {
        "id": "prhyIVMsUwlC",
        "colab_type": "code",
        "colab": {},
        "outputId": "15a867c0-e13a-4ee7-df96-a0ea5bba952a"
      },
      "source": [
        "a = array.array('f', v)  \n",
        "a"
      ],
      "execution_count": 0,
      "outputs": [
        {
          "output_type": "execute_result",
          "data": {
            "text/plain": [
              "array('f', [0.5, 0.75, 1.0, 1.5, 2.0])"
            ]
          },
          "metadata": {
            "tags": []
          },
          "execution_count": 13
        }
      ]
    },
    {
      "cell_type": "code",
      "metadata": {
        "id": "ddtGdekzUwlH",
        "colab_type": "code",
        "colab": {},
        "outputId": "b4cdbe01-2e32-4a80-aba2-1deb6f2053d9"
      },
      "source": [
        "a.append(0.5)  \n",
        "a"
      ],
      "execution_count": 0,
      "outputs": [
        {
          "output_type": "execute_result",
          "data": {
            "text/plain": [
              "array('f', [0.5, 0.75, 1.0, 1.5, 2.0, 0.5])"
            ]
          },
          "metadata": {
            "tags": []
          },
          "execution_count": 14
        }
      ]
    },
    {
      "cell_type": "code",
      "metadata": {
        "id": "PVZxRVJ6UwlL",
        "colab_type": "code",
        "colab": {},
        "outputId": "812542a8-6e98-4c01-8b31-cb01ecac942c"
      },
      "source": [
        "a.extend([5.0, 6.75])  \n",
        "a"
      ],
      "execution_count": 0,
      "outputs": [
        {
          "output_type": "execute_result",
          "data": {
            "text/plain": [
              "array('f', [0.5, 0.75, 1.0, 1.5, 2.0, 0.5, 5.0, 6.75])"
            ]
          },
          "metadata": {
            "tags": []
          },
          "execution_count": 15
        }
      ]
    },
    {
      "cell_type": "code",
      "metadata": {
        "id": "GZ9njVCrUwlO",
        "colab_type": "code",
        "colab": {},
        "outputId": "b89cc316-408a-4ba9-8b9f-4b4c01e923e3"
      },
      "source": [
        "2 * a  "
      ],
      "execution_count": 0,
      "outputs": [
        {
          "output_type": "execute_result",
          "data": {
            "text/plain": [
              "array('f', [0.5, 0.75, 1.0, 1.5, 2.0, 0.5, 5.0, 6.75, 0.5, 0.75, 1.0, 1.5, 2.0, 0.5, 5.0, 6.75])"
            ]
          },
          "metadata": {
            "tags": []
          },
          "execution_count": 16
        }
      ]
    },
    {
      "cell_type": "code",
      "metadata": {
        "id": "Q2vbjSv7UwlS",
        "colab_type": "code",
        "colab": {}
      },
      "source": [
        "# causes intentional error\n",
        "# a.append('string')  "
      ],
      "execution_count": 0,
      "outputs": []
    },
    {
      "cell_type": "code",
      "metadata": {
        "scrolled": true,
        "id": "NSfrEXv9UwlY",
        "colab_type": "code",
        "colab": {},
        "outputId": "2ff355d6-a5aa-464b-8902-ef7288752da0"
      },
      "source": [
        "a.tolist()  "
      ],
      "execution_count": 0,
      "outputs": [
        {
          "output_type": "execute_result",
          "data": {
            "text/plain": [
              "[0.5, 0.75, 1.0, 1.5, 2.0, 0.5, 5.0, 6.75]"
            ]
          },
          "metadata": {
            "tags": []
          },
          "execution_count": 18
        }
      ]
    },
    {
      "cell_type": "code",
      "metadata": {
        "id": "JOU3fFb4Uwlb",
        "colab_type": "code",
        "colab": {}
      },
      "source": [
        "f = open('array.apy', 'wb')  \n",
        "a.tofile(f)  \n",
        "f.close()  "
      ],
      "execution_count": 0,
      "outputs": []
    },
    {
      "cell_type": "code",
      "metadata": {
        "id": "wIzkd3X1Uwle",
        "colab_type": "code",
        "colab": {}
      },
      "source": [
        "with open('array.apy', 'wb') as f:  \n",
        "    a.tofile(f)  "
      ],
      "execution_count": 0,
      "outputs": []
    },
    {
      "cell_type": "code",
      "metadata": {
        "id": "QO3WHk20Uwlg",
        "colab_type": "code",
        "colab": {},
        "outputId": "18fac84e-3c19-4b6b-8700-17e13790ecf2"
      },
      "source": [
        "!ls -n arr*  "
      ],
      "execution_count": 0,
      "outputs": [
        {
          "output_type": "stream",
          "text": [
            "-rw-r--r--@ 1 503  20  32 Dec  1 11:54 array.apy\r\n"
          ],
          "name": "stdout"
        }
      ]
    },
    {
      "cell_type": "code",
      "metadata": {
        "id": "WFynlIVqUwlj",
        "colab_type": "code",
        "colab": {}
      },
      "source": [
        "b = array.array('f')  "
      ],
      "execution_count": 0,
      "outputs": []
    },
    {
      "cell_type": "code",
      "metadata": {
        "id": "qs_fL4VNUwlm",
        "colab_type": "code",
        "colab": {}
      },
      "source": [
        "with open('array.apy', 'rb') as f:  \n",
        "    b.fromfile(f, 5)  "
      ],
      "execution_count": 0,
      "outputs": []
    },
    {
      "cell_type": "code",
      "metadata": {
        "id": "SSTvxoOOUwlo",
        "colab_type": "code",
        "colab": {},
        "outputId": "0a05b3f3-7058-448a-e3d9-5f7e2ac04803"
      },
      "source": [
        "b  "
      ],
      "execution_count": 0,
      "outputs": [
        {
          "output_type": "execute_result",
          "data": {
            "text/plain": [
              "array('f', [0.5, 0.75, 1.0, 1.5, 2.0])"
            ]
          },
          "metadata": {
            "tags": []
          },
          "execution_count": 24
        }
      ]
    },
    {
      "cell_type": "code",
      "metadata": {
        "id": "Xh3yOjNdUwls",
        "colab_type": "code",
        "colab": {}
      },
      "source": [
        "b = array.array('d')  "
      ],
      "execution_count": 0,
      "outputs": []
    },
    {
      "cell_type": "code",
      "metadata": {
        "id": "dxse2nrFUwlv",
        "colab_type": "code",
        "colab": {}
      },
      "source": [
        "with open('array.apy', 'rb') as f:\n",
        "    b.fromfile(f, 2)  "
      ],
      "execution_count": 0,
      "outputs": []
    },
    {
      "cell_type": "code",
      "metadata": {
        "id": "ahx9zIljUwly",
        "colab_type": "code",
        "colab": {},
        "outputId": "1528b8cb-4741-4854-9f18-ce47ac8c48f9"
      },
      "source": [
        "b  "
      ],
      "execution_count": 0,
      "outputs": [
        {
          "output_type": "execute_result",
          "data": {
            "text/plain": [
              "array('d', [0.0004882813645963324, 0.12500002956949174])"
            ]
          },
          "metadata": {
            "tags": []
          },
          "execution_count": 27
        }
      ]
    },
    {
      "cell_type": "markdown",
      "metadata": {
        "id": "Qh_GAQ73Uwl0",
        "colab_type": "text"
      },
      "source": [
        "## Regular NumPy Arrays"
      ]
    },
    {
      "cell_type": "markdown",
      "metadata": {
        "id": "qhfFMhqlUwl0",
        "colab_type": "text"
      },
      "source": [
        "### The Basics"
      ]
    },
    {
      "cell_type": "code",
      "metadata": {
        "uuid": "434dc849-a224-49f3-af1c-466dc48c9258",
        "id": "Ra5CW8nLUwl1",
        "colab_type": "code",
        "colab": {}
      },
      "source": [
        "import numpy as np  "
      ],
      "execution_count": 0,
      "outputs": []
    },
    {
      "cell_type": "code",
      "metadata": {
        "id": "VHIeZRxNUwl3",
        "colab_type": "code",
        "colab": {},
        "outputId": "47c29f39-22b6-4b78-be63-74f247c27608"
      },
      "source": [
        "a = np.array([0, 0.5, 1.0, 1.5, 2.0])  \n",
        "a"
      ],
      "execution_count": 0,
      "outputs": [
        {
          "output_type": "execute_result",
          "data": {
            "text/plain": [
              "array([0. , 0.5, 1. , 1.5, 2. ])"
            ]
          },
          "metadata": {
            "tags": []
          },
          "execution_count": 29
        }
      ]
    },
    {
      "cell_type": "code",
      "metadata": {
        "uuid": "a58df3ba-f18e-459d-ac4d-6be84714a2a3",
        "id": "_Ygl7-UQUwl5",
        "colab_type": "code",
        "colab": {},
        "outputId": "ea147a11-aed3-4a4d-d900-893f4f482a09"
      },
      "source": [
        "type(a)  "
      ],
      "execution_count": 0,
      "outputs": [
        {
          "output_type": "execute_result",
          "data": {
            "text/plain": [
              "numpy.ndarray"
            ]
          },
          "metadata": {
            "tags": []
          },
          "execution_count": 30
        }
      ]
    },
    {
      "cell_type": "code",
      "metadata": {
        "id": "cw3xXtjdUwl8",
        "colab_type": "code",
        "colab": {},
        "outputId": "d3b10881-3b80-44ef-ad96-55dd4fcb1ee7"
      },
      "source": [
        "a = np.array(['a', 'b', 'c'])  \n",
        "a"
      ],
      "execution_count": 0,
      "outputs": [
        {
          "output_type": "execute_result",
          "data": {
            "text/plain": [
              "array(['a', 'b', 'c'], dtype='<U1')"
            ]
          },
          "metadata": {
            "tags": []
          },
          "execution_count": 31
        }
      ]
    },
    {
      "cell_type": "code",
      "metadata": {
        "uuid": "a58df3ba-f18e-459d-ac4d-6be84714a2a3",
        "id": "cVC0Ag5HUwl_",
        "colab_type": "code",
        "colab": {},
        "outputId": "7ea0c834-594c-46eb-af93-3a278406f091"
      },
      "source": [
        "a = np.arange(2, 20, 2)  \n",
        "a"
      ],
      "execution_count": 0,
      "outputs": [
        {
          "output_type": "execute_result",
          "data": {
            "text/plain": [
              "array([ 2,  4,  6,  8, 10, 12, 14, 16, 18])"
            ]
          },
          "metadata": {
            "tags": []
          },
          "execution_count": 32
        }
      ]
    },
    {
      "cell_type": "code",
      "metadata": {
        "uuid": "a58df3ba-f18e-459d-ac4d-6be84714a2a3",
        "id": "IEB2AaEZUwmB",
        "colab_type": "code",
        "colab": {},
        "outputId": "753becf0-09e9-4c6d-bbd8-9c27a8dbd612"
      },
      "source": [
        "a = np.arange(8, dtype=np.float)  \n",
        "a"
      ],
      "execution_count": 0,
      "outputs": [
        {
          "output_type": "execute_result",
          "data": {
            "text/plain": [
              "array([0., 1., 2., 3., 4., 5., 6., 7.])"
            ]
          },
          "metadata": {
            "tags": []
          },
          "execution_count": 33
        }
      ]
    },
    {
      "cell_type": "code",
      "metadata": {
        "uuid": "c6c73402-ed3b-4ea1-b62e-06dca996e713",
        "id": "0MzTVkhFUwmE",
        "colab_type": "code",
        "colab": {},
        "outputId": "5fc1a42e-761a-43d9-aeaf-37fe62476687"
      },
      "source": [
        "a[5:]  "
      ],
      "execution_count": 0,
      "outputs": [
        {
          "output_type": "execute_result",
          "data": {
            "text/plain": [
              "array([5., 6., 7.])"
            ]
          },
          "metadata": {
            "tags": []
          },
          "execution_count": 34
        }
      ]
    },
    {
      "cell_type": "code",
      "metadata": {
        "id": "f5HSySwuUwmG",
        "colab_type": "code",
        "colab": {},
        "outputId": "95692904-7aa8-45ff-edb5-82090d3fb900"
      },
      "source": [
        "a[:2]  "
      ],
      "execution_count": 0,
      "outputs": [
        {
          "output_type": "execute_result",
          "data": {
            "text/plain": [
              "array([0., 1.])"
            ]
          },
          "metadata": {
            "tags": []
          },
          "execution_count": 35
        }
      ]
    },
    {
      "cell_type": "code",
      "metadata": {
        "uuid": "f167bdb8-6673-4520-bd34-e2428ede6ad7",
        "id": "wU8RrOGHUwmJ",
        "colab_type": "code",
        "colab": {},
        "outputId": "431ec585-75c8-464f-f225-29df9d6bf818"
      },
      "source": [
        "a.sum()  "
      ],
      "execution_count": 0,
      "outputs": [
        {
          "output_type": "execute_result",
          "data": {
            "text/plain": [
              "28.0"
            ]
          },
          "metadata": {
            "tags": []
          },
          "execution_count": 36
        }
      ]
    },
    {
      "cell_type": "code",
      "metadata": {
        "uuid": "0eafbb03-0cc4-4dd7-a177-9d8f2f8a32be",
        "id": "O4DlY0QlUwmQ",
        "colab_type": "code",
        "colab": {},
        "outputId": "6a397952-fec3-4731-ea76-c058280030ba"
      },
      "source": [
        "a.std()  "
      ],
      "execution_count": 0,
      "outputs": [
        {
          "output_type": "execute_result",
          "data": {
            "text/plain": [
              "2.29128784747792"
            ]
          },
          "metadata": {
            "tags": []
          },
          "execution_count": 37
        }
      ]
    },
    {
      "cell_type": "code",
      "metadata": {
        "uuid": "9eda9efe-4e85-4bc2-8df3-edd8ab40c7f2",
        "id": "UkVnYcr0UwmS",
        "colab_type": "code",
        "colab": {},
        "outputId": "f8386769-df87-4de7-f4c9-ecb3d2db5dc5"
      },
      "source": [
        "a.cumsum()  "
      ],
      "execution_count": 0,
      "outputs": [
        {
          "output_type": "execute_result",
          "data": {
            "text/plain": [
              "array([ 0.,  1.,  3.,  6., 10., 15., 21., 28.])"
            ]
          },
          "metadata": {
            "tags": []
          },
          "execution_count": 38
        }
      ]
    },
    {
      "cell_type": "code",
      "metadata": {
        "id": "pmqsML8kUwmV",
        "colab_type": "code",
        "colab": {},
        "outputId": "602af87e-72bc-46f2-f9c0-138185378b06"
      },
      "source": [
        "l = [0., 0.5, 1.5, 3., 5.]\n",
        "2 * l  "
      ],
      "execution_count": 0,
      "outputs": [
        {
          "output_type": "execute_result",
          "data": {
            "text/plain": [
              "[0.0, 0.5, 1.5, 3.0, 5.0, 0.0, 0.5, 1.5, 3.0, 5.0]"
            ]
          },
          "metadata": {
            "tags": []
          },
          "execution_count": 39
        }
      ]
    },
    {
      "cell_type": "code",
      "metadata": {
        "id": "YClwpT6wUwmY",
        "colab_type": "code",
        "colab": {},
        "outputId": "2ed200a8-a8f7-4e59-fa0e-36118b5dc5ca"
      },
      "source": [
        "a"
      ],
      "execution_count": 0,
      "outputs": [
        {
          "output_type": "execute_result",
          "data": {
            "text/plain": [
              "array([0., 1., 2., 3., 4., 5., 6., 7.])"
            ]
          },
          "metadata": {
            "tags": []
          },
          "execution_count": 40
        }
      ]
    },
    {
      "cell_type": "code",
      "metadata": {
        "uuid": "94ddb4ba-eb2b-4565-80cf-247db6dc5846",
        "id": "zOySh03VUwma",
        "colab_type": "code",
        "colab": {},
        "outputId": "4c72f96c-587f-4a0d-9784-e53335f5d116"
      },
      "source": [
        "2 * a  "
      ],
      "execution_count": 0,
      "outputs": [
        {
          "output_type": "execute_result",
          "data": {
            "text/plain": [
              "array([ 0.,  2.,  4.,  6.,  8., 10., 12., 14.])"
            ]
          },
          "metadata": {
            "tags": []
          },
          "execution_count": 41
        }
      ]
    },
    {
      "cell_type": "code",
      "metadata": {
        "uuid": "5c5f7bd8-b48b-4e8e-b6c8-95b67c9deed0",
        "id": "jRyzUeZ-Uwme",
        "colab_type": "code",
        "colab": {},
        "outputId": "7926ac0c-f1be-455c-c596-a385402b9915"
      },
      "source": [
        "a ** 2  "
      ],
      "execution_count": 0,
      "outputs": [
        {
          "output_type": "execute_result",
          "data": {
            "text/plain": [
              "array([ 0.,  1.,  4.,  9., 16., 25., 36., 49.])"
            ]
          },
          "metadata": {
            "tags": []
          },
          "execution_count": 42
        }
      ]
    },
    {
      "cell_type": "code",
      "metadata": {
        "id": "85uHuYx7Uwmh",
        "colab_type": "code",
        "colab": {},
        "outputId": "8a21ce8d-4d01-4415-e3de-73eb3dc07518"
      },
      "source": [
        "2 ** a  "
      ],
      "execution_count": 0,
      "outputs": [
        {
          "output_type": "execute_result",
          "data": {
            "text/plain": [
              "array([  1.,   2.,   4.,   8.,  16.,  32.,  64., 128.])"
            ]
          },
          "metadata": {
            "tags": []
          },
          "execution_count": 43
        }
      ]
    },
    {
      "cell_type": "code",
      "metadata": {
        "id": "ISVpm8QUUwmk",
        "colab_type": "code",
        "colab": {},
        "outputId": "b478cae3-d057-4fd7-bae6-e2a977c6c110"
      },
      "source": [
        "a ** a  "
      ],
      "execution_count": 0,
      "outputs": [
        {
          "output_type": "execute_result",
          "data": {
            "text/plain": [
              "array([1.00000e+00, 1.00000e+00, 4.00000e+00, 2.70000e+01, 2.56000e+02,\n",
              "       3.12500e+03, 4.66560e+04, 8.23543e+05])"
            ]
          },
          "metadata": {
            "tags": []
          },
          "execution_count": 44
        }
      ]
    },
    {
      "cell_type": "code",
      "metadata": {
        "id": "zzrjVX_tUwmq",
        "colab_type": "code",
        "colab": {},
        "outputId": "56650b66-f960-4d71-97b7-f2b466668126"
      },
      "source": [
        "np.exp(a)  "
      ],
      "execution_count": 0,
      "outputs": [
        {
          "output_type": "execute_result",
          "data": {
            "text/plain": [
              "array([1.00000000e+00, 2.71828183e+00, 7.38905610e+00, 2.00855369e+01,\n",
              "       5.45981500e+01, 1.48413159e+02, 4.03428793e+02, 1.09663316e+03])"
            ]
          },
          "metadata": {
            "tags": []
          },
          "execution_count": 45
        }
      ]
    },
    {
      "cell_type": "code",
      "metadata": {
        "uuid": "eccae4a8-18fc-4362-8089-faed41fe558a",
        "id": "qcFfA0YpUwms",
        "colab_type": "code",
        "colab": {},
        "outputId": "ee998dff-aed5-45da-939a-0f75a5007f46"
      },
      "source": [
        "np.sqrt(a)  "
      ],
      "execution_count": 0,
      "outputs": [
        {
          "output_type": "execute_result",
          "data": {
            "text/plain": [
              "array([0.        , 1.        , 1.41421356, 1.73205081, 2.        ,\n",
              "       2.23606798, 2.44948974, 2.64575131])"
            ]
          },
          "metadata": {
            "tags": []
          },
          "execution_count": 46
        }
      ]
    },
    {
      "cell_type": "code",
      "metadata": {
        "id": "ChuRkx37Uwmw",
        "colab_type": "code",
        "colab": {},
        "outputId": "9905724a-7afd-49c9-a7b2-6abca8c62dba"
      },
      "source": [
        "np.sqrt(2.5)  "
      ],
      "execution_count": 0,
      "outputs": [
        {
          "output_type": "execute_result",
          "data": {
            "text/plain": [
              "1.5811388300841898"
            ]
          },
          "metadata": {
            "tags": []
          },
          "execution_count": 47
        }
      ]
    },
    {
      "cell_type": "code",
      "metadata": {
        "id": "oPc6_lbnUwmy",
        "colab_type": "code",
        "colab": {}
      },
      "source": [
        "import math  "
      ],
      "execution_count": 0,
      "outputs": []
    },
    {
      "cell_type": "code",
      "metadata": {
        "id": "3ccdgpvYUwm0",
        "colab_type": "code",
        "colab": {},
        "outputId": "66321597-e187-474e-d935-14430a8cc14e"
      },
      "source": [
        "math.sqrt(2.5)  "
      ],
      "execution_count": 0,
      "outputs": [
        {
          "output_type": "execute_result",
          "data": {
            "text/plain": [
              "1.5811388300841898"
            ]
          },
          "metadata": {
            "tags": []
          },
          "execution_count": 49
        }
      ]
    },
    {
      "cell_type": "code",
      "metadata": {
        "id": "6X8Doc9qUwm2",
        "colab_type": "code",
        "colab": {}
      },
      "source": [
        "# causes intentional error\n",
        "# math.sqrt(a)  "
      ],
      "execution_count": 0,
      "outputs": []
    },
    {
      "cell_type": "code",
      "metadata": {
        "id": "jKBWRoNtUwm5",
        "colab_type": "code",
        "colab": {},
        "outputId": "e1f90cc4-977a-4b12-b6b6-5df629bdbfc1"
      },
      "source": [
        "%timeit np.sqrt(2.5)  "
      ],
      "execution_count": 0,
      "outputs": [
        {
          "output_type": "stream",
          "text": [
            "767 ns ± 10.5 ns per loop (mean ± std. dev. of 7 runs, 1000000 loops each)\n"
          ],
          "name": "stdout"
        }
      ]
    },
    {
      "cell_type": "code",
      "metadata": {
        "id": "J8NcSu5uUwm9",
        "colab_type": "code",
        "colab": {},
        "outputId": "3253aa27-df03-4918-9cdf-15e006a114da"
      },
      "source": [
        "%timeit math.sqrt(2.5)  "
      ],
      "execution_count": 0,
      "outputs": [
        {
          "output_type": "stream",
          "text": [
            "78.6 ns ± 0.723 ns per loop (mean ± std. dev. of 7 runs, 10000000 loops each)\n"
          ],
          "name": "stdout"
        }
      ]
    },
    {
      "cell_type": "markdown",
      "metadata": {
        "id": "rdaD4UKyUwnF",
        "colab_type": "text"
      },
      "source": [
        "### Multiple Dimensions"
      ]
    },
    {
      "cell_type": "code",
      "metadata": {
        "uuid": "3d05357c-109d-45c7-b10b-fe6c958fd33d",
        "id": "rye0PM4iUwnF",
        "colab_type": "code",
        "colab": {},
        "outputId": "5b097159-297d-4e96-bd6c-606783710920"
      },
      "source": [
        "b = np.array([a, a * 2])  \n",
        "b"
      ],
      "execution_count": 0,
      "outputs": [
        {
          "output_type": "execute_result",
          "data": {
            "text/plain": [
              "array([[ 0.,  1.,  2.,  3.,  4.,  5.,  6.,  7.],\n",
              "       [ 0.,  2.,  4.,  6.,  8., 10., 12., 14.]])"
            ]
          },
          "metadata": {
            "tags": []
          },
          "execution_count": 53
        }
      ]
    },
    {
      "cell_type": "code",
      "metadata": {
        "uuid": "e536d513-ddb7-469d-9ad4-3abbc5cbf006",
        "id": "MSdx1WVFUwnI",
        "colab_type": "code",
        "colab": {},
        "outputId": "4d393b5c-9d15-4e82-d6d2-be988df3b512"
      },
      "source": [
        "b[0]  "
      ],
      "execution_count": 0,
      "outputs": [
        {
          "output_type": "execute_result",
          "data": {
            "text/plain": [
              "array([0., 1., 2., 3., 4., 5., 6., 7.])"
            ]
          },
          "metadata": {
            "tags": []
          },
          "execution_count": 54
        }
      ]
    },
    {
      "cell_type": "code",
      "metadata": {
        "uuid": "d1d0c7dd-aadb-4217-b3ea-927f28f51300",
        "id": "FxESaWlLUwnO",
        "colab_type": "code",
        "colab": {},
        "outputId": "f82bc5fd-5e16-44b6-8a06-2c540205922a"
      },
      "source": [
        "b[0, 2]  "
      ],
      "execution_count": 0,
      "outputs": [
        {
          "output_type": "execute_result",
          "data": {
            "text/plain": [
              "2.0"
            ]
          },
          "metadata": {
            "tags": []
          },
          "execution_count": 55
        }
      ]
    },
    {
      "cell_type": "code",
      "metadata": {
        "id": "XbW_eb06UwnS",
        "colab_type": "code",
        "colab": {},
        "outputId": "9f94fa73-7232-4d8a-f8be-c36fa2da8f93"
      },
      "source": [
        "b[:, 1]  "
      ],
      "execution_count": 0,
      "outputs": [
        {
          "output_type": "execute_result",
          "data": {
            "text/plain": [
              "array([1., 2.])"
            ]
          },
          "metadata": {
            "tags": []
          },
          "execution_count": 56
        }
      ]
    },
    {
      "cell_type": "code",
      "metadata": {
        "uuid": "41b3d64b-6121-4578-b33c-f9bef4d23ddb",
        "id": "YINHWuj8UwnV",
        "colab_type": "code",
        "colab": {},
        "outputId": "af039419-232f-4482-b915-07cb04c66a0e"
      },
      "source": [
        "b.sum()  "
      ],
      "execution_count": 0,
      "outputs": [
        {
          "output_type": "execute_result",
          "data": {
            "text/plain": [
              "84.0"
            ]
          },
          "metadata": {
            "tags": []
          },
          "execution_count": 57
        }
      ]
    },
    {
      "cell_type": "code",
      "metadata": {
        "uuid": "ba56b01a-cf24-4bee-be04-cdadd59a6cb5",
        "id": "eRssQc_zUwnZ",
        "colab_type": "code",
        "colab": {},
        "outputId": "20bb3e57-bb33-49b7-a3f5-e21ec19a76bf"
      },
      "source": [
        "b.sum(axis=0)  "
      ],
      "execution_count": 0,
      "outputs": [
        {
          "output_type": "execute_result",
          "data": {
            "text/plain": [
              "array([ 0.,  3.,  6.,  9., 12., 15., 18., 21.])"
            ]
          },
          "metadata": {
            "tags": []
          },
          "execution_count": 58
        }
      ]
    },
    {
      "cell_type": "code",
      "metadata": {
        "uuid": "898c4a09-4488-4041-94a3-ea25cbd86637",
        "id": "TXSxyVjSUwnc",
        "colab_type": "code",
        "colab": {},
        "outputId": "94f9ec5f-3f87-410c-fc7b-31f2c2c57fbc"
      },
      "source": [
        "b.sum(axis=1)  "
      ],
      "execution_count": 0,
      "outputs": [
        {
          "output_type": "execute_result",
          "data": {
            "text/plain": [
              "array([28., 56.])"
            ]
          },
          "metadata": {
            "tags": []
          },
          "execution_count": 59
        }
      ]
    },
    {
      "cell_type": "code",
      "metadata": {
        "uuid": "6d7362b7-dda8-4961-8be1-96da9b1718cf",
        "id": "SRFKv5VEUwng",
        "colab_type": "code",
        "colab": {},
        "outputId": "01120128-70f4-4d6f-c635-7583ac4069fe"
      },
      "source": [
        "c = np.zeros((2, 3), dtype='i', order='C')  \n",
        "c"
      ],
      "execution_count": 0,
      "outputs": [
        {
          "output_type": "execute_result",
          "data": {
            "text/plain": [
              "array([[0, 0, 0],\n",
              "       [0, 0, 0]], dtype=int32)"
            ]
          },
          "metadata": {
            "tags": []
          },
          "execution_count": 60
        }
      ]
    },
    {
      "cell_type": "code",
      "metadata": {
        "uuid": "6d7362b7-dda8-4961-8be1-96da9b1718cf",
        "id": "U3itGebbUwnj",
        "colab_type": "code",
        "colab": {},
        "outputId": "754f4b18-5237-4cdb-ddde-bc5fb92e412a"
      },
      "source": [
        "c = np.ones((2, 3, 4), dtype='i', order='C')  \n",
        "c"
      ],
      "execution_count": 0,
      "outputs": [
        {
          "output_type": "execute_result",
          "data": {
            "text/plain": [
              "array([[[1, 1, 1, 1],\n",
              "        [1, 1, 1, 1],\n",
              "        [1, 1, 1, 1]],\n",
              "\n",
              "       [[1, 1, 1, 1],\n",
              "        [1, 1, 1, 1],\n",
              "        [1, 1, 1, 1]]], dtype=int32)"
            ]
          },
          "metadata": {
            "tags": []
          },
          "execution_count": 61
        }
      ]
    },
    {
      "cell_type": "code",
      "metadata": {
        "uuid": "0d4862fd-4847-4dd7-b8cd-e6966bbd5913",
        "id": "AjpAbf_ZUwnn",
        "colab_type": "code",
        "colab": {},
        "outputId": "df490f5e-bd3d-4a96-cea1-fb24385429a5"
      },
      "source": [
        "d = np.zeros_like(c, dtype='f16', order='C')  \n",
        "d"
      ],
      "execution_count": 0,
      "outputs": [
        {
          "output_type": "execute_result",
          "data": {
            "text/plain": [
              "array([[[0., 0., 0., 0.],\n",
              "        [0., 0., 0., 0.],\n",
              "        [0., 0., 0., 0.]],\n",
              "\n",
              "       [[0., 0., 0., 0.],\n",
              "        [0., 0., 0., 0.],\n",
              "        [0., 0., 0., 0.]]], dtype=float128)"
            ]
          },
          "metadata": {
            "tags": []
          },
          "execution_count": 62
        }
      ]
    },
    {
      "cell_type": "code",
      "metadata": {
        "uuid": "0d4862fd-4847-4dd7-b8cd-e6966bbd5913",
        "id": "kcCTQsutUwnr",
        "colab_type": "code",
        "colab": {},
        "outputId": "282f58cd-e994-4367-829e-245081e73ff3"
      },
      "source": [
        "d = np.ones_like(c, dtype='f16', order='C')  \n",
        "d"
      ],
      "execution_count": 0,
      "outputs": [
        {
          "output_type": "execute_result",
          "data": {
            "text/plain": [
              "array([[[1., 1., 1., 1.],\n",
              "        [1., 1., 1., 1.],\n",
              "        [1., 1., 1., 1.]],\n",
              "\n",
              "       [[1., 1., 1., 1.],\n",
              "        [1., 1., 1., 1.],\n",
              "        [1., 1., 1., 1.]]], dtype=float128)"
            ]
          },
          "metadata": {
            "tags": []
          },
          "execution_count": 63
        }
      ]
    },
    {
      "cell_type": "code",
      "metadata": {
        "id": "1kuXw669Uwns",
        "colab_type": "code",
        "colab": {},
        "outputId": "91b9fee5-780a-422c-e61e-8d8a7b5c75eb"
      },
      "source": [
        "e = np.empty((2, 3, 2))  \n",
        "e"
      ],
      "execution_count": 0,
      "outputs": [
        {
          "output_type": "execute_result",
          "data": {
            "text/plain": [
              "array([[[-1.28822975e-231, -1.28822975e-231],\n",
              "        [ 4.94065646e-323,  0.00000000e+000],\n",
              "        [ 0.00000000e+000,  0.00000000e+000]],\n",
              "\n",
              "       [[ 0.00000000e+000,  0.00000000e+000],\n",
              "        [ 0.00000000e+000,  0.00000000e+000],\n",
              "        [ 0.00000000e+000,  0.00000000e+000]]])"
            ]
          },
          "metadata": {
            "tags": []
          },
          "execution_count": 64
        }
      ]
    },
    {
      "cell_type": "code",
      "metadata": {
        "id": "Y6sd1MhWUwnu",
        "colab_type": "code",
        "colab": {},
        "outputId": "98c55f26-fc53-48d8-fd38-308881d00c74"
      },
      "source": [
        "f = np.empty_like(c)  \n",
        "f"
      ],
      "execution_count": 0,
      "outputs": [
        {
          "output_type": "execute_result",
          "data": {
            "text/plain": [
              "array([[[          0, -1879048192,           0, -1879048192],\n",
              "        [         10,           0,           0,           0],\n",
              "        [          0,           0,           0,           0]],\n",
              "\n",
              "       [[          0,           0,           0,           0],\n",
              "        [          0,           0,           0,           0],\n",
              "        [          0,           0,           0,           0]]],\n",
              "      dtype=int32)"
            ]
          },
          "metadata": {
            "tags": []
          },
          "execution_count": 65
        }
      ]
    },
    {
      "cell_type": "code",
      "metadata": {
        "id": "UuB6ckZDUwnx",
        "colab_type": "code",
        "colab": {},
        "outputId": "9a0af9b7-2066-4ef5-ff20-03ef1d79b579"
      },
      "source": [
        "np.eye(5)  "
      ],
      "execution_count": 0,
      "outputs": [
        {
          "output_type": "execute_result",
          "data": {
            "text/plain": [
              "array([[1., 0., 0., 0., 0.],\n",
              "       [0., 1., 0., 0., 0.],\n",
              "       [0., 0., 1., 0., 0.],\n",
              "       [0., 0., 0., 1., 0.],\n",
              "       [0., 0., 0., 0., 1.]])"
            ]
          },
          "metadata": {
            "tags": []
          },
          "execution_count": 66
        }
      ]
    },
    {
      "cell_type": "code",
      "metadata": {
        "id": "dOc5oXfYUwnz",
        "colab_type": "code",
        "colab": {},
        "outputId": "7113991f-9572-4f81-85c8-140b82504690"
      },
      "source": [
        "g = np.linspace(5, 15, 12) \n",
        "g"
      ],
      "execution_count": 0,
      "outputs": [
        {
          "output_type": "execute_result",
          "data": {
            "text/plain": [
              "array([ 5.        ,  5.90909091,  6.81818182,  7.72727273,  8.63636364,\n",
              "        9.54545455, 10.45454545, 11.36363636, 12.27272727, 13.18181818,\n",
              "       14.09090909, 15.        ])"
            ]
          },
          "metadata": {
            "tags": []
          },
          "execution_count": 67
        }
      ]
    },
    {
      "cell_type": "markdown",
      "metadata": {
        "id": "ysNjfCuDUwn1",
        "colab_type": "text"
      },
      "source": [
        "### Meta-Information"
      ]
    },
    {
      "cell_type": "code",
      "metadata": {
        "id": "kjiCrLPSUwn1",
        "colab_type": "code",
        "colab": {},
        "outputId": "69e3b7ad-e0cb-4b7e-a80d-89c269814b44"
      },
      "source": [
        "g.size  "
      ],
      "execution_count": 0,
      "outputs": [
        {
          "output_type": "execute_result",
          "data": {
            "text/plain": [
              "12"
            ]
          },
          "metadata": {
            "tags": []
          },
          "execution_count": 68
        }
      ]
    },
    {
      "cell_type": "code",
      "metadata": {
        "id": "PR-PCGkwUwn5",
        "colab_type": "code",
        "colab": {},
        "outputId": "8f40a03b-0bfe-47fb-b903-5f6131172af4"
      },
      "source": [
        "g.itemsize  "
      ],
      "execution_count": 0,
      "outputs": [
        {
          "output_type": "execute_result",
          "data": {
            "text/plain": [
              "8"
            ]
          },
          "metadata": {
            "tags": []
          },
          "execution_count": 69
        }
      ]
    },
    {
      "cell_type": "code",
      "metadata": {
        "id": "GPqaGFsVUwn7",
        "colab_type": "code",
        "colab": {},
        "outputId": "aa788ed7-64d0-49b6-d223-d7be9ad3f078"
      },
      "source": [
        "g.ndim  "
      ],
      "execution_count": 0,
      "outputs": [
        {
          "output_type": "execute_result",
          "data": {
            "text/plain": [
              "1"
            ]
          },
          "metadata": {
            "tags": []
          },
          "execution_count": 70
        }
      ]
    },
    {
      "cell_type": "code",
      "metadata": {
        "id": "J8uc0AUmUwn9",
        "colab_type": "code",
        "colab": {},
        "outputId": "b021b5c5-47a3-4bfc-d665-75dddc402c8a"
      },
      "source": [
        "g.shape  "
      ],
      "execution_count": 0,
      "outputs": [
        {
          "output_type": "execute_result",
          "data": {
            "text/plain": [
              "(12,)"
            ]
          },
          "metadata": {
            "tags": []
          },
          "execution_count": 71
        }
      ]
    },
    {
      "cell_type": "code",
      "metadata": {
        "id": "IAF2BlMIUwn_",
        "colab_type": "code",
        "colab": {},
        "outputId": "a440a598-8d46-4095-9799-e27fed7f605a"
      },
      "source": [
        "g.dtype  "
      ],
      "execution_count": 0,
      "outputs": [
        {
          "output_type": "execute_result",
          "data": {
            "text/plain": [
              "dtype('float64')"
            ]
          },
          "metadata": {
            "tags": []
          },
          "execution_count": 72
        }
      ]
    },
    {
      "cell_type": "code",
      "metadata": {
        "id": "Nn9a6ao1UwoD",
        "colab_type": "code",
        "colab": {},
        "outputId": "c6279ac3-fe18-4e58-f12c-43b2a3430b68"
      },
      "source": [
        "g.nbytes  "
      ],
      "execution_count": 0,
      "outputs": [
        {
          "output_type": "execute_result",
          "data": {
            "text/plain": [
              "96"
            ]
          },
          "metadata": {
            "tags": []
          },
          "execution_count": 73
        }
      ]
    },
    {
      "cell_type": "markdown",
      "metadata": {
        "id": "I5UjrNgKUwoF",
        "colab_type": "text"
      },
      "source": [
        "### Reshaping, Resizing, Stacking, Flattening"
      ]
    },
    {
      "cell_type": "code",
      "metadata": {
        "id": "2eVWL69MUwoG",
        "colab_type": "code",
        "colab": {}
      },
      "source": [
        "g = np.arange(15)"
      ],
      "execution_count": 0,
      "outputs": []
    },
    {
      "cell_type": "code",
      "metadata": {
        "id": "1sa8cu0uUwoI",
        "colab_type": "code",
        "colab": {},
        "outputId": "df355408-33ec-47db-84ff-159b9085f2c1"
      },
      "source": [
        "g"
      ],
      "execution_count": 0,
      "outputs": [
        {
          "output_type": "execute_result",
          "data": {
            "text/plain": [
              "array([ 0,  1,  2,  3,  4,  5,  6,  7,  8,  9, 10, 11, 12, 13, 14])"
            ]
          },
          "metadata": {
            "tags": []
          },
          "execution_count": 75
        }
      ]
    },
    {
      "cell_type": "code",
      "metadata": {
        "id": "Z5f5F24HUwoJ",
        "colab_type": "code",
        "colab": {},
        "outputId": "3737c92e-3a4b-43c1-d5be-b65bb65f077b"
      },
      "source": [
        "g.shape  "
      ],
      "execution_count": 0,
      "outputs": [
        {
          "output_type": "execute_result",
          "data": {
            "text/plain": [
              "(15,)"
            ]
          },
          "metadata": {
            "tags": []
          },
          "execution_count": 76
        }
      ]
    },
    {
      "cell_type": "code",
      "metadata": {
        "id": "97yjZFYRUwoL",
        "colab_type": "code",
        "colab": {},
        "outputId": "e81ea7fa-c6d5-4ec6-8094-0b851651d0c2"
      },
      "source": [
        "np.shape(g) "
      ],
      "execution_count": 0,
      "outputs": [
        {
          "output_type": "execute_result",
          "data": {
            "text/plain": [
              "(15,)"
            ]
          },
          "metadata": {
            "tags": []
          },
          "execution_count": 77
        }
      ]
    },
    {
      "cell_type": "code",
      "metadata": {
        "id": "i080bFtYUwoN",
        "colab_type": "code",
        "colab": {},
        "outputId": "6ca088cc-5e2a-48e7-b4e1-72ff1d0c1147"
      },
      "source": [
        "g.reshape((3, 5))  "
      ],
      "execution_count": 0,
      "outputs": [
        {
          "output_type": "execute_result",
          "data": {
            "text/plain": [
              "array([[ 0,  1,  2,  3,  4],\n",
              "       [ 5,  6,  7,  8,  9],\n",
              "       [10, 11, 12, 13, 14]])"
            ]
          },
          "metadata": {
            "tags": []
          },
          "execution_count": 78
        }
      ]
    },
    {
      "cell_type": "code",
      "metadata": {
        "id": "J8NSKZ7MUwoP",
        "colab_type": "code",
        "colab": {},
        "outputId": "7b34c481-c070-4fb8-f98a-2b31c4478e12"
      },
      "source": [
        "h = g.reshape((5, 3))  \n",
        "h"
      ],
      "execution_count": 0,
      "outputs": [
        {
          "output_type": "execute_result",
          "data": {
            "text/plain": [
              "array([[ 0,  1,  2],\n",
              "       [ 3,  4,  5],\n",
              "       [ 6,  7,  8],\n",
              "       [ 9, 10, 11],\n",
              "       [12, 13, 14]])"
            ]
          },
          "metadata": {
            "tags": []
          },
          "execution_count": 79
        }
      ]
    },
    {
      "cell_type": "code",
      "metadata": {
        "id": "gi72UbDWUwoS",
        "colab_type": "code",
        "colab": {},
        "outputId": "b15ca73d-7abc-42eb-ad00-8a23bffc82a4"
      },
      "source": [
        "h.T  "
      ],
      "execution_count": 0,
      "outputs": [
        {
          "output_type": "execute_result",
          "data": {
            "text/plain": [
              "array([[ 0,  3,  6,  9, 12],\n",
              "       [ 1,  4,  7, 10, 13],\n",
              "       [ 2,  5,  8, 11, 14]])"
            ]
          },
          "metadata": {
            "tags": []
          },
          "execution_count": 80
        }
      ]
    },
    {
      "cell_type": "code",
      "metadata": {
        "id": "SNZhXb_ZUwoW",
        "colab_type": "code",
        "colab": {},
        "outputId": "a1986ea4-889b-498d-abe8-c684ca2e78c8"
      },
      "source": [
        "h.transpose()  "
      ],
      "execution_count": 0,
      "outputs": [
        {
          "output_type": "execute_result",
          "data": {
            "text/plain": [
              "array([[ 0,  3,  6,  9, 12],\n",
              "       [ 1,  4,  7, 10, 13],\n",
              "       [ 2,  5,  8, 11, 14]])"
            ]
          },
          "metadata": {
            "tags": []
          },
          "execution_count": 81
        }
      ]
    },
    {
      "cell_type": "code",
      "metadata": {
        "id": "KoetV1zkUwoZ",
        "colab_type": "code",
        "colab": {},
        "outputId": "74a336f9-2a0a-4e2e-a884-a73dc5f3f624"
      },
      "source": [
        "g"
      ],
      "execution_count": 0,
      "outputs": [
        {
          "output_type": "execute_result",
          "data": {
            "text/plain": [
              "array([ 0,  1,  2,  3,  4,  5,  6,  7,  8,  9, 10, 11, 12, 13, 14])"
            ]
          },
          "metadata": {
            "tags": []
          },
          "execution_count": 82
        }
      ]
    },
    {
      "cell_type": "code",
      "metadata": {
        "id": "ZEeleR5CUwoa",
        "colab_type": "code",
        "colab": {},
        "outputId": "2a42bf0e-4c51-412f-a776-0ad38c3b2906"
      },
      "source": [
        "np.resize(g, (3, 1))  "
      ],
      "execution_count": 0,
      "outputs": [
        {
          "output_type": "execute_result",
          "data": {
            "text/plain": [
              "array([[0],\n",
              "       [1],\n",
              "       [2]])"
            ]
          },
          "metadata": {
            "tags": []
          },
          "execution_count": 83
        }
      ]
    },
    {
      "cell_type": "code",
      "metadata": {
        "id": "mzh0R-JjUwoc",
        "colab_type": "code",
        "colab": {},
        "outputId": "88231511-4be8-461c-d478-161ec8fbcada"
      },
      "source": [
        "np.resize(g, (1, 5))  "
      ],
      "execution_count": 0,
      "outputs": [
        {
          "output_type": "execute_result",
          "data": {
            "text/plain": [
              "array([[0, 1, 2, 3, 4]])"
            ]
          },
          "metadata": {
            "tags": []
          },
          "execution_count": 84
        }
      ]
    },
    {
      "cell_type": "code",
      "metadata": {
        "id": "yFijT-GqUwoe",
        "colab_type": "code",
        "colab": {},
        "outputId": "6c642671-e241-4ff8-ee33-73143164218b"
      },
      "source": [
        "np.resize(g, (2, 5))  "
      ],
      "execution_count": 0,
      "outputs": [
        {
          "output_type": "execute_result",
          "data": {
            "text/plain": [
              "array([[0, 1, 2, 3, 4],\n",
              "       [5, 6, 7, 8, 9]])"
            ]
          },
          "metadata": {
            "tags": []
          },
          "execution_count": 85
        }
      ]
    },
    {
      "cell_type": "code",
      "metadata": {
        "id": "vFBPdDfEUwof",
        "colab_type": "code",
        "colab": {},
        "outputId": "5f80df1e-1556-4e6a-d975-aacc1aa6d407"
      },
      "source": [
        "n = np.resize(g, (5, 4))  \n",
        "n"
      ],
      "execution_count": 0,
      "outputs": [
        {
          "output_type": "execute_result",
          "data": {
            "text/plain": [
              "array([[ 0,  1,  2,  3],\n",
              "       [ 4,  5,  6,  7],\n",
              "       [ 8,  9, 10, 11],\n",
              "       [12, 13, 14,  0],\n",
              "       [ 1,  2,  3,  4]])"
            ]
          },
          "metadata": {
            "tags": []
          },
          "execution_count": 86
        }
      ]
    },
    {
      "cell_type": "code",
      "metadata": {
        "id": "k14ZusGkUwoh",
        "colab_type": "code",
        "colab": {},
        "outputId": "899a02f1-264a-47fb-bddd-d2c4b346b539"
      },
      "source": [
        "h"
      ],
      "execution_count": 0,
      "outputs": [
        {
          "output_type": "execute_result",
          "data": {
            "text/plain": [
              "array([[ 0,  1,  2],\n",
              "       [ 3,  4,  5],\n",
              "       [ 6,  7,  8],\n",
              "       [ 9, 10, 11],\n",
              "       [12, 13, 14]])"
            ]
          },
          "metadata": {
            "tags": []
          },
          "execution_count": 87
        }
      ]
    },
    {
      "cell_type": "code",
      "metadata": {
        "id": "fSX3c1deUwoj",
        "colab_type": "code",
        "colab": {},
        "outputId": "e96be2ff-6d80-4528-8470-be7d0734ba7a"
      },
      "source": [
        "np.hstack((h, 2 * h))  "
      ],
      "execution_count": 0,
      "outputs": [
        {
          "output_type": "execute_result",
          "data": {
            "text/plain": [
              "array([[ 0,  1,  2,  0,  2,  4],\n",
              "       [ 3,  4,  5,  6,  8, 10],\n",
              "       [ 6,  7,  8, 12, 14, 16],\n",
              "       [ 9, 10, 11, 18, 20, 22],\n",
              "       [12, 13, 14, 24, 26, 28]])"
            ]
          },
          "metadata": {
            "tags": []
          },
          "execution_count": 88
        }
      ]
    },
    {
      "cell_type": "code",
      "metadata": {
        "id": "fFwFW_E1Uwol",
        "colab_type": "code",
        "colab": {},
        "outputId": "ac6df9e0-6c7f-4b6b-b9c2-10328ba4e566"
      },
      "source": [
        "np.vstack((h, 0.5 * h))  "
      ],
      "execution_count": 0,
      "outputs": [
        {
          "output_type": "execute_result",
          "data": {
            "text/plain": [
              "array([[ 0. ,  1. ,  2. ],\n",
              "       [ 3. ,  4. ,  5. ],\n",
              "       [ 6. ,  7. ,  8. ],\n",
              "       [ 9. , 10. , 11. ],\n",
              "       [12. , 13. , 14. ],\n",
              "       [ 0. ,  0.5,  1. ],\n",
              "       [ 1.5,  2. ,  2.5],\n",
              "       [ 3. ,  3.5,  4. ],\n",
              "       [ 4.5,  5. ,  5.5],\n",
              "       [ 6. ,  6.5,  7. ]])"
            ]
          },
          "metadata": {
            "tags": []
          },
          "execution_count": 89
        }
      ]
    },
    {
      "cell_type": "code",
      "metadata": {
        "id": "QZ5uXDBWUwoo",
        "colab_type": "code",
        "colab": {},
        "outputId": "5b6136c5-3999-4382-d139-8250f72899c5"
      },
      "source": [
        "h"
      ],
      "execution_count": 0,
      "outputs": [
        {
          "output_type": "execute_result",
          "data": {
            "text/plain": [
              "array([[ 0,  1,  2],\n",
              "       [ 3,  4,  5],\n",
              "       [ 6,  7,  8],\n",
              "       [ 9, 10, 11],\n",
              "       [12, 13, 14]])"
            ]
          },
          "metadata": {
            "tags": []
          },
          "execution_count": 90
        }
      ]
    },
    {
      "cell_type": "code",
      "metadata": {
        "id": "oBTE-AUeUwoq",
        "colab_type": "code",
        "colab": {},
        "outputId": "3bb5e6ec-2d1e-4735-a63e-bddeaec682f0"
      },
      "source": [
        "h.flatten()  "
      ],
      "execution_count": 0,
      "outputs": [
        {
          "output_type": "execute_result",
          "data": {
            "text/plain": [
              "array([ 0,  1,  2,  3,  4,  5,  6,  7,  8,  9, 10, 11, 12, 13, 14])"
            ]
          },
          "metadata": {
            "tags": []
          },
          "execution_count": 91
        }
      ]
    },
    {
      "cell_type": "code",
      "metadata": {
        "id": "RIyFTf-AUwos",
        "colab_type": "code",
        "colab": {},
        "outputId": "3f6b0862-3e13-455f-e709-7a7c1874510c"
      },
      "source": [
        "h.flatten(order='C')  "
      ],
      "execution_count": 0,
      "outputs": [
        {
          "output_type": "execute_result",
          "data": {
            "text/plain": [
              "array([ 0,  1,  2,  3,  4,  5,  6,  7,  8,  9, 10, 11, 12, 13, 14])"
            ]
          },
          "metadata": {
            "tags": []
          },
          "execution_count": 92
        }
      ]
    },
    {
      "cell_type": "code",
      "metadata": {
        "id": "_uddihGuUwot",
        "colab_type": "code",
        "colab": {},
        "outputId": "136045c4-0047-4741-df85-21dd3f10c1f5"
      },
      "source": [
        "h.flatten(order='F')  "
      ],
      "execution_count": 0,
      "outputs": [
        {
          "output_type": "execute_result",
          "data": {
            "text/plain": [
              "array([ 0,  3,  6,  9, 12,  1,  4,  7, 10, 13,  2,  5,  8, 11, 14])"
            ]
          },
          "metadata": {
            "tags": []
          },
          "execution_count": 93
        }
      ]
    },
    {
      "cell_type": "code",
      "metadata": {
        "id": "kJoz8Hi_Uwov",
        "colab_type": "code",
        "colab": {},
        "outputId": "a21e99cb-e7a0-4bdd-e411-8e74c2708172"
      },
      "source": [
        "for i in h.flat:  \n",
        "    print(i, end=',')"
      ],
      "execution_count": 0,
      "outputs": [
        {
          "output_type": "stream",
          "text": [
            "0,1,2,3,4,5,6,7,8,9,10,11,12,13,14,"
          ],
          "name": "stdout"
        }
      ]
    },
    {
      "cell_type": "code",
      "metadata": {
        "id": "GFpflWIfUwoz",
        "colab_type": "code",
        "colab": {},
        "outputId": "4acd1c85-b794-4d79-cf00-cd4a80b7c946"
      },
      "source": [
        "for i in h.ravel(order='C'):  \n",
        "    print(i, end=',')"
      ],
      "execution_count": 0,
      "outputs": [
        {
          "output_type": "stream",
          "text": [
            "0,1,2,3,4,5,6,7,8,9,10,11,12,13,14,"
          ],
          "name": "stdout"
        }
      ]
    },
    {
      "cell_type": "code",
      "metadata": {
        "id": "iAzOCnAxUwo1",
        "colab_type": "code",
        "colab": {},
        "outputId": "0fabcf94-aa85-4ca2-d90c-e48c8c0431f6"
      },
      "source": [
        "for i in h.ravel(order='F'):  \n",
        "    print(i, end=',')"
      ],
      "execution_count": 0,
      "outputs": [
        {
          "output_type": "stream",
          "text": [
            "0,3,6,9,12,1,4,7,10,13,2,5,8,11,14,"
          ],
          "name": "stdout"
        }
      ]
    },
    {
      "cell_type": "markdown",
      "metadata": {
        "id": "-6tx2dmzUwo7",
        "colab_type": "text"
      },
      "source": [
        "### Boolean Arrays"
      ]
    },
    {
      "cell_type": "code",
      "metadata": {
        "id": "_rJrUFM2Uwo8",
        "colab_type": "code",
        "colab": {},
        "outputId": "67f75bc1-a034-4f3b-9e63-c5c54c6b4f79"
      },
      "source": [
        "h"
      ],
      "execution_count": 0,
      "outputs": [
        {
          "output_type": "execute_result",
          "data": {
            "text/plain": [
              "array([[ 0,  1,  2],\n",
              "       [ 3,  4,  5],\n",
              "       [ 6,  7,  8],\n",
              "       [ 9, 10, 11],\n",
              "       [12, 13, 14]])"
            ]
          },
          "metadata": {
            "tags": []
          },
          "execution_count": 97
        }
      ]
    },
    {
      "cell_type": "code",
      "metadata": {
        "id": "-bV62_aEUwo_",
        "colab_type": "code",
        "colab": {},
        "outputId": "3ee2c789-e706-43e8-fbb6-f6ac53438d15"
      },
      "source": [
        "h > 8  "
      ],
      "execution_count": 0,
      "outputs": [
        {
          "output_type": "execute_result",
          "data": {
            "text/plain": [
              "array([[False, False, False],\n",
              "       [False, False, False],\n",
              "       [False, False, False],\n",
              "       [ True,  True,  True],\n",
              "       [ True,  True,  True]])"
            ]
          },
          "metadata": {
            "tags": []
          },
          "execution_count": 98
        }
      ]
    },
    {
      "cell_type": "code",
      "metadata": {
        "id": "F2pjvdxCUwpB",
        "colab_type": "code",
        "colab": {},
        "outputId": "00d091df-7631-4043-97fb-01267c15f512"
      },
      "source": [
        "h <= 7  "
      ],
      "execution_count": 0,
      "outputs": [
        {
          "output_type": "execute_result",
          "data": {
            "text/plain": [
              "array([[ True,  True,  True],\n",
              "       [ True,  True,  True],\n",
              "       [ True,  True, False],\n",
              "       [False, False, False],\n",
              "       [False, False, False]])"
            ]
          },
          "metadata": {
            "tags": []
          },
          "execution_count": 99
        }
      ]
    },
    {
      "cell_type": "code",
      "metadata": {
        "id": "0X3ZugwBUwpE",
        "colab_type": "code",
        "colab": {},
        "outputId": "da9d6489-c5da-4057-91c8-b514287273ab"
      },
      "source": [
        "h == 5  "
      ],
      "execution_count": 0,
      "outputs": [
        {
          "output_type": "execute_result",
          "data": {
            "text/plain": [
              "array([[False, False, False],\n",
              "       [False, False,  True],\n",
              "       [False, False, False],\n",
              "       [False, False, False],\n",
              "       [False, False, False]])"
            ]
          },
          "metadata": {
            "tags": []
          },
          "execution_count": 100
        }
      ]
    },
    {
      "cell_type": "code",
      "metadata": {
        "id": "SgRu5pm7UwpH",
        "colab_type": "code",
        "colab": {},
        "outputId": "85605593-b1d6-4a74-b33d-5a22ea4c6bde"
      },
      "source": [
        "(h == 5).astype(int)  "
      ],
      "execution_count": 0,
      "outputs": [
        {
          "output_type": "execute_result",
          "data": {
            "text/plain": [
              "array([[0, 0, 0],\n",
              "       [0, 0, 1],\n",
              "       [0, 0, 0],\n",
              "       [0, 0, 0],\n",
              "       [0, 0, 0]])"
            ]
          },
          "metadata": {
            "tags": []
          },
          "execution_count": 101
        }
      ]
    },
    {
      "cell_type": "code",
      "metadata": {
        "id": "jQ2eLCrbUwpJ",
        "colab_type": "code",
        "colab": {},
        "outputId": "84ea5731-2443-44cd-de84-012a4f4e4baa"
      },
      "source": [
        "(h > 4) & (h <= 12)  "
      ],
      "execution_count": 0,
      "outputs": [
        {
          "output_type": "execute_result",
          "data": {
            "text/plain": [
              "array([[False, False, False],\n",
              "       [False, False,  True],\n",
              "       [ True,  True,  True],\n",
              "       [ True,  True,  True],\n",
              "       [ True, False, False]])"
            ]
          },
          "metadata": {
            "tags": []
          },
          "execution_count": 102
        }
      ]
    },
    {
      "cell_type": "code",
      "metadata": {
        "id": "RmTMctcPUwpL",
        "colab_type": "code",
        "colab": {},
        "outputId": "0e79baf4-b2f2-4586-f194-e59b128b2881"
      },
      "source": [
        "h[h > 8]  "
      ],
      "execution_count": 0,
      "outputs": [
        {
          "output_type": "execute_result",
          "data": {
            "text/plain": [
              "array([ 9, 10, 11, 12, 13, 14])"
            ]
          },
          "metadata": {
            "tags": []
          },
          "execution_count": 103
        }
      ]
    },
    {
      "cell_type": "code",
      "metadata": {
        "id": "Kpn65besUwpN",
        "colab_type": "code",
        "colab": {},
        "outputId": "c0aafd08-bb1e-44d3-b20e-5297da7374f2"
      },
      "source": [
        "h[(h > 4) & (h <= 12)]  "
      ],
      "execution_count": 0,
      "outputs": [
        {
          "output_type": "execute_result",
          "data": {
            "text/plain": [
              "array([ 5,  6,  7,  8,  9, 10, 11, 12])"
            ]
          },
          "metadata": {
            "tags": []
          },
          "execution_count": 104
        }
      ]
    },
    {
      "cell_type": "code",
      "metadata": {
        "id": "3Ky3sv5KUwpO",
        "colab_type": "code",
        "colab": {},
        "outputId": "d8be4570-445f-4038-986b-ea1b2808ab46"
      },
      "source": [
        "h[(h < 4) | (h >= 12)]  "
      ],
      "execution_count": 0,
      "outputs": [
        {
          "output_type": "execute_result",
          "data": {
            "text/plain": [
              "array([ 0,  1,  2,  3, 12, 13, 14])"
            ]
          },
          "metadata": {
            "tags": []
          },
          "execution_count": 105
        }
      ]
    },
    {
      "cell_type": "code",
      "metadata": {
        "id": "Rrcmhr5zUwpQ",
        "colab_type": "code",
        "colab": {},
        "outputId": "6d3c52b1-d805-4884-c953-fdd5c5e55edb"
      },
      "source": [
        "np.where(h > 7, 1, 0)  "
      ],
      "execution_count": 0,
      "outputs": [
        {
          "output_type": "execute_result",
          "data": {
            "text/plain": [
              "array([[0, 0, 0],\n",
              "       [0, 0, 0],\n",
              "       [0, 0, 1],\n",
              "       [1, 1, 1],\n",
              "       [1, 1, 1]])"
            ]
          },
          "metadata": {
            "tags": []
          },
          "execution_count": 106
        }
      ]
    },
    {
      "cell_type": "code",
      "metadata": {
        "id": "c_IWTTcgUwpR",
        "colab_type": "code",
        "colab": {},
        "outputId": "b372b303-b2bf-484c-f24b-4b445b37832f"
      },
      "source": [
        "np.where(h % 2 == 0, 'even', 'odd')  "
      ],
      "execution_count": 0,
      "outputs": [
        {
          "output_type": "execute_result",
          "data": {
            "text/plain": [
              "array([['even', 'odd', 'even'],\n",
              "       ['odd', 'even', 'odd'],\n",
              "       ['even', 'odd', 'even'],\n",
              "       ['odd', 'even', 'odd'],\n",
              "       ['even', 'odd', 'even']], dtype='<U4')"
            ]
          },
          "metadata": {
            "tags": []
          },
          "execution_count": 107
        }
      ]
    },
    {
      "cell_type": "code",
      "metadata": {
        "id": "W113MVKEUwpT",
        "colab_type": "code",
        "colab": {},
        "outputId": "4041dde7-4f5a-4175-a669-9570020e439e"
      },
      "source": [
        "np.where(h <= 7, h * 2, h / 2)  "
      ],
      "execution_count": 0,
      "outputs": [
        {
          "output_type": "execute_result",
          "data": {
            "text/plain": [
              "array([[ 0. ,  2. ,  4. ],\n",
              "       [ 6. ,  8. , 10. ],\n",
              "       [12. , 14. ,  4. ],\n",
              "       [ 4.5,  5. ,  5.5],\n",
              "       [ 6. ,  6.5,  7. ]])"
            ]
          },
          "metadata": {
            "tags": []
          },
          "execution_count": 108
        }
      ]
    },
    {
      "cell_type": "markdown",
      "metadata": {
        "id": "OkDuXXV9UwpX",
        "colab_type": "text"
      },
      "source": [
        "### Speed Comparison"
      ]
    },
    {
      "cell_type": "code",
      "metadata": {
        "id": "sQIDmqdnUwpX",
        "colab_type": "code",
        "colab": {}
      },
      "source": [
        "import random\n",
        "I = 5000"
      ],
      "execution_count": 0,
      "outputs": []
    },
    {
      "cell_type": "code",
      "metadata": {
        "id": "KSHglE8wUwpZ",
        "colab_type": "code",
        "colab": {},
        "outputId": "ffa67f1e-9c26-42a3-802c-fa4175129504"
      },
      "source": [
        "%time mat = [[random.gauss(0, 1) for j in range(I)] \\\n",
        "             for i in range(I)]  "
      ],
      "execution_count": 0,
      "outputs": [
        {
          "output_type": "stream",
          "text": [
            "CPU times: user 16.9 s, sys: 390 ms, total: 17.3 s\n",
            "Wall time: 17.4 s\n"
          ],
          "name": "stdout"
        }
      ]
    },
    {
      "cell_type": "code",
      "metadata": {
        "id": "avogX2VoUwpb",
        "colab_type": "code",
        "colab": {},
        "outputId": "a0638d68-fb0b-4636-f16f-d5e88d454fd4"
      },
      "source": [
        "mat[0][:5]  "
      ],
      "execution_count": 0,
      "outputs": [
        {
          "output_type": "execute_result",
          "data": {
            "text/plain": [
              "[-0.4602342297592762,\n",
              " -0.07820299399332144,\n",
              " 1.2666740605880484,\n",
              " 0.3304071298394351,\n",
              " 0.2551237312223029]"
            ]
          },
          "metadata": {
            "tags": []
          },
          "execution_count": 111
        }
      ]
    },
    {
      "cell_type": "code",
      "metadata": {
        "id": "CxAPFRVQUwpe",
        "colab_type": "code",
        "colab": {},
        "outputId": "2cd4ca00-4ccc-42e3-da83-da8d54b1f6ed"
      },
      "source": [
        "%time sum([sum(l) for l in mat])  "
      ],
      "execution_count": 0,
      "outputs": [
        {
          "output_type": "stream",
          "text": [
            "CPU times: user 124 ms, sys: 1.79 ms, total: 126 ms\n",
            "Wall time: 125 ms\n"
          ],
          "name": "stdout"
        },
        {
          "output_type": "execute_result",
          "data": {
            "text/plain": [
              "-3250.984989010543"
            ]
          },
          "metadata": {
            "tags": []
          },
          "execution_count": 112
        }
      ]
    },
    {
      "cell_type": "code",
      "metadata": {
        "id": "09NyQCL4Uwpf",
        "colab_type": "code",
        "colab": {},
        "outputId": "2eaf833b-a3f0-4fd1-ede2-90e92c15dfe6"
      },
      "source": [
        "import sys\n",
        "sum([sys.getsizeof(l) for l in mat])  "
      ],
      "execution_count": 0,
      "outputs": [
        {
          "output_type": "execute_result",
          "data": {
            "text/plain": [
              "215200000"
            ]
          },
          "metadata": {
            "tags": []
          },
          "execution_count": 113
        }
      ]
    },
    {
      "cell_type": "code",
      "metadata": {
        "id": "xDmj6KrsUwpg",
        "colab_type": "code",
        "colab": {},
        "outputId": "74abd78c-3065-4a44-c8d8-d6d683894ce8"
      },
      "source": [
        "%time mat = np.random.standard_normal((I, I))  "
      ],
      "execution_count": 0,
      "outputs": [
        {
          "output_type": "stream",
          "text": [
            "CPU times: user 1.01 s, sys: 149 ms, total: 1.15 s\n",
            "Wall time: 1.15 s\n"
          ],
          "name": "stdout"
        }
      ]
    },
    {
      "cell_type": "code",
      "metadata": {
        "id": "iWIVZqH_Uwpi",
        "colab_type": "code",
        "colab": {},
        "outputId": "8fe80562-acba-46f5-e918-a255c6c8aae8"
      },
      "source": [
        "%time mat.sum()  "
      ],
      "execution_count": 0,
      "outputs": [
        {
          "output_type": "stream",
          "text": [
            "CPU times: user 26.6 ms, sys: 910 µs, total: 27.5 ms\n",
            "Wall time: 26.2 ms\n"
          ],
          "name": "stdout"
        },
        {
          "output_type": "execute_result",
          "data": {
            "text/plain": [
              "-7978.9521640884095"
            ]
          },
          "metadata": {
            "tags": []
          },
          "execution_count": 115
        }
      ]
    },
    {
      "cell_type": "code",
      "metadata": {
        "id": "hTTImDUvUwpn",
        "colab_type": "code",
        "colab": {},
        "outputId": "20b12536-8354-4c34-913a-1d4a39091aa8"
      },
      "source": [
        "mat.nbytes  "
      ],
      "execution_count": 0,
      "outputs": [
        {
          "output_type": "execute_result",
          "data": {
            "text/plain": [
              "200000000"
            ]
          },
          "metadata": {
            "tags": []
          },
          "execution_count": 116
        }
      ]
    },
    {
      "cell_type": "code",
      "metadata": {
        "id": "OVoFxPcpUwpo",
        "colab_type": "code",
        "colab": {},
        "outputId": "03705cab-e7d5-4669-b54c-53e0e7df8857"
      },
      "source": [
        "sys.getsizeof(mat)  "
      ],
      "execution_count": 0,
      "outputs": [
        {
          "output_type": "execute_result",
          "data": {
            "text/plain": [
              "200000112"
            ]
          },
          "metadata": {
            "tags": []
          },
          "execution_count": 117
        }
      ]
    },
    {
      "cell_type": "markdown",
      "metadata": {
        "id": "9_bKE46LUwpp",
        "colab_type": "text"
      },
      "source": [
        "### Structured Arrays"
      ]
    },
    {
      "cell_type": "code",
      "metadata": {
        "id": "tLEQ0WLnUwpp",
        "colab_type": "code",
        "colab": {}
      },
      "source": [
        "dt = np.dtype([('Name', 'S10'), ('Age', 'i4'),\n",
        "               ('Height', 'f'), ('Children/Pets', 'i4', 2)])  "
      ],
      "execution_count": 0,
      "outputs": []
    },
    {
      "cell_type": "code",
      "metadata": {
        "id": "uqXufsqUUwps",
        "colab_type": "code",
        "colab": {},
        "outputId": "162766b0-e1a2-42f4-9a5c-6f4e8f9a19db"
      },
      "source": [
        "dt  "
      ],
      "execution_count": 0,
      "outputs": [
        {
          "output_type": "execute_result",
          "data": {
            "text/plain": [
              "dtype([('Name', 'S10'), ('Age', '<i4'), ('Height', '<f4'), ('Children/Pets', '<i4', (2,))])"
            ]
          },
          "metadata": {
            "tags": []
          },
          "execution_count": 119
        }
      ]
    },
    {
      "cell_type": "code",
      "metadata": {
        "id": "HB-Jg_inUwpt",
        "colab_type": "code",
        "colab": {}
      },
      "source": [
        "dt = np.dtype({'names': ['Name', 'Age', 'Height', 'Children/Pets'],\n",
        "             'formats':'O int float int,int'.split()})  "
      ],
      "execution_count": 0,
      "outputs": []
    },
    {
      "cell_type": "code",
      "metadata": {
        "id": "N930O2buUwpu",
        "colab_type": "code",
        "colab": {},
        "outputId": "4d311bb5-b314-45a3-edb5-f575c977e01b"
      },
      "source": [
        "dt  "
      ],
      "execution_count": 0,
      "outputs": [
        {
          "output_type": "execute_result",
          "data": {
            "text/plain": [
              "dtype([('Name', 'O'), ('Age', '<i8'), ('Height', '<f8'), ('Children/Pets', [('f0', '<i8'), ('f1', '<i8')])])"
            ]
          },
          "metadata": {
            "tags": []
          },
          "execution_count": 121
        }
      ]
    },
    {
      "cell_type": "code",
      "metadata": {
        "id": "EP9T9GTPUwpw",
        "colab_type": "code",
        "colab": {}
      },
      "source": [
        "s = np.array([('Smith', 45, 1.83, (0, 1)),\n",
        "              ('Jones', 53, 1.72, (2, 2))], dtype=dt)  "
      ],
      "execution_count": 0,
      "outputs": []
    },
    {
      "cell_type": "code",
      "metadata": {
        "uuid": "15905219-d8fd-46f0-a1d9-2c2735d98b29",
        "id": "Qm1OfzEYUwpx",
        "colab_type": "code",
        "colab": {},
        "outputId": "e97659d0-d51b-45df-bd77-eca73b8bb33e"
      },
      "source": [
        "s  "
      ],
      "execution_count": 0,
      "outputs": [
        {
          "output_type": "execute_result",
          "data": {
            "text/plain": [
              "array([('Smith', 45, 1.83, (0, 1)), ('Jones', 53, 1.72, (2, 2))],\n",
              "      dtype=[('Name', 'O'), ('Age', '<i8'), ('Height', '<f8'), ('Children/Pets', [('f0', '<i8'), ('f1', '<i8')])])"
            ]
          },
          "metadata": {
            "tags": []
          },
          "execution_count": 123
        }
      ]
    },
    {
      "cell_type": "code",
      "metadata": {
        "id": "1n8TpfdJUwp0",
        "colab_type": "code",
        "colab": {},
        "outputId": "c061f0b0-c387-4449-ff33-9d64c2d91b7c"
      },
      "source": [
        "type(s)  "
      ],
      "execution_count": 0,
      "outputs": [
        {
          "output_type": "execute_result",
          "data": {
            "text/plain": [
              "numpy.ndarray"
            ]
          },
          "metadata": {
            "tags": []
          },
          "execution_count": 124
        }
      ]
    },
    {
      "cell_type": "code",
      "metadata": {
        "uuid": "9932654e-a73d-4cd6-a18e-5199f29efe44",
        "id": "H6TALHh0Uwp2",
        "colab_type": "code",
        "colab": {},
        "outputId": "353f31b0-e1e6-43a5-d997-61266fb591c7"
      },
      "source": [
        "s['Name']  "
      ],
      "execution_count": 0,
      "outputs": [
        {
          "output_type": "execute_result",
          "data": {
            "text/plain": [
              "array(['Smith', 'Jones'], dtype=object)"
            ]
          },
          "metadata": {
            "tags": []
          },
          "execution_count": 125
        }
      ]
    },
    {
      "cell_type": "code",
      "metadata": {
        "uuid": "10dc3d78-b6dc-4bf0-a4f1-1a4315bf0f2f",
        "id": "pALkkM8hUwp4",
        "colab_type": "code",
        "colab": {},
        "outputId": "07d7bda5-4627-4b65-8437-e8995d7fea44"
      },
      "source": [
        "s['Height'].mean()  "
      ],
      "execution_count": 0,
      "outputs": [
        {
          "output_type": "execute_result",
          "data": {
            "text/plain": [
              "1.775"
            ]
          },
          "metadata": {
            "tags": []
          },
          "execution_count": 126
        }
      ]
    },
    {
      "cell_type": "code",
      "metadata": {
        "id": "e7SUgEqZUwp7",
        "colab_type": "code",
        "colab": {},
        "outputId": "4cc687d8-adf8-4e65-dcd4-c7f2b6709011"
      },
      "source": [
        "s[0]  "
      ],
      "execution_count": 0,
      "outputs": [
        {
          "output_type": "execute_result",
          "data": {
            "text/plain": [
              "('Smith', 45, 1.83, (0, 1))"
            ]
          },
          "metadata": {
            "tags": []
          },
          "execution_count": 127
        }
      ]
    },
    {
      "cell_type": "code",
      "metadata": {
        "uuid": "1385e680-2a16-440d-a674-2ea5757fb41b",
        "id": "pPUHhlP2Uwp9",
        "colab_type": "code",
        "colab": {},
        "outputId": "323c80e7-389a-41bb-81c8-013d8c3f88ae"
      },
      "source": [
        "s[1]['Age']  "
      ],
      "execution_count": 0,
      "outputs": [
        {
          "output_type": "execute_result",
          "data": {
            "text/plain": [
              "53"
            ]
          },
          "metadata": {
            "tags": []
          },
          "execution_count": 128
        }
      ]
    },
    {
      "cell_type": "markdown",
      "metadata": {
        "id": "FD83i3NJUwqA",
        "colab_type": "text"
      },
      "source": [
        "## Vectorization of Code"
      ]
    },
    {
      "cell_type": "code",
      "metadata": {
        "uuid": "28bac5ac-be5d-4f60-acc6-f844259c5a22",
        "id": "A1eMOiS2UwqA",
        "colab_type": "code",
        "colab": {}
      },
      "source": [
        "np.random.seed(100)\n",
        "r = np.arange(12).reshape((4, 3))  \n",
        "s = np.arange(12).reshape((4, 3)) * 0.5  "
      ],
      "execution_count": 0,
      "outputs": []
    },
    {
      "cell_type": "code",
      "metadata": {
        "id": "mJD_HfI_UwqH",
        "colab_type": "code",
        "colab": {},
        "outputId": "a679a3ef-6e64-4945-ff08-10892bb484f5"
      },
      "source": [
        "r  "
      ],
      "execution_count": 0,
      "outputs": [
        {
          "output_type": "execute_result",
          "data": {
            "text/plain": [
              "array([[ 0,  1,  2],\n",
              "       [ 3,  4,  5],\n",
              "       [ 6,  7,  8],\n",
              "       [ 9, 10, 11]])"
            ]
          },
          "metadata": {
            "tags": []
          },
          "execution_count": 130
        }
      ]
    },
    {
      "cell_type": "code",
      "metadata": {
        "id": "6NmkJ8cOUwqI",
        "colab_type": "code",
        "colab": {},
        "outputId": "c7d49791-a267-4c1d-ce9d-7e66746c8dc1"
      },
      "source": [
        "s  "
      ],
      "execution_count": 0,
      "outputs": [
        {
          "output_type": "execute_result",
          "data": {
            "text/plain": [
              "array([[0. , 0.5, 1. ],\n",
              "       [1.5, 2. , 2.5],\n",
              "       [3. , 3.5, 4. ],\n",
              "       [4.5, 5. , 5.5]])"
            ]
          },
          "metadata": {
            "tags": []
          },
          "execution_count": 131
        }
      ]
    },
    {
      "cell_type": "code",
      "metadata": {
        "scrolled": true,
        "uuid": "91d91253-168a-4ff2-8452-67e2cfd5c2f8",
        "id": "kTAPrQzuUwqK",
        "colab_type": "code",
        "colab": {},
        "outputId": "cbf8211b-ca8f-4e95-c4b2-56b5d3fe9da4"
      },
      "source": [
        "r + s  "
      ],
      "execution_count": 0,
      "outputs": [
        {
          "output_type": "execute_result",
          "data": {
            "text/plain": [
              "array([[ 0. ,  1.5,  3. ],\n",
              "       [ 4.5,  6. ,  7.5],\n",
              "       [ 9. , 10.5, 12. ],\n",
              "       [13.5, 15. , 16.5]])"
            ]
          },
          "metadata": {
            "tags": []
          },
          "execution_count": 132
        }
      ]
    },
    {
      "cell_type": "code",
      "metadata": {
        "uuid": "305b5877-2410-48e0-b5d3-d7f2f384e953",
        "id": "U8vmCb8gUwqM",
        "colab_type": "code",
        "colab": {},
        "outputId": "54b0aee9-52ac-469a-b28f-3272b4538663"
      },
      "source": [
        "r + 3  "
      ],
      "execution_count": 0,
      "outputs": [
        {
          "output_type": "execute_result",
          "data": {
            "text/plain": [
              "array([[ 3,  4,  5],\n",
              "       [ 6,  7,  8],\n",
              "       [ 9, 10, 11],\n",
              "       [12, 13, 14]])"
            ]
          },
          "metadata": {
            "tags": []
          },
          "execution_count": 133
        }
      ]
    },
    {
      "cell_type": "code",
      "metadata": {
        "id": "8b9-QYP_UwqP",
        "colab_type": "code",
        "colab": {},
        "outputId": "165e038c-3566-4e06-81c4-6b52740d5ef5"
      },
      "source": [
        "2 * r  "
      ],
      "execution_count": 0,
      "outputs": [
        {
          "output_type": "execute_result",
          "data": {
            "text/plain": [
              "array([[ 0,  2,  4],\n",
              "       [ 6,  8, 10],\n",
              "       [12, 14, 16],\n",
              "       [18, 20, 22]])"
            ]
          },
          "metadata": {
            "tags": []
          },
          "execution_count": 134
        }
      ]
    },
    {
      "cell_type": "code",
      "metadata": {
        "id": "kWzbXm3KUwqT",
        "colab_type": "code",
        "colab": {},
        "outputId": "b74028f6-1141-47dd-bbe2-3a9fdef784f2"
      },
      "source": [
        "2 * r + 3  "
      ],
      "execution_count": 0,
      "outputs": [
        {
          "output_type": "execute_result",
          "data": {
            "text/plain": [
              "array([[ 3,  5,  7],\n",
              "       [ 9, 11, 13],\n",
              "       [15, 17, 19],\n",
              "       [21, 23, 25]])"
            ]
          },
          "metadata": {
            "tags": []
          },
          "execution_count": 135
        }
      ]
    },
    {
      "cell_type": "code",
      "metadata": {
        "id": "u-gwltZ6UwqW",
        "colab_type": "code",
        "colab": {},
        "outputId": "a1407d82-c944-4ef3-d8ba-b04242b24f2f"
      },
      "source": [
        "r"
      ],
      "execution_count": 0,
      "outputs": [
        {
          "output_type": "execute_result",
          "data": {
            "text/plain": [
              "array([[ 0,  1,  2],\n",
              "       [ 3,  4,  5],\n",
              "       [ 6,  7,  8],\n",
              "       [ 9, 10, 11]])"
            ]
          },
          "metadata": {
            "tags": []
          },
          "execution_count": 136
        }
      ]
    },
    {
      "cell_type": "code",
      "metadata": {
        "id": "C0_idJTPUwqZ",
        "colab_type": "code",
        "colab": {},
        "outputId": "0b9e6fc4-bb3b-4f8b-cfbf-0d0f4ac84077"
      },
      "source": [
        "r.shape"
      ],
      "execution_count": 0,
      "outputs": [
        {
          "output_type": "execute_result",
          "data": {
            "text/plain": [
              "(4, 3)"
            ]
          },
          "metadata": {
            "tags": []
          },
          "execution_count": 137
        }
      ]
    },
    {
      "cell_type": "code",
      "metadata": {
        "id": "9-hXjL4YUwqc",
        "colab_type": "code",
        "colab": {},
        "outputId": "ad694dd3-bd31-4068-84d5-2355e49207df"
      },
      "source": [
        "s = np.arange(0, 12, 4)  \n",
        "s  "
      ],
      "execution_count": 0,
      "outputs": [
        {
          "output_type": "execute_result",
          "data": {
            "text/plain": [
              "array([0, 4, 8])"
            ]
          },
          "metadata": {
            "tags": []
          },
          "execution_count": 138
        }
      ]
    },
    {
      "cell_type": "code",
      "metadata": {
        "uuid": "dd5f63cb-da0f-4397-8d86-315d115d4029",
        "id": "SX3czUeBUwqf",
        "colab_type": "code",
        "colab": {},
        "outputId": "bebcd1ca-087b-46d8-e3e9-bdba4ade8a10"
      },
      "source": [
        "r + s  "
      ],
      "execution_count": 0,
      "outputs": [
        {
          "output_type": "execute_result",
          "data": {
            "text/plain": [
              "array([[ 0,  5, 10],\n",
              "       [ 3,  8, 13],\n",
              "       [ 6, 11, 16],\n",
              "       [ 9, 14, 19]])"
            ]
          },
          "metadata": {
            "tags": []
          },
          "execution_count": 139
        }
      ]
    },
    {
      "cell_type": "code",
      "metadata": {
        "uuid": "cc58e76c-c3b1-495b-9cbe-8fb3fa92a59d",
        "id": "8unUns6QUwqk",
        "colab_type": "code",
        "colab": {},
        "outputId": "0648313b-a913-40de-ea8c-c6d91c168050"
      },
      "source": [
        "s = np.arange(0, 12, 3)  \n",
        "s  "
      ],
      "execution_count": 0,
      "outputs": [
        {
          "output_type": "execute_result",
          "data": {
            "text/plain": [
              "array([0, 3, 6, 9])"
            ]
          },
          "metadata": {
            "tags": []
          },
          "execution_count": 140
        }
      ]
    },
    {
      "cell_type": "code",
      "metadata": {
        "id": "LXyMo21fUwqm",
        "colab_type": "code",
        "colab": {}
      },
      "source": [
        "# causes intentional error\n",
        "# r + s  "
      ],
      "execution_count": 0,
      "outputs": []
    },
    {
      "cell_type": "code",
      "metadata": {
        "uuid": "011f4087-a2d6-4731-ac27-07f31d11f017",
        "id": "umQoOwslUwqn",
        "colab_type": "code",
        "colab": {},
        "outputId": "6190a1f8-fdcc-4b26-9020-3a93a8da69a1"
      },
      "source": [
        "r.transpose() + s  "
      ],
      "execution_count": 0,
      "outputs": [
        {
          "output_type": "execute_result",
          "data": {
            "text/plain": [
              "array([[ 0,  6, 12, 18],\n",
              "       [ 1,  7, 13, 19],\n",
              "       [ 2,  8, 14, 20]])"
            ]
          },
          "metadata": {
            "tags": []
          },
          "execution_count": 142
        }
      ]
    },
    {
      "cell_type": "code",
      "metadata": {
        "id": "-sYR1ds3Uwqq",
        "colab_type": "code",
        "colab": {},
        "outputId": "f649219d-23cc-48ed-ecdb-8688ee71eec7"
      },
      "source": [
        "sr = s.reshape(-1, 1)  \n",
        "sr"
      ],
      "execution_count": 0,
      "outputs": [
        {
          "output_type": "execute_result",
          "data": {
            "text/plain": [
              "array([[0],\n",
              "       [3],\n",
              "       [6],\n",
              "       [9]])"
            ]
          },
          "metadata": {
            "tags": []
          },
          "execution_count": 143
        }
      ]
    },
    {
      "cell_type": "code",
      "metadata": {
        "id": "qn8HA5odUwqr",
        "colab_type": "code",
        "colab": {},
        "outputId": "b37901ae-2e5f-482e-c30e-cb975a2207ef"
      },
      "source": [
        "sr.shape  "
      ],
      "execution_count": 0,
      "outputs": [
        {
          "output_type": "execute_result",
          "data": {
            "text/plain": [
              "(4, 1)"
            ]
          },
          "metadata": {
            "tags": []
          },
          "execution_count": 144
        }
      ]
    },
    {
      "cell_type": "code",
      "metadata": {
        "id": "69fKt7EQUwqu",
        "colab_type": "code",
        "colab": {},
        "outputId": "76fd2a4e-18d0-4940-bae6-eae96414debd"
      },
      "source": [
        "r + s.reshape(-1, 1)  "
      ],
      "execution_count": 0,
      "outputs": [
        {
          "output_type": "execute_result",
          "data": {
            "text/plain": [
              "array([[ 0,  1,  2],\n",
              "       [ 6,  7,  8],\n",
              "       [12, 13, 14],\n",
              "       [18, 19, 20]])"
            ]
          },
          "metadata": {
            "tags": []
          },
          "execution_count": 145
        }
      ]
    },
    {
      "cell_type": "code",
      "metadata": {
        "uuid": "0f3b5cad-0146-4203-b158-238203ef5764",
        "id": "OwohsDMrUwqv",
        "colab_type": "code",
        "colab": {}
      },
      "source": [
        "def f(x):\n",
        "    return 3 * x + 5  "
      ],
      "execution_count": 0,
      "outputs": []
    },
    {
      "cell_type": "code",
      "metadata": {
        "uuid": "08b395e9-13fc-43c1-8bba-28c63a216366",
        "id": "WRsnT8GRUwqz",
        "colab_type": "code",
        "colab": {},
        "outputId": "cec8bec5-2ee0-4f59-c337-0a3fcf98059f"
      },
      "source": [
        "f(0.5)  "
      ],
      "execution_count": 0,
      "outputs": [
        {
          "output_type": "execute_result",
          "data": {
            "text/plain": [
              "6.5"
            ]
          },
          "metadata": {
            "tags": []
          },
          "execution_count": 147
        }
      ]
    },
    {
      "cell_type": "code",
      "metadata": {
        "uuid": "1895e566-c5ee-4856-bca5-37fef37df0c5",
        "id": "5OcOicdfUwq1",
        "colab_type": "code",
        "colab": {},
        "outputId": "20018e23-48c1-4ccd-a045-537cd74698b3"
      },
      "source": [
        "f(r)  "
      ],
      "execution_count": 0,
      "outputs": [
        {
          "output_type": "execute_result",
          "data": {
            "text/plain": [
              "array([[ 5,  8, 11],\n",
              "       [14, 17, 20],\n",
              "       [23, 26, 29],\n",
              "       [32, 35, 38]])"
            ]
          },
          "metadata": {
            "tags": []
          },
          "execution_count": 148
        }
      ]
    },
    {
      "cell_type": "markdown",
      "metadata": {
        "id": "MlSluC7YUwq2",
        "colab_type": "text"
      },
      "source": [
        "## Memory Layout"
      ]
    },
    {
      "cell_type": "markdown",
      "metadata": {
        "id": "7RuE4aq5Uwq3",
        "colab_type": "text"
      },
      "source": [
        "Cf. http://eli.thegreenplace.net/2015/memory-layout-of-multi-dimensional-arrays/"
      ]
    },
    {
      "cell_type": "code",
      "metadata": {
        "id": "CxNCHHGTUwq3",
        "colab_type": "code",
        "colab": {}
      },
      "source": [
        "x = np.random.standard_normal((1000000, 5))  "
      ],
      "execution_count": 0,
      "outputs": []
    },
    {
      "cell_type": "code",
      "metadata": {
        "id": "3BdIeP-VUwq5",
        "colab_type": "code",
        "colab": {}
      },
      "source": [
        "y = 2 * x + 3  "
      ],
      "execution_count": 0,
      "outputs": []
    },
    {
      "cell_type": "code",
      "metadata": {
        "id": "Qs1NuwKLUwq6",
        "colab_type": "code",
        "colab": {}
      },
      "source": [
        "C = np.array((x, y), order='C')  "
      ],
      "execution_count": 0,
      "outputs": []
    },
    {
      "cell_type": "code",
      "metadata": {
        "id": "9fn8a7FvUwq7",
        "colab_type": "code",
        "colab": {}
      },
      "source": [
        "F = np.array((x, y), order='F')  "
      ],
      "execution_count": 0,
      "outputs": []
    },
    {
      "cell_type": "code",
      "metadata": {
        "uuid": "f34c0c3d-112d-4ac4-bd48-21df98096047",
        "id": "5yiO-vXbUwq9",
        "colab_type": "code",
        "colab": {}
      },
      "source": [
        "x = 0.0; y = 0.0  "
      ],
      "execution_count": 0,
      "outputs": []
    },
    {
      "cell_type": "code",
      "metadata": {
        "uuid": "f3fb83da-569c-423b-911e-9a2078d385b8",
        "id": "ezgRZtT0UwrA",
        "colab_type": "code",
        "colab": {},
        "outputId": "1ceefbed-e537-49be-e257-d368aae4a42c"
      },
      "source": [
        "C[:2].round(2)  "
      ],
      "execution_count": 0,
      "outputs": [
        {
          "output_type": "execute_result",
          "data": {
            "text/plain": [
              "array([[[-1.75,  0.34,  1.15, -0.25,  0.98],\n",
              "        [ 0.51,  0.22, -1.07, -0.19,  0.26],\n",
              "        [-0.46,  0.44, -0.58,  0.82,  0.67],\n",
              "        ...,\n",
              "        [-0.05,  0.14,  0.17,  0.33,  1.39],\n",
              "        [ 1.02,  0.3 , -1.23, -0.68, -0.87],\n",
              "        [ 0.83, -0.73,  1.03,  0.34, -0.46]],\n",
              "\n",
              "       [[-0.5 ,  3.69,  5.31,  2.5 ,  4.96],\n",
              "        [ 4.03,  3.44,  0.86,  2.62,  3.51],\n",
              "        [ 2.08,  3.87,  1.83,  4.63,  4.35],\n",
              "        ...,\n",
              "        [ 2.9 ,  3.28,  3.33,  3.67,  5.78],\n",
              "        [ 5.04,  3.6 ,  0.54,  1.65,  1.26],\n",
              "        [ 4.67,  1.54,  5.06,  3.69,  2.07]]])"
            ]
          },
          "metadata": {
            "tags": []
          },
          "execution_count": 154
        }
      ]
    },
    {
      "cell_type": "code",
      "metadata": {
        "uuid": "a1a2af02-b1a0-4a41-a2e8-dd77b02ba796",
        "id": "ZlxnP6hIUwrD",
        "colab_type": "code",
        "colab": {},
        "outputId": "cf9947be-7e9f-4d8b-a789-babff46ebedd"
      },
      "source": [
        "%timeit C.sum()  "
      ],
      "execution_count": 0,
      "outputs": [
        {
          "output_type": "stream",
          "text": [
            "4.43 ms ± 206 µs per loop (mean ± std. dev. of 7 runs, 100 loops each)\n"
          ],
          "name": "stdout"
        }
      ]
    },
    {
      "cell_type": "code",
      "metadata": {
        "uuid": "34e089f9-2877-48d5-b980-3a22949cb5e2",
        "id": "Q9RZ05nMUwrF",
        "colab_type": "code",
        "colab": {},
        "outputId": "e273c341-fb2c-45c6-9727-fb8d5292aa5a"
      },
      "source": [
        "%timeit F.sum()  "
      ],
      "execution_count": 0,
      "outputs": [
        {
          "output_type": "stream",
          "text": [
            "4.21 ms ± 88.2 µs per loop (mean ± std. dev. of 7 runs, 100 loops each)\n"
          ],
          "name": "stdout"
        }
      ]
    },
    {
      "cell_type": "code",
      "metadata": {
        "uuid": "9ccbdca7-b257-432b-b609-c2f31ff181e1",
        "id": "3r-8d2mHUwrI",
        "colab_type": "code",
        "colab": {},
        "outputId": "d742e01c-a967-4cb5-a9cc-e3caba137450"
      },
      "source": [
        "%timeit C.sum(axis=0)  "
      ],
      "execution_count": 0,
      "outputs": [
        {
          "output_type": "stream",
          "text": [
            "16.5 ms ± 457 µs per loop (mean ± std. dev. of 7 runs, 100 loops each)\n"
          ],
          "name": "stdout"
        }
      ]
    },
    {
      "cell_type": "code",
      "metadata": {
        "uuid": "c681dab3-43d5-4247-bca5-7bb7ae41d821",
        "id": "mJtL0u-VUwrK",
        "colab_type": "code",
        "colab": {},
        "outputId": "6fd54d6a-73b9-4999-f6fb-8abbf71037c4"
      },
      "source": [
        "%timeit C.sum(axis=1)  "
      ],
      "execution_count": 0,
      "outputs": [
        {
          "output_type": "stream",
          "text": [
            "34.8 ms ± 1.05 ms per loop (mean ± std. dev. of 7 runs, 10 loops each)\n"
          ],
          "name": "stdout"
        }
      ]
    },
    {
      "cell_type": "code",
      "metadata": {
        "uuid": "da5381da-b137-4da9-93f4-47d94f27b81d",
        "id": "EYMSJ2D3UwrL",
        "colab_type": "code",
        "colab": {},
        "outputId": "9a6d5fec-7819-455f-b61c-9b089013c9e8"
      },
      "source": [
        "%timeit F.sum(axis=0)  "
      ],
      "execution_count": 0,
      "outputs": [
        {
          "output_type": "stream",
          "text": [
            "82.2 ms ± 1.33 ms per loop (mean ± std. dev. of 7 runs, 10 loops each)\n"
          ],
          "name": "stdout"
        }
      ]
    },
    {
      "cell_type": "code",
      "metadata": {
        "uuid": "b31c6c3e-d720-4641-a6f9-8591b51b712e",
        "id": "32dW-B8GUwrM",
        "colab_type": "code",
        "colab": {},
        "outputId": "796f4f7d-2b78-46ce-af24-fe277fc44cda"
      },
      "source": [
        "%timeit F.sum(axis=1)  "
      ],
      "execution_count": 0,
      "outputs": [
        {
          "output_type": "stream",
          "text": [
            "66.1 ms ± 1.35 ms per loop (mean ± std. dev. of 7 runs, 10 loops each)\n"
          ],
          "name": "stdout"
        }
      ]
    },
    {
      "cell_type": "code",
      "metadata": {
        "uuid": "89201348-9a27-4883-b6b9-5f1caf291b61",
        "id": "_7CI_Iq3UwrO",
        "colab_type": "code",
        "colab": {}
      },
      "source": [
        "F = 0.0; C = 0.0  "
      ],
      "execution_count": 0,
      "outputs": []
    },
    {
      "cell_type": "markdown",
      "metadata": {
        "id": "0GmG4WdwUwrP",
        "colab_type": "text"
      },
      "source": [
        "<img src=\"http://hilpisch.com/tpq_logo.png\" alt=\"The Python Quants\" width=\"35%\" align=\"right\" border=\"0\"><br>\n",
        "\n",
        "<a href=\"http://tpq.io\" target=\"_blank\">http://tpq.io</a> | <a href=\"http://twitter.com/dyjh\" target=\"_blank\">@dyjh</a> | <a href=\"mailto:training@tpq.io\">training@tpq.io</a>"
      ]
    }
  ]
}