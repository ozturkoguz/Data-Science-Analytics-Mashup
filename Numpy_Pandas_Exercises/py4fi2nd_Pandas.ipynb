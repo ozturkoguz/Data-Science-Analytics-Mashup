{
  "nbformat": 4,
  "nbformat_minor": 0,
  "metadata": {
    "anaconda-cloud": {},
    "kernelspec": {
      "display_name": "Python 3",
      "language": "python",
      "name": "python3"
    },
    "language_info": {
      "codemirror_mode": {
        "name": "ipython",
        "version": 3
      },
      "file_extension": ".py",
      "mimetype": "text/x-python",
      "name": "python",
      "nbconvert_exporter": "python",
      "pygments_lexer": "ipython3",
      "version": "3.6.7"
    },
    "colab": {
      "name": "05_pandas.ipynb",
      "provenance": []
    }
  },
  "cells": [
    {
      "cell_type": "markdown",
      "metadata": {
        "id": "dbkNSLekVChf",
        "colab_type": "text"
      },
      "source": [
        "<img src=\"http://hilpisch.com/tpq_logo.png\" alt=\"The Python Quants\" width=\"35%\" align=\"right\" border=\"0\"><br>"
      ]
    },
    {
      "cell_type": "markdown",
      "metadata": {
        "id": "keI45ozVVChh",
        "colab_type": "text"
      },
      "source": [
        "# Python for Finance (2nd ed.)\n",
        "\n",
        "**Mastering Data-Driven Finance**\n",
        "\n",
        "&copy; Dr. Yves J. Hilpisch | The Python Quants GmbH\n",
        "\n",
        "<img src=\"http://hilpisch.com/images/py4fi_2nd_shadow.png\" width=\"300px\" align=\"left\">"
      ]
    },
    {
      "cell_type": "markdown",
      "metadata": {
        "id": "xEn1dD85VChi",
        "colab_type": "text"
      },
      "source": [
        "# Data Analysis with pandas"
      ]
    },
    {
      "cell_type": "markdown",
      "metadata": {
        "id": "r6qJUBguVChk",
        "colab_type": "text"
      },
      "source": [
        "## pandas Basics"
      ]
    },
    {
      "cell_type": "markdown",
      "metadata": {
        "id": "nAxCdXXHVChl",
        "colab_type": "text"
      },
      "source": [
        "### First Steps with DataFrame Class"
      ]
    },
    {
      "cell_type": "code",
      "metadata": {
        "uuid": "eda2a742-134d-4d47-8b30-557b846b9bb3",
        "id": "7ZK6bVjZVChm",
        "colab_type": "code",
        "colab": {}
      },
      "source": [
        "import pandas as pd  "
      ],
      "execution_count": 0,
      "outputs": []
    },
    {
      "cell_type": "code",
      "metadata": {
        "id": "comJaNvAVChu",
        "colab_type": "code",
        "colab": {}
      },
      "source": [
        "df = pd.DataFrame([10, 20, 30, 40],  \n",
        "                  columns=['numbers'],  \n",
        "                  index=['a', 'b', 'c', 'd'])  "
      ],
      "execution_count": 0,
      "outputs": []
    },
    {
      "cell_type": "code",
      "metadata": {
        "uuid": "f3be2d89-829a-49b2-96fc-07c475db1e3f",
        "id": "Qjaa945CVChz",
        "colab_type": "code",
        "colab": {},
        "outputId": "a554aac7-2711-49cf-f15a-d92edeeadedd"
      },
      "source": [
        "df  "
      ],
      "execution_count": 0,
      "outputs": [
        {
          "output_type": "execute_result",
          "data": {
            "text/html": [
              "<div>\n",
              "<style scoped>\n",
              "    .dataframe tbody tr th:only-of-type {\n",
              "        vertical-align: middle;\n",
              "    }\n",
              "\n",
              "    .dataframe tbody tr th {\n",
              "        vertical-align: top;\n",
              "    }\n",
              "\n",
              "    .dataframe thead th {\n",
              "        text-align: right;\n",
              "    }\n",
              "</style>\n",
              "<table border=\"1\" class=\"dataframe\">\n",
              "  <thead>\n",
              "    <tr style=\"text-align: right;\">\n",
              "      <th></th>\n",
              "      <th>numbers</th>\n",
              "    </tr>\n",
              "  </thead>\n",
              "  <tbody>\n",
              "    <tr>\n",
              "      <th>a</th>\n",
              "      <td>10</td>\n",
              "    </tr>\n",
              "    <tr>\n",
              "      <th>b</th>\n",
              "      <td>20</td>\n",
              "    </tr>\n",
              "    <tr>\n",
              "      <th>c</th>\n",
              "      <td>30</td>\n",
              "    </tr>\n",
              "    <tr>\n",
              "      <th>d</th>\n",
              "      <td>40</td>\n",
              "    </tr>\n",
              "  </tbody>\n",
              "</table>\n",
              "</div>"
            ],
            "text/plain": [
              "   numbers\n",
              "a       10\n",
              "b       20\n",
              "c       30\n",
              "d       40"
            ]
          },
          "metadata": {
            "tags": []
          },
          "execution_count": 3
        }
      ]
    },
    {
      "cell_type": "code",
      "metadata": {
        "uuid": "47b70a7b-710f-4c40-9a70-b09db7af1a12",
        "id": "vVitWGkhVCh6",
        "colab_type": "code",
        "colab": {},
        "outputId": "5c5dc8fc-ed04-4389-f4ae-08bd801e4464"
      },
      "source": [
        "df.index  "
      ],
      "execution_count": 0,
      "outputs": [
        {
          "output_type": "execute_result",
          "data": {
            "text/plain": [
              "Index(['a', 'b', 'c', 'd'], dtype='object')"
            ]
          },
          "metadata": {
            "tags": []
          },
          "execution_count": 4
        }
      ]
    },
    {
      "cell_type": "code",
      "metadata": {
        "uuid": "a36c6695-520d-4df1-a6fa-5f8362af37a3",
        "id": "-4N2uWv8VCh_",
        "colab_type": "code",
        "colab": {},
        "outputId": "0bbba476-f527-40d5-8749-7afca175cfe1"
      },
      "source": [
        "df.columns  "
      ],
      "execution_count": 0,
      "outputs": [
        {
          "output_type": "execute_result",
          "data": {
            "text/plain": [
              "Index(['numbers'], dtype='object')"
            ]
          },
          "metadata": {
            "tags": []
          },
          "execution_count": 5
        }
      ]
    },
    {
      "cell_type": "code",
      "metadata": {
        "uuid": "c93aed37-21de-429d-86ed-9849e4c3e23c",
        "id": "I67OKiScVCiC",
        "colab_type": "code",
        "colab": {},
        "outputId": "45239d9e-22ed-4159-b8e3-f56c6ddaebcc"
      },
      "source": [
        "df.loc['c']  "
      ],
      "execution_count": 0,
      "outputs": [
        {
          "output_type": "execute_result",
          "data": {
            "text/plain": [
              "numbers    30\n",
              "Name: c, dtype: int64"
            ]
          },
          "metadata": {
            "tags": []
          },
          "execution_count": 6
        }
      ]
    },
    {
      "cell_type": "code",
      "metadata": {
        "uuid": "8c7c2f69-3673-40d9-a568-0471c629810d",
        "id": "UFMT012QVCiG",
        "colab_type": "code",
        "colab": {},
        "outputId": "d2d8c3f4-f263-4f88-ac46-fc69ff886d1a"
      },
      "source": [
        "df.loc[['a', 'd']]  "
      ],
      "execution_count": 0,
      "outputs": [
        {
          "output_type": "execute_result",
          "data": {
            "text/html": [
              "<div>\n",
              "<style scoped>\n",
              "    .dataframe tbody tr th:only-of-type {\n",
              "        vertical-align: middle;\n",
              "    }\n",
              "\n",
              "    .dataframe tbody tr th {\n",
              "        vertical-align: top;\n",
              "    }\n",
              "\n",
              "    .dataframe thead th {\n",
              "        text-align: right;\n",
              "    }\n",
              "</style>\n",
              "<table border=\"1\" class=\"dataframe\">\n",
              "  <thead>\n",
              "    <tr style=\"text-align: right;\">\n",
              "      <th></th>\n",
              "      <th>numbers</th>\n",
              "    </tr>\n",
              "  </thead>\n",
              "  <tbody>\n",
              "    <tr>\n",
              "      <th>a</th>\n",
              "      <td>10</td>\n",
              "    </tr>\n",
              "    <tr>\n",
              "      <th>d</th>\n",
              "      <td>40</td>\n",
              "    </tr>\n",
              "  </tbody>\n",
              "</table>\n",
              "</div>"
            ],
            "text/plain": [
              "   numbers\n",
              "a       10\n",
              "d       40"
            ]
          },
          "metadata": {
            "tags": []
          },
          "execution_count": 7
        }
      ]
    },
    {
      "cell_type": "code",
      "metadata": {
        "uuid": "c3ce0cc3-26e8-4256-ab8c-9a2d4b181633",
        "id": "XYerWI72VCiJ",
        "colab_type": "code",
        "colab": {},
        "outputId": "15f7489f-c058-403e-ee66-9e53784e6a25"
      },
      "source": [
        "df.iloc[1:3]  "
      ],
      "execution_count": 0,
      "outputs": [
        {
          "output_type": "execute_result",
          "data": {
            "text/html": [
              "<div>\n",
              "<style scoped>\n",
              "    .dataframe tbody tr th:only-of-type {\n",
              "        vertical-align: middle;\n",
              "    }\n",
              "\n",
              "    .dataframe tbody tr th {\n",
              "        vertical-align: top;\n",
              "    }\n",
              "\n",
              "    .dataframe thead th {\n",
              "        text-align: right;\n",
              "    }\n",
              "</style>\n",
              "<table border=\"1\" class=\"dataframe\">\n",
              "  <thead>\n",
              "    <tr style=\"text-align: right;\">\n",
              "      <th></th>\n",
              "      <th>numbers</th>\n",
              "    </tr>\n",
              "  </thead>\n",
              "  <tbody>\n",
              "    <tr>\n",
              "      <th>b</th>\n",
              "      <td>20</td>\n",
              "    </tr>\n",
              "    <tr>\n",
              "      <th>c</th>\n",
              "      <td>30</td>\n",
              "    </tr>\n",
              "  </tbody>\n",
              "</table>\n",
              "</div>"
            ],
            "text/plain": [
              "   numbers\n",
              "b       20\n",
              "c       30"
            ]
          },
          "metadata": {
            "tags": []
          },
          "execution_count": 8
        }
      ]
    },
    {
      "cell_type": "code",
      "metadata": {
        "uuid": "94b1d846-63df-49f4-8a7f-8fed03e5f4fa",
        "id": "xDgrYbdOVCiL",
        "colab_type": "code",
        "colab": {},
        "outputId": "7e055561-eb3e-45a2-cead-e5c0a1f983e7"
      },
      "source": [
        "df.sum()  "
      ],
      "execution_count": 0,
      "outputs": [
        {
          "output_type": "execute_result",
          "data": {
            "text/plain": [
              "numbers    100\n",
              "dtype: int64"
            ]
          },
          "metadata": {
            "tags": []
          },
          "execution_count": 9
        }
      ]
    },
    {
      "cell_type": "code",
      "metadata": {
        "uuid": "4e73eb4f-352d-4527-b0c5-4f3a6e7eb354",
        "id": "aGU9n8YCVCiQ",
        "colab_type": "code",
        "colab": {},
        "outputId": "b05242ce-1700-483f-823a-948f5ef3c0ab"
      },
      "source": [
        "df.apply(lambda x: x ** 2)  "
      ],
      "execution_count": 0,
      "outputs": [
        {
          "output_type": "execute_result",
          "data": {
            "text/html": [
              "<div>\n",
              "<style scoped>\n",
              "    .dataframe tbody tr th:only-of-type {\n",
              "        vertical-align: middle;\n",
              "    }\n",
              "\n",
              "    .dataframe tbody tr th {\n",
              "        vertical-align: top;\n",
              "    }\n",
              "\n",
              "    .dataframe thead th {\n",
              "        text-align: right;\n",
              "    }\n",
              "</style>\n",
              "<table border=\"1\" class=\"dataframe\">\n",
              "  <thead>\n",
              "    <tr style=\"text-align: right;\">\n",
              "      <th></th>\n",
              "      <th>numbers</th>\n",
              "    </tr>\n",
              "  </thead>\n",
              "  <tbody>\n",
              "    <tr>\n",
              "      <th>a</th>\n",
              "      <td>100</td>\n",
              "    </tr>\n",
              "    <tr>\n",
              "      <th>b</th>\n",
              "      <td>400</td>\n",
              "    </tr>\n",
              "    <tr>\n",
              "      <th>c</th>\n",
              "      <td>900</td>\n",
              "    </tr>\n",
              "    <tr>\n",
              "      <th>d</th>\n",
              "      <td>1600</td>\n",
              "    </tr>\n",
              "  </tbody>\n",
              "</table>\n",
              "</div>"
            ],
            "text/plain": [
              "   numbers\n",
              "a      100\n",
              "b      400\n",
              "c      900\n",
              "d     1600"
            ]
          },
          "metadata": {
            "tags": []
          },
          "execution_count": 10
        }
      ]
    },
    {
      "cell_type": "code",
      "metadata": {
        "uuid": "75206a83-0154-4be2-88d0-7a82a190fda1",
        "id": "QXmhB3B5VCiU",
        "colab_type": "code",
        "colab": {},
        "outputId": "9fd51558-8a81-4c44-d73a-435213ff8faa"
      },
      "source": [
        "df ** 2  "
      ],
      "execution_count": 0,
      "outputs": [
        {
          "output_type": "execute_result",
          "data": {
            "text/html": [
              "<div>\n",
              "<style scoped>\n",
              "    .dataframe tbody tr th:only-of-type {\n",
              "        vertical-align: middle;\n",
              "    }\n",
              "\n",
              "    .dataframe tbody tr th {\n",
              "        vertical-align: top;\n",
              "    }\n",
              "\n",
              "    .dataframe thead th {\n",
              "        text-align: right;\n",
              "    }\n",
              "</style>\n",
              "<table border=\"1\" class=\"dataframe\">\n",
              "  <thead>\n",
              "    <tr style=\"text-align: right;\">\n",
              "      <th></th>\n",
              "      <th>numbers</th>\n",
              "    </tr>\n",
              "  </thead>\n",
              "  <tbody>\n",
              "    <tr>\n",
              "      <th>a</th>\n",
              "      <td>100</td>\n",
              "    </tr>\n",
              "    <tr>\n",
              "      <th>b</th>\n",
              "      <td>400</td>\n",
              "    </tr>\n",
              "    <tr>\n",
              "      <th>c</th>\n",
              "      <td>900</td>\n",
              "    </tr>\n",
              "    <tr>\n",
              "      <th>d</th>\n",
              "      <td>1600</td>\n",
              "    </tr>\n",
              "  </tbody>\n",
              "</table>\n",
              "</div>"
            ],
            "text/plain": [
              "   numbers\n",
              "a      100\n",
              "b      400\n",
              "c      900\n",
              "d     1600"
            ]
          },
          "metadata": {
            "tags": []
          },
          "execution_count": 11
        }
      ]
    },
    {
      "cell_type": "code",
      "metadata": {
        "id": "CJZyX4S3VCiX",
        "colab_type": "code",
        "colab": {}
      },
      "source": [
        "df['floats'] = (1.5, 2.5, 3.5, 4.5)  "
      ],
      "execution_count": 0,
      "outputs": []
    },
    {
      "cell_type": "code",
      "metadata": {
        "uuid": "49a2633a-b3c0-4d00-a227-e0ff4a8cf81d",
        "id": "IfKnosSZVCia",
        "colab_type": "code",
        "colab": {},
        "outputId": "26c3c780-aaa5-42f6-ffee-0206dd9f983e"
      },
      "source": [
        "df"
      ],
      "execution_count": 0,
      "outputs": [
        {
          "output_type": "execute_result",
          "data": {
            "text/html": [
              "<div>\n",
              "<style scoped>\n",
              "    .dataframe tbody tr th:only-of-type {\n",
              "        vertical-align: middle;\n",
              "    }\n",
              "\n",
              "    .dataframe tbody tr th {\n",
              "        vertical-align: top;\n",
              "    }\n",
              "\n",
              "    .dataframe thead th {\n",
              "        text-align: right;\n",
              "    }\n",
              "</style>\n",
              "<table border=\"1\" class=\"dataframe\">\n",
              "  <thead>\n",
              "    <tr style=\"text-align: right;\">\n",
              "      <th></th>\n",
              "      <th>numbers</th>\n",
              "      <th>floats</th>\n",
              "    </tr>\n",
              "  </thead>\n",
              "  <tbody>\n",
              "    <tr>\n",
              "      <th>a</th>\n",
              "      <td>10</td>\n",
              "      <td>1.5</td>\n",
              "    </tr>\n",
              "    <tr>\n",
              "      <th>b</th>\n",
              "      <td>20</td>\n",
              "      <td>2.5</td>\n",
              "    </tr>\n",
              "    <tr>\n",
              "      <th>c</th>\n",
              "      <td>30</td>\n",
              "      <td>3.5</td>\n",
              "    </tr>\n",
              "    <tr>\n",
              "      <th>d</th>\n",
              "      <td>40</td>\n",
              "      <td>4.5</td>\n",
              "    </tr>\n",
              "  </tbody>\n",
              "</table>\n",
              "</div>"
            ],
            "text/plain": [
              "   numbers  floats\n",
              "a       10     1.5\n",
              "b       20     2.5\n",
              "c       30     3.5\n",
              "d       40     4.5"
            ]
          },
          "metadata": {
            "tags": []
          },
          "execution_count": 13
        }
      ]
    },
    {
      "cell_type": "code",
      "metadata": {
        "uuid": "c49b9aea-417a-4c2b-8e27-0e8771a77c87",
        "id": "ay8K9ZfYVCic",
        "colab_type": "code",
        "colab": {},
        "outputId": "4c0e586f-ad80-455c-9520-2fe27049f224"
      },
      "source": [
        "df['floats']  "
      ],
      "execution_count": 0,
      "outputs": [
        {
          "output_type": "execute_result",
          "data": {
            "text/plain": [
              "a    1.5\n",
              "b    2.5\n",
              "c    3.5\n",
              "d    4.5\n",
              "Name: floats, dtype: float64"
            ]
          },
          "metadata": {
            "tags": []
          },
          "execution_count": 14
        }
      ]
    },
    {
      "cell_type": "code",
      "metadata": {
        "id": "Tcu02gKzVCif",
        "colab_type": "code",
        "colab": {}
      },
      "source": [
        "df['names'] = pd.DataFrame(['Yves', 'Sandra', 'Lilli', 'Henry'],\n",
        "                           index=['d', 'a', 'b', 'c'])  "
      ],
      "execution_count": 0,
      "outputs": []
    },
    {
      "cell_type": "code",
      "metadata": {
        "uuid": "aa892c41-6637-45ed-876b-6a70285e4c0b",
        "id": "fA2iOPsEVCih",
        "colab_type": "code",
        "colab": {},
        "outputId": "b0b046be-0ef2-4471-c1b3-227fe4e75e1a"
      },
      "source": [
        "df"
      ],
      "execution_count": 0,
      "outputs": [
        {
          "output_type": "execute_result",
          "data": {
            "text/html": [
              "<div>\n",
              "<style scoped>\n",
              "    .dataframe tbody tr th:only-of-type {\n",
              "        vertical-align: middle;\n",
              "    }\n",
              "\n",
              "    .dataframe tbody tr th {\n",
              "        vertical-align: top;\n",
              "    }\n",
              "\n",
              "    .dataframe thead th {\n",
              "        text-align: right;\n",
              "    }\n",
              "</style>\n",
              "<table border=\"1\" class=\"dataframe\">\n",
              "  <thead>\n",
              "    <tr style=\"text-align: right;\">\n",
              "      <th></th>\n",
              "      <th>numbers</th>\n",
              "      <th>floats</th>\n",
              "      <th>names</th>\n",
              "    </tr>\n",
              "  </thead>\n",
              "  <tbody>\n",
              "    <tr>\n",
              "      <th>a</th>\n",
              "      <td>10</td>\n",
              "      <td>1.5</td>\n",
              "      <td>Sandra</td>\n",
              "    </tr>\n",
              "    <tr>\n",
              "      <th>b</th>\n",
              "      <td>20</td>\n",
              "      <td>2.5</td>\n",
              "      <td>Lilli</td>\n",
              "    </tr>\n",
              "    <tr>\n",
              "      <th>c</th>\n",
              "      <td>30</td>\n",
              "      <td>3.5</td>\n",
              "      <td>Henry</td>\n",
              "    </tr>\n",
              "    <tr>\n",
              "      <th>d</th>\n",
              "      <td>40</td>\n",
              "      <td>4.5</td>\n",
              "      <td>Yves</td>\n",
              "    </tr>\n",
              "  </tbody>\n",
              "</table>\n",
              "</div>"
            ],
            "text/plain": [
              "   numbers  floats   names\n",
              "a       10     1.5  Sandra\n",
              "b       20     2.5   Lilli\n",
              "c       30     3.5   Henry\n",
              "d       40     4.5    Yves"
            ]
          },
          "metadata": {
            "tags": []
          },
          "execution_count": 16
        }
      ]
    },
    {
      "cell_type": "code",
      "metadata": {
        "uuid": "584ac18c-161f-4c7b-8ff1-1cd406fb8437",
        "id": "a_FQU5HTVCil",
        "colab_type": "code",
        "colab": {},
        "outputId": "42db255b-6b0b-47f6-c603-aeccbaf006b3"
      },
      "source": [
        "df.append({'numbers': 100, 'floats': 5.75, 'names': 'Jil'},\n",
        "               ignore_index=True)  "
      ],
      "execution_count": 0,
      "outputs": [
        {
          "output_type": "execute_result",
          "data": {
            "text/html": [
              "<div>\n",
              "<style scoped>\n",
              "    .dataframe tbody tr th:only-of-type {\n",
              "        vertical-align: middle;\n",
              "    }\n",
              "\n",
              "    .dataframe tbody tr th {\n",
              "        vertical-align: top;\n",
              "    }\n",
              "\n",
              "    .dataframe thead th {\n",
              "        text-align: right;\n",
              "    }\n",
              "</style>\n",
              "<table border=\"1\" class=\"dataframe\">\n",
              "  <thead>\n",
              "    <tr style=\"text-align: right;\">\n",
              "      <th></th>\n",
              "      <th>numbers</th>\n",
              "      <th>floats</th>\n",
              "      <th>names</th>\n",
              "    </tr>\n",
              "  </thead>\n",
              "  <tbody>\n",
              "    <tr>\n",
              "      <th>0</th>\n",
              "      <td>10</td>\n",
              "      <td>1.50</td>\n",
              "      <td>Sandra</td>\n",
              "    </tr>\n",
              "    <tr>\n",
              "      <th>1</th>\n",
              "      <td>20</td>\n",
              "      <td>2.50</td>\n",
              "      <td>Lilli</td>\n",
              "    </tr>\n",
              "    <tr>\n",
              "      <th>2</th>\n",
              "      <td>30</td>\n",
              "      <td>3.50</td>\n",
              "      <td>Henry</td>\n",
              "    </tr>\n",
              "    <tr>\n",
              "      <th>3</th>\n",
              "      <td>40</td>\n",
              "      <td>4.50</td>\n",
              "      <td>Yves</td>\n",
              "    </tr>\n",
              "    <tr>\n",
              "      <th>4</th>\n",
              "      <td>100</td>\n",
              "      <td>5.75</td>\n",
              "      <td>Jil</td>\n",
              "    </tr>\n",
              "  </tbody>\n",
              "</table>\n",
              "</div>"
            ],
            "text/plain": [
              "   numbers  floats   names\n",
              "0       10    1.50  Sandra\n",
              "1       20    2.50   Lilli\n",
              "2       30    3.50   Henry\n",
              "3       40    4.50    Yves\n",
              "4      100    5.75     Jil"
            ]
          },
          "metadata": {
            "tags": []
          },
          "execution_count": 17
        }
      ]
    },
    {
      "cell_type": "code",
      "metadata": {
        "id": "-wXWduwxVCio",
        "colab_type": "code",
        "colab": {}
      },
      "source": [
        "df = df.append(pd.DataFrame({'numbers': 100, 'floats': 5.75,\n",
        "                             'names': 'Jil'}, index=['y',]))  "
      ],
      "execution_count": 0,
      "outputs": []
    },
    {
      "cell_type": "code",
      "metadata": {
        "uuid": "9068cd04-c6ff-4d0c-bd52-cf04cd89a0e9",
        "id": "Mux_0MVPVCiq",
        "colab_type": "code",
        "colab": {},
        "outputId": "4f560095-0d30-4041-c0fd-4299719702ef"
      },
      "source": [
        "df"
      ],
      "execution_count": 0,
      "outputs": [
        {
          "output_type": "execute_result",
          "data": {
            "text/html": [
              "<div>\n",
              "<style scoped>\n",
              "    .dataframe tbody tr th:only-of-type {\n",
              "        vertical-align: middle;\n",
              "    }\n",
              "\n",
              "    .dataframe tbody tr th {\n",
              "        vertical-align: top;\n",
              "    }\n",
              "\n",
              "    .dataframe thead th {\n",
              "        text-align: right;\n",
              "    }\n",
              "</style>\n",
              "<table border=\"1\" class=\"dataframe\">\n",
              "  <thead>\n",
              "    <tr style=\"text-align: right;\">\n",
              "      <th></th>\n",
              "      <th>numbers</th>\n",
              "      <th>floats</th>\n",
              "      <th>names</th>\n",
              "    </tr>\n",
              "  </thead>\n",
              "  <tbody>\n",
              "    <tr>\n",
              "      <th>a</th>\n",
              "      <td>10</td>\n",
              "      <td>1.50</td>\n",
              "      <td>Sandra</td>\n",
              "    </tr>\n",
              "    <tr>\n",
              "      <th>b</th>\n",
              "      <td>20</td>\n",
              "      <td>2.50</td>\n",
              "      <td>Lilli</td>\n",
              "    </tr>\n",
              "    <tr>\n",
              "      <th>c</th>\n",
              "      <td>30</td>\n",
              "      <td>3.50</td>\n",
              "      <td>Henry</td>\n",
              "    </tr>\n",
              "    <tr>\n",
              "      <th>d</th>\n",
              "      <td>40</td>\n",
              "      <td>4.50</td>\n",
              "      <td>Yves</td>\n",
              "    </tr>\n",
              "    <tr>\n",
              "      <th>y</th>\n",
              "      <td>100</td>\n",
              "      <td>5.75</td>\n",
              "      <td>Jil</td>\n",
              "    </tr>\n",
              "  </tbody>\n",
              "</table>\n",
              "</div>"
            ],
            "text/plain": [
              "   numbers  floats   names\n",
              "a       10    1.50  Sandra\n",
              "b       20    2.50   Lilli\n",
              "c       30    3.50   Henry\n",
              "d       40    4.50    Yves\n",
              "y      100    5.75     Jil"
            ]
          },
          "metadata": {
            "tags": []
          },
          "execution_count": 19
        }
      ]
    },
    {
      "cell_type": "code",
      "metadata": {
        "id": "pnVs0tF5VCit",
        "colab_type": "code",
        "colab": {}
      },
      "source": [
        "df = df.append(pd.DataFrame({'names': 'Liz'}, index=['z',]), sort=False)  "
      ],
      "execution_count": 0,
      "outputs": []
    },
    {
      "cell_type": "code",
      "metadata": {
        "uuid": "9068cd04-c6ff-4d0c-bd52-cf04cd89a0e9",
        "id": "FG71FizkVCiv",
        "colab_type": "code",
        "colab": {},
        "outputId": "0db4f80f-acbf-41e4-e43a-fa9ed2762713"
      },
      "source": [
        "df"
      ],
      "execution_count": 0,
      "outputs": [
        {
          "output_type": "execute_result",
          "data": {
            "text/html": [
              "<div>\n",
              "<style scoped>\n",
              "    .dataframe tbody tr th:only-of-type {\n",
              "        vertical-align: middle;\n",
              "    }\n",
              "\n",
              "    .dataframe tbody tr th {\n",
              "        vertical-align: top;\n",
              "    }\n",
              "\n",
              "    .dataframe thead th {\n",
              "        text-align: right;\n",
              "    }\n",
              "</style>\n",
              "<table border=\"1\" class=\"dataframe\">\n",
              "  <thead>\n",
              "    <tr style=\"text-align: right;\">\n",
              "      <th></th>\n",
              "      <th>numbers</th>\n",
              "      <th>floats</th>\n",
              "      <th>names</th>\n",
              "    </tr>\n",
              "  </thead>\n",
              "  <tbody>\n",
              "    <tr>\n",
              "      <th>a</th>\n",
              "      <td>10.0</td>\n",
              "      <td>1.50</td>\n",
              "      <td>Sandra</td>\n",
              "    </tr>\n",
              "    <tr>\n",
              "      <th>b</th>\n",
              "      <td>20.0</td>\n",
              "      <td>2.50</td>\n",
              "      <td>Lilli</td>\n",
              "    </tr>\n",
              "    <tr>\n",
              "      <th>c</th>\n",
              "      <td>30.0</td>\n",
              "      <td>3.50</td>\n",
              "      <td>Henry</td>\n",
              "    </tr>\n",
              "    <tr>\n",
              "      <th>d</th>\n",
              "      <td>40.0</td>\n",
              "      <td>4.50</td>\n",
              "      <td>Yves</td>\n",
              "    </tr>\n",
              "    <tr>\n",
              "      <th>y</th>\n",
              "      <td>100.0</td>\n",
              "      <td>5.75</td>\n",
              "      <td>Jil</td>\n",
              "    </tr>\n",
              "    <tr>\n",
              "      <th>z</th>\n",
              "      <td>NaN</td>\n",
              "      <td>NaN</td>\n",
              "      <td>Liz</td>\n",
              "    </tr>\n",
              "  </tbody>\n",
              "</table>\n",
              "</div>"
            ],
            "text/plain": [
              "   numbers  floats   names\n",
              "a     10.0    1.50  Sandra\n",
              "b     20.0    2.50   Lilli\n",
              "c     30.0    3.50   Henry\n",
              "d     40.0    4.50    Yves\n",
              "y    100.0    5.75     Jil\n",
              "z      NaN     NaN     Liz"
            ]
          },
          "metadata": {
            "tags": []
          },
          "execution_count": 21
        }
      ]
    },
    {
      "cell_type": "code",
      "metadata": {
        "id": "eGd-KmwuVCiy",
        "colab_type": "code",
        "colab": {},
        "outputId": "fcbcbe5c-8eaf-4512-9b4f-55f0b0100296"
      },
      "source": [
        "df.dtypes  "
      ],
      "execution_count": 0,
      "outputs": [
        {
          "output_type": "execute_result",
          "data": {
            "text/plain": [
              "numbers    float64\n",
              "floats     float64\n",
              "names       object\n",
              "dtype: object"
            ]
          },
          "metadata": {
            "tags": []
          },
          "execution_count": 22
        }
      ]
    },
    {
      "cell_type": "code",
      "metadata": {
        "uuid": "3e863c7f-7875-4911-997b-6e48123dc1e5",
        "id": "3hiowF-EVCi0",
        "colab_type": "code",
        "colab": {},
        "outputId": "49b18fc3-4ef4-424b-dc17-3449e1b9c2c1"
      },
      "source": [
        "df[['numbers', 'floats']].mean()  "
      ],
      "execution_count": 0,
      "outputs": [
        {
          "output_type": "execute_result",
          "data": {
            "text/plain": [
              "numbers    40.00\n",
              "floats      3.55\n",
              "dtype: float64"
            ]
          },
          "metadata": {
            "tags": []
          },
          "execution_count": 23
        }
      ]
    },
    {
      "cell_type": "code",
      "metadata": {
        "uuid": "c52173a0-485d-4eb2-b6b4-407d1ff2c30e",
        "id": "gkK4V0iYVCi2",
        "colab_type": "code",
        "colab": {},
        "outputId": "21909955-70c6-4ce6-e9c9-bbae5c7c7291"
      },
      "source": [
        "df[['numbers', 'floats']].std()  "
      ],
      "execution_count": 0,
      "outputs": [
        {
          "output_type": "execute_result",
          "data": {
            "text/plain": [
              "numbers    35.355339\n",
              "floats      1.662077\n",
              "dtype: float64"
            ]
          },
          "metadata": {
            "tags": []
          },
          "execution_count": 24
        }
      ]
    },
    {
      "cell_type": "markdown",
      "metadata": {
        "id": "LjA4iOidVCi5",
        "colab_type": "text"
      },
      "source": [
        "### Second Steps with DataFrame Class"
      ]
    },
    {
      "cell_type": "code",
      "metadata": {
        "id": "Oae4AQXGVCi5",
        "colab_type": "code",
        "colab": {}
      },
      "source": [
        "import numpy as np"
      ],
      "execution_count": 0,
      "outputs": []
    },
    {
      "cell_type": "code",
      "metadata": {
        "id": "bwkK9cyoVCi8",
        "colab_type": "code",
        "colab": {}
      },
      "source": [
        "np.random.seed(100)"
      ],
      "execution_count": 0,
      "outputs": []
    },
    {
      "cell_type": "code",
      "metadata": {
        "id": "n_TgbHvuVCi-",
        "colab_type": "code",
        "colab": {}
      },
      "source": [
        "a = np.random.standard_normal((9, 4))"
      ],
      "execution_count": 0,
      "outputs": []
    },
    {
      "cell_type": "code",
      "metadata": {
        "uuid": "d6f56a00-91e6-4221-a1ec-6093f416d1be",
        "id": "VDV86T2fVCjA",
        "colab_type": "code",
        "colab": {},
        "outputId": "7955a5d5-d106-4942-a1aa-8c2eca1a45c3"
      },
      "source": [
        "a"
      ],
      "execution_count": 0,
      "outputs": [
        {
          "output_type": "execute_result",
          "data": {
            "text/plain": [
              "array([[-1.74976547,  0.3426804 ,  1.1530358 , -0.25243604],\n",
              "       [ 0.98132079,  0.51421884,  0.22117967, -1.07004333],\n",
              "       [-0.18949583,  0.25500144, -0.45802699,  0.43516349],\n",
              "       [-0.58359505,  0.81684707,  0.67272081, -0.10441114],\n",
              "       [-0.53128038,  1.02973269, -0.43813562, -1.11831825],\n",
              "       [ 1.61898166,  1.54160517, -0.25187914, -0.84243574],\n",
              "       [ 0.18451869,  0.9370822 ,  0.73100034,  1.36155613],\n",
              "       [-0.32623806,  0.05567601,  0.22239961, -1.443217  ],\n",
              "       [-0.75635231,  0.81645401,  0.75044476, -0.45594693]])"
            ]
          },
          "metadata": {
            "tags": []
          },
          "execution_count": 28
        }
      ]
    },
    {
      "cell_type": "code",
      "metadata": {
        "id": "dHF29QepVCjC",
        "colab_type": "code",
        "colab": {}
      },
      "source": [
        "df = pd.DataFrame(a)  "
      ],
      "execution_count": 0,
      "outputs": []
    },
    {
      "cell_type": "code",
      "metadata": {
        "uuid": "450bd14d-7668-4f3f-a863-966f13562818",
        "id": "YKhjLlXuVCjH",
        "colab_type": "code",
        "colab": {},
        "outputId": "f3323ed2-0baf-400e-fa66-16784af53ddc"
      },
      "source": [
        "df"
      ],
      "execution_count": 0,
      "outputs": [
        {
          "output_type": "execute_result",
          "data": {
            "text/html": [
              "<div>\n",
              "<style scoped>\n",
              "    .dataframe tbody tr th:only-of-type {\n",
              "        vertical-align: middle;\n",
              "    }\n",
              "\n",
              "    .dataframe tbody tr th {\n",
              "        vertical-align: top;\n",
              "    }\n",
              "\n",
              "    .dataframe thead th {\n",
              "        text-align: right;\n",
              "    }\n",
              "</style>\n",
              "<table border=\"1\" class=\"dataframe\">\n",
              "  <thead>\n",
              "    <tr style=\"text-align: right;\">\n",
              "      <th></th>\n",
              "      <th>0</th>\n",
              "      <th>1</th>\n",
              "      <th>2</th>\n",
              "      <th>3</th>\n",
              "    </tr>\n",
              "  </thead>\n",
              "  <tbody>\n",
              "    <tr>\n",
              "      <th>0</th>\n",
              "      <td>-1.749765</td>\n",
              "      <td>0.342680</td>\n",
              "      <td>1.153036</td>\n",
              "      <td>-0.252436</td>\n",
              "    </tr>\n",
              "    <tr>\n",
              "      <th>1</th>\n",
              "      <td>0.981321</td>\n",
              "      <td>0.514219</td>\n",
              "      <td>0.221180</td>\n",
              "      <td>-1.070043</td>\n",
              "    </tr>\n",
              "    <tr>\n",
              "      <th>2</th>\n",
              "      <td>-0.189496</td>\n",
              "      <td>0.255001</td>\n",
              "      <td>-0.458027</td>\n",
              "      <td>0.435163</td>\n",
              "    </tr>\n",
              "    <tr>\n",
              "      <th>3</th>\n",
              "      <td>-0.583595</td>\n",
              "      <td>0.816847</td>\n",
              "      <td>0.672721</td>\n",
              "      <td>-0.104411</td>\n",
              "    </tr>\n",
              "    <tr>\n",
              "      <th>4</th>\n",
              "      <td>-0.531280</td>\n",
              "      <td>1.029733</td>\n",
              "      <td>-0.438136</td>\n",
              "      <td>-1.118318</td>\n",
              "    </tr>\n",
              "    <tr>\n",
              "      <th>5</th>\n",
              "      <td>1.618982</td>\n",
              "      <td>1.541605</td>\n",
              "      <td>-0.251879</td>\n",
              "      <td>-0.842436</td>\n",
              "    </tr>\n",
              "    <tr>\n",
              "      <th>6</th>\n",
              "      <td>0.184519</td>\n",
              "      <td>0.937082</td>\n",
              "      <td>0.731000</td>\n",
              "      <td>1.361556</td>\n",
              "    </tr>\n",
              "    <tr>\n",
              "      <th>7</th>\n",
              "      <td>-0.326238</td>\n",
              "      <td>0.055676</td>\n",
              "      <td>0.222400</td>\n",
              "      <td>-1.443217</td>\n",
              "    </tr>\n",
              "    <tr>\n",
              "      <th>8</th>\n",
              "      <td>-0.756352</td>\n",
              "      <td>0.816454</td>\n",
              "      <td>0.750445</td>\n",
              "      <td>-0.455947</td>\n",
              "    </tr>\n",
              "  </tbody>\n",
              "</table>\n",
              "</div>"
            ],
            "text/plain": [
              "          0         1         2         3\n",
              "0 -1.749765  0.342680  1.153036 -0.252436\n",
              "1  0.981321  0.514219  0.221180 -1.070043\n",
              "2 -0.189496  0.255001 -0.458027  0.435163\n",
              "3 -0.583595  0.816847  0.672721 -0.104411\n",
              "4 -0.531280  1.029733 -0.438136 -1.118318\n",
              "5  1.618982  1.541605 -0.251879 -0.842436\n",
              "6  0.184519  0.937082  0.731000  1.361556\n",
              "7 -0.326238  0.055676  0.222400 -1.443217\n",
              "8 -0.756352  0.816454  0.750445 -0.455947"
            ]
          },
          "metadata": {
            "tags": []
          },
          "execution_count": 30
        }
      ]
    },
    {
      "cell_type": "code",
      "metadata": {
        "id": "w97MVlKwVCjJ",
        "colab_type": "code",
        "colab": {}
      },
      "source": [
        "df.columns = ['No1', 'No2', 'No3', 'No4']  "
      ],
      "execution_count": 0,
      "outputs": []
    },
    {
      "cell_type": "code",
      "metadata": {
        "uuid": "968395a4-12bc-46d2-b486-6c767abce366",
        "id": "jjOtEUF5VCjM",
        "colab_type": "code",
        "colab": {},
        "outputId": "34ff2c49-44d0-43a7-dc4f-3828ab041135"
      },
      "source": [
        "df"
      ],
      "execution_count": 0,
      "outputs": [
        {
          "output_type": "execute_result",
          "data": {
            "text/html": [
              "<div>\n",
              "<style scoped>\n",
              "    .dataframe tbody tr th:only-of-type {\n",
              "        vertical-align: middle;\n",
              "    }\n",
              "\n",
              "    .dataframe tbody tr th {\n",
              "        vertical-align: top;\n",
              "    }\n",
              "\n",
              "    .dataframe thead th {\n",
              "        text-align: right;\n",
              "    }\n",
              "</style>\n",
              "<table border=\"1\" class=\"dataframe\">\n",
              "  <thead>\n",
              "    <tr style=\"text-align: right;\">\n",
              "      <th></th>\n",
              "      <th>No1</th>\n",
              "      <th>No2</th>\n",
              "      <th>No3</th>\n",
              "      <th>No4</th>\n",
              "    </tr>\n",
              "  </thead>\n",
              "  <tbody>\n",
              "    <tr>\n",
              "      <th>0</th>\n",
              "      <td>-1.749765</td>\n",
              "      <td>0.342680</td>\n",
              "      <td>1.153036</td>\n",
              "      <td>-0.252436</td>\n",
              "    </tr>\n",
              "    <tr>\n",
              "      <th>1</th>\n",
              "      <td>0.981321</td>\n",
              "      <td>0.514219</td>\n",
              "      <td>0.221180</td>\n",
              "      <td>-1.070043</td>\n",
              "    </tr>\n",
              "    <tr>\n",
              "      <th>2</th>\n",
              "      <td>-0.189496</td>\n",
              "      <td>0.255001</td>\n",
              "      <td>-0.458027</td>\n",
              "      <td>0.435163</td>\n",
              "    </tr>\n",
              "    <tr>\n",
              "      <th>3</th>\n",
              "      <td>-0.583595</td>\n",
              "      <td>0.816847</td>\n",
              "      <td>0.672721</td>\n",
              "      <td>-0.104411</td>\n",
              "    </tr>\n",
              "    <tr>\n",
              "      <th>4</th>\n",
              "      <td>-0.531280</td>\n",
              "      <td>1.029733</td>\n",
              "      <td>-0.438136</td>\n",
              "      <td>-1.118318</td>\n",
              "    </tr>\n",
              "    <tr>\n",
              "      <th>5</th>\n",
              "      <td>1.618982</td>\n",
              "      <td>1.541605</td>\n",
              "      <td>-0.251879</td>\n",
              "      <td>-0.842436</td>\n",
              "    </tr>\n",
              "    <tr>\n",
              "      <th>6</th>\n",
              "      <td>0.184519</td>\n",
              "      <td>0.937082</td>\n",
              "      <td>0.731000</td>\n",
              "      <td>1.361556</td>\n",
              "    </tr>\n",
              "    <tr>\n",
              "      <th>7</th>\n",
              "      <td>-0.326238</td>\n",
              "      <td>0.055676</td>\n",
              "      <td>0.222400</td>\n",
              "      <td>-1.443217</td>\n",
              "    </tr>\n",
              "    <tr>\n",
              "      <th>8</th>\n",
              "      <td>-0.756352</td>\n",
              "      <td>0.816454</td>\n",
              "      <td>0.750445</td>\n",
              "      <td>-0.455947</td>\n",
              "    </tr>\n",
              "  </tbody>\n",
              "</table>\n",
              "</div>"
            ],
            "text/plain": [
              "        No1       No2       No3       No4\n",
              "0 -1.749765  0.342680  1.153036 -0.252436\n",
              "1  0.981321  0.514219  0.221180 -1.070043\n",
              "2 -0.189496  0.255001 -0.458027  0.435163\n",
              "3 -0.583595  0.816847  0.672721 -0.104411\n",
              "4 -0.531280  1.029733 -0.438136 -1.118318\n",
              "5  1.618982  1.541605 -0.251879 -0.842436\n",
              "6  0.184519  0.937082  0.731000  1.361556\n",
              "7 -0.326238  0.055676  0.222400 -1.443217\n",
              "8 -0.756352  0.816454  0.750445 -0.455947"
            ]
          },
          "metadata": {
            "tags": []
          },
          "execution_count": 32
        }
      ]
    },
    {
      "cell_type": "code",
      "metadata": {
        "uuid": "68e8d73f-93d3-47ac-a656-1edbdebcd1ff",
        "id": "WifZRt2PVCjO",
        "colab_type": "code",
        "colab": {},
        "outputId": "58756f81-9e6f-42fc-f9b1-eb75c6d64459"
      },
      "source": [
        "df['No2'].mean()  "
      ],
      "execution_count": 0,
      "outputs": [
        {
          "output_type": "execute_result",
          "data": {
            "text/plain": [
              "0.7010330941456459"
            ]
          },
          "metadata": {
            "tags": []
          },
          "execution_count": 33
        }
      ]
    },
    {
      "cell_type": "code",
      "metadata": {
        "id": "WhbO_TLFVCjR",
        "colab_type": "code",
        "colab": {}
      },
      "source": [
        "dates = pd.date_range('2019-1-1', periods=9, freq='M')  "
      ],
      "execution_count": 0,
      "outputs": []
    },
    {
      "cell_type": "code",
      "metadata": {
        "uuid": "a80e1e88-d211-4ee4-a6d3-90403a7739a8",
        "id": "3CgeHJabVCjT",
        "colab_type": "code",
        "colab": {},
        "outputId": "50890b69-41b9-4731-abac-461074d9fa66"
      },
      "source": [
        "dates"
      ],
      "execution_count": 0,
      "outputs": [
        {
          "output_type": "execute_result",
          "data": {
            "text/plain": [
              "DatetimeIndex(['2019-01-31', '2019-02-28', '2019-03-31', '2019-04-30',\n",
              "               '2019-05-31', '2019-06-30', '2019-07-31', '2019-08-31',\n",
              "               '2019-09-30'],\n",
              "              dtype='datetime64[ns]', freq='M')"
            ]
          },
          "metadata": {
            "tags": []
          },
          "execution_count": 35
        }
      ]
    },
    {
      "cell_type": "code",
      "metadata": {
        "id": "43kmUmOKVCjW",
        "colab_type": "code",
        "colab": {}
      },
      "source": [
        "df.index = dates"
      ],
      "execution_count": 0,
      "outputs": []
    },
    {
      "cell_type": "code",
      "metadata": {
        "uuid": "d8fef9ed-25ca-4ae0-bd0c-026d340a903b",
        "id": "zw2beVIpVCjZ",
        "colab_type": "code",
        "colab": {},
        "outputId": "257b53ac-6f8a-43b1-a902-09741ec9c97b"
      },
      "source": [
        "df"
      ],
      "execution_count": 0,
      "outputs": [
        {
          "output_type": "execute_result",
          "data": {
            "text/html": [
              "<div>\n",
              "<style scoped>\n",
              "    .dataframe tbody tr th:only-of-type {\n",
              "        vertical-align: middle;\n",
              "    }\n",
              "\n",
              "    .dataframe tbody tr th {\n",
              "        vertical-align: top;\n",
              "    }\n",
              "\n",
              "    .dataframe thead th {\n",
              "        text-align: right;\n",
              "    }\n",
              "</style>\n",
              "<table border=\"1\" class=\"dataframe\">\n",
              "  <thead>\n",
              "    <tr style=\"text-align: right;\">\n",
              "      <th></th>\n",
              "      <th>No1</th>\n",
              "      <th>No2</th>\n",
              "      <th>No3</th>\n",
              "      <th>No4</th>\n",
              "    </tr>\n",
              "  </thead>\n",
              "  <tbody>\n",
              "    <tr>\n",
              "      <th>2019-01-31</th>\n",
              "      <td>-1.749765</td>\n",
              "      <td>0.342680</td>\n",
              "      <td>1.153036</td>\n",
              "      <td>-0.252436</td>\n",
              "    </tr>\n",
              "    <tr>\n",
              "      <th>2019-02-28</th>\n",
              "      <td>0.981321</td>\n",
              "      <td>0.514219</td>\n",
              "      <td>0.221180</td>\n",
              "      <td>-1.070043</td>\n",
              "    </tr>\n",
              "    <tr>\n",
              "      <th>2019-03-31</th>\n",
              "      <td>-0.189496</td>\n",
              "      <td>0.255001</td>\n",
              "      <td>-0.458027</td>\n",
              "      <td>0.435163</td>\n",
              "    </tr>\n",
              "    <tr>\n",
              "      <th>2019-04-30</th>\n",
              "      <td>-0.583595</td>\n",
              "      <td>0.816847</td>\n",
              "      <td>0.672721</td>\n",
              "      <td>-0.104411</td>\n",
              "    </tr>\n",
              "    <tr>\n",
              "      <th>2019-05-31</th>\n",
              "      <td>-0.531280</td>\n",
              "      <td>1.029733</td>\n",
              "      <td>-0.438136</td>\n",
              "      <td>-1.118318</td>\n",
              "    </tr>\n",
              "    <tr>\n",
              "      <th>2019-06-30</th>\n",
              "      <td>1.618982</td>\n",
              "      <td>1.541605</td>\n",
              "      <td>-0.251879</td>\n",
              "      <td>-0.842436</td>\n",
              "    </tr>\n",
              "    <tr>\n",
              "      <th>2019-07-31</th>\n",
              "      <td>0.184519</td>\n",
              "      <td>0.937082</td>\n",
              "      <td>0.731000</td>\n",
              "      <td>1.361556</td>\n",
              "    </tr>\n",
              "    <tr>\n",
              "      <th>2019-08-31</th>\n",
              "      <td>-0.326238</td>\n",
              "      <td>0.055676</td>\n",
              "      <td>0.222400</td>\n",
              "      <td>-1.443217</td>\n",
              "    </tr>\n",
              "    <tr>\n",
              "      <th>2019-09-30</th>\n",
              "      <td>-0.756352</td>\n",
              "      <td>0.816454</td>\n",
              "      <td>0.750445</td>\n",
              "      <td>-0.455947</td>\n",
              "    </tr>\n",
              "  </tbody>\n",
              "</table>\n",
              "</div>"
            ],
            "text/plain": [
              "                 No1       No2       No3       No4\n",
              "2019-01-31 -1.749765  0.342680  1.153036 -0.252436\n",
              "2019-02-28  0.981321  0.514219  0.221180 -1.070043\n",
              "2019-03-31 -0.189496  0.255001 -0.458027  0.435163\n",
              "2019-04-30 -0.583595  0.816847  0.672721 -0.104411\n",
              "2019-05-31 -0.531280  1.029733 -0.438136 -1.118318\n",
              "2019-06-30  1.618982  1.541605 -0.251879 -0.842436\n",
              "2019-07-31  0.184519  0.937082  0.731000  1.361556\n",
              "2019-08-31 -0.326238  0.055676  0.222400 -1.443217\n",
              "2019-09-30 -0.756352  0.816454  0.750445 -0.455947"
            ]
          },
          "metadata": {
            "tags": []
          },
          "execution_count": 37
        }
      ]
    },
    {
      "cell_type": "code",
      "metadata": {
        "uuid": "bcc38d60-3e1c-49bb-b883-ea7564c136b4",
        "id": "eLK_CB0vVCjb",
        "colab_type": "code",
        "colab": {},
        "outputId": "e31a60cb-9971-4011-8c43-068820b70cf1"
      },
      "source": [
        "df.values"
      ],
      "execution_count": 0,
      "outputs": [
        {
          "output_type": "execute_result",
          "data": {
            "text/plain": [
              "array([[-1.74976547,  0.3426804 ,  1.1530358 , -0.25243604],\n",
              "       [ 0.98132079,  0.51421884,  0.22117967, -1.07004333],\n",
              "       [-0.18949583,  0.25500144, -0.45802699,  0.43516349],\n",
              "       [-0.58359505,  0.81684707,  0.67272081, -0.10441114],\n",
              "       [-0.53128038,  1.02973269, -0.43813562, -1.11831825],\n",
              "       [ 1.61898166,  1.54160517, -0.25187914, -0.84243574],\n",
              "       [ 0.18451869,  0.9370822 ,  0.73100034,  1.36155613],\n",
              "       [-0.32623806,  0.05567601,  0.22239961, -1.443217  ],\n",
              "       [-0.75635231,  0.81645401,  0.75044476, -0.45594693]])"
            ]
          },
          "metadata": {
            "tags": []
          },
          "execution_count": 38
        }
      ]
    },
    {
      "cell_type": "code",
      "metadata": {
        "uuid": "bcc38d60-3e1c-49bb-b883-ea7564c136b4",
        "id": "D8_aYocvVCje",
        "colab_type": "code",
        "colab": {},
        "outputId": "c235d0d0-5c44-41f9-9d04-63fd21ab201e"
      },
      "source": [
        "np.array(df)"
      ],
      "execution_count": 0,
      "outputs": [
        {
          "output_type": "execute_result",
          "data": {
            "text/plain": [
              "array([[-1.74976547,  0.3426804 ,  1.1530358 , -0.25243604],\n",
              "       [ 0.98132079,  0.51421884,  0.22117967, -1.07004333],\n",
              "       [-0.18949583,  0.25500144, -0.45802699,  0.43516349],\n",
              "       [-0.58359505,  0.81684707,  0.67272081, -0.10441114],\n",
              "       [-0.53128038,  1.02973269, -0.43813562, -1.11831825],\n",
              "       [ 1.61898166,  1.54160517, -0.25187914, -0.84243574],\n",
              "       [ 0.18451869,  0.9370822 ,  0.73100034,  1.36155613],\n",
              "       [-0.32623806,  0.05567601,  0.22239961, -1.443217  ],\n",
              "       [-0.75635231,  0.81645401,  0.75044476, -0.45594693]])"
            ]
          },
          "metadata": {
            "tags": []
          },
          "execution_count": 39
        }
      ]
    },
    {
      "cell_type": "markdown",
      "metadata": {
        "id": "mp4XSrlOVCjg",
        "colab_type": "text"
      },
      "source": [
        "## Basic Analytics"
      ]
    },
    {
      "cell_type": "code",
      "metadata": {
        "id": "YDME5kCkVCjh",
        "colab_type": "code",
        "colab": {},
        "outputId": "ff01584b-e159-4661-b837-a77712e57171"
      },
      "source": [
        "df.info()  "
      ],
      "execution_count": 0,
      "outputs": [
        {
          "output_type": "stream",
          "text": [
            "<class 'pandas.core.frame.DataFrame'>\n",
            "DatetimeIndex: 9 entries, 2019-01-31 to 2019-09-30\n",
            "Freq: M\n",
            "Data columns (total 4 columns):\n",
            "No1    9 non-null float64\n",
            "No2    9 non-null float64\n",
            "No3    9 non-null float64\n",
            "No4    9 non-null float64\n",
            "dtypes: float64(4)\n",
            "memory usage: 360.0 bytes\n"
          ],
          "name": "stdout"
        }
      ]
    },
    {
      "cell_type": "code",
      "metadata": {
        "uuid": "125980cc-91ec-4ab4-9a4a-cfd772dd1254",
        "id": "YZEpQ3GpVCjk",
        "colab_type": "code",
        "colab": {},
        "outputId": "f49af7ae-c908-4272-a33d-d9ec6781bc8c"
      },
      "source": [
        "df.describe()  "
      ],
      "execution_count": 0,
      "outputs": [
        {
          "output_type": "execute_result",
          "data": {
            "text/html": [
              "<div>\n",
              "<style scoped>\n",
              "    .dataframe tbody tr th:only-of-type {\n",
              "        vertical-align: middle;\n",
              "    }\n",
              "\n",
              "    .dataframe tbody tr th {\n",
              "        vertical-align: top;\n",
              "    }\n",
              "\n",
              "    .dataframe thead th {\n",
              "        text-align: right;\n",
              "    }\n",
              "</style>\n",
              "<table border=\"1\" class=\"dataframe\">\n",
              "  <thead>\n",
              "    <tr style=\"text-align: right;\">\n",
              "      <th></th>\n",
              "      <th>No1</th>\n",
              "      <th>No2</th>\n",
              "      <th>No3</th>\n",
              "      <th>No4</th>\n",
              "    </tr>\n",
              "  </thead>\n",
              "  <tbody>\n",
              "    <tr>\n",
              "      <th>count</th>\n",
              "      <td>9.000000</td>\n",
              "      <td>9.000000</td>\n",
              "      <td>9.000000</td>\n",
              "      <td>9.000000</td>\n",
              "    </tr>\n",
              "    <tr>\n",
              "      <th>mean</th>\n",
              "      <td>-0.150212</td>\n",
              "      <td>0.701033</td>\n",
              "      <td>0.289193</td>\n",
              "      <td>-0.387788</td>\n",
              "    </tr>\n",
              "    <tr>\n",
              "      <th>std</th>\n",
              "      <td>0.988306</td>\n",
              "      <td>0.457685</td>\n",
              "      <td>0.579920</td>\n",
              "      <td>0.877532</td>\n",
              "    </tr>\n",
              "    <tr>\n",
              "      <th>min</th>\n",
              "      <td>-1.749765</td>\n",
              "      <td>0.055676</td>\n",
              "      <td>-0.458027</td>\n",
              "      <td>-1.443217</td>\n",
              "    </tr>\n",
              "    <tr>\n",
              "      <th>25%</th>\n",
              "      <td>-0.583595</td>\n",
              "      <td>0.342680</td>\n",
              "      <td>-0.251879</td>\n",
              "      <td>-1.070043</td>\n",
              "    </tr>\n",
              "    <tr>\n",
              "      <th>50%</th>\n",
              "      <td>-0.326238</td>\n",
              "      <td>0.816454</td>\n",
              "      <td>0.222400</td>\n",
              "      <td>-0.455947</td>\n",
              "    </tr>\n",
              "    <tr>\n",
              "      <th>75%</th>\n",
              "      <td>0.184519</td>\n",
              "      <td>0.937082</td>\n",
              "      <td>0.731000</td>\n",
              "      <td>-0.104411</td>\n",
              "    </tr>\n",
              "    <tr>\n",
              "      <th>max</th>\n",
              "      <td>1.618982</td>\n",
              "      <td>1.541605</td>\n",
              "      <td>1.153036</td>\n",
              "      <td>1.361556</td>\n",
              "    </tr>\n",
              "  </tbody>\n",
              "</table>\n",
              "</div>"
            ],
            "text/plain": [
              "            No1       No2       No3       No4\n",
              "count  9.000000  9.000000  9.000000  9.000000\n",
              "mean  -0.150212  0.701033  0.289193 -0.387788\n",
              "std    0.988306  0.457685  0.579920  0.877532\n",
              "min   -1.749765  0.055676 -0.458027 -1.443217\n",
              "25%   -0.583595  0.342680 -0.251879 -1.070043\n",
              "50%   -0.326238  0.816454  0.222400 -0.455947\n",
              "75%    0.184519  0.937082  0.731000 -0.104411\n",
              "max    1.618982  1.541605  1.153036  1.361556"
            ]
          },
          "metadata": {
            "tags": []
          },
          "execution_count": 41
        }
      ]
    },
    {
      "cell_type": "code",
      "metadata": {
        "uuid": "f760ea25-c64c-4e70-9f91-b72701d919ce",
        "id": "eP49vqftVCjn",
        "colab_type": "code",
        "colab": {},
        "outputId": "bbb3dcde-5470-4d7f-8cea-0e547d5f52b1"
      },
      "source": [
        "df.sum()  "
      ],
      "execution_count": 0,
      "outputs": [
        {
          "output_type": "execute_result",
          "data": {
            "text/plain": [
              "No1   -1.351906\n",
              "No2    6.309298\n",
              "No3    2.602739\n",
              "No4   -3.490089\n",
              "dtype: float64"
            ]
          },
          "metadata": {
            "tags": []
          },
          "execution_count": 42
        }
      ]
    },
    {
      "cell_type": "code",
      "metadata": {
        "uuid": "3dd9bd77-eb80-46cb-87f3-62c053a8e223",
        "id": "cHUmgTbnVCjq",
        "colab_type": "code",
        "colab": {},
        "outputId": "4c002bd9-b517-40eb-f3d1-05de952b9642"
      },
      "source": [
        "df.mean()  "
      ],
      "execution_count": 0,
      "outputs": [
        {
          "output_type": "execute_result",
          "data": {
            "text/plain": [
              "No1   -0.150212\n",
              "No2    0.701033\n",
              "No3    0.289193\n",
              "No4   -0.387788\n",
              "dtype: float64"
            ]
          },
          "metadata": {
            "tags": []
          },
          "execution_count": 43
        }
      ]
    },
    {
      "cell_type": "code",
      "metadata": {
        "uuid": "3dd9bd77-eb80-46cb-87f3-62c053a8e223",
        "id": "5m0Bf9W8VCjs",
        "colab_type": "code",
        "colab": {},
        "outputId": "e2b5e6c1-82cf-4959-84e8-7ef7cfe2c724"
      },
      "source": [
        "df.mean(axis=0)  "
      ],
      "execution_count": 0,
      "outputs": [
        {
          "output_type": "execute_result",
          "data": {
            "text/plain": [
              "No1   -0.150212\n",
              "No2    0.701033\n",
              "No3    0.289193\n",
              "No4   -0.387788\n",
              "dtype: float64"
            ]
          },
          "metadata": {
            "tags": []
          },
          "execution_count": 44
        }
      ]
    },
    {
      "cell_type": "code",
      "metadata": {
        "id": "JteGh6LzVCjx",
        "colab_type": "code",
        "colab": {},
        "outputId": "d5480467-fc98-47ca-ad71-a5f4779591fb"
      },
      "source": [
        "df.mean(axis=1)  "
      ],
      "execution_count": 0,
      "outputs": [
        {
          "output_type": "execute_result",
          "data": {
            "text/plain": [
              "2019-01-31   -0.126621\n",
              "2019-02-28    0.161669\n",
              "2019-03-31    0.010661\n",
              "2019-04-30    0.200390\n",
              "2019-05-31   -0.264500\n",
              "2019-06-30    0.516568\n",
              "2019-07-31    0.803539\n",
              "2019-08-31   -0.372845\n",
              "2019-09-30    0.088650\n",
              "Freq: M, dtype: float64"
            ]
          },
          "metadata": {
            "tags": []
          },
          "execution_count": 45
        }
      ]
    },
    {
      "cell_type": "code",
      "metadata": {
        "uuid": "8e167ea8-09b7-4585-8cac-28fe20eefe66",
        "id": "ifzjlhTFVCj0",
        "colab_type": "code",
        "colab": {},
        "outputId": "3414fcbe-27b9-4257-b221-83d6658470aa"
      },
      "source": [
        "df.cumsum()  "
      ],
      "execution_count": 0,
      "outputs": [
        {
          "output_type": "execute_result",
          "data": {
            "text/html": [
              "<div>\n",
              "<style scoped>\n",
              "    .dataframe tbody tr th:only-of-type {\n",
              "        vertical-align: middle;\n",
              "    }\n",
              "\n",
              "    .dataframe tbody tr th {\n",
              "        vertical-align: top;\n",
              "    }\n",
              "\n",
              "    .dataframe thead th {\n",
              "        text-align: right;\n",
              "    }\n",
              "</style>\n",
              "<table border=\"1\" class=\"dataframe\">\n",
              "  <thead>\n",
              "    <tr style=\"text-align: right;\">\n",
              "      <th></th>\n",
              "      <th>No1</th>\n",
              "      <th>No2</th>\n",
              "      <th>No3</th>\n",
              "      <th>No4</th>\n",
              "    </tr>\n",
              "  </thead>\n",
              "  <tbody>\n",
              "    <tr>\n",
              "      <th>2019-01-31</th>\n",
              "      <td>-1.749765</td>\n",
              "      <td>0.342680</td>\n",
              "      <td>1.153036</td>\n",
              "      <td>-0.252436</td>\n",
              "    </tr>\n",
              "    <tr>\n",
              "      <th>2019-02-28</th>\n",
              "      <td>-0.768445</td>\n",
              "      <td>0.856899</td>\n",
              "      <td>1.374215</td>\n",
              "      <td>-1.322479</td>\n",
              "    </tr>\n",
              "    <tr>\n",
              "      <th>2019-03-31</th>\n",
              "      <td>-0.957941</td>\n",
              "      <td>1.111901</td>\n",
              "      <td>0.916188</td>\n",
              "      <td>-0.887316</td>\n",
              "    </tr>\n",
              "    <tr>\n",
              "      <th>2019-04-30</th>\n",
              "      <td>-1.541536</td>\n",
              "      <td>1.928748</td>\n",
              "      <td>1.588909</td>\n",
              "      <td>-0.991727</td>\n",
              "    </tr>\n",
              "    <tr>\n",
              "      <th>2019-05-31</th>\n",
              "      <td>-2.072816</td>\n",
              "      <td>2.958480</td>\n",
              "      <td>1.150774</td>\n",
              "      <td>-2.110045</td>\n",
              "    </tr>\n",
              "    <tr>\n",
              "      <th>2019-06-30</th>\n",
              "      <td>-0.453834</td>\n",
              "      <td>4.500086</td>\n",
              "      <td>0.898895</td>\n",
              "      <td>-2.952481</td>\n",
              "    </tr>\n",
              "    <tr>\n",
              "      <th>2019-07-31</th>\n",
              "      <td>-0.269316</td>\n",
              "      <td>5.437168</td>\n",
              "      <td>1.629895</td>\n",
              "      <td>-1.590925</td>\n",
              "    </tr>\n",
              "    <tr>\n",
              "      <th>2019-08-31</th>\n",
              "      <td>-0.595554</td>\n",
              "      <td>5.492844</td>\n",
              "      <td>1.852294</td>\n",
              "      <td>-3.034142</td>\n",
              "    </tr>\n",
              "    <tr>\n",
              "      <th>2019-09-30</th>\n",
              "      <td>-1.351906</td>\n",
              "      <td>6.309298</td>\n",
              "      <td>2.602739</td>\n",
              "      <td>-3.490089</td>\n",
              "    </tr>\n",
              "  </tbody>\n",
              "</table>\n",
              "</div>"
            ],
            "text/plain": [
              "                 No1       No2       No3       No4\n",
              "2019-01-31 -1.749765  0.342680  1.153036 -0.252436\n",
              "2019-02-28 -0.768445  0.856899  1.374215 -1.322479\n",
              "2019-03-31 -0.957941  1.111901  0.916188 -0.887316\n",
              "2019-04-30 -1.541536  1.928748  1.588909 -0.991727\n",
              "2019-05-31 -2.072816  2.958480  1.150774 -2.110045\n",
              "2019-06-30 -0.453834  4.500086  0.898895 -2.952481\n",
              "2019-07-31 -0.269316  5.437168  1.629895 -1.590925\n",
              "2019-08-31 -0.595554  5.492844  1.852294 -3.034142\n",
              "2019-09-30 -1.351906  6.309298  2.602739 -3.490089"
            ]
          },
          "metadata": {
            "tags": []
          },
          "execution_count": 46
        }
      ]
    },
    {
      "cell_type": "code",
      "metadata": {
        "id": "08iuBMulVCj2",
        "colab_type": "code",
        "colab": {},
        "outputId": "1b1596b5-3d1b-4137-f6c2-fa93da82540e"
      },
      "source": [
        "np.mean(df)  "
      ],
      "execution_count": 0,
      "outputs": [
        {
          "output_type": "execute_result",
          "data": {
            "text/plain": [
              "No1   -0.150212\n",
              "No2    0.701033\n",
              "No3    0.289193\n",
              "No4   -0.387788\n",
              "dtype: float64"
            ]
          },
          "metadata": {
            "tags": []
          },
          "execution_count": 47
        }
      ]
    },
    {
      "cell_type": "code",
      "metadata": {
        "id": "SuSuTGDoVCj4",
        "colab_type": "code",
        "colab": {},
        "outputId": "2cbd4a42-6c8a-4689-da06-53dd5b3b16df"
      },
      "source": [
        "# raises warning\n",
        "np.log(df)  "
      ],
      "execution_count": 0,
      "outputs": [
        {
          "output_type": "stream",
          "text": [
            "/Users/yves/miniconda3/envs/py4fi2nd/lib/python3.6/site-packages/ipykernel_launcher.py:2: RuntimeWarning: invalid value encountered in log\n",
            "  \n"
          ],
          "name": "stderr"
        },
        {
          "output_type": "execute_result",
          "data": {
            "text/html": [
              "<div>\n",
              "<style scoped>\n",
              "    .dataframe tbody tr th:only-of-type {\n",
              "        vertical-align: middle;\n",
              "    }\n",
              "\n",
              "    .dataframe tbody tr th {\n",
              "        vertical-align: top;\n",
              "    }\n",
              "\n",
              "    .dataframe thead th {\n",
              "        text-align: right;\n",
              "    }\n",
              "</style>\n",
              "<table border=\"1\" class=\"dataframe\">\n",
              "  <thead>\n",
              "    <tr style=\"text-align: right;\">\n",
              "      <th></th>\n",
              "      <th>No1</th>\n",
              "      <th>No2</th>\n",
              "      <th>No3</th>\n",
              "      <th>No4</th>\n",
              "    </tr>\n",
              "  </thead>\n",
              "  <tbody>\n",
              "    <tr>\n",
              "      <th>2019-01-31</th>\n",
              "      <td>NaN</td>\n",
              "      <td>-1.070957</td>\n",
              "      <td>0.142398</td>\n",
              "      <td>NaN</td>\n",
              "    </tr>\n",
              "    <tr>\n",
              "      <th>2019-02-28</th>\n",
              "      <td>-0.018856</td>\n",
              "      <td>-0.665106</td>\n",
              "      <td>-1.508780</td>\n",
              "      <td>NaN</td>\n",
              "    </tr>\n",
              "    <tr>\n",
              "      <th>2019-03-31</th>\n",
              "      <td>NaN</td>\n",
              "      <td>-1.366486</td>\n",
              "      <td>NaN</td>\n",
              "      <td>-0.832033</td>\n",
              "    </tr>\n",
              "    <tr>\n",
              "      <th>2019-04-30</th>\n",
              "      <td>NaN</td>\n",
              "      <td>-0.202303</td>\n",
              "      <td>-0.396425</td>\n",
              "      <td>NaN</td>\n",
              "    </tr>\n",
              "    <tr>\n",
              "      <th>2019-05-31</th>\n",
              "      <td>NaN</td>\n",
              "      <td>0.029299</td>\n",
              "      <td>NaN</td>\n",
              "      <td>NaN</td>\n",
              "    </tr>\n",
              "    <tr>\n",
              "      <th>2019-06-30</th>\n",
              "      <td>0.481797</td>\n",
              "      <td>0.432824</td>\n",
              "      <td>NaN</td>\n",
              "      <td>NaN</td>\n",
              "    </tr>\n",
              "    <tr>\n",
              "      <th>2019-07-31</th>\n",
              "      <td>-1.690005</td>\n",
              "      <td>-0.064984</td>\n",
              "      <td>-0.313341</td>\n",
              "      <td>0.308628</td>\n",
              "    </tr>\n",
              "    <tr>\n",
              "      <th>2019-08-31</th>\n",
              "      <td>NaN</td>\n",
              "      <td>-2.888206</td>\n",
              "      <td>-1.503279</td>\n",
              "      <td>NaN</td>\n",
              "    </tr>\n",
              "    <tr>\n",
              "      <th>2019-09-30</th>\n",
              "      <td>NaN</td>\n",
              "      <td>-0.202785</td>\n",
              "      <td>-0.287089</td>\n",
              "      <td>NaN</td>\n",
              "    </tr>\n",
              "  </tbody>\n",
              "</table>\n",
              "</div>"
            ],
            "text/plain": [
              "                 No1       No2       No3       No4\n",
              "2019-01-31       NaN -1.070957  0.142398       NaN\n",
              "2019-02-28 -0.018856 -0.665106 -1.508780       NaN\n",
              "2019-03-31       NaN -1.366486       NaN -0.832033\n",
              "2019-04-30       NaN -0.202303 -0.396425       NaN\n",
              "2019-05-31       NaN  0.029299       NaN       NaN\n",
              "2019-06-30  0.481797  0.432824       NaN       NaN\n",
              "2019-07-31 -1.690005 -0.064984 -0.313341  0.308628\n",
              "2019-08-31       NaN -2.888206 -1.503279       NaN\n",
              "2019-09-30       NaN -0.202785 -0.287089       NaN"
            ]
          },
          "metadata": {
            "tags": []
          },
          "execution_count": 48
        }
      ]
    },
    {
      "cell_type": "code",
      "metadata": {
        "uuid": "9dfc1e40-c030-4a9c-9e3a-ff28c64a93df",
        "id": "J47pbgj1VCj6",
        "colab_type": "code",
        "colab": {},
        "outputId": "e4167e03-9fc1-42e2-8c09-fb01561b77eb"
      },
      "source": [
        "np.sqrt(abs(df))  "
      ],
      "execution_count": 0,
      "outputs": [
        {
          "output_type": "execute_result",
          "data": {
            "text/html": [
              "<div>\n",
              "<style scoped>\n",
              "    .dataframe tbody tr th:only-of-type {\n",
              "        vertical-align: middle;\n",
              "    }\n",
              "\n",
              "    .dataframe tbody tr th {\n",
              "        vertical-align: top;\n",
              "    }\n",
              "\n",
              "    .dataframe thead th {\n",
              "        text-align: right;\n",
              "    }\n",
              "</style>\n",
              "<table border=\"1\" class=\"dataframe\">\n",
              "  <thead>\n",
              "    <tr style=\"text-align: right;\">\n",
              "      <th></th>\n",
              "      <th>No1</th>\n",
              "      <th>No2</th>\n",
              "      <th>No3</th>\n",
              "      <th>No4</th>\n",
              "    </tr>\n",
              "  </thead>\n",
              "  <tbody>\n",
              "    <tr>\n",
              "      <th>2019-01-31</th>\n",
              "      <td>1.322787</td>\n",
              "      <td>0.585389</td>\n",
              "      <td>1.073795</td>\n",
              "      <td>0.502430</td>\n",
              "    </tr>\n",
              "    <tr>\n",
              "      <th>2019-02-28</th>\n",
              "      <td>0.990616</td>\n",
              "      <td>0.717091</td>\n",
              "      <td>0.470297</td>\n",
              "      <td>1.034429</td>\n",
              "    </tr>\n",
              "    <tr>\n",
              "      <th>2019-03-31</th>\n",
              "      <td>0.435311</td>\n",
              "      <td>0.504977</td>\n",
              "      <td>0.676777</td>\n",
              "      <td>0.659669</td>\n",
              "    </tr>\n",
              "    <tr>\n",
              "      <th>2019-04-30</th>\n",
              "      <td>0.763934</td>\n",
              "      <td>0.903796</td>\n",
              "      <td>0.820196</td>\n",
              "      <td>0.323127</td>\n",
              "    </tr>\n",
              "    <tr>\n",
              "      <th>2019-05-31</th>\n",
              "      <td>0.728890</td>\n",
              "      <td>1.014757</td>\n",
              "      <td>0.661918</td>\n",
              "      <td>1.057506</td>\n",
              "    </tr>\n",
              "    <tr>\n",
              "      <th>2019-06-30</th>\n",
              "      <td>1.272392</td>\n",
              "      <td>1.241614</td>\n",
              "      <td>0.501876</td>\n",
              "      <td>0.917843</td>\n",
              "    </tr>\n",
              "    <tr>\n",
              "      <th>2019-07-31</th>\n",
              "      <td>0.429556</td>\n",
              "      <td>0.968030</td>\n",
              "      <td>0.854986</td>\n",
              "      <td>1.166857</td>\n",
              "    </tr>\n",
              "    <tr>\n",
              "      <th>2019-08-31</th>\n",
              "      <td>0.571173</td>\n",
              "      <td>0.235958</td>\n",
              "      <td>0.471593</td>\n",
              "      <td>1.201340</td>\n",
              "    </tr>\n",
              "    <tr>\n",
              "      <th>2019-09-30</th>\n",
              "      <td>0.869685</td>\n",
              "      <td>0.903578</td>\n",
              "      <td>0.866282</td>\n",
              "      <td>0.675238</td>\n",
              "    </tr>\n",
              "  </tbody>\n",
              "</table>\n",
              "</div>"
            ],
            "text/plain": [
              "                 No1       No2       No3       No4\n",
              "2019-01-31  1.322787  0.585389  1.073795  0.502430\n",
              "2019-02-28  0.990616  0.717091  0.470297  1.034429\n",
              "2019-03-31  0.435311  0.504977  0.676777  0.659669\n",
              "2019-04-30  0.763934  0.903796  0.820196  0.323127\n",
              "2019-05-31  0.728890  1.014757  0.661918  1.057506\n",
              "2019-06-30  1.272392  1.241614  0.501876  0.917843\n",
              "2019-07-31  0.429556  0.968030  0.854986  1.166857\n",
              "2019-08-31  0.571173  0.235958  0.471593  1.201340\n",
              "2019-09-30  0.869685  0.903578  0.866282  0.675238"
            ]
          },
          "metadata": {
            "tags": []
          },
          "execution_count": 49
        }
      ]
    },
    {
      "cell_type": "code",
      "metadata": {
        "uuid": "a540362b-50d7-4ef0-89ba-0b6ee38033f6",
        "id": "KjB48iXwVCj9",
        "colab_type": "code",
        "colab": {},
        "outputId": "02f55143-056e-4794-da28-4b589cee969a"
      },
      "source": [
        "np.sqrt(abs(df)).sum()  "
      ],
      "execution_count": 0,
      "outputs": [
        {
          "output_type": "execute_result",
          "data": {
            "text/plain": [
              "No1    7.384345\n",
              "No2    7.075190\n",
              "No3    6.397719\n",
              "No4    7.538440\n",
              "dtype: float64"
            ]
          },
          "metadata": {
            "tags": []
          },
          "execution_count": 50
        }
      ]
    },
    {
      "cell_type": "code",
      "metadata": {
        "scrolled": true,
        "id": "fgqiVtB3VCj_",
        "colab_type": "code",
        "colab": {},
        "outputId": "6719a1c4-3b8c-4f1f-c479-ac1a05a7ceee"
      },
      "source": [
        "100 * df + 100  "
      ],
      "execution_count": 0,
      "outputs": [
        {
          "output_type": "execute_result",
          "data": {
            "text/html": [
              "<div>\n",
              "<style scoped>\n",
              "    .dataframe tbody tr th:only-of-type {\n",
              "        vertical-align: middle;\n",
              "    }\n",
              "\n",
              "    .dataframe tbody tr th {\n",
              "        vertical-align: top;\n",
              "    }\n",
              "\n",
              "    .dataframe thead th {\n",
              "        text-align: right;\n",
              "    }\n",
              "</style>\n",
              "<table border=\"1\" class=\"dataframe\">\n",
              "  <thead>\n",
              "    <tr style=\"text-align: right;\">\n",
              "      <th></th>\n",
              "      <th>No1</th>\n",
              "      <th>No2</th>\n",
              "      <th>No3</th>\n",
              "      <th>No4</th>\n",
              "    </tr>\n",
              "  </thead>\n",
              "  <tbody>\n",
              "    <tr>\n",
              "      <th>2019-01-31</th>\n",
              "      <td>-74.976547</td>\n",
              "      <td>134.268040</td>\n",
              "      <td>215.303580</td>\n",
              "      <td>74.756396</td>\n",
              "    </tr>\n",
              "    <tr>\n",
              "      <th>2019-02-28</th>\n",
              "      <td>198.132079</td>\n",
              "      <td>151.421884</td>\n",
              "      <td>122.117967</td>\n",
              "      <td>-7.004333</td>\n",
              "    </tr>\n",
              "    <tr>\n",
              "      <th>2019-03-31</th>\n",
              "      <td>81.050417</td>\n",
              "      <td>125.500144</td>\n",
              "      <td>54.197301</td>\n",
              "      <td>143.516349</td>\n",
              "    </tr>\n",
              "    <tr>\n",
              "      <th>2019-04-30</th>\n",
              "      <td>41.640495</td>\n",
              "      <td>181.684707</td>\n",
              "      <td>167.272081</td>\n",
              "      <td>89.558886</td>\n",
              "    </tr>\n",
              "    <tr>\n",
              "      <th>2019-05-31</th>\n",
              "      <td>46.871962</td>\n",
              "      <td>202.973269</td>\n",
              "      <td>56.186438</td>\n",
              "      <td>-11.831825</td>\n",
              "    </tr>\n",
              "    <tr>\n",
              "      <th>2019-06-30</th>\n",
              "      <td>261.898166</td>\n",
              "      <td>254.160517</td>\n",
              "      <td>74.812086</td>\n",
              "      <td>15.756426</td>\n",
              "    </tr>\n",
              "    <tr>\n",
              "      <th>2019-07-31</th>\n",
              "      <td>118.451869</td>\n",
              "      <td>193.708220</td>\n",
              "      <td>173.100034</td>\n",
              "      <td>236.155613</td>\n",
              "    </tr>\n",
              "    <tr>\n",
              "      <th>2019-08-31</th>\n",
              "      <td>67.376194</td>\n",
              "      <td>105.567601</td>\n",
              "      <td>122.239961</td>\n",
              "      <td>-44.321700</td>\n",
              "    </tr>\n",
              "    <tr>\n",
              "      <th>2019-09-30</th>\n",
              "      <td>24.364769</td>\n",
              "      <td>181.645401</td>\n",
              "      <td>175.044476</td>\n",
              "      <td>54.405307</td>\n",
              "    </tr>\n",
              "  </tbody>\n",
              "</table>\n",
              "</div>"
            ],
            "text/plain": [
              "                   No1         No2         No3         No4\n",
              "2019-01-31  -74.976547  134.268040  215.303580   74.756396\n",
              "2019-02-28  198.132079  151.421884  122.117967   -7.004333\n",
              "2019-03-31   81.050417  125.500144   54.197301  143.516349\n",
              "2019-04-30   41.640495  181.684707  167.272081   89.558886\n",
              "2019-05-31   46.871962  202.973269   56.186438  -11.831825\n",
              "2019-06-30  261.898166  254.160517   74.812086   15.756426\n",
              "2019-07-31  118.451869  193.708220  173.100034  236.155613\n",
              "2019-08-31   67.376194  105.567601  122.239961  -44.321700\n",
              "2019-09-30   24.364769  181.645401  175.044476   54.405307"
            ]
          },
          "metadata": {
            "tags": []
          },
          "execution_count": 51
        }
      ]
    },
    {
      "cell_type": "markdown",
      "metadata": {
        "id": "fYwHCdhOVCkF",
        "colab_type": "text"
      },
      "source": [
        "## Basic Visualization"
      ]
    },
    {
      "cell_type": "code",
      "metadata": {
        "id": "_CISDSsoVCkF",
        "colab_type": "code",
        "colab": {}
      },
      "source": [
        "from pylab import plt, mpl  \n",
        "plt.style.use('seaborn')  \n",
        "mpl.rcParams['font.family'] = 'serif'  \n",
        "%matplotlib inline"
      ],
      "execution_count": 0,
      "outputs": []
    },
    {
      "cell_type": "code",
      "metadata": {
        "uuid": "4b1834ec-9f9b-41d6-8d06-f2efc8433dc4",
        "id": "fdY4Z2OAVCkL",
        "colab_type": "code",
        "colab": {},
        "outputId": "2376fd98-0847-4613-83fa-6dbd88fce603"
      },
      "source": [
        "df.cumsum().plot(lw=2.0, figsize=(10, 6));  \n",
        "# plt.savefig('../../images/ch05/pd_plot_01.png')"
      ],
      "execution_count": 0,
      "outputs": [
        {
          "output_type": "display_data",
          "data": {
            "image/png": "[encoded data removed]",
            "text/plain": [
              "<Figure size 720x432 with 1 Axes>"
            ]
          },
          "metadata": {
            "tags": [],
            "needs_background": "light"
          }
        }
      ]
    },
    {
      "cell_type": "code",
      "metadata": {
        "uuid": "4b1834ec-9f9b-41d6-8d06-f2efc8433dc4",
        "id": "Z4r-LYdRVCkR",
        "colab_type": "code",
        "colab": {},
        "outputId": "5e501da9-f129-4423-e67a-8a2baa2a4cb9"
      },
      "source": [
        "df.plot.bar(figsize=(10, 6), rot=30);  \n",
        "# df.plot(kind='bar', figsize=(10, 6))  \n",
        "# plt.savefig('../../images/ch05/pd_plot_02.png')"
      ],
      "execution_count": 0,
      "outputs": [
        {
          "output_type": "display_data",
          "data": {
            "image/png": "[encoded data removed]",
            "text/plain": [
              "<Figure size 720x432 with 1 Axes>"
            ]
          },
          "metadata": {
            "tags": [],
            "needs_background": "light"
          }
        }
      ]
    },
    {
      "cell_type": "markdown",
      "metadata": {
        "id": "g3dklGrwVCkW",
        "colab_type": "text"
      },
      "source": [
        "## Series Class"
      ]
    },
    {
      "cell_type": "code",
      "metadata": {
        "uuid": "e86f82d1-5934-42d3-a986-f01bc829adaa",
        "id": "bdgFl_udVCkW",
        "colab_type": "code",
        "colab": {},
        "outputId": "aa4de5d4-f936-4959-9570-14fbe9e8c29d"
      },
      "source": [
        "type(df)"
      ],
      "execution_count": 0,
      "outputs": [
        {
          "output_type": "execute_result",
          "data": {
            "text/plain": [
              "pandas.core.frame.DataFrame"
            ]
          },
          "metadata": {
            "tags": []
          },
          "execution_count": 55
        }
      ]
    },
    {
      "cell_type": "code",
      "metadata": {
        "id": "OB7_HwB9VCkY",
        "colab_type": "code",
        "colab": {}
      },
      "source": [
        "S = pd.Series(np.linspace(0, 15, 7), name='series')"
      ],
      "execution_count": 0,
      "outputs": []
    },
    {
      "cell_type": "code",
      "metadata": {
        "id": "xdp_odcbVCkZ",
        "colab_type": "code",
        "colab": {},
        "outputId": "a9ee2197-d20e-4ad3-e48c-dcd3d303dd2a"
      },
      "source": [
        "S"
      ],
      "execution_count": 0,
      "outputs": [
        {
          "output_type": "execute_result",
          "data": {
            "text/plain": [
              "0     0.0\n",
              "1     2.5\n",
              "2     5.0\n",
              "3     7.5\n",
              "4    10.0\n",
              "5    12.5\n",
              "6    15.0\n",
              "Name: series, dtype: float64"
            ]
          },
          "metadata": {
            "tags": []
          },
          "execution_count": 57
        }
      ]
    },
    {
      "cell_type": "code",
      "metadata": {
        "id": "kzNRscNEVCkd",
        "colab_type": "code",
        "colab": {},
        "outputId": "d0ae55ef-7716-4b0d-c13a-c5559b323f3e"
      },
      "source": [
        "type(S)"
      ],
      "execution_count": 0,
      "outputs": [
        {
          "output_type": "execute_result",
          "data": {
            "text/plain": [
              "pandas.core.series.Series"
            ]
          },
          "metadata": {
            "tags": []
          },
          "execution_count": 58
        }
      ]
    },
    {
      "cell_type": "code",
      "metadata": {
        "id": "lJmvBuvgVCkh",
        "colab_type": "code",
        "colab": {}
      },
      "source": [
        "s = df['No1']"
      ],
      "execution_count": 0,
      "outputs": []
    },
    {
      "cell_type": "code",
      "metadata": {
        "id": "seYz4x6wVCkk",
        "colab_type": "code",
        "colab": {},
        "outputId": "eac7263a-daa0-421b-95bc-bb5dc58bacda"
      },
      "source": [
        "s"
      ],
      "execution_count": 0,
      "outputs": [
        {
          "output_type": "execute_result",
          "data": {
            "text/plain": [
              "2019-01-31   -1.749765\n",
              "2019-02-28    0.981321\n",
              "2019-03-31   -0.189496\n",
              "2019-04-30   -0.583595\n",
              "2019-05-31   -0.531280\n",
              "2019-06-30    1.618982\n",
              "2019-07-31    0.184519\n",
              "2019-08-31   -0.326238\n",
              "2019-09-30   -0.756352\n",
              "Freq: M, Name: No1, dtype: float64"
            ]
          },
          "metadata": {
            "tags": []
          },
          "execution_count": 60
        }
      ]
    },
    {
      "cell_type": "code",
      "metadata": {
        "uuid": "ca241ef9-5359-4c89-bc92-be6346cb3959",
        "id": "xqx85fOzVCkm",
        "colab_type": "code",
        "colab": {},
        "outputId": "eb9adf3c-a6a0-4622-d10e-e07e22deae96"
      },
      "source": [
        "type(s)"
      ],
      "execution_count": 0,
      "outputs": [
        {
          "output_type": "execute_result",
          "data": {
            "text/plain": [
              "pandas.core.series.Series"
            ]
          },
          "metadata": {
            "tags": []
          },
          "execution_count": 61
        }
      ]
    },
    {
      "cell_type": "code",
      "metadata": {
        "id": "Dmc3wpvEVCkp",
        "colab_type": "code",
        "colab": {},
        "outputId": "787114ac-cd1b-4370-ef92-2b8e39febf6d"
      },
      "source": [
        "s.mean()"
      ],
      "execution_count": 0,
      "outputs": [
        {
          "output_type": "execute_result",
          "data": {
            "text/plain": [
              "-0.15021177307319458"
            ]
          },
          "metadata": {
            "tags": []
          },
          "execution_count": 62
        }
      ]
    },
    {
      "cell_type": "code",
      "metadata": {
        "uuid": "b3d4cc90-e499-459c-88a5-011fde80d864",
        "id": "pdIgD5ZnVCks",
        "colab_type": "code",
        "colab": {},
        "outputId": "e8a3b739-45d4-4e9b-ec72-1db3dfa0cba3"
      },
      "source": [
        "s.plot(lw=2.0, figsize=(10, 6));\n",
        "# plt.savefig('../../images/ch05/pd_plot_03.png')"
      ],
      "execution_count": 0,
      "outputs": [
        {
          "output_type": "display_data",
          "data": {
            "image/png": "[encoded data removed]",
            "text/plain": [
              "<Figure size 720x432 with 1 Axes>"
            ]
          },
          "metadata": {
            "tags": [],
            "needs_background": "light"
          }
        }
      ]
    },
    {
      "cell_type": "markdown",
      "metadata": {
        "id": "40sAftGgVCkt",
        "colab_type": "text"
      },
      "source": [
        "## GroupBy Operations"
      ]
    },
    {
      "cell_type": "code",
      "metadata": {
        "scrolled": true,
        "uuid": "4bc106dd-9590-4566-bc70-d410517c8223",
        "id": "YStFow3-VCku",
        "colab_type": "code",
        "colab": {},
        "outputId": "ddb391a1-815d-48ff-cfdc-e5bc020277c4"
      },
      "source": [
        "df['Quarter'] = ['Q1', 'Q1', 'Q1', 'Q2', 'Q2',\n",
        "                 'Q2', 'Q3', 'Q3', 'Q3']\n",
        "df"
      ],
      "execution_count": 0,
      "outputs": [
        {
          "output_type": "execute_result",
          "data": {
            "text/html": [
              "<div>\n",
              "<style scoped>\n",
              "    .dataframe tbody tr th:only-of-type {\n",
              "        vertical-align: middle;\n",
              "    }\n",
              "\n",
              "    .dataframe tbody tr th {\n",
              "        vertical-align: top;\n",
              "    }\n",
              "\n",
              "    .dataframe thead th {\n",
              "        text-align: right;\n",
              "    }\n",
              "</style>\n",
              "<table border=\"1\" class=\"dataframe\">\n",
              "  <thead>\n",
              "    <tr style=\"text-align: right;\">\n",
              "      <th></th>\n",
              "      <th>No1</th>\n",
              "      <th>No2</th>\n",
              "      <th>No3</th>\n",
              "      <th>No4</th>\n",
              "      <th>Quarter</th>\n",
              "    </tr>\n",
              "  </thead>\n",
              "  <tbody>\n",
              "    <tr>\n",
              "      <th>2019-01-31</th>\n",
              "      <td>-1.749765</td>\n",
              "      <td>0.342680</td>\n",
              "      <td>1.153036</td>\n",
              "      <td>-0.252436</td>\n",
              "      <td>Q1</td>\n",
              "    </tr>\n",
              "    <tr>\n",
              "      <th>2019-02-28</th>\n",
              "      <td>0.981321</td>\n",
              "      <td>0.514219</td>\n",
              "      <td>0.221180</td>\n",
              "      <td>-1.070043</td>\n",
              "      <td>Q1</td>\n",
              "    </tr>\n",
              "    <tr>\n",
              "      <th>2019-03-31</th>\n",
              "      <td>-0.189496</td>\n",
              "      <td>0.255001</td>\n",
              "      <td>-0.458027</td>\n",
              "      <td>0.435163</td>\n",
              "      <td>Q1</td>\n",
              "    </tr>\n",
              "    <tr>\n",
              "      <th>2019-04-30</th>\n",
              "      <td>-0.583595</td>\n",
              "      <td>0.816847</td>\n",
              "      <td>0.672721</td>\n",
              "      <td>-0.104411</td>\n",
              "      <td>Q2</td>\n",
              "    </tr>\n",
              "    <tr>\n",
              "      <th>2019-05-31</th>\n",
              "      <td>-0.531280</td>\n",
              "      <td>1.029733</td>\n",
              "      <td>-0.438136</td>\n",
              "      <td>-1.118318</td>\n",
              "      <td>Q2</td>\n",
              "    </tr>\n",
              "    <tr>\n",
              "      <th>2019-06-30</th>\n",
              "      <td>1.618982</td>\n",
              "      <td>1.541605</td>\n",
              "      <td>-0.251879</td>\n",
              "      <td>-0.842436</td>\n",
              "      <td>Q2</td>\n",
              "    </tr>\n",
              "    <tr>\n",
              "      <th>2019-07-31</th>\n",
              "      <td>0.184519</td>\n",
              "      <td>0.937082</td>\n",
              "      <td>0.731000</td>\n",
              "      <td>1.361556</td>\n",
              "      <td>Q3</td>\n",
              "    </tr>\n",
              "    <tr>\n",
              "      <th>2019-08-31</th>\n",
              "      <td>-0.326238</td>\n",
              "      <td>0.055676</td>\n",
              "      <td>0.222400</td>\n",
              "      <td>-1.443217</td>\n",
              "      <td>Q3</td>\n",
              "    </tr>\n",
              "    <tr>\n",
              "      <th>2019-09-30</th>\n",
              "      <td>-0.756352</td>\n",
              "      <td>0.816454</td>\n",
              "      <td>0.750445</td>\n",
              "      <td>-0.455947</td>\n",
              "      <td>Q3</td>\n",
              "    </tr>\n",
              "  </tbody>\n",
              "</table>\n",
              "</div>"
            ],
            "text/plain": [
              "                 No1       No2       No3       No4 Quarter\n",
              "2019-01-31 -1.749765  0.342680  1.153036 -0.252436      Q1\n",
              "2019-02-28  0.981321  0.514219  0.221180 -1.070043      Q1\n",
              "2019-03-31 -0.189496  0.255001 -0.458027  0.435163      Q1\n",
              "2019-04-30 -0.583595  0.816847  0.672721 -0.104411      Q2\n",
              "2019-05-31 -0.531280  1.029733 -0.438136 -1.118318      Q2\n",
              "2019-06-30  1.618982  1.541605 -0.251879 -0.842436      Q2\n",
              "2019-07-31  0.184519  0.937082  0.731000  1.361556      Q3\n",
              "2019-08-31 -0.326238  0.055676  0.222400 -1.443217      Q3\n",
              "2019-09-30 -0.756352  0.816454  0.750445 -0.455947      Q3"
            ]
          },
          "metadata": {
            "tags": []
          },
          "execution_count": 64
        }
      ]
    },
    {
      "cell_type": "code",
      "metadata": {
        "id": "iTUablkIVCkv",
        "colab_type": "code",
        "colab": {}
      },
      "source": [
        "groups = df.groupby('Quarter')  "
      ],
      "execution_count": 0,
      "outputs": []
    },
    {
      "cell_type": "code",
      "metadata": {
        "uuid": "a871b95e-5946-4b09-b8dc-bc9503d2ff14",
        "id": "qzQ_rO_TVCkx",
        "colab_type": "code",
        "colab": {},
        "outputId": "306637a8-9fcf-4221-b369-f0e43e1ff5fb"
      },
      "source": [
        "groups.size()  "
      ],
      "execution_count": 0,
      "outputs": [
        {
          "output_type": "execute_result",
          "data": {
            "text/plain": [
              "Quarter\n",
              "Q1    3\n",
              "Q2    3\n",
              "Q3    3\n",
              "dtype: int64"
            ]
          },
          "metadata": {
            "tags": []
          },
          "execution_count": 66
        }
      ]
    },
    {
      "cell_type": "code",
      "metadata": {
        "uuid": "804e567f-6b74-4405-a10e-d19d914655e7",
        "id": "xdtD0_teVCkz",
        "colab_type": "code",
        "colab": {},
        "outputId": "1caa9e9d-fcb6-4f9e-e02f-56633de7f2db"
      },
      "source": [
        "groups.mean()  "
      ],
      "execution_count": 0,
      "outputs": [
        {
          "output_type": "execute_result",
          "data": {
            "text/html": [
              "<div>\n",
              "<style scoped>\n",
              "    .dataframe tbody tr th:only-of-type {\n",
              "        vertical-align: middle;\n",
              "    }\n",
              "\n",
              "    .dataframe tbody tr th {\n",
              "        vertical-align: top;\n",
              "    }\n",
              "\n",
              "    .dataframe thead th {\n",
              "        text-align: right;\n",
              "    }\n",
              "</style>\n",
              "<table border=\"1\" class=\"dataframe\">\n",
              "  <thead>\n",
              "    <tr style=\"text-align: right;\">\n",
              "      <th></th>\n",
              "      <th>No1</th>\n",
              "      <th>No2</th>\n",
              "      <th>No3</th>\n",
              "      <th>No4</th>\n",
              "    </tr>\n",
              "    <tr>\n",
              "      <th>Quarter</th>\n",
              "      <th></th>\n",
              "      <th></th>\n",
              "      <th></th>\n",
              "      <th></th>\n",
              "    </tr>\n",
              "  </thead>\n",
              "  <tbody>\n",
              "    <tr>\n",
              "      <th>Q1</th>\n",
              "      <td>-0.319314</td>\n",
              "      <td>0.370634</td>\n",
              "      <td>0.305396</td>\n",
              "      <td>-0.295772</td>\n",
              "    </tr>\n",
              "    <tr>\n",
              "      <th>Q2</th>\n",
              "      <td>0.168035</td>\n",
              "      <td>1.129395</td>\n",
              "      <td>-0.005765</td>\n",
              "      <td>-0.688388</td>\n",
              "    </tr>\n",
              "    <tr>\n",
              "      <th>Q3</th>\n",
              "      <td>-0.299357</td>\n",
              "      <td>0.603071</td>\n",
              "      <td>0.567948</td>\n",
              "      <td>-0.179203</td>\n",
              "    </tr>\n",
              "  </tbody>\n",
              "</table>\n",
              "</div>"
            ],
            "text/plain": [
              "              No1       No2       No3       No4\n",
              "Quarter                                        \n",
              "Q1      -0.319314  0.370634  0.305396 -0.295772\n",
              "Q2       0.168035  1.129395 -0.005765 -0.688388\n",
              "Q3      -0.299357  0.603071  0.567948 -0.179203"
            ]
          },
          "metadata": {
            "tags": []
          },
          "execution_count": 67
        }
      ]
    },
    {
      "cell_type": "code",
      "metadata": {
        "uuid": "7eb45e5c-b86f-4464-afd9-d5a3665e0f8e",
        "id": "7OzFWugkVCk0",
        "colab_type": "code",
        "colab": {},
        "outputId": "7b3f8b7e-64c9-46f7-d413-5db2d18f8681"
      },
      "source": [
        "groups.max()  "
      ],
      "execution_count": 0,
      "outputs": [
        {
          "output_type": "execute_result",
          "data": {
            "text/html": [
              "<div>\n",
              "<style scoped>\n",
              "    .dataframe tbody tr th:only-of-type {\n",
              "        vertical-align: middle;\n",
              "    }\n",
              "\n",
              "    .dataframe tbody tr th {\n",
              "        vertical-align: top;\n",
              "    }\n",
              "\n",
              "    .dataframe thead th {\n",
              "        text-align: right;\n",
              "    }\n",
              "</style>\n",
              "<table border=\"1\" class=\"dataframe\">\n",
              "  <thead>\n",
              "    <tr style=\"text-align: right;\">\n",
              "      <th></th>\n",
              "      <th>No1</th>\n",
              "      <th>No2</th>\n",
              "      <th>No3</th>\n",
              "      <th>No4</th>\n",
              "    </tr>\n",
              "    <tr>\n",
              "      <th>Quarter</th>\n",
              "      <th></th>\n",
              "      <th></th>\n",
              "      <th></th>\n",
              "      <th></th>\n",
              "    </tr>\n",
              "  </thead>\n",
              "  <tbody>\n",
              "    <tr>\n",
              "      <th>Q1</th>\n",
              "      <td>0.981321</td>\n",
              "      <td>0.514219</td>\n",
              "      <td>1.153036</td>\n",
              "      <td>0.435163</td>\n",
              "    </tr>\n",
              "    <tr>\n",
              "      <th>Q2</th>\n",
              "      <td>1.618982</td>\n",
              "      <td>1.541605</td>\n",
              "      <td>0.672721</td>\n",
              "      <td>-0.104411</td>\n",
              "    </tr>\n",
              "    <tr>\n",
              "      <th>Q3</th>\n",
              "      <td>0.184519</td>\n",
              "      <td>0.937082</td>\n",
              "      <td>0.750445</td>\n",
              "      <td>1.361556</td>\n",
              "    </tr>\n",
              "  </tbody>\n",
              "</table>\n",
              "</div>"
            ],
            "text/plain": [
              "              No1       No2       No3       No4\n",
              "Quarter                                        \n",
              "Q1       0.981321  0.514219  1.153036  0.435163\n",
              "Q2       1.618982  1.541605  0.672721 -0.104411\n",
              "Q3       0.184519  0.937082  0.750445  1.361556"
            ]
          },
          "metadata": {
            "tags": []
          },
          "execution_count": 68
        }
      ]
    },
    {
      "cell_type": "code",
      "metadata": {
        "id": "ksNucf5UVCk4",
        "colab_type": "code",
        "colab": {},
        "outputId": "b9970e4e-750b-4378-c66a-17a71e86ab81"
      },
      "source": [
        "groups.aggregate([min, max]).round(2)  "
      ],
      "execution_count": 0,
      "outputs": [
        {
          "output_type": "execute_result",
          "data": {
            "text/html": [
              "<div>\n",
              "<style scoped>\n",
              "    .dataframe tbody tr th:only-of-type {\n",
              "        vertical-align: middle;\n",
              "    }\n",
              "\n",
              "    .dataframe tbody tr th {\n",
              "        vertical-align: top;\n",
              "    }\n",
              "\n",
              "    .dataframe thead tr th {\n",
              "        text-align: left;\n",
              "    }\n",
              "\n",
              "    .dataframe thead tr:last-of-type th {\n",
              "        text-align: right;\n",
              "    }\n",
              "</style>\n",
              "<table border=\"1\" class=\"dataframe\">\n",
              "  <thead>\n",
              "    <tr>\n",
              "      <th></th>\n",
              "      <th colspan=\"2\" halign=\"left\">No1</th>\n",
              "      <th colspan=\"2\" halign=\"left\">No2</th>\n",
              "      <th colspan=\"2\" halign=\"left\">No3</th>\n",
              "      <th colspan=\"2\" halign=\"left\">No4</th>\n",
              "    </tr>\n",
              "    <tr>\n",
              "      <th></th>\n",
              "      <th>min</th>\n",
              "      <th>max</th>\n",
              "      <th>min</th>\n",
              "      <th>max</th>\n",
              "      <th>min</th>\n",
              "      <th>max</th>\n",
              "      <th>min</th>\n",
              "      <th>max</th>\n",
              "    </tr>\n",
              "    <tr>\n",
              "      <th>Quarter</th>\n",
              "      <th></th>\n",
              "      <th></th>\n",
              "      <th></th>\n",
              "      <th></th>\n",
              "      <th></th>\n",
              "      <th></th>\n",
              "      <th></th>\n",
              "      <th></th>\n",
              "    </tr>\n",
              "  </thead>\n",
              "  <tbody>\n",
              "    <tr>\n",
              "      <th>Q1</th>\n",
              "      <td>-1.75</td>\n",
              "      <td>0.98</td>\n",
              "      <td>0.26</td>\n",
              "      <td>0.51</td>\n",
              "      <td>-0.46</td>\n",
              "      <td>1.15</td>\n",
              "      <td>-1.07</td>\n",
              "      <td>0.44</td>\n",
              "    </tr>\n",
              "    <tr>\n",
              "      <th>Q2</th>\n",
              "      <td>-0.58</td>\n",
              "      <td>1.62</td>\n",
              "      <td>0.82</td>\n",
              "      <td>1.54</td>\n",
              "      <td>-0.44</td>\n",
              "      <td>0.67</td>\n",
              "      <td>-1.12</td>\n",
              "      <td>-0.10</td>\n",
              "    </tr>\n",
              "    <tr>\n",
              "      <th>Q3</th>\n",
              "      <td>-0.76</td>\n",
              "      <td>0.18</td>\n",
              "      <td>0.06</td>\n",
              "      <td>0.94</td>\n",
              "      <td>0.22</td>\n",
              "      <td>0.75</td>\n",
              "      <td>-1.44</td>\n",
              "      <td>1.36</td>\n",
              "    </tr>\n",
              "  </tbody>\n",
              "</table>\n",
              "</div>"
            ],
            "text/plain": [
              "          No1         No2         No3         No4      \n",
              "          min   max   min   max   min   max   min   max\n",
              "Quarter                                                \n",
              "Q1      -1.75  0.98  0.26  0.51 -0.46  1.15 -1.07  0.44\n",
              "Q2      -0.58  1.62  0.82  1.54 -0.44  0.67 -1.12 -0.10\n",
              "Q3      -0.76  0.18  0.06  0.94  0.22  0.75 -1.44  1.36"
            ]
          },
          "metadata": {
            "tags": []
          },
          "execution_count": 69
        }
      ]
    },
    {
      "cell_type": "code",
      "metadata": {
        "uuid": "542cf99a-bbf8-447e-9643-d6887ac74be7",
        "id": "y6gc-8YfVCk6",
        "colab_type": "code",
        "colab": {}
      },
      "source": [
        "df['Odd_Even'] = ['Odd', 'Even', 'Odd', 'Even', 'Odd', 'Even',\n",
        "                  'Odd', 'Even', 'Odd']"
      ],
      "execution_count": 0,
      "outputs": []
    },
    {
      "cell_type": "code",
      "metadata": {
        "uuid": "f5144c9f-ff37-4e35-9417-e39debdcd45b",
        "id": "e1kQY3mMVCk7",
        "colab_type": "code",
        "colab": {}
      },
      "source": [
        "groups = df.groupby(['Quarter', 'Odd_Even'])"
      ],
      "execution_count": 0,
      "outputs": []
    },
    {
      "cell_type": "code",
      "metadata": {
        "uuid": "06904508-dbf1-431f-a3a2-681f29f03c51",
        "id": "Tb38Z8MPVCk-",
        "colab_type": "code",
        "colab": {},
        "outputId": "5a83c295-e281-49d9-8117-ffdc1db162e8"
      },
      "source": [
        "groups.size()"
      ],
      "execution_count": 0,
      "outputs": [
        {
          "output_type": "execute_result",
          "data": {
            "text/plain": [
              "Quarter  Odd_Even\n",
              "Q1       Even        1\n",
              "         Odd         2\n",
              "Q2       Even        2\n",
              "         Odd         1\n",
              "Q3       Even        1\n",
              "         Odd         2\n",
              "dtype: int64"
            ]
          },
          "metadata": {
            "tags": []
          },
          "execution_count": 72
        }
      ]
    },
    {
      "cell_type": "code",
      "metadata": {
        "uuid": "b8471956-40fc-4203-a54a-aaa45f5a3c00",
        "id": "KDqzNJWMVClA",
        "colab_type": "code",
        "colab": {},
        "outputId": "caa34099-8e70-41e3-bfe4-e1064836785c"
      },
      "source": [
        "groups[['No1', 'No4']].aggregate([sum, np.mean])"
      ],
      "execution_count": 0,
      "outputs": [
        {
          "output_type": "execute_result",
          "data": {
            "text/html": [
              "<div>\n",
              "<style scoped>\n",
              "    .dataframe tbody tr th:only-of-type {\n",
              "        vertical-align: middle;\n",
              "    }\n",
              "\n",
              "    .dataframe tbody tr th {\n",
              "        vertical-align: top;\n",
              "    }\n",
              "\n",
              "    .dataframe thead tr th {\n",
              "        text-align: left;\n",
              "    }\n",
              "\n",
              "    .dataframe thead tr:last-of-type th {\n",
              "        text-align: right;\n",
              "    }\n",
              "</style>\n",
              "<table border=\"1\" class=\"dataframe\">\n",
              "  <thead>\n",
              "    <tr>\n",
              "      <th></th>\n",
              "      <th></th>\n",
              "      <th colspan=\"2\" halign=\"left\">No1</th>\n",
              "      <th colspan=\"2\" halign=\"left\">No4</th>\n",
              "    </tr>\n",
              "    <tr>\n",
              "      <th></th>\n",
              "      <th></th>\n",
              "      <th>sum</th>\n",
              "      <th>mean</th>\n",
              "      <th>sum</th>\n",
              "      <th>mean</th>\n",
              "    </tr>\n",
              "    <tr>\n",
              "      <th>Quarter</th>\n",
              "      <th>Odd_Even</th>\n",
              "      <th></th>\n",
              "      <th></th>\n",
              "      <th></th>\n",
              "      <th></th>\n",
              "    </tr>\n",
              "  </thead>\n",
              "  <tbody>\n",
              "    <tr>\n",
              "      <th rowspan=\"2\" valign=\"top\">Q1</th>\n",
              "      <th>Even</th>\n",
              "      <td>0.981321</td>\n",
              "      <td>0.981321</td>\n",
              "      <td>-1.070043</td>\n",
              "      <td>-1.070043</td>\n",
              "    </tr>\n",
              "    <tr>\n",
              "      <th>Odd</th>\n",
              "      <td>-1.939261</td>\n",
              "      <td>-0.969631</td>\n",
              "      <td>0.182727</td>\n",
              "      <td>0.091364</td>\n",
              "    </tr>\n",
              "    <tr>\n",
              "      <th rowspan=\"2\" valign=\"top\">Q2</th>\n",
              "      <th>Even</th>\n",
              "      <td>1.035387</td>\n",
              "      <td>0.517693</td>\n",
              "      <td>-0.946847</td>\n",
              "      <td>-0.473423</td>\n",
              "    </tr>\n",
              "    <tr>\n",
              "      <th>Odd</th>\n",
              "      <td>-0.531280</td>\n",
              "      <td>-0.531280</td>\n",
              "      <td>-1.118318</td>\n",
              "      <td>-1.118318</td>\n",
              "    </tr>\n",
              "    <tr>\n",
              "      <th rowspan=\"2\" valign=\"top\">Q3</th>\n",
              "      <th>Even</th>\n",
              "      <td>-0.326238</td>\n",
              "      <td>-0.326238</td>\n",
              "      <td>-1.443217</td>\n",
              "      <td>-1.443217</td>\n",
              "    </tr>\n",
              "    <tr>\n",
              "      <th>Odd</th>\n",
              "      <td>-0.571834</td>\n",
              "      <td>-0.285917</td>\n",
              "      <td>0.905609</td>\n",
              "      <td>0.452805</td>\n",
              "    </tr>\n",
              "  </tbody>\n",
              "</table>\n",
              "</div>"
            ],
            "text/plain": [
              "                       No1                 No4          \n",
              "                       sum      mean       sum      mean\n",
              "Quarter Odd_Even                                        \n",
              "Q1      Even      0.981321  0.981321 -1.070043 -1.070043\n",
              "        Odd      -1.939261 -0.969631  0.182727  0.091364\n",
              "Q2      Even      1.035387  0.517693 -0.946847 -0.473423\n",
              "        Odd      -0.531280 -0.531280 -1.118318 -1.118318\n",
              "Q3      Even     -0.326238 -0.326238 -1.443217 -1.443217\n",
              "        Odd      -0.571834 -0.285917  0.905609  0.452805"
            ]
          },
          "metadata": {
            "tags": []
          },
          "execution_count": 73
        }
      ]
    },
    {
      "cell_type": "markdown",
      "metadata": {
        "id": "MTOtg-sZVClD",
        "colab_type": "text"
      },
      "source": [
        "## Complex Selection"
      ]
    },
    {
      "cell_type": "code",
      "metadata": {
        "id": "EFEJtDcXVClE",
        "colab_type": "code",
        "colab": {}
      },
      "source": [
        "data = np.random.standard_normal((10, 2))  "
      ],
      "execution_count": 0,
      "outputs": []
    },
    {
      "cell_type": "code",
      "metadata": {
        "id": "jwx3mxHxVClJ",
        "colab_type": "code",
        "colab": {}
      },
      "source": [
        "df = pd.DataFrame(data, columns=['x', 'y'])  "
      ],
      "execution_count": 0,
      "outputs": []
    },
    {
      "cell_type": "code",
      "metadata": {
        "id": "bTJnL8kyVClL",
        "colab_type": "code",
        "colab": {},
        "outputId": "1ed45867-bfb4-4932-f938-2e41db93871c"
      },
      "source": [
        "df.info()  "
      ],
      "execution_count": 0,
      "outputs": [
        {
          "output_type": "stream",
          "text": [
            "<class 'pandas.core.frame.DataFrame'>\n",
            "RangeIndex: 10 entries, 0 to 9\n",
            "Data columns (total 2 columns):\n",
            "x    10 non-null float64\n",
            "y    10 non-null float64\n",
            "dtypes: float64(2)\n",
            "memory usage: 240.0 bytes\n"
          ],
          "name": "stdout"
        }
      ]
    },
    {
      "cell_type": "code",
      "metadata": {
        "id": "mh2RzxiJVClN",
        "colab_type": "code",
        "colab": {},
        "outputId": "666a1270-6f96-4cfd-fb9c-b54b6d5d76d5"
      },
      "source": [
        "df.head()  "
      ],
      "execution_count": 0,
      "outputs": [
        {
          "output_type": "execute_result",
          "data": {
            "text/html": [
              "<div>\n",
              "<style scoped>\n",
              "    .dataframe tbody tr th:only-of-type {\n",
              "        vertical-align: middle;\n",
              "    }\n",
              "\n",
              "    .dataframe tbody tr th {\n",
              "        vertical-align: top;\n",
              "    }\n",
              "\n",
              "    .dataframe thead th {\n",
              "        text-align: right;\n",
              "    }\n",
              "</style>\n",
              "<table border=\"1\" class=\"dataframe\">\n",
              "  <thead>\n",
              "    <tr style=\"text-align: right;\">\n",
              "      <th></th>\n",
              "      <th>x</th>\n",
              "      <th>y</th>\n",
              "    </tr>\n",
              "  </thead>\n",
              "  <tbody>\n",
              "    <tr>\n",
              "      <th>0</th>\n",
              "      <td>1.189622</td>\n",
              "      <td>-1.690617</td>\n",
              "    </tr>\n",
              "    <tr>\n",
              "      <th>1</th>\n",
              "      <td>-1.356399</td>\n",
              "      <td>-1.232435</td>\n",
              "    </tr>\n",
              "    <tr>\n",
              "      <th>2</th>\n",
              "      <td>-0.544439</td>\n",
              "      <td>-0.668172</td>\n",
              "    </tr>\n",
              "    <tr>\n",
              "      <th>3</th>\n",
              "      <td>0.007315</td>\n",
              "      <td>-0.612939</td>\n",
              "    </tr>\n",
              "    <tr>\n",
              "      <th>4</th>\n",
              "      <td>1.299748</td>\n",
              "      <td>-1.733096</td>\n",
              "    </tr>\n",
              "  </tbody>\n",
              "</table>\n",
              "</div>"
            ],
            "text/plain": [
              "          x         y\n",
              "0  1.189622 -1.690617\n",
              "1 -1.356399 -1.232435\n",
              "2 -0.544439 -0.668172\n",
              "3  0.007315 -0.612939\n",
              "4  1.299748 -1.733096"
            ]
          },
          "metadata": {
            "tags": []
          },
          "execution_count": 77
        }
      ]
    },
    {
      "cell_type": "code",
      "metadata": {
        "id": "01H4xuhFVClP",
        "colab_type": "code",
        "colab": {},
        "outputId": "711a16a1-1fb8-4fb2-c0b7-065b39b38f3b"
      },
      "source": [
        "df.tail()  "
      ],
      "execution_count": 0,
      "outputs": [
        {
          "output_type": "execute_result",
          "data": {
            "text/html": [
              "<div>\n",
              "<style scoped>\n",
              "    .dataframe tbody tr th:only-of-type {\n",
              "        vertical-align: middle;\n",
              "    }\n",
              "\n",
              "    .dataframe tbody tr th {\n",
              "        vertical-align: top;\n",
              "    }\n",
              "\n",
              "    .dataframe thead th {\n",
              "        text-align: right;\n",
              "    }\n",
              "</style>\n",
              "<table border=\"1\" class=\"dataframe\">\n",
              "  <thead>\n",
              "    <tr style=\"text-align: right;\">\n",
              "      <th></th>\n",
              "      <th>x</th>\n",
              "      <th>y</th>\n",
              "    </tr>\n",
              "  </thead>\n",
              "  <tbody>\n",
              "    <tr>\n",
              "      <th>5</th>\n",
              "      <td>-0.983310</td>\n",
              "      <td>0.357508</td>\n",
              "    </tr>\n",
              "    <tr>\n",
              "      <th>6</th>\n",
              "      <td>-1.613579</td>\n",
              "      <td>1.470714</td>\n",
              "    </tr>\n",
              "    <tr>\n",
              "      <th>7</th>\n",
              "      <td>-1.188018</td>\n",
              "      <td>-0.549746</td>\n",
              "    </tr>\n",
              "    <tr>\n",
              "      <th>8</th>\n",
              "      <td>-0.940046</td>\n",
              "      <td>-0.827932</td>\n",
              "    </tr>\n",
              "    <tr>\n",
              "      <th>9</th>\n",
              "      <td>0.108863</td>\n",
              "      <td>0.507810</td>\n",
              "    </tr>\n",
              "  </tbody>\n",
              "</table>\n",
              "</div>"
            ],
            "text/plain": [
              "          x         y\n",
              "5 -0.983310  0.357508\n",
              "6 -1.613579  1.470714\n",
              "7 -1.188018 -0.549746\n",
              "8 -0.940046 -0.827932\n",
              "9  0.108863  0.507810"
            ]
          },
          "metadata": {
            "tags": []
          },
          "execution_count": 78
        }
      ]
    },
    {
      "cell_type": "code",
      "metadata": {
        "id": "Nka9LLH4VClR",
        "colab_type": "code",
        "colab": {},
        "outputId": "929cdc26-51a6-4487-dbf7-7dd0dc0606de"
      },
      "source": [
        "df['x'] > 0.5  "
      ],
      "execution_count": 0,
      "outputs": [
        {
          "output_type": "execute_result",
          "data": {
            "text/plain": [
              "0     True\n",
              "1    False\n",
              "2    False\n",
              "3    False\n",
              "4     True\n",
              "5    False\n",
              "6    False\n",
              "7    False\n",
              "8    False\n",
              "9    False\n",
              "Name: x, dtype: bool"
            ]
          },
          "metadata": {
            "tags": []
          },
          "execution_count": 79
        }
      ]
    },
    {
      "cell_type": "code",
      "metadata": {
        "id": "M0SGkp_bVClW",
        "colab_type": "code",
        "colab": {},
        "outputId": "6efe81a0-49f0-4240-84d0-a44effa6ae0d"
      },
      "source": [
        "(df['x'] > 0) & (df['y'] < 0)  "
      ],
      "execution_count": 0,
      "outputs": [
        {
          "output_type": "execute_result",
          "data": {
            "text/plain": [
              "0     True\n",
              "1    False\n",
              "2    False\n",
              "3     True\n",
              "4     True\n",
              "5    False\n",
              "6    False\n",
              "7    False\n",
              "8    False\n",
              "9    False\n",
              "dtype: bool"
            ]
          },
          "metadata": {
            "tags": []
          },
          "execution_count": 80
        }
      ]
    },
    {
      "cell_type": "code",
      "metadata": {
        "id": "BWf_5YDWVClY",
        "colab_type": "code",
        "colab": {},
        "outputId": "cf4ef848-dcb6-4ba4-bcec-508e33623ed7"
      },
      "source": [
        "(df['x'] > 0) | (df['y'] < 0)  "
      ],
      "execution_count": 0,
      "outputs": [
        {
          "output_type": "execute_result",
          "data": {
            "text/plain": [
              "0     True\n",
              "1     True\n",
              "2     True\n",
              "3     True\n",
              "4     True\n",
              "5    False\n",
              "6    False\n",
              "7     True\n",
              "8     True\n",
              "9     True\n",
              "dtype: bool"
            ]
          },
          "metadata": {
            "tags": []
          },
          "execution_count": 81
        }
      ]
    },
    {
      "cell_type": "code",
      "metadata": {
        "id": "lNxKJ5olVClb",
        "colab_type": "code",
        "colab": {},
        "outputId": "195f8203-d42a-4781-9102-08eed5e23be7"
      },
      "source": [
        "df[df['x'] > 0]  "
      ],
      "execution_count": 0,
      "outputs": [
        {
          "output_type": "execute_result",
          "data": {
            "text/html": [
              "<div>\n",
              "<style scoped>\n",
              "    .dataframe tbody tr th:only-of-type {\n",
              "        vertical-align: middle;\n",
              "    }\n",
              "\n",
              "    .dataframe tbody tr th {\n",
              "        vertical-align: top;\n",
              "    }\n",
              "\n",
              "    .dataframe thead th {\n",
              "        text-align: right;\n",
              "    }\n",
              "</style>\n",
              "<table border=\"1\" class=\"dataframe\">\n",
              "  <thead>\n",
              "    <tr style=\"text-align: right;\">\n",
              "      <th></th>\n",
              "      <th>x</th>\n",
              "      <th>y</th>\n",
              "    </tr>\n",
              "  </thead>\n",
              "  <tbody>\n",
              "    <tr>\n",
              "      <th>0</th>\n",
              "      <td>1.189622</td>\n",
              "      <td>-1.690617</td>\n",
              "    </tr>\n",
              "    <tr>\n",
              "      <th>3</th>\n",
              "      <td>0.007315</td>\n",
              "      <td>-0.612939</td>\n",
              "    </tr>\n",
              "    <tr>\n",
              "      <th>4</th>\n",
              "      <td>1.299748</td>\n",
              "      <td>-1.733096</td>\n",
              "    </tr>\n",
              "    <tr>\n",
              "      <th>9</th>\n",
              "      <td>0.108863</td>\n",
              "      <td>0.507810</td>\n",
              "    </tr>\n",
              "  </tbody>\n",
              "</table>\n",
              "</div>"
            ],
            "text/plain": [
              "          x         y\n",
              "0  1.189622 -1.690617\n",
              "3  0.007315 -0.612939\n",
              "4  1.299748 -1.733096\n",
              "9  0.108863  0.507810"
            ]
          },
          "metadata": {
            "tags": []
          },
          "execution_count": 82
        }
      ]
    },
    {
      "cell_type": "code",
      "metadata": {
        "id": "cnxwGLUOVCle",
        "colab_type": "code",
        "colab": {},
        "outputId": "74bd08e3-4129-4e23-828e-d8c0d34e836f"
      },
      "source": [
        "df.query('x > 0')  "
      ],
      "execution_count": 0,
      "outputs": [
        {
          "output_type": "execute_result",
          "data": {
            "text/html": [
              "<div>\n",
              "<style scoped>\n",
              "    .dataframe tbody tr th:only-of-type {\n",
              "        vertical-align: middle;\n",
              "    }\n",
              "\n",
              "    .dataframe tbody tr th {\n",
              "        vertical-align: top;\n",
              "    }\n",
              "\n",
              "    .dataframe thead th {\n",
              "        text-align: right;\n",
              "    }\n",
              "</style>\n",
              "<table border=\"1\" class=\"dataframe\">\n",
              "  <thead>\n",
              "    <tr style=\"text-align: right;\">\n",
              "      <th></th>\n",
              "      <th>x</th>\n",
              "      <th>y</th>\n",
              "    </tr>\n",
              "  </thead>\n",
              "  <tbody>\n",
              "    <tr>\n",
              "      <th>0</th>\n",
              "      <td>1.189622</td>\n",
              "      <td>-1.690617</td>\n",
              "    </tr>\n",
              "    <tr>\n",
              "      <th>3</th>\n",
              "      <td>0.007315</td>\n",
              "      <td>-0.612939</td>\n",
              "    </tr>\n",
              "    <tr>\n",
              "      <th>4</th>\n",
              "      <td>1.299748</td>\n",
              "      <td>-1.733096</td>\n",
              "    </tr>\n",
              "    <tr>\n",
              "      <th>9</th>\n",
              "      <td>0.108863</td>\n",
              "      <td>0.507810</td>\n",
              "    </tr>\n",
              "  </tbody>\n",
              "</table>\n",
              "</div>"
            ],
            "text/plain": [
              "          x         y\n",
              "0  1.189622 -1.690617\n",
              "3  0.007315 -0.612939\n",
              "4  1.299748 -1.733096\n",
              "9  0.108863  0.507810"
            ]
          },
          "metadata": {
            "tags": []
          },
          "execution_count": 83
        }
      ]
    },
    {
      "cell_type": "code",
      "metadata": {
        "id": "l5MO3HJHVClg",
        "colab_type": "code",
        "colab": {},
        "outputId": "ebf63bc6-f1fa-4897-fe39-ec99d937b93b"
      },
      "source": [
        "df[(df['x'] > 0) & (df['y'] < 0)]  "
      ],
      "execution_count": 0,
      "outputs": [
        {
          "output_type": "execute_result",
          "data": {
            "text/html": [
              "<div>\n",
              "<style scoped>\n",
              "    .dataframe tbody tr th:only-of-type {\n",
              "        vertical-align: middle;\n",
              "    }\n",
              "\n",
              "    .dataframe tbody tr th {\n",
              "        vertical-align: top;\n",
              "    }\n",
              "\n",
              "    .dataframe thead th {\n",
              "        text-align: right;\n",
              "    }\n",
              "</style>\n",
              "<table border=\"1\" class=\"dataframe\">\n",
              "  <thead>\n",
              "    <tr style=\"text-align: right;\">\n",
              "      <th></th>\n",
              "      <th>x</th>\n",
              "      <th>y</th>\n",
              "    </tr>\n",
              "  </thead>\n",
              "  <tbody>\n",
              "    <tr>\n",
              "      <th>0</th>\n",
              "      <td>1.189622</td>\n",
              "      <td>-1.690617</td>\n",
              "    </tr>\n",
              "    <tr>\n",
              "      <th>3</th>\n",
              "      <td>0.007315</td>\n",
              "      <td>-0.612939</td>\n",
              "    </tr>\n",
              "    <tr>\n",
              "      <th>4</th>\n",
              "      <td>1.299748</td>\n",
              "      <td>-1.733096</td>\n",
              "    </tr>\n",
              "  </tbody>\n",
              "</table>\n",
              "</div>"
            ],
            "text/plain": [
              "          x         y\n",
              "0  1.189622 -1.690617\n",
              "3  0.007315 -0.612939\n",
              "4  1.299748 -1.733096"
            ]
          },
          "metadata": {
            "tags": []
          },
          "execution_count": 84
        }
      ]
    },
    {
      "cell_type": "code",
      "metadata": {
        "id": "F58ihcnMVCli",
        "colab_type": "code",
        "colab": {},
        "outputId": "3a23236b-83f2-4ac9-c5ed-eee68b2c9d7a"
      },
      "source": [
        "df.query('x > 0 & y < 0')  "
      ],
      "execution_count": 0,
      "outputs": [
        {
          "output_type": "execute_result",
          "data": {
            "text/html": [
              "<div>\n",
              "<style scoped>\n",
              "    .dataframe tbody tr th:only-of-type {\n",
              "        vertical-align: middle;\n",
              "    }\n",
              "\n",
              "    .dataframe tbody tr th {\n",
              "        vertical-align: top;\n",
              "    }\n",
              "\n",
              "    .dataframe thead th {\n",
              "        text-align: right;\n",
              "    }\n",
              "</style>\n",
              "<table border=\"1\" class=\"dataframe\">\n",
              "  <thead>\n",
              "    <tr style=\"text-align: right;\">\n",
              "      <th></th>\n",
              "      <th>x</th>\n",
              "      <th>y</th>\n",
              "    </tr>\n",
              "  </thead>\n",
              "  <tbody>\n",
              "    <tr>\n",
              "      <th>0</th>\n",
              "      <td>1.189622</td>\n",
              "      <td>-1.690617</td>\n",
              "    </tr>\n",
              "    <tr>\n",
              "      <th>3</th>\n",
              "      <td>0.007315</td>\n",
              "      <td>-0.612939</td>\n",
              "    </tr>\n",
              "    <tr>\n",
              "      <th>4</th>\n",
              "      <td>1.299748</td>\n",
              "      <td>-1.733096</td>\n",
              "    </tr>\n",
              "  </tbody>\n",
              "</table>\n",
              "</div>"
            ],
            "text/plain": [
              "          x         y\n",
              "0  1.189622 -1.690617\n",
              "3  0.007315 -0.612939\n",
              "4  1.299748 -1.733096"
            ]
          },
          "metadata": {
            "tags": []
          },
          "execution_count": 85
        }
      ]
    },
    {
      "cell_type": "code",
      "metadata": {
        "id": "Mqnsd44rVClk",
        "colab_type": "code",
        "colab": {},
        "outputId": "b89dad55-19dd-4a4d-dbdf-85ff33d4f067"
      },
      "source": [
        "df[(df.x > 0) | (df.y < 0)]  "
      ],
      "execution_count": 0,
      "outputs": [
        {
          "output_type": "execute_result",
          "data": {
            "text/html": [
              "<div>\n",
              "<style scoped>\n",
              "    .dataframe tbody tr th:only-of-type {\n",
              "        vertical-align: middle;\n",
              "    }\n",
              "\n",
              "    .dataframe tbody tr th {\n",
              "        vertical-align: top;\n",
              "    }\n",
              "\n",
              "    .dataframe thead th {\n",
              "        text-align: right;\n",
              "    }\n",
              "</style>\n",
              "<table border=\"1\" class=\"dataframe\">\n",
              "  <thead>\n",
              "    <tr style=\"text-align: right;\">\n",
              "      <th></th>\n",
              "      <th>x</th>\n",
              "      <th>y</th>\n",
              "    </tr>\n",
              "  </thead>\n",
              "  <tbody>\n",
              "    <tr>\n",
              "      <th>0</th>\n",
              "      <td>1.189622</td>\n",
              "      <td>-1.690617</td>\n",
              "    </tr>\n",
              "    <tr>\n",
              "      <th>1</th>\n",
              "      <td>-1.356399</td>\n",
              "      <td>-1.232435</td>\n",
              "    </tr>\n",
              "    <tr>\n",
              "      <th>2</th>\n",
              "      <td>-0.544439</td>\n",
              "      <td>-0.668172</td>\n",
              "    </tr>\n",
              "    <tr>\n",
              "      <th>3</th>\n",
              "      <td>0.007315</td>\n",
              "      <td>-0.612939</td>\n",
              "    </tr>\n",
              "    <tr>\n",
              "      <th>4</th>\n",
              "      <td>1.299748</td>\n",
              "      <td>-1.733096</td>\n",
              "    </tr>\n",
              "    <tr>\n",
              "      <th>7</th>\n",
              "      <td>-1.188018</td>\n",
              "      <td>-0.549746</td>\n",
              "    </tr>\n",
              "    <tr>\n",
              "      <th>8</th>\n",
              "      <td>-0.940046</td>\n",
              "      <td>-0.827932</td>\n",
              "    </tr>\n",
              "    <tr>\n",
              "      <th>9</th>\n",
              "      <td>0.108863</td>\n",
              "      <td>0.507810</td>\n",
              "    </tr>\n",
              "  </tbody>\n",
              "</table>\n",
              "</div>"
            ],
            "text/plain": [
              "          x         y\n",
              "0  1.189622 -1.690617\n",
              "1 -1.356399 -1.232435\n",
              "2 -0.544439 -0.668172\n",
              "3  0.007315 -0.612939\n",
              "4  1.299748 -1.733096\n",
              "7 -1.188018 -0.549746\n",
              "8 -0.940046 -0.827932\n",
              "9  0.108863  0.507810"
            ]
          },
          "metadata": {
            "tags": []
          },
          "execution_count": 86
        }
      ]
    },
    {
      "cell_type": "code",
      "metadata": {
        "id": "Fs_BeIF7VCll",
        "colab_type": "code",
        "colab": {},
        "outputId": "ce79a0f6-3a12-481c-e20c-e0d57e5ce225"
      },
      "source": [
        "df > 0  "
      ],
      "execution_count": 0,
      "outputs": [
        {
          "output_type": "execute_result",
          "data": {
            "text/html": [
              "<div>\n",
              "<style scoped>\n",
              "    .dataframe tbody tr th:only-of-type {\n",
              "        vertical-align: middle;\n",
              "    }\n",
              "\n",
              "    .dataframe tbody tr th {\n",
              "        vertical-align: top;\n",
              "    }\n",
              "\n",
              "    .dataframe thead th {\n",
              "        text-align: right;\n",
              "    }\n",
              "</style>\n",
              "<table border=\"1\" class=\"dataframe\">\n",
              "  <thead>\n",
              "    <tr style=\"text-align: right;\">\n",
              "      <th></th>\n",
              "      <th>x</th>\n",
              "      <th>y</th>\n",
              "    </tr>\n",
              "  </thead>\n",
              "  <tbody>\n",
              "    <tr>\n",
              "      <th>0</th>\n",
              "      <td>True</td>\n",
              "      <td>False</td>\n",
              "    </tr>\n",
              "    <tr>\n",
              "      <th>1</th>\n",
              "      <td>False</td>\n",
              "      <td>False</td>\n",
              "    </tr>\n",
              "    <tr>\n",
              "      <th>2</th>\n",
              "      <td>False</td>\n",
              "      <td>False</td>\n",
              "    </tr>\n",
              "    <tr>\n",
              "      <th>3</th>\n",
              "      <td>True</td>\n",
              "      <td>False</td>\n",
              "    </tr>\n",
              "    <tr>\n",
              "      <th>4</th>\n",
              "      <td>True</td>\n",
              "      <td>False</td>\n",
              "    </tr>\n",
              "    <tr>\n",
              "      <th>5</th>\n",
              "      <td>False</td>\n",
              "      <td>True</td>\n",
              "    </tr>\n",
              "    <tr>\n",
              "      <th>6</th>\n",
              "      <td>False</td>\n",
              "      <td>True</td>\n",
              "    </tr>\n",
              "    <tr>\n",
              "      <th>7</th>\n",
              "      <td>False</td>\n",
              "      <td>False</td>\n",
              "    </tr>\n",
              "    <tr>\n",
              "      <th>8</th>\n",
              "      <td>False</td>\n",
              "      <td>False</td>\n",
              "    </tr>\n",
              "    <tr>\n",
              "      <th>9</th>\n",
              "      <td>True</td>\n",
              "      <td>True</td>\n",
              "    </tr>\n",
              "  </tbody>\n",
              "</table>\n",
              "</div>"
            ],
            "text/plain": [
              "       x      y\n",
              "0   True  False\n",
              "1  False  False\n",
              "2  False  False\n",
              "3   True  False\n",
              "4   True  False\n",
              "5  False   True\n",
              "6  False   True\n",
              "7  False  False\n",
              "8  False  False\n",
              "9   True   True"
            ]
          },
          "metadata": {
            "tags": []
          },
          "execution_count": 87
        }
      ]
    },
    {
      "cell_type": "code",
      "metadata": {
        "id": "5ZOoBCVRVCln",
        "colab_type": "code",
        "colab": {},
        "outputId": "2beb0afa-00ec-4be4-bfbf-1a625907d6c9"
      },
      "source": [
        "df[df > 0]  "
      ],
      "execution_count": 0,
      "outputs": [
        {
          "output_type": "execute_result",
          "data": {
            "text/html": [
              "<div>\n",
              "<style scoped>\n",
              "    .dataframe tbody tr th:only-of-type {\n",
              "        vertical-align: middle;\n",
              "    }\n",
              "\n",
              "    .dataframe tbody tr th {\n",
              "        vertical-align: top;\n",
              "    }\n",
              "\n",
              "    .dataframe thead th {\n",
              "        text-align: right;\n",
              "    }\n",
              "</style>\n",
              "<table border=\"1\" class=\"dataframe\">\n",
              "  <thead>\n",
              "    <tr style=\"text-align: right;\">\n",
              "      <th></th>\n",
              "      <th>x</th>\n",
              "      <th>y</th>\n",
              "    </tr>\n",
              "  </thead>\n",
              "  <tbody>\n",
              "    <tr>\n",
              "      <th>0</th>\n",
              "      <td>1.189622</td>\n",
              "      <td>NaN</td>\n",
              "    </tr>\n",
              "    <tr>\n",
              "      <th>1</th>\n",
              "      <td>NaN</td>\n",
              "      <td>NaN</td>\n",
              "    </tr>\n",
              "    <tr>\n",
              "      <th>2</th>\n",
              "      <td>NaN</td>\n",
              "      <td>NaN</td>\n",
              "    </tr>\n",
              "    <tr>\n",
              "      <th>3</th>\n",
              "      <td>0.007315</td>\n",
              "      <td>NaN</td>\n",
              "    </tr>\n",
              "    <tr>\n",
              "      <th>4</th>\n",
              "      <td>1.299748</td>\n",
              "      <td>NaN</td>\n",
              "    </tr>\n",
              "    <tr>\n",
              "      <th>5</th>\n",
              "      <td>NaN</td>\n",
              "      <td>0.357508</td>\n",
              "    </tr>\n",
              "    <tr>\n",
              "      <th>6</th>\n",
              "      <td>NaN</td>\n",
              "      <td>1.470714</td>\n",
              "    </tr>\n",
              "    <tr>\n",
              "      <th>7</th>\n",
              "      <td>NaN</td>\n",
              "      <td>NaN</td>\n",
              "    </tr>\n",
              "    <tr>\n",
              "      <th>8</th>\n",
              "      <td>NaN</td>\n",
              "      <td>NaN</td>\n",
              "    </tr>\n",
              "    <tr>\n",
              "      <th>9</th>\n",
              "      <td>0.108863</td>\n",
              "      <td>0.507810</td>\n",
              "    </tr>\n",
              "  </tbody>\n",
              "</table>\n",
              "</div>"
            ],
            "text/plain": [
              "          x         y\n",
              "0  1.189622       NaN\n",
              "1       NaN       NaN\n",
              "2       NaN       NaN\n",
              "3  0.007315       NaN\n",
              "4  1.299748       NaN\n",
              "5       NaN  0.357508\n",
              "6       NaN  1.470714\n",
              "7       NaN       NaN\n",
              "8       NaN       NaN\n",
              "9  0.108863  0.507810"
            ]
          },
          "metadata": {
            "tags": []
          },
          "execution_count": 88
        }
      ]
    },
    {
      "cell_type": "markdown",
      "metadata": {
        "id": "4MqF2SJ4VClp",
        "colab_type": "text"
      },
      "source": [
        "## Concatenation, Joining and Merging"
      ]
    },
    {
      "cell_type": "code",
      "metadata": {
        "id": "uNFNiPTuVClp",
        "colab_type": "code",
        "colab": {}
      },
      "source": [
        "df1 = pd.DataFrame(['100', '200', '300', '400'], \n",
        "                    index=['a', 'b', 'c', 'd'],\n",
        "                    columns=['A',])"
      ],
      "execution_count": 0,
      "outputs": []
    },
    {
      "cell_type": "code",
      "metadata": {
        "id": "qJNfdsQJVClr",
        "colab_type": "code",
        "colab": {},
        "outputId": "6c0aad6b-30eb-46c7-86dc-f23bf0182341"
      },
      "source": [
        "df1"
      ],
      "execution_count": 0,
      "outputs": [
        {
          "output_type": "execute_result",
          "data": {
            "text/html": [
              "<div>\n",
              "<style scoped>\n",
              "    .dataframe tbody tr th:only-of-type {\n",
              "        vertical-align: middle;\n",
              "    }\n",
              "\n",
              "    .dataframe tbody tr th {\n",
              "        vertical-align: top;\n",
              "    }\n",
              "\n",
              "    .dataframe thead th {\n",
              "        text-align: right;\n",
              "    }\n",
              "</style>\n",
              "<table border=\"1\" class=\"dataframe\">\n",
              "  <thead>\n",
              "    <tr style=\"text-align: right;\">\n",
              "      <th></th>\n",
              "      <th>A</th>\n",
              "    </tr>\n",
              "  </thead>\n",
              "  <tbody>\n",
              "    <tr>\n",
              "      <th>a</th>\n",
              "      <td>100</td>\n",
              "    </tr>\n",
              "    <tr>\n",
              "      <th>b</th>\n",
              "      <td>200</td>\n",
              "    </tr>\n",
              "    <tr>\n",
              "      <th>c</th>\n",
              "      <td>300</td>\n",
              "    </tr>\n",
              "    <tr>\n",
              "      <th>d</th>\n",
              "      <td>400</td>\n",
              "    </tr>\n",
              "  </tbody>\n",
              "</table>\n",
              "</div>"
            ],
            "text/plain": [
              "     A\n",
              "a  100\n",
              "b  200\n",
              "c  300\n",
              "d  400"
            ]
          },
          "metadata": {
            "tags": []
          },
          "execution_count": 90
        }
      ]
    },
    {
      "cell_type": "code",
      "metadata": {
        "id": "jBwr07keVClt",
        "colab_type": "code",
        "colab": {}
      },
      "source": [
        "df2 = pd.DataFrame(['200', '150', '50'], \n",
        "                    index=['f', 'b', 'd'],\n",
        "                    columns=['B',])"
      ],
      "execution_count": 0,
      "outputs": []
    },
    {
      "cell_type": "code",
      "metadata": {
        "id": "iGUV8E4DVClu",
        "colab_type": "code",
        "colab": {},
        "outputId": "3bac9258-6760-4ec9-9672-d5663ea44c96"
      },
      "source": [
        "df2"
      ],
      "execution_count": 0,
      "outputs": [
        {
          "output_type": "execute_result",
          "data": {
            "text/html": [
              "<div>\n",
              "<style scoped>\n",
              "    .dataframe tbody tr th:only-of-type {\n",
              "        vertical-align: middle;\n",
              "    }\n",
              "\n",
              "    .dataframe tbody tr th {\n",
              "        vertical-align: top;\n",
              "    }\n",
              "\n",
              "    .dataframe thead th {\n",
              "        text-align: right;\n",
              "    }\n",
              "</style>\n",
              "<table border=\"1\" class=\"dataframe\">\n",
              "  <thead>\n",
              "    <tr style=\"text-align: right;\">\n",
              "      <th></th>\n",
              "      <th>B</th>\n",
              "    </tr>\n",
              "  </thead>\n",
              "  <tbody>\n",
              "    <tr>\n",
              "      <th>f</th>\n",
              "      <td>200</td>\n",
              "    </tr>\n",
              "    <tr>\n",
              "      <th>b</th>\n",
              "      <td>150</td>\n",
              "    </tr>\n",
              "    <tr>\n",
              "      <th>d</th>\n",
              "      <td>50</td>\n",
              "    </tr>\n",
              "  </tbody>\n",
              "</table>\n",
              "</div>"
            ],
            "text/plain": [
              "     B\n",
              "f  200\n",
              "b  150\n",
              "d   50"
            ]
          },
          "metadata": {
            "tags": []
          },
          "execution_count": 92
        }
      ]
    },
    {
      "cell_type": "markdown",
      "metadata": {
        "id": "CPYX9PolVClw",
        "colab_type": "text"
      },
      "source": [
        "#### Concatenation"
      ]
    },
    {
      "cell_type": "code",
      "metadata": {
        "id": "lkMKsEAAVClw",
        "colab_type": "code",
        "colab": {},
        "outputId": "37d31973-e042-4d77-a7b6-9aafa5dcedf8"
      },
      "source": [
        "df1.append(df2, sort=False)  "
      ],
      "execution_count": 0,
      "outputs": [
        {
          "output_type": "execute_result",
          "data": {
            "text/html": [
              "<div>\n",
              "<style scoped>\n",
              "    .dataframe tbody tr th:only-of-type {\n",
              "        vertical-align: middle;\n",
              "    }\n",
              "\n",
              "    .dataframe tbody tr th {\n",
              "        vertical-align: top;\n",
              "    }\n",
              "\n",
              "    .dataframe thead th {\n",
              "        text-align: right;\n",
              "    }\n",
              "</style>\n",
              "<table border=\"1\" class=\"dataframe\">\n",
              "  <thead>\n",
              "    <tr style=\"text-align: right;\">\n",
              "      <th></th>\n",
              "      <th>A</th>\n",
              "      <th>B</th>\n",
              "    </tr>\n",
              "  </thead>\n",
              "  <tbody>\n",
              "    <tr>\n",
              "      <th>a</th>\n",
              "      <td>100</td>\n",
              "      <td>NaN</td>\n",
              "    </tr>\n",
              "    <tr>\n",
              "      <th>b</th>\n",
              "      <td>200</td>\n",
              "      <td>NaN</td>\n",
              "    </tr>\n",
              "    <tr>\n",
              "      <th>c</th>\n",
              "      <td>300</td>\n",
              "      <td>NaN</td>\n",
              "    </tr>\n",
              "    <tr>\n",
              "      <th>d</th>\n",
              "      <td>400</td>\n",
              "      <td>NaN</td>\n",
              "    </tr>\n",
              "    <tr>\n",
              "      <th>f</th>\n",
              "      <td>NaN</td>\n",
              "      <td>200</td>\n",
              "    </tr>\n",
              "    <tr>\n",
              "      <th>b</th>\n",
              "      <td>NaN</td>\n",
              "      <td>150</td>\n",
              "    </tr>\n",
              "    <tr>\n",
              "      <th>d</th>\n",
              "      <td>NaN</td>\n",
              "      <td>50</td>\n",
              "    </tr>\n",
              "  </tbody>\n",
              "</table>\n",
              "</div>"
            ],
            "text/plain": [
              "     A    B\n",
              "a  100  NaN\n",
              "b  200  NaN\n",
              "c  300  NaN\n",
              "d  400  NaN\n",
              "f  NaN  200\n",
              "b  NaN  150\n",
              "d  NaN   50"
            ]
          },
          "metadata": {
            "tags": []
          },
          "execution_count": 93
        }
      ]
    },
    {
      "cell_type": "code",
      "metadata": {
        "id": "OwHHLZG3VClx",
        "colab_type": "code",
        "colab": {},
        "outputId": "46640663-ea3a-4689-9ca4-a668a212ee19"
      },
      "source": [
        "df1.append(df2, ignore_index=True, sort=False)  "
      ],
      "execution_count": 0,
      "outputs": [
        {
          "output_type": "execute_result",
          "data": {
            "text/html": [
              "<div>\n",
              "<style scoped>\n",
              "    .dataframe tbody tr th:only-of-type {\n",
              "        vertical-align: middle;\n",
              "    }\n",
              "\n",
              "    .dataframe tbody tr th {\n",
              "        vertical-align: top;\n",
              "    }\n",
              "\n",
              "    .dataframe thead th {\n",
              "        text-align: right;\n",
              "    }\n",
              "</style>\n",
              "<table border=\"1\" class=\"dataframe\">\n",
              "  <thead>\n",
              "    <tr style=\"text-align: right;\">\n",
              "      <th></th>\n",
              "      <th>A</th>\n",
              "      <th>B</th>\n",
              "    </tr>\n",
              "  </thead>\n",
              "  <tbody>\n",
              "    <tr>\n",
              "      <th>0</th>\n",
              "      <td>100</td>\n",
              "      <td>NaN</td>\n",
              "    </tr>\n",
              "    <tr>\n",
              "      <th>1</th>\n",
              "      <td>200</td>\n",
              "      <td>NaN</td>\n",
              "    </tr>\n",
              "    <tr>\n",
              "      <th>2</th>\n",
              "      <td>300</td>\n",
              "      <td>NaN</td>\n",
              "    </tr>\n",
              "    <tr>\n",
              "      <th>3</th>\n",
              "      <td>400</td>\n",
              "      <td>NaN</td>\n",
              "    </tr>\n",
              "    <tr>\n",
              "      <th>4</th>\n",
              "      <td>NaN</td>\n",
              "      <td>200</td>\n",
              "    </tr>\n",
              "    <tr>\n",
              "      <th>5</th>\n",
              "      <td>NaN</td>\n",
              "      <td>150</td>\n",
              "    </tr>\n",
              "    <tr>\n",
              "      <th>6</th>\n",
              "      <td>NaN</td>\n",
              "      <td>50</td>\n",
              "    </tr>\n",
              "  </tbody>\n",
              "</table>\n",
              "</div>"
            ],
            "text/plain": [
              "     A    B\n",
              "0  100  NaN\n",
              "1  200  NaN\n",
              "2  300  NaN\n",
              "3  400  NaN\n",
              "4  NaN  200\n",
              "5  NaN  150\n",
              "6  NaN   50"
            ]
          },
          "metadata": {
            "tags": []
          },
          "execution_count": 94
        }
      ]
    },
    {
      "cell_type": "code",
      "metadata": {
        "id": "QrxYTXjaVClz",
        "colab_type": "code",
        "colab": {},
        "outputId": "baa6dbc3-1cf7-4b94-9dd3-f3729ecba931"
      },
      "source": [
        "pd.concat((df1, df2), sort=False)  "
      ],
      "execution_count": 0,
      "outputs": [
        {
          "output_type": "execute_result",
          "data": {
            "text/html": [
              "<div>\n",
              "<style scoped>\n",
              "    .dataframe tbody tr th:only-of-type {\n",
              "        vertical-align: middle;\n",
              "    }\n",
              "\n",
              "    .dataframe tbody tr th {\n",
              "        vertical-align: top;\n",
              "    }\n",
              "\n",
              "    .dataframe thead th {\n",
              "        text-align: right;\n",
              "    }\n",
              "</style>\n",
              "<table border=\"1\" class=\"dataframe\">\n",
              "  <thead>\n",
              "    <tr style=\"text-align: right;\">\n",
              "      <th></th>\n",
              "      <th>A</th>\n",
              "      <th>B</th>\n",
              "    </tr>\n",
              "  </thead>\n",
              "  <tbody>\n",
              "    <tr>\n",
              "      <th>a</th>\n",
              "      <td>100</td>\n",
              "      <td>NaN</td>\n",
              "    </tr>\n",
              "    <tr>\n",
              "      <th>b</th>\n",
              "      <td>200</td>\n",
              "      <td>NaN</td>\n",
              "    </tr>\n",
              "    <tr>\n",
              "      <th>c</th>\n",
              "      <td>300</td>\n",
              "      <td>NaN</td>\n",
              "    </tr>\n",
              "    <tr>\n",
              "      <th>d</th>\n",
              "      <td>400</td>\n",
              "      <td>NaN</td>\n",
              "    </tr>\n",
              "    <tr>\n",
              "      <th>f</th>\n",
              "      <td>NaN</td>\n",
              "      <td>200</td>\n",
              "    </tr>\n",
              "    <tr>\n",
              "      <th>b</th>\n",
              "      <td>NaN</td>\n",
              "      <td>150</td>\n",
              "    </tr>\n",
              "    <tr>\n",
              "      <th>d</th>\n",
              "      <td>NaN</td>\n",
              "      <td>50</td>\n",
              "    </tr>\n",
              "  </tbody>\n",
              "</table>\n",
              "</div>"
            ],
            "text/plain": [
              "     A    B\n",
              "a  100  NaN\n",
              "b  200  NaN\n",
              "c  300  NaN\n",
              "d  400  NaN\n",
              "f  NaN  200\n",
              "b  NaN  150\n",
              "d  NaN   50"
            ]
          },
          "metadata": {
            "tags": []
          },
          "execution_count": 95
        }
      ]
    },
    {
      "cell_type": "code",
      "metadata": {
        "id": "GW8o3FDhVCl3",
        "colab_type": "code",
        "colab": {},
        "outputId": "4c298cbb-2b70-4f38-fc0f-06f5acd220a7"
      },
      "source": [
        "pd.concat((df1, df2), ignore_index=True, sort=False)  "
      ],
      "execution_count": 0,
      "outputs": [
        {
          "output_type": "execute_result",
          "data": {
            "text/html": [
              "<div>\n",
              "<style scoped>\n",
              "    .dataframe tbody tr th:only-of-type {\n",
              "        vertical-align: middle;\n",
              "    }\n",
              "\n",
              "    .dataframe tbody tr th {\n",
              "        vertical-align: top;\n",
              "    }\n",
              "\n",
              "    .dataframe thead th {\n",
              "        text-align: right;\n",
              "    }\n",
              "</style>\n",
              "<table border=\"1\" class=\"dataframe\">\n",
              "  <thead>\n",
              "    <tr style=\"text-align: right;\">\n",
              "      <th></th>\n",
              "      <th>A</th>\n",
              "      <th>B</th>\n",
              "    </tr>\n",
              "  </thead>\n",
              "  <tbody>\n",
              "    <tr>\n",
              "      <th>0</th>\n",
              "      <td>100</td>\n",
              "      <td>NaN</td>\n",
              "    </tr>\n",
              "    <tr>\n",
              "      <th>1</th>\n",
              "      <td>200</td>\n",
              "      <td>NaN</td>\n",
              "    </tr>\n",
              "    <tr>\n",
              "      <th>2</th>\n",
              "      <td>300</td>\n",
              "      <td>NaN</td>\n",
              "    </tr>\n",
              "    <tr>\n",
              "      <th>3</th>\n",
              "      <td>400</td>\n",
              "      <td>NaN</td>\n",
              "    </tr>\n",
              "    <tr>\n",
              "      <th>4</th>\n",
              "      <td>NaN</td>\n",
              "      <td>200</td>\n",
              "    </tr>\n",
              "    <tr>\n",
              "      <th>5</th>\n",
              "      <td>NaN</td>\n",
              "      <td>150</td>\n",
              "    </tr>\n",
              "    <tr>\n",
              "      <th>6</th>\n",
              "      <td>NaN</td>\n",
              "      <td>50</td>\n",
              "    </tr>\n",
              "  </tbody>\n",
              "</table>\n",
              "</div>"
            ],
            "text/plain": [
              "     A    B\n",
              "0  100  NaN\n",
              "1  200  NaN\n",
              "2  300  NaN\n",
              "3  400  NaN\n",
              "4  NaN  200\n",
              "5  NaN  150\n",
              "6  NaN   50"
            ]
          },
          "metadata": {
            "tags": []
          },
          "execution_count": 96
        }
      ]
    },
    {
      "cell_type": "markdown",
      "metadata": {
        "id": "tXUt7rw8VCl4",
        "colab_type": "text"
      },
      "source": [
        "#### Joining"
      ]
    },
    {
      "cell_type": "code",
      "metadata": {
        "id": "AjR4QEh2VCl5",
        "colab_type": "code",
        "colab": {},
        "outputId": "35d6be55-6ed8-4cc9-fef3-6b802600b7cb"
      },
      "source": [
        "df1.join(df2)  "
      ],
      "execution_count": 0,
      "outputs": [
        {
          "output_type": "execute_result",
          "data": {
            "text/html": [
              "<div>\n",
              "<style scoped>\n",
              "    .dataframe tbody tr th:only-of-type {\n",
              "        vertical-align: middle;\n",
              "    }\n",
              "\n",
              "    .dataframe tbody tr th {\n",
              "        vertical-align: top;\n",
              "    }\n",
              "\n",
              "    .dataframe thead th {\n",
              "        text-align: right;\n",
              "    }\n",
              "</style>\n",
              "<table border=\"1\" class=\"dataframe\">\n",
              "  <thead>\n",
              "    <tr style=\"text-align: right;\">\n",
              "      <th></th>\n",
              "      <th>A</th>\n",
              "      <th>B</th>\n",
              "    </tr>\n",
              "  </thead>\n",
              "  <tbody>\n",
              "    <tr>\n",
              "      <th>a</th>\n",
              "      <td>100</td>\n",
              "      <td>NaN</td>\n",
              "    </tr>\n",
              "    <tr>\n",
              "      <th>b</th>\n",
              "      <td>200</td>\n",
              "      <td>150</td>\n",
              "    </tr>\n",
              "    <tr>\n",
              "      <th>c</th>\n",
              "      <td>300</td>\n",
              "      <td>NaN</td>\n",
              "    </tr>\n",
              "    <tr>\n",
              "      <th>d</th>\n",
              "      <td>400</td>\n",
              "      <td>50</td>\n",
              "    </tr>\n",
              "  </tbody>\n",
              "</table>\n",
              "</div>"
            ],
            "text/plain": [
              "     A    B\n",
              "a  100  NaN\n",
              "b  200  150\n",
              "c  300  NaN\n",
              "d  400   50"
            ]
          },
          "metadata": {
            "tags": []
          },
          "execution_count": 97
        }
      ]
    },
    {
      "cell_type": "code",
      "metadata": {
        "id": "1ahAP0FcVCl6",
        "colab_type": "code",
        "colab": {},
        "outputId": "da8566e2-f74a-4aa5-c376-50aa837c8442"
      },
      "source": [
        "df2.join(df1)  "
      ],
      "execution_count": 0,
      "outputs": [
        {
          "output_type": "execute_result",
          "data": {
            "text/html": [
              "<div>\n",
              "<style scoped>\n",
              "    .dataframe tbody tr th:only-of-type {\n",
              "        vertical-align: middle;\n",
              "    }\n",
              "\n",
              "    .dataframe tbody tr th {\n",
              "        vertical-align: top;\n",
              "    }\n",
              "\n",
              "    .dataframe thead th {\n",
              "        text-align: right;\n",
              "    }\n",
              "</style>\n",
              "<table border=\"1\" class=\"dataframe\">\n",
              "  <thead>\n",
              "    <tr style=\"text-align: right;\">\n",
              "      <th></th>\n",
              "      <th>B</th>\n",
              "      <th>A</th>\n",
              "    </tr>\n",
              "  </thead>\n",
              "  <tbody>\n",
              "    <tr>\n",
              "      <th>f</th>\n",
              "      <td>200</td>\n",
              "      <td>NaN</td>\n",
              "    </tr>\n",
              "    <tr>\n",
              "      <th>b</th>\n",
              "      <td>150</td>\n",
              "      <td>200</td>\n",
              "    </tr>\n",
              "    <tr>\n",
              "      <th>d</th>\n",
              "      <td>50</td>\n",
              "      <td>400</td>\n",
              "    </tr>\n",
              "  </tbody>\n",
              "</table>\n",
              "</div>"
            ],
            "text/plain": [
              "     B    A\n",
              "f  200  NaN\n",
              "b  150  200\n",
              "d   50  400"
            ]
          },
          "metadata": {
            "tags": []
          },
          "execution_count": 98
        }
      ]
    },
    {
      "cell_type": "code",
      "metadata": {
        "id": "vF06Y3nNVCl7",
        "colab_type": "code",
        "colab": {},
        "outputId": "f5af2c6f-5973-4641-edc8-3d54db4d8e7f"
      },
      "source": [
        "df1.join(df2, how='left')  "
      ],
      "execution_count": 0,
      "outputs": [
        {
          "output_type": "execute_result",
          "data": {
            "text/html": [
              "<div>\n",
              "<style scoped>\n",
              "    .dataframe tbody tr th:only-of-type {\n",
              "        vertical-align: middle;\n",
              "    }\n",
              "\n",
              "    .dataframe tbody tr th {\n",
              "        vertical-align: top;\n",
              "    }\n",
              "\n",
              "    .dataframe thead th {\n",
              "        text-align: right;\n",
              "    }\n",
              "</style>\n",
              "<table border=\"1\" class=\"dataframe\">\n",
              "  <thead>\n",
              "    <tr style=\"text-align: right;\">\n",
              "      <th></th>\n",
              "      <th>A</th>\n",
              "      <th>B</th>\n",
              "    </tr>\n",
              "  </thead>\n",
              "  <tbody>\n",
              "    <tr>\n",
              "      <th>a</th>\n",
              "      <td>100</td>\n",
              "      <td>NaN</td>\n",
              "    </tr>\n",
              "    <tr>\n",
              "      <th>b</th>\n",
              "      <td>200</td>\n",
              "      <td>150</td>\n",
              "    </tr>\n",
              "    <tr>\n",
              "      <th>c</th>\n",
              "      <td>300</td>\n",
              "      <td>NaN</td>\n",
              "    </tr>\n",
              "    <tr>\n",
              "      <th>d</th>\n",
              "      <td>400</td>\n",
              "      <td>50</td>\n",
              "    </tr>\n",
              "  </tbody>\n",
              "</table>\n",
              "</div>"
            ],
            "text/plain": [
              "     A    B\n",
              "a  100  NaN\n",
              "b  200  150\n",
              "c  300  NaN\n",
              "d  400   50"
            ]
          },
          "metadata": {
            "tags": []
          },
          "execution_count": 99
        }
      ]
    },
    {
      "cell_type": "code",
      "metadata": {
        "id": "dLmYvFk3VCl9",
        "colab_type": "code",
        "colab": {},
        "outputId": "68663244-4e23-4105-8559-283786c48964"
      },
      "source": [
        "df1.join(df2, how='right')  "
      ],
      "execution_count": 0,
      "outputs": [
        {
          "output_type": "execute_result",
          "data": {
            "text/html": [
              "<div>\n",
              "<style scoped>\n",
              "    .dataframe tbody tr th:only-of-type {\n",
              "        vertical-align: middle;\n",
              "    }\n",
              "\n",
              "    .dataframe tbody tr th {\n",
              "        vertical-align: top;\n",
              "    }\n",
              "\n",
              "    .dataframe thead th {\n",
              "        text-align: right;\n",
              "    }\n",
              "</style>\n",
              "<table border=\"1\" class=\"dataframe\">\n",
              "  <thead>\n",
              "    <tr style=\"text-align: right;\">\n",
              "      <th></th>\n",
              "      <th>A</th>\n",
              "      <th>B</th>\n",
              "    </tr>\n",
              "  </thead>\n",
              "  <tbody>\n",
              "    <tr>\n",
              "      <th>f</th>\n",
              "      <td>NaN</td>\n",
              "      <td>200</td>\n",
              "    </tr>\n",
              "    <tr>\n",
              "      <th>b</th>\n",
              "      <td>200</td>\n",
              "      <td>150</td>\n",
              "    </tr>\n",
              "    <tr>\n",
              "      <th>d</th>\n",
              "      <td>400</td>\n",
              "      <td>50</td>\n",
              "    </tr>\n",
              "  </tbody>\n",
              "</table>\n",
              "</div>"
            ],
            "text/plain": [
              "     A    B\n",
              "f  NaN  200\n",
              "b  200  150\n",
              "d  400   50"
            ]
          },
          "metadata": {
            "tags": []
          },
          "execution_count": 100
        }
      ]
    },
    {
      "cell_type": "code",
      "metadata": {
        "id": "G8turQVzVCl_",
        "colab_type": "code",
        "colab": {},
        "outputId": "bc856960-62e9-4c8e-f070-30f9ccd862c6"
      },
      "source": [
        "df1.join(df2, how='inner')  "
      ],
      "execution_count": 0,
      "outputs": [
        {
          "output_type": "execute_result",
          "data": {
            "text/html": [
              "<div>\n",
              "<style scoped>\n",
              "    .dataframe tbody tr th:only-of-type {\n",
              "        vertical-align: middle;\n",
              "    }\n",
              "\n",
              "    .dataframe tbody tr th {\n",
              "        vertical-align: top;\n",
              "    }\n",
              "\n",
              "    .dataframe thead th {\n",
              "        text-align: right;\n",
              "    }\n",
              "</style>\n",
              "<table border=\"1\" class=\"dataframe\">\n",
              "  <thead>\n",
              "    <tr style=\"text-align: right;\">\n",
              "      <th></th>\n",
              "      <th>A</th>\n",
              "      <th>B</th>\n",
              "    </tr>\n",
              "  </thead>\n",
              "  <tbody>\n",
              "    <tr>\n",
              "      <th>b</th>\n",
              "      <td>200</td>\n",
              "      <td>150</td>\n",
              "    </tr>\n",
              "    <tr>\n",
              "      <th>d</th>\n",
              "      <td>400</td>\n",
              "      <td>50</td>\n",
              "    </tr>\n",
              "  </tbody>\n",
              "</table>\n",
              "</div>"
            ],
            "text/plain": [
              "     A    B\n",
              "b  200  150\n",
              "d  400   50"
            ]
          },
          "metadata": {
            "tags": []
          },
          "execution_count": 101
        }
      ]
    },
    {
      "cell_type": "code",
      "metadata": {
        "id": "DKAduECXVCmA",
        "colab_type": "code",
        "colab": {},
        "outputId": "f49e9df5-0c3a-443a-d042-e46428a90b5e"
      },
      "source": [
        "df1.join(df2, how='outer')  "
      ],
      "execution_count": 0,
      "outputs": [
        {
          "output_type": "execute_result",
          "data": {
            "text/html": [
              "<div>\n",
              "<style scoped>\n",
              "    .dataframe tbody tr th:only-of-type {\n",
              "        vertical-align: middle;\n",
              "    }\n",
              "\n",
              "    .dataframe tbody tr th {\n",
              "        vertical-align: top;\n",
              "    }\n",
              "\n",
              "    .dataframe thead th {\n",
              "        text-align: right;\n",
              "    }\n",
              "</style>\n",
              "<table border=\"1\" class=\"dataframe\">\n",
              "  <thead>\n",
              "    <tr style=\"text-align: right;\">\n",
              "      <th></th>\n",
              "      <th>A</th>\n",
              "      <th>B</th>\n",
              "    </tr>\n",
              "  </thead>\n",
              "  <tbody>\n",
              "    <tr>\n",
              "      <th>a</th>\n",
              "      <td>100</td>\n",
              "      <td>NaN</td>\n",
              "    </tr>\n",
              "    <tr>\n",
              "      <th>b</th>\n",
              "      <td>200</td>\n",
              "      <td>150</td>\n",
              "    </tr>\n",
              "    <tr>\n",
              "      <th>c</th>\n",
              "      <td>300</td>\n",
              "      <td>NaN</td>\n",
              "    </tr>\n",
              "    <tr>\n",
              "      <th>d</th>\n",
              "      <td>400</td>\n",
              "      <td>50</td>\n",
              "    </tr>\n",
              "    <tr>\n",
              "      <th>f</th>\n",
              "      <td>NaN</td>\n",
              "      <td>200</td>\n",
              "    </tr>\n",
              "  </tbody>\n",
              "</table>\n",
              "</div>"
            ],
            "text/plain": [
              "     A    B\n",
              "a  100  NaN\n",
              "b  200  150\n",
              "c  300  NaN\n",
              "d  400   50\n",
              "f  NaN  200"
            ]
          },
          "metadata": {
            "tags": []
          },
          "execution_count": 102
        }
      ]
    },
    {
      "cell_type": "code",
      "metadata": {
        "id": "Ya4KmL9fVCmC",
        "colab_type": "code",
        "colab": {}
      },
      "source": [
        "df = pd.DataFrame()"
      ],
      "execution_count": 0,
      "outputs": []
    },
    {
      "cell_type": "code",
      "metadata": {
        "id": "In7mrmXtVCmD",
        "colab_type": "code",
        "colab": {}
      },
      "source": [
        "df['A'] = df1['A']  "
      ],
      "execution_count": 0,
      "outputs": []
    },
    {
      "cell_type": "code",
      "metadata": {
        "id": "i2b2QNjWVCmF",
        "colab_type": "code",
        "colab": {},
        "outputId": "bcbdcba3-55b7-4725-e3ef-c7d4c3aeca78"
      },
      "source": [
        "df"
      ],
      "execution_count": 0,
      "outputs": [
        {
          "output_type": "execute_result",
          "data": {
            "text/html": [
              "<div>\n",
              "<style scoped>\n",
              "    .dataframe tbody tr th:only-of-type {\n",
              "        vertical-align: middle;\n",
              "    }\n",
              "\n",
              "    .dataframe tbody tr th {\n",
              "        vertical-align: top;\n",
              "    }\n",
              "\n",
              "    .dataframe thead th {\n",
              "        text-align: right;\n",
              "    }\n",
              "</style>\n",
              "<table border=\"1\" class=\"dataframe\">\n",
              "  <thead>\n",
              "    <tr style=\"text-align: right;\">\n",
              "      <th></th>\n",
              "      <th>A</th>\n",
              "    </tr>\n",
              "  </thead>\n",
              "  <tbody>\n",
              "    <tr>\n",
              "      <th>a</th>\n",
              "      <td>100</td>\n",
              "    </tr>\n",
              "    <tr>\n",
              "      <th>b</th>\n",
              "      <td>200</td>\n",
              "    </tr>\n",
              "    <tr>\n",
              "      <th>c</th>\n",
              "      <td>300</td>\n",
              "    </tr>\n",
              "    <tr>\n",
              "      <th>d</th>\n",
              "      <td>400</td>\n",
              "    </tr>\n",
              "  </tbody>\n",
              "</table>\n",
              "</div>"
            ],
            "text/plain": [
              "     A\n",
              "a  100\n",
              "b  200\n",
              "c  300\n",
              "d  400"
            ]
          },
          "metadata": {
            "tags": []
          },
          "execution_count": 105
        }
      ]
    },
    {
      "cell_type": "code",
      "metadata": {
        "id": "yMolDUZ4VCmG",
        "colab_type": "code",
        "colab": {}
      },
      "source": [
        "df['B'] = df2  "
      ],
      "execution_count": 0,
      "outputs": []
    },
    {
      "cell_type": "code",
      "metadata": {
        "id": "khYQOgbeVCmH",
        "colab_type": "code",
        "colab": {},
        "outputId": "5a876ad2-e09b-4ec8-9267-27c536e08e8b"
      },
      "source": [
        "df"
      ],
      "execution_count": 0,
      "outputs": [
        {
          "output_type": "execute_result",
          "data": {
            "text/html": [
              "<div>\n",
              "<style scoped>\n",
              "    .dataframe tbody tr th:only-of-type {\n",
              "        vertical-align: middle;\n",
              "    }\n",
              "\n",
              "    .dataframe tbody tr th {\n",
              "        vertical-align: top;\n",
              "    }\n",
              "\n",
              "    .dataframe thead th {\n",
              "        text-align: right;\n",
              "    }\n",
              "</style>\n",
              "<table border=\"1\" class=\"dataframe\">\n",
              "  <thead>\n",
              "    <tr style=\"text-align: right;\">\n",
              "      <th></th>\n",
              "      <th>A</th>\n",
              "      <th>B</th>\n",
              "    </tr>\n",
              "  </thead>\n",
              "  <tbody>\n",
              "    <tr>\n",
              "      <th>a</th>\n",
              "      <td>100</td>\n",
              "      <td>NaN</td>\n",
              "    </tr>\n",
              "    <tr>\n",
              "      <th>b</th>\n",
              "      <td>200</td>\n",
              "      <td>150</td>\n",
              "    </tr>\n",
              "    <tr>\n",
              "      <th>c</th>\n",
              "      <td>300</td>\n",
              "      <td>NaN</td>\n",
              "    </tr>\n",
              "    <tr>\n",
              "      <th>d</th>\n",
              "      <td>400</td>\n",
              "      <td>50</td>\n",
              "    </tr>\n",
              "  </tbody>\n",
              "</table>\n",
              "</div>"
            ],
            "text/plain": [
              "     A    B\n",
              "a  100  NaN\n",
              "b  200  150\n",
              "c  300  NaN\n",
              "d  400   50"
            ]
          },
          "metadata": {
            "tags": []
          },
          "execution_count": 107
        }
      ]
    },
    {
      "cell_type": "code",
      "metadata": {
        "id": "CGUYzQa0VCmL",
        "colab_type": "code",
        "colab": {}
      },
      "source": [
        "df = pd.DataFrame({'A': df1['A'], 'B': df2['B']})  "
      ],
      "execution_count": 0,
      "outputs": []
    },
    {
      "cell_type": "code",
      "metadata": {
        "id": "HT97muNPVCmM",
        "colab_type": "code",
        "colab": {},
        "outputId": "46e6f97d-5730-4f3b-f7f5-1e3fcf395852"
      },
      "source": [
        "df"
      ],
      "execution_count": 0,
      "outputs": [
        {
          "output_type": "execute_result",
          "data": {
            "text/html": [
              "<div>\n",
              "<style scoped>\n",
              "    .dataframe tbody tr th:only-of-type {\n",
              "        vertical-align: middle;\n",
              "    }\n",
              "\n",
              "    .dataframe tbody tr th {\n",
              "        vertical-align: top;\n",
              "    }\n",
              "\n",
              "    .dataframe thead th {\n",
              "        text-align: right;\n",
              "    }\n",
              "</style>\n",
              "<table border=\"1\" class=\"dataframe\">\n",
              "  <thead>\n",
              "    <tr style=\"text-align: right;\">\n",
              "      <th></th>\n",
              "      <th>A</th>\n",
              "      <th>B</th>\n",
              "    </tr>\n",
              "  </thead>\n",
              "  <tbody>\n",
              "    <tr>\n",
              "      <th>a</th>\n",
              "      <td>100</td>\n",
              "      <td>NaN</td>\n",
              "    </tr>\n",
              "    <tr>\n",
              "      <th>b</th>\n",
              "      <td>200</td>\n",
              "      <td>150</td>\n",
              "    </tr>\n",
              "    <tr>\n",
              "      <th>c</th>\n",
              "      <td>300</td>\n",
              "      <td>NaN</td>\n",
              "    </tr>\n",
              "    <tr>\n",
              "      <th>d</th>\n",
              "      <td>400</td>\n",
              "      <td>50</td>\n",
              "    </tr>\n",
              "    <tr>\n",
              "      <th>f</th>\n",
              "      <td>NaN</td>\n",
              "      <td>200</td>\n",
              "    </tr>\n",
              "  </tbody>\n",
              "</table>\n",
              "</div>"
            ],
            "text/plain": [
              "     A    B\n",
              "a  100  NaN\n",
              "b  200  150\n",
              "c  300  NaN\n",
              "d  400   50\n",
              "f  NaN  200"
            ]
          },
          "metadata": {
            "tags": []
          },
          "execution_count": 109
        }
      ]
    },
    {
      "cell_type": "markdown",
      "metadata": {
        "id": "jiD_ytPEVCmO",
        "colab_type": "text"
      },
      "source": [
        "#### Merging"
      ]
    },
    {
      "cell_type": "code",
      "metadata": {
        "id": "OnoxroIoVCmO",
        "colab_type": "code",
        "colab": {}
      },
      "source": [
        "c = pd.Series([250, 150, 50], index=['b', 'd', 'c'])\n",
        "df1['C'] = c\n",
        "df2['C'] = c"
      ],
      "execution_count": 0,
      "outputs": []
    },
    {
      "cell_type": "code",
      "metadata": {
        "id": "5l2V4NJkVCmR",
        "colab_type": "code",
        "colab": {},
        "outputId": "6380c934-c3e8-483a-f8df-888f86b9d01c"
      },
      "source": [
        "df1"
      ],
      "execution_count": 0,
      "outputs": [
        {
          "output_type": "execute_result",
          "data": {
            "text/html": [
              "<div>\n",
              "<style scoped>\n",
              "    .dataframe tbody tr th:only-of-type {\n",
              "        vertical-align: middle;\n",
              "    }\n",
              "\n",
              "    .dataframe tbody tr th {\n",
              "        vertical-align: top;\n",
              "    }\n",
              "\n",
              "    .dataframe thead th {\n",
              "        text-align: right;\n",
              "    }\n",
              "</style>\n",
              "<table border=\"1\" class=\"dataframe\">\n",
              "  <thead>\n",
              "    <tr style=\"text-align: right;\">\n",
              "      <th></th>\n",
              "      <th>A</th>\n",
              "      <th>C</th>\n",
              "    </tr>\n",
              "  </thead>\n",
              "  <tbody>\n",
              "    <tr>\n",
              "      <th>a</th>\n",
              "      <td>100</td>\n",
              "      <td>NaN</td>\n",
              "    </tr>\n",
              "    <tr>\n",
              "      <th>b</th>\n",
              "      <td>200</td>\n",
              "      <td>250.0</td>\n",
              "    </tr>\n",
              "    <tr>\n",
              "      <th>c</th>\n",
              "      <td>300</td>\n",
              "      <td>50.0</td>\n",
              "    </tr>\n",
              "    <tr>\n",
              "      <th>d</th>\n",
              "      <td>400</td>\n",
              "      <td>150.0</td>\n",
              "    </tr>\n",
              "  </tbody>\n",
              "</table>\n",
              "</div>"
            ],
            "text/plain": [
              "     A      C\n",
              "a  100    NaN\n",
              "b  200  250.0\n",
              "c  300   50.0\n",
              "d  400  150.0"
            ]
          },
          "metadata": {
            "tags": []
          },
          "execution_count": 111
        }
      ]
    },
    {
      "cell_type": "code",
      "metadata": {
        "id": "7pcFpUTUVCmT",
        "colab_type": "code",
        "colab": {},
        "outputId": "4e745ce9-f26a-49d5-ca7f-d04ab22936e0"
      },
      "source": [
        "df2"
      ],
      "execution_count": 0,
      "outputs": [
        {
          "output_type": "execute_result",
          "data": {
            "text/html": [
              "<div>\n",
              "<style scoped>\n",
              "    .dataframe tbody tr th:only-of-type {\n",
              "        vertical-align: middle;\n",
              "    }\n",
              "\n",
              "    .dataframe tbody tr th {\n",
              "        vertical-align: top;\n",
              "    }\n",
              "\n",
              "    .dataframe thead th {\n",
              "        text-align: right;\n",
              "    }\n",
              "</style>\n",
              "<table border=\"1\" class=\"dataframe\">\n",
              "  <thead>\n",
              "    <tr style=\"text-align: right;\">\n",
              "      <th></th>\n",
              "      <th>B</th>\n",
              "      <th>C</th>\n",
              "    </tr>\n",
              "  </thead>\n",
              "  <tbody>\n",
              "    <tr>\n",
              "      <th>f</th>\n",
              "      <td>200</td>\n",
              "      <td>NaN</td>\n",
              "    </tr>\n",
              "    <tr>\n",
              "      <th>b</th>\n",
              "      <td>150</td>\n",
              "      <td>250.0</td>\n",
              "    </tr>\n",
              "    <tr>\n",
              "      <th>d</th>\n",
              "      <td>50</td>\n",
              "      <td>150.0</td>\n",
              "    </tr>\n",
              "  </tbody>\n",
              "</table>\n",
              "</div>"
            ],
            "text/plain": [
              "     B      C\n",
              "f  200    NaN\n",
              "b  150  250.0\n",
              "d   50  150.0"
            ]
          },
          "metadata": {
            "tags": []
          },
          "execution_count": 112
        }
      ]
    },
    {
      "cell_type": "code",
      "metadata": {
        "id": "f9b4ECd2VCmU",
        "colab_type": "code",
        "colab": {},
        "outputId": "e063c9c4-37bf-4df8-b4b7-4e99d8265442"
      },
      "source": [
        "pd.merge(df1, df2)  "
      ],
      "execution_count": 0,
      "outputs": [
        {
          "output_type": "execute_result",
          "data": {
            "text/html": [
              "<div>\n",
              "<style scoped>\n",
              "    .dataframe tbody tr th:only-of-type {\n",
              "        vertical-align: middle;\n",
              "    }\n",
              "\n",
              "    .dataframe tbody tr th {\n",
              "        vertical-align: top;\n",
              "    }\n",
              "\n",
              "    .dataframe thead th {\n",
              "        text-align: right;\n",
              "    }\n",
              "</style>\n",
              "<table border=\"1\" class=\"dataframe\">\n",
              "  <thead>\n",
              "    <tr style=\"text-align: right;\">\n",
              "      <th></th>\n",
              "      <th>A</th>\n",
              "      <th>C</th>\n",
              "      <th>B</th>\n",
              "    </tr>\n",
              "  </thead>\n",
              "  <tbody>\n",
              "    <tr>\n",
              "      <th>0</th>\n",
              "      <td>100</td>\n",
              "      <td>NaN</td>\n",
              "      <td>200</td>\n",
              "    </tr>\n",
              "    <tr>\n",
              "      <th>1</th>\n",
              "      <td>200</td>\n",
              "      <td>250.0</td>\n",
              "      <td>150</td>\n",
              "    </tr>\n",
              "    <tr>\n",
              "      <th>2</th>\n",
              "      <td>400</td>\n",
              "      <td>150.0</td>\n",
              "      <td>50</td>\n",
              "    </tr>\n",
              "  </tbody>\n",
              "</table>\n",
              "</div>"
            ],
            "text/plain": [
              "     A      C    B\n",
              "0  100    NaN  200\n",
              "1  200  250.0  150\n",
              "2  400  150.0   50"
            ]
          },
          "metadata": {
            "tags": []
          },
          "execution_count": 113
        }
      ]
    },
    {
      "cell_type": "code",
      "metadata": {
        "id": "7X-njR7VVCmV",
        "colab_type": "code",
        "colab": {},
        "outputId": "0ad60316-b241-43c8-d22c-7f804b8616c4"
      },
      "source": [
        "pd.merge(df1, df2, on='C')  "
      ],
      "execution_count": 0,
      "outputs": [
        {
          "output_type": "execute_result",
          "data": {
            "text/html": [
              "<div>\n",
              "<style scoped>\n",
              "    .dataframe tbody tr th:only-of-type {\n",
              "        vertical-align: middle;\n",
              "    }\n",
              "\n",
              "    .dataframe tbody tr th {\n",
              "        vertical-align: top;\n",
              "    }\n",
              "\n",
              "    .dataframe thead th {\n",
              "        text-align: right;\n",
              "    }\n",
              "</style>\n",
              "<table border=\"1\" class=\"dataframe\">\n",
              "  <thead>\n",
              "    <tr style=\"text-align: right;\">\n",
              "      <th></th>\n",
              "      <th>A</th>\n",
              "      <th>C</th>\n",
              "      <th>B</th>\n",
              "    </tr>\n",
              "  </thead>\n",
              "  <tbody>\n",
              "    <tr>\n",
              "      <th>0</th>\n",
              "      <td>100</td>\n",
              "      <td>NaN</td>\n",
              "      <td>200</td>\n",
              "    </tr>\n",
              "    <tr>\n",
              "      <th>1</th>\n",
              "      <td>200</td>\n",
              "      <td>250.0</td>\n",
              "      <td>150</td>\n",
              "    </tr>\n",
              "    <tr>\n",
              "      <th>2</th>\n",
              "      <td>400</td>\n",
              "      <td>150.0</td>\n",
              "      <td>50</td>\n",
              "    </tr>\n",
              "  </tbody>\n",
              "</table>\n",
              "</div>"
            ],
            "text/plain": [
              "     A      C    B\n",
              "0  100    NaN  200\n",
              "1  200  250.0  150\n",
              "2  400  150.0   50"
            ]
          },
          "metadata": {
            "tags": []
          },
          "execution_count": 114
        }
      ]
    },
    {
      "cell_type": "code",
      "metadata": {
        "id": "Q6ogZ7zYVCmX",
        "colab_type": "code",
        "colab": {},
        "outputId": "e321630b-a819-4dcd-e3ba-3c07d8b1ed5e"
      },
      "source": [
        "pd.merge(df1, df2, how='outer')  "
      ],
      "execution_count": 0,
      "outputs": [
        {
          "output_type": "execute_result",
          "data": {
            "text/html": [
              "<div>\n",
              "<style scoped>\n",
              "    .dataframe tbody tr th:only-of-type {\n",
              "        vertical-align: middle;\n",
              "    }\n",
              "\n",
              "    .dataframe tbody tr th {\n",
              "        vertical-align: top;\n",
              "    }\n",
              "\n",
              "    .dataframe thead th {\n",
              "        text-align: right;\n",
              "    }\n",
              "</style>\n",
              "<table border=\"1\" class=\"dataframe\">\n",
              "  <thead>\n",
              "    <tr style=\"text-align: right;\">\n",
              "      <th></th>\n",
              "      <th>A</th>\n",
              "      <th>C</th>\n",
              "      <th>B</th>\n",
              "    </tr>\n",
              "  </thead>\n",
              "  <tbody>\n",
              "    <tr>\n",
              "      <th>0</th>\n",
              "      <td>100</td>\n",
              "      <td>NaN</td>\n",
              "      <td>200</td>\n",
              "    </tr>\n",
              "    <tr>\n",
              "      <th>1</th>\n",
              "      <td>200</td>\n",
              "      <td>250.0</td>\n",
              "      <td>150</td>\n",
              "    </tr>\n",
              "    <tr>\n",
              "      <th>2</th>\n",
              "      <td>300</td>\n",
              "      <td>50.0</td>\n",
              "      <td>NaN</td>\n",
              "    </tr>\n",
              "    <tr>\n",
              "      <th>3</th>\n",
              "      <td>400</td>\n",
              "      <td>150.0</td>\n",
              "      <td>50</td>\n",
              "    </tr>\n",
              "  </tbody>\n",
              "</table>\n",
              "</div>"
            ],
            "text/plain": [
              "     A      C    B\n",
              "0  100    NaN  200\n",
              "1  200  250.0  150\n",
              "2  300   50.0  NaN\n",
              "3  400  150.0   50"
            ]
          },
          "metadata": {
            "tags": []
          },
          "execution_count": 115
        }
      ]
    },
    {
      "cell_type": "code",
      "metadata": {
        "id": "XnlyZ5iGVCmZ",
        "colab_type": "code",
        "colab": {},
        "outputId": "7194992f-aa2b-4481-dd41-b6f873a6e004"
      },
      "source": [
        "pd.merge(df1, df2, left_on='A', right_on='B')"
      ],
      "execution_count": 0,
      "outputs": [
        {
          "output_type": "execute_result",
          "data": {
            "text/html": [
              "<div>\n",
              "<style scoped>\n",
              "    .dataframe tbody tr th:only-of-type {\n",
              "        vertical-align: middle;\n",
              "    }\n",
              "\n",
              "    .dataframe tbody tr th {\n",
              "        vertical-align: top;\n",
              "    }\n",
              "\n",
              "    .dataframe thead th {\n",
              "        text-align: right;\n",
              "    }\n",
              "</style>\n",
              "<table border=\"1\" class=\"dataframe\">\n",
              "  <thead>\n",
              "    <tr style=\"text-align: right;\">\n",
              "      <th></th>\n",
              "      <th>A</th>\n",
              "      <th>C_x</th>\n",
              "      <th>B</th>\n",
              "      <th>C_y</th>\n",
              "    </tr>\n",
              "  </thead>\n",
              "  <tbody>\n",
              "    <tr>\n",
              "      <th>0</th>\n",
              "      <td>200</td>\n",
              "      <td>250.0</td>\n",
              "      <td>200</td>\n",
              "      <td>NaN</td>\n",
              "    </tr>\n",
              "  </tbody>\n",
              "</table>\n",
              "</div>"
            ],
            "text/plain": [
              "     A    C_x    B  C_y\n",
              "0  200  250.0  200  NaN"
            ]
          },
          "metadata": {
            "tags": []
          },
          "execution_count": 116
        }
      ]
    },
    {
      "cell_type": "code",
      "metadata": {
        "id": "uQAd6z2CVCma",
        "colab_type": "code",
        "colab": {},
        "outputId": "f6024e74-88d3-46e0-aff8-34d553173aff"
      },
      "source": [
        "pd.merge(df1, df2, left_on='A', right_on='B', how='outer')  "
      ],
      "execution_count": 0,
      "outputs": [
        {
          "output_type": "execute_result",
          "data": {
            "text/html": [
              "<div>\n",
              "<style scoped>\n",
              "    .dataframe tbody tr th:only-of-type {\n",
              "        vertical-align: middle;\n",
              "    }\n",
              "\n",
              "    .dataframe tbody tr th {\n",
              "        vertical-align: top;\n",
              "    }\n",
              "\n",
              "    .dataframe thead th {\n",
              "        text-align: right;\n",
              "    }\n",
              "</style>\n",
              "<table border=\"1\" class=\"dataframe\">\n",
              "  <thead>\n",
              "    <tr style=\"text-align: right;\">\n",
              "      <th></th>\n",
              "      <th>A</th>\n",
              "      <th>C_x</th>\n",
              "      <th>B</th>\n",
              "      <th>C_y</th>\n",
              "    </tr>\n",
              "  </thead>\n",
              "  <tbody>\n",
              "    <tr>\n",
              "      <th>0</th>\n",
              "      <td>100</td>\n",
              "      <td>NaN</td>\n",
              "      <td>NaN</td>\n",
              "      <td>NaN</td>\n",
              "    </tr>\n",
              "    <tr>\n",
              "      <th>1</th>\n",
              "      <td>200</td>\n",
              "      <td>250.0</td>\n",
              "      <td>200</td>\n",
              "      <td>NaN</td>\n",
              "    </tr>\n",
              "    <tr>\n",
              "      <th>2</th>\n",
              "      <td>300</td>\n",
              "      <td>50.0</td>\n",
              "      <td>NaN</td>\n",
              "      <td>NaN</td>\n",
              "    </tr>\n",
              "    <tr>\n",
              "      <th>3</th>\n",
              "      <td>400</td>\n",
              "      <td>150.0</td>\n",
              "      <td>NaN</td>\n",
              "      <td>NaN</td>\n",
              "    </tr>\n",
              "    <tr>\n",
              "      <th>4</th>\n",
              "      <td>NaN</td>\n",
              "      <td>NaN</td>\n",
              "      <td>150</td>\n",
              "      <td>250.0</td>\n",
              "    </tr>\n",
              "    <tr>\n",
              "      <th>5</th>\n",
              "      <td>NaN</td>\n",
              "      <td>NaN</td>\n",
              "      <td>50</td>\n",
              "      <td>150.0</td>\n",
              "    </tr>\n",
              "  </tbody>\n",
              "</table>\n",
              "</div>"
            ],
            "text/plain": [
              "     A    C_x    B    C_y\n",
              "0  100    NaN  NaN    NaN\n",
              "1  200  250.0  200    NaN\n",
              "2  300   50.0  NaN    NaN\n",
              "3  400  150.0  NaN    NaN\n",
              "4  NaN    NaN  150  250.0\n",
              "5  NaN    NaN   50  150.0"
            ]
          },
          "metadata": {
            "tags": []
          },
          "execution_count": 117
        }
      ]
    },
    {
      "cell_type": "code",
      "metadata": {
        "id": "NtQZTOnlVCmb",
        "colab_type": "code",
        "colab": {},
        "outputId": "37902734-8bc5-4710-ea4a-9b0387d3d657"
      },
      "source": [
        "pd.merge(df1, df2, left_index=True, right_index=True)"
      ],
      "execution_count": 0,
      "outputs": [
        {
          "output_type": "execute_result",
          "data": {
            "text/html": [
              "<div>\n",
              "<style scoped>\n",
              "    .dataframe tbody tr th:only-of-type {\n",
              "        vertical-align: middle;\n",
              "    }\n",
              "\n",
              "    .dataframe tbody tr th {\n",
              "        vertical-align: top;\n",
              "    }\n",
              "\n",
              "    .dataframe thead th {\n",
              "        text-align: right;\n",
              "    }\n",
              "</style>\n",
              "<table border=\"1\" class=\"dataframe\">\n",
              "  <thead>\n",
              "    <tr style=\"text-align: right;\">\n",
              "      <th></th>\n",
              "      <th>A</th>\n",
              "      <th>C_x</th>\n",
              "      <th>B</th>\n",
              "      <th>C_y</th>\n",
              "    </tr>\n",
              "  </thead>\n",
              "  <tbody>\n",
              "    <tr>\n",
              "      <th>b</th>\n",
              "      <td>200</td>\n",
              "      <td>250.0</td>\n",
              "      <td>150</td>\n",
              "      <td>250.0</td>\n",
              "    </tr>\n",
              "    <tr>\n",
              "      <th>d</th>\n",
              "      <td>400</td>\n",
              "      <td>150.0</td>\n",
              "      <td>50</td>\n",
              "      <td>150.0</td>\n",
              "    </tr>\n",
              "  </tbody>\n",
              "</table>\n",
              "</div>"
            ],
            "text/plain": [
              "     A    C_x    B    C_y\n",
              "b  200  250.0  150  250.0\n",
              "d  400  150.0   50  150.0"
            ]
          },
          "metadata": {
            "tags": []
          },
          "execution_count": 118
        }
      ]
    },
    {
      "cell_type": "code",
      "metadata": {
        "id": "JwMYAqEzVCmd",
        "colab_type": "code",
        "colab": {},
        "outputId": "c8462980-6809-4a87-baa9-75e5b9cfab93"
      },
      "source": [
        "pd.merge(df1, df2, on='C', left_index=True)"
      ],
      "execution_count": 0,
      "outputs": [
        {
          "output_type": "execute_result",
          "data": {
            "text/html": [
              "<div>\n",
              "<style scoped>\n",
              "    .dataframe tbody tr th:only-of-type {\n",
              "        vertical-align: middle;\n",
              "    }\n",
              "\n",
              "    .dataframe tbody tr th {\n",
              "        vertical-align: top;\n",
              "    }\n",
              "\n",
              "    .dataframe thead th {\n",
              "        text-align: right;\n",
              "    }\n",
              "</style>\n",
              "<table border=\"1\" class=\"dataframe\">\n",
              "  <thead>\n",
              "    <tr style=\"text-align: right;\">\n",
              "      <th></th>\n",
              "      <th>A</th>\n",
              "      <th>C</th>\n",
              "      <th>B</th>\n",
              "    </tr>\n",
              "  </thead>\n",
              "  <tbody>\n",
              "    <tr>\n",
              "      <th>f</th>\n",
              "      <td>100</td>\n",
              "      <td>NaN</td>\n",
              "      <td>200</td>\n",
              "    </tr>\n",
              "    <tr>\n",
              "      <th>b</th>\n",
              "      <td>200</td>\n",
              "      <td>250.0</td>\n",
              "      <td>150</td>\n",
              "    </tr>\n",
              "    <tr>\n",
              "      <th>d</th>\n",
              "      <td>400</td>\n",
              "      <td>150.0</td>\n",
              "      <td>50</td>\n",
              "    </tr>\n",
              "  </tbody>\n",
              "</table>\n",
              "</div>"
            ],
            "text/plain": [
              "     A      C    B\n",
              "f  100    NaN  200\n",
              "b  200  250.0  150\n",
              "d  400  150.0   50"
            ]
          },
          "metadata": {
            "tags": []
          },
          "execution_count": 119
        }
      ]
    },
    {
      "cell_type": "code",
      "metadata": {
        "id": "jALZtKVZVCmf",
        "colab_type": "code",
        "colab": {},
        "outputId": "085a8c6c-89f0-4972-e773-9818a9edaada"
      },
      "source": [
        "pd.merge(df1, df2, on='C', right_index=True)"
      ],
      "execution_count": 0,
      "outputs": [
        {
          "output_type": "execute_result",
          "data": {
            "text/html": [
              "<div>\n",
              "<style scoped>\n",
              "    .dataframe tbody tr th:only-of-type {\n",
              "        vertical-align: middle;\n",
              "    }\n",
              "\n",
              "    .dataframe tbody tr th {\n",
              "        vertical-align: top;\n",
              "    }\n",
              "\n",
              "    .dataframe thead th {\n",
              "        text-align: right;\n",
              "    }\n",
              "</style>\n",
              "<table border=\"1\" class=\"dataframe\">\n",
              "  <thead>\n",
              "    <tr style=\"text-align: right;\">\n",
              "      <th></th>\n",
              "      <th>A</th>\n",
              "      <th>C</th>\n",
              "      <th>B</th>\n",
              "    </tr>\n",
              "  </thead>\n",
              "  <tbody>\n",
              "    <tr>\n",
              "      <th>a</th>\n",
              "      <td>100</td>\n",
              "      <td>NaN</td>\n",
              "      <td>200</td>\n",
              "    </tr>\n",
              "    <tr>\n",
              "      <th>b</th>\n",
              "      <td>200</td>\n",
              "      <td>250.0</td>\n",
              "      <td>150</td>\n",
              "    </tr>\n",
              "    <tr>\n",
              "      <th>d</th>\n",
              "      <td>400</td>\n",
              "      <td>150.0</td>\n",
              "      <td>50</td>\n",
              "    </tr>\n",
              "  </tbody>\n",
              "</table>\n",
              "</div>"
            ],
            "text/plain": [
              "     A      C    B\n",
              "a  100    NaN  200\n",
              "b  200  250.0  150\n",
              "d  400  150.0   50"
            ]
          },
          "metadata": {
            "tags": []
          },
          "execution_count": 120
        }
      ]
    },
    {
      "cell_type": "code",
      "metadata": {
        "id": "EdzSt5HIVCmg",
        "colab_type": "code",
        "colab": {},
        "outputId": "82e4b9d7-5818-44b4-d2d5-2c0ff3d831f7"
      },
      "source": [
        "pd.merge(df1, df2, on='C', left_index=True, right_index=True)"
      ],
      "execution_count": 0,
      "outputs": [
        {
          "output_type": "execute_result",
          "data": {
            "text/html": [
              "<div>\n",
              "<style scoped>\n",
              "    .dataframe tbody tr th:only-of-type {\n",
              "        vertical-align: middle;\n",
              "    }\n",
              "\n",
              "    .dataframe tbody tr th {\n",
              "        vertical-align: top;\n",
              "    }\n",
              "\n",
              "    .dataframe thead th {\n",
              "        text-align: right;\n",
              "    }\n",
              "</style>\n",
              "<table border=\"1\" class=\"dataframe\">\n",
              "  <thead>\n",
              "    <tr style=\"text-align: right;\">\n",
              "      <th></th>\n",
              "      <th>A</th>\n",
              "      <th>C</th>\n",
              "      <th>B</th>\n",
              "    </tr>\n",
              "  </thead>\n",
              "  <tbody>\n",
              "    <tr>\n",
              "      <th>b</th>\n",
              "      <td>200</td>\n",
              "      <td>250.0</td>\n",
              "      <td>150</td>\n",
              "    </tr>\n",
              "    <tr>\n",
              "      <th>d</th>\n",
              "      <td>400</td>\n",
              "      <td>150.0</td>\n",
              "      <td>50</td>\n",
              "    </tr>\n",
              "  </tbody>\n",
              "</table>\n",
              "</div>"
            ],
            "text/plain": [
              "     A      C    B\n",
              "b  200  250.0  150\n",
              "d  400  150.0   50"
            ]
          },
          "metadata": {
            "tags": []
          },
          "execution_count": 121
        }
      ]
    },
    {
      "cell_type": "markdown",
      "metadata": {
        "id": "82rSyNV0VCmh",
        "colab_type": "text"
      },
      "source": [
        "## Performance Aspects"
      ]
    },
    {
      "cell_type": "code",
      "metadata": {
        "id": "0aUJIjqxVCmi",
        "colab_type": "code",
        "colab": {}
      },
      "source": [
        "data = np.random.standard_normal((1000000, 2))  "
      ],
      "execution_count": 0,
      "outputs": []
    },
    {
      "cell_type": "code",
      "metadata": {
        "id": "oIObtvgPVCmj",
        "colab_type": "code",
        "colab": {},
        "outputId": "47941b6a-f14c-4336-8c8e-3faae7a48310"
      },
      "source": [
        "data.nbytes  "
      ],
      "execution_count": 0,
      "outputs": [
        {
          "output_type": "execute_result",
          "data": {
            "text/plain": [
              "16000000"
            ]
          },
          "metadata": {
            "tags": []
          },
          "execution_count": 123
        }
      ]
    },
    {
      "cell_type": "code",
      "metadata": {
        "id": "WA85kDvCVCmk",
        "colab_type": "code",
        "colab": {}
      },
      "source": [
        "df = pd.DataFrame(data, columns=['x', 'y'])  "
      ],
      "execution_count": 0,
      "outputs": []
    },
    {
      "cell_type": "code",
      "metadata": {
        "id": "M_qLRVC0VCmn",
        "colab_type": "code",
        "colab": {},
        "outputId": "86a72d05-c140-40d8-f825-aaae206f07e5"
      },
      "source": [
        "df.info()  "
      ],
      "execution_count": 0,
      "outputs": [
        {
          "output_type": "stream",
          "text": [
            "<class 'pandas.core.frame.DataFrame'>\n",
            "RangeIndex: 1000000 entries, 0 to 999999\n",
            "Data columns (total 2 columns):\n",
            "x    1000000 non-null float64\n",
            "y    1000000 non-null float64\n",
            "dtypes: float64(2)\n",
            "memory usage: 15.3 MB\n"
          ],
          "name": "stdout"
        }
      ]
    },
    {
      "cell_type": "code",
      "metadata": {
        "id": "ZWtJLeP5VCmp",
        "colab_type": "code",
        "colab": {},
        "outputId": "f293ca8a-2228-40df-c311-4080dd29acd9"
      },
      "source": [
        "%time res = df['x'] + df['y']  "
      ],
      "execution_count": 0,
      "outputs": [
        {
          "output_type": "stream",
          "text": [
            "CPU times: user 6.3 ms, sys: 14.8 ms, total: 21.1 ms\n",
            "Wall time: 4.88 ms\n"
          ],
          "name": "stdout"
        }
      ]
    },
    {
      "cell_type": "code",
      "metadata": {
        "id": "tt8EXHayVCmr",
        "colab_type": "code",
        "colab": {},
        "outputId": "8f682855-b60e-46a0-8604-8a3d270efbab"
      },
      "source": [
        "res[:3]"
      ],
      "execution_count": 0,
      "outputs": [
        {
          "output_type": "execute_result",
          "data": {
            "text/plain": [
              "0    0.387242\n",
              "1   -0.969343\n",
              "2   -0.863159\n",
              "dtype: float64"
            ]
          },
          "metadata": {
            "tags": []
          },
          "execution_count": 127
        }
      ]
    },
    {
      "cell_type": "code",
      "metadata": {
        "id": "EfneK2XuVCmt",
        "colab_type": "code",
        "colab": {},
        "outputId": "d3091a20-0fcf-4d4f-fa9c-57d24e724a64"
      },
      "source": [
        "%time res = df.sum(axis=1)  "
      ],
      "execution_count": 0,
      "outputs": [
        {
          "output_type": "stream",
          "text": [
            "CPU times: user 231 ms, sys: 30.2 ms, total: 261 ms\n",
            "Wall time: 67.8 ms\n"
          ],
          "name": "stdout"
        }
      ]
    },
    {
      "cell_type": "code",
      "metadata": {
        "id": "vNshOm6CVCmx",
        "colab_type": "code",
        "colab": {},
        "outputId": "6e317615-5c56-4451-b48b-aa7a35312c04"
      },
      "source": [
        "res[:3]"
      ],
      "execution_count": 0,
      "outputs": [
        {
          "output_type": "execute_result",
          "data": {
            "text/plain": [
              "0    0.387242\n",
              "1   -0.969343\n",
              "2   -0.863159\n",
              "dtype: float64"
            ]
          },
          "metadata": {
            "tags": []
          },
          "execution_count": 129
        }
      ]
    },
    {
      "cell_type": "code",
      "metadata": {
        "id": "96WZrzTYVCm2",
        "colab_type": "code",
        "colab": {},
        "outputId": "94b5e9b5-e635-4ade-d4d4-fd5870147f7b"
      },
      "source": [
        "%time res = df.values.sum(axis=1)  "
      ],
      "execution_count": 0,
      "outputs": [
        {
          "output_type": "stream",
          "text": [
            "CPU times: user 81.4 ms, sys: 1.38 ms, total: 82.8 ms\n",
            "Wall time: 21 ms\n"
          ],
          "name": "stdout"
        }
      ]
    },
    {
      "cell_type": "code",
      "metadata": {
        "id": "zQkxviNkVCm4",
        "colab_type": "code",
        "colab": {},
        "outputId": "fc3cf2e9-0cdc-44db-e9c6-3d00b8228363"
      },
      "source": [
        "res[:3]"
      ],
      "execution_count": 0,
      "outputs": [
        {
          "output_type": "execute_result",
          "data": {
            "text/plain": [
              "array([ 0.3872424 , -0.96934273, -0.86315944])"
            ]
          },
          "metadata": {
            "tags": []
          },
          "execution_count": 131
        }
      ]
    },
    {
      "cell_type": "code",
      "metadata": {
        "id": "y770-iQ5VCm7",
        "colab_type": "code",
        "colab": {},
        "outputId": "6e2523cf-6692-4814-fa5d-ab7aba8b86b4"
      },
      "source": [
        "%time res = np.sum(df, axis=1)  "
      ],
      "execution_count": 0,
      "outputs": [
        {
          "output_type": "stream",
          "text": [
            "CPU times: user 237 ms, sys: 9.42 ms, total: 246 ms\n",
            "Wall time: 60.7 ms\n"
          ],
          "name": "stdout"
        }
      ]
    },
    {
      "cell_type": "code",
      "metadata": {
        "id": "4g7SIuy_VCm8",
        "colab_type": "code",
        "colab": {},
        "outputId": "2704e831-0297-4bc6-9a86-b6f65bc3adad"
      },
      "source": [
        "res[:3]"
      ],
      "execution_count": 0,
      "outputs": [
        {
          "output_type": "execute_result",
          "data": {
            "text/plain": [
              "0    0.387242\n",
              "1   -0.969343\n",
              "2   -0.863159\n",
              "dtype: float64"
            ]
          },
          "metadata": {
            "tags": []
          },
          "execution_count": 133
        }
      ]
    },
    {
      "cell_type": "code",
      "metadata": {
        "id": "Gz7YydwQVCnA",
        "colab_type": "code",
        "colab": {},
        "outputId": "02b97596-aa28-419e-eba8-0cd7387e7e4b"
      },
      "source": [
        "%time res = np.sum(df.values, axis=1)  "
      ],
      "execution_count": 0,
      "outputs": [
        {
          "output_type": "stream",
          "text": [
            "CPU times: user 62 ms, sys: 1.11 ms, total: 63.1 ms\n",
            "Wall time: 19.4 ms\n"
          ],
          "name": "stdout"
        }
      ]
    },
    {
      "cell_type": "code",
      "metadata": {
        "id": "SSDl9GlWVCnE",
        "colab_type": "code",
        "colab": {},
        "outputId": "d884d7d3-7894-4503-c727-1d77eabe9dcb"
      },
      "source": [
        "res[:3]"
      ],
      "execution_count": 0,
      "outputs": [
        {
          "output_type": "execute_result",
          "data": {
            "text/plain": [
              "array([ 0.3872424 , -0.96934273, -0.86315944])"
            ]
          },
          "metadata": {
            "tags": []
          },
          "execution_count": 135
        }
      ]
    },
    {
      "cell_type": "code",
      "metadata": {
        "id": "oCBmcEtjVCnH",
        "colab_type": "code",
        "colab": {},
        "outputId": "0317fa53-e527-4644-c067-20e95c48fbc0"
      },
      "source": [
        "%time res = df.eval('x + y')  "
      ],
      "execution_count": 0,
      "outputs": [
        {
          "output_type": "stream",
          "text": [
            "CPU times: user 42 ms, sys: 22.5 ms, total: 64.5 ms\n",
            "Wall time: 13.2 ms\n"
          ],
          "name": "stdout"
        }
      ]
    },
    {
      "cell_type": "code",
      "metadata": {
        "id": "JUodnYyyVCnO",
        "colab_type": "code",
        "colab": {},
        "outputId": "fd8e289c-ba17-4868-b953-7fba47125610"
      },
      "source": [
        "res[:3]"
      ],
      "execution_count": 0,
      "outputs": [
        {
          "output_type": "execute_result",
          "data": {
            "text/plain": [
              "0    0.387242\n",
              "1   -0.969343\n",
              "2   -0.863159\n",
              "dtype: float64"
            ]
          },
          "metadata": {
            "tags": []
          },
          "execution_count": 137
        }
      ]
    },
    {
      "cell_type": "code",
      "metadata": {
        "id": "U1X1nYVuVCnQ",
        "colab_type": "code",
        "colab": {},
        "outputId": "2f14f1aa-defc-4969-86c7-0156e68fa5f6"
      },
      "source": [
        "%time res = df.apply(lambda row: row['x'] + row['y'], axis=1)  "
      ],
      "execution_count": 0,
      "outputs": [
        {
          "output_type": "stream",
          "text": [
            "CPU times: user 18.8 s, sys: 56.8 ms, total: 18.9 s\n",
            "Wall time: 18.4 s\n"
          ],
          "name": "stdout"
        }
      ]
    },
    {
      "cell_type": "code",
      "metadata": {
        "id": "k3Psz42wVCnS",
        "colab_type": "code",
        "colab": {},
        "outputId": "3bbcf683-4057-4937-9ed6-dfda90ba660b"
      },
      "source": [
        "res[:3]"
      ],
      "execution_count": 0,
      "outputs": [
        {
          "output_type": "execute_result",
          "data": {
            "text/plain": [
              "0    0.387242\n",
              "1   -0.969343\n",
              "2   -0.863159\n",
              "dtype: float64"
            ]
          },
          "metadata": {
            "tags": []
          },
          "execution_count": 139
        }
      ]
    },
    {
      "cell_type": "markdown",
      "metadata": {
        "id": "vPuadgbiVCnT",
        "colab_type": "text"
      },
      "source": [
        "<img src=\"http://hilpisch.com/tpq_logo.png\" alt=\"The Python Quants\" width=\"35%\" align=\"right\" border=\"0\"><br>\n",
        "\n",
        "<a href=\"http://tpq.io\" target=\"_blank\">http://tpq.io</a> | <a href=\"http://twitter.com/dyjh\" target=\"_blank\">@dyjh</a> | <a href=\"mailto:training@tpq.io\">training@tpq.io</a>"
      ]
    }
  ]
}