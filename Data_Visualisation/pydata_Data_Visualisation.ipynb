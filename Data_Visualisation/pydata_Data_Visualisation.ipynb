{
  "nbformat": 4,
  "nbformat_minor": 0,
  "metadata": {
    "kernelspec": {
      "display_name": "Python 3",
      "language": "python",
      "name": "python3"
    },
    "language_info": {
      "codemirror_mode": {
        "name": "ipython",
        "version": 3
      },
      "file_extension": ".py",
      "mimetype": "text/x-python",
      "name": "python",
      "nbconvert_exporter": "python",
      "pygments_lexer": "ipython3",
      "version": "3.6.0"
    },
    "colab": {
      "name": "ch09.ipynb",
      "provenance": []
    }
  },
  "cells": [
    {
      "cell_type": "markdown",
      "metadata": {
        "deletable": true,
        "editable": true,
        "id": "o5SRwBaiYd0d",
        "colab_type": "text"
      },
      "source": [
        "# Plotting and Visualization"
      ]
    },
    {
      "cell_type": "code",
      "metadata": {
        "deletable": true,
        "editable": true,
        "id": "4hQxYSeSYd0e",
        "colab_type": "code",
        "colab": {}
      },
      "source": [
        "import numpy as np\n",
        "import pandas as pd\n",
        "PREVIOUS_MAX_ROWS = pd.options.display.max_rows\n",
        "pd.options.display.max_rows = 20\n",
        "np.random.seed(12345)\n",
        "import matplotlib.pyplot as plt\n",
        "import matplotlib\n",
        "plt.rc('figure', figsize=(10, 6))\n",
        "np.set_printoptions(precision=4, suppress=True)"
      ],
      "execution_count": 0,
      "outputs": []
    },
    {
      "cell_type": "markdown",
      "metadata": {
        "deletable": true,
        "editable": true,
        "id": "Y3rweC1vYd0i",
        "colab_type": "text"
      },
      "source": [
        "%matplotlib notebook"
      ]
    },
    {
      "cell_type": "markdown",
      "metadata": {
        "deletable": true,
        "editable": true,
        "id": "hTG8XeGVYd0j",
        "colab_type": "text"
      },
      "source": [
        "## A Brief matplotlib API Primer"
      ]
    },
    {
      "cell_type": "code",
      "metadata": {
        "deletable": true,
        "editable": true,
        "id": "qaZRzCB3Yd0k",
        "colab_type": "code",
        "colab": {}
      },
      "source": [
        "import matplotlib.pyplot as plt"
      ],
      "execution_count": 0,
      "outputs": []
    },
    {
      "cell_type": "code",
      "metadata": {
        "deletable": true,
        "editable": true,
        "id": "dZHy1EPHYd0n",
        "colab_type": "code",
        "colab": {}
      },
      "source": [
        "import numpy as np\n",
        "data = np.arange(10)\n",
        "data\n",
        "plt.plot(data)"
      ],
      "execution_count": 0,
      "outputs": []
    },
    {
      "cell_type": "markdown",
      "metadata": {
        "deletable": true,
        "editable": true,
        "id": "XaPUJ3x8Yd0s",
        "colab_type": "text"
      },
      "source": [
        "### Figures and Subplots"
      ]
    },
    {
      "cell_type": "code",
      "metadata": {
        "deletable": true,
        "editable": true,
        "id": "ywO5unRRYd0t",
        "colab_type": "code",
        "colab": {}
      },
      "source": [
        "fig = plt.figure()"
      ],
      "execution_count": 0,
      "outputs": []
    },
    {
      "cell_type": "code",
      "metadata": {
        "deletable": true,
        "editable": true,
        "id": "Wq8oN_MhYd0w",
        "colab_type": "code",
        "colab": {}
      },
      "source": [
        "ax1 = fig.add_subplot(2, 2, 1)"
      ],
      "execution_count": 0,
      "outputs": []
    },
    {
      "cell_type": "code",
      "metadata": {
        "deletable": true,
        "editable": true,
        "id": "9x8OX3hcYd0z",
        "colab_type": "code",
        "colab": {}
      },
      "source": [
        "ax2 = fig.add_subplot(2, 2, 2)\n",
        "ax3 = fig.add_subplot(2, 2, 3)"
      ],
      "execution_count": 0,
      "outputs": []
    },
    {
      "cell_type": "markdown",
      "metadata": {
        "deletable": true,
        "editable": true,
        "id": "W6G8RVPdYd03",
        "colab_type": "text"
      },
      "source": [
        "fig = plt.figure()\n",
        "ax1 = fig.add_subplot(2, 2, 1)\n",
        "ax2 = fig.add_subplot(2, 2, 2)\n",
        "ax3 = fig.add_subplot(2, 2, 3)"
      ]
    },
    {
      "cell_type": "code",
      "metadata": {
        "deletable": true,
        "editable": true,
        "id": "xuqwDLwBYd04",
        "colab_type": "code",
        "colab": {}
      },
      "source": [
        "plt.plot(np.random.randn(50).cumsum(), 'k--')"
      ],
      "execution_count": 0,
      "outputs": []
    },
    {
      "cell_type": "code",
      "metadata": {
        "deletable": true,
        "editable": true,
        "id": "a1170n23Yd0_",
        "colab_type": "code",
        "colab": {}
      },
      "source": [
        "_ = ax1.hist(np.random.randn(100), bins=20, color='k', alpha=0.3)\n",
        "ax2.scatter(np.arange(30), np.arange(30) + 3 * np.random.randn(30))"
      ],
      "execution_count": 0,
      "outputs": []
    },
    {
      "cell_type": "code",
      "metadata": {
        "deletable": true,
        "editable": true,
        "id": "LEZAUs5YYd1B",
        "colab_type": "code",
        "colab": {}
      },
      "source": [
        "plt.close('all')"
      ],
      "execution_count": 0,
      "outputs": []
    },
    {
      "cell_type": "code",
      "metadata": {
        "deletable": true,
        "editable": true,
        "id": "i5hnO0PqYd1E",
        "colab_type": "code",
        "colab": {}
      },
      "source": [
        "fig, axes = plt.subplots(2, 3)\n",
        "axes"
      ],
      "execution_count": 0,
      "outputs": []
    },
    {
      "cell_type": "markdown",
      "metadata": {
        "deletable": true,
        "editable": true,
        "id": "DcLCjYPmYd1I",
        "colab_type": "text"
      },
      "source": [
        "#### Adjusting the spacing around subplots"
      ]
    },
    {
      "cell_type": "markdown",
      "metadata": {
        "deletable": true,
        "editable": true,
        "id": "woUGmB18Yd1M",
        "colab_type": "text"
      },
      "source": [
        "subplots_adjust(left=None, bottom=None, right=None, top=None,\n",
        "                wspace=None, hspace=None)"
      ]
    },
    {
      "cell_type": "markdown",
      "metadata": {
        "deletable": true,
        "editable": true,
        "id": "wNhQp7-iYd1N",
        "colab_type": "text"
      },
      "source": [
        "fig, axes = plt.subplots(2, 2, sharex=True, sharey=True)\n",
        "for i in range(2):\n",
        "    for j in range(2):\n",
        "        axes[i, j].hist(np.random.randn(500), bins=50, color='k', alpha=0.5)\n",
        "plt.subplots_adjust(wspace=0, hspace=0)"
      ]
    },
    {
      "cell_type": "code",
      "metadata": {
        "deletable": true,
        "editable": true,
        "id": "NSaBa08GYd1N",
        "colab_type": "code",
        "colab": {}
      },
      "source": [
        "fig, axes = plt.subplots(2, 2, sharex=True, sharey=True)\n",
        "for i in range(2):\n",
        "    for j in range(2):\n",
        "        axes[i, j].hist(np.random.randn(500), bins=50, color='k', alpha=0.5)\n",
        "plt.subplots_adjust(wspace=0, hspace=0)"
      ],
      "execution_count": 0,
      "outputs": []
    },
    {
      "cell_type": "markdown",
      "metadata": {
        "deletable": true,
        "editable": true,
        "id": "AFLQW5VBYd1Q",
        "colab_type": "text"
      },
      "source": [
        "### Colors, Markers, and Line Styles"
      ]
    },
    {
      "cell_type": "markdown",
      "metadata": {
        "deletable": true,
        "editable": true,
        "id": "b4jgPh6oYd1R",
        "colab_type": "text"
      },
      "source": [
        "ax.plot(x, y, 'g--')"
      ]
    },
    {
      "cell_type": "markdown",
      "metadata": {
        "deletable": true,
        "editable": true,
        "id": "dtFdC_H-Yd1R",
        "colab_type": "text"
      },
      "source": [
        "ax.plot(x, y, linestyle='--', color='g')"
      ]
    },
    {
      "cell_type": "code",
      "metadata": {
        "deletable": true,
        "editable": true,
        "id": "uCzuM7EoYd1S",
        "colab_type": "code",
        "colab": {}
      },
      "source": [
        "plt.figure()"
      ],
      "execution_count": 0,
      "outputs": []
    },
    {
      "cell_type": "code",
      "metadata": {
        "deletable": true,
        "editable": true,
        "id": "sdI4E47HYd1U",
        "colab_type": "code",
        "colab": {}
      },
      "source": [
        "from numpy.random import randn\n",
        "plt.plot(randn(30).cumsum(), 'ko--')"
      ],
      "execution_count": 0,
      "outputs": []
    },
    {
      "cell_type": "markdown",
      "metadata": {
        "deletable": true,
        "editable": true,
        "id": "iydkdnXJYd1X",
        "colab_type": "text"
      },
      "source": [
        "plot(randn(30).cumsum(), color='k', linestyle='dashed', marker='o')"
      ]
    },
    {
      "cell_type": "code",
      "metadata": {
        "deletable": true,
        "editable": true,
        "id": "vtGX-IFPYd1a",
        "colab_type": "code",
        "colab": {}
      },
      "source": [
        "plt.close('all')"
      ],
      "execution_count": 0,
      "outputs": []
    },
    {
      "cell_type": "code",
      "metadata": {
        "deletable": true,
        "editable": true,
        "id": "HbWg-KTMYd1f",
        "colab_type": "code",
        "colab": {}
      },
      "source": [
        "data = np.random.randn(30).cumsum()\n",
        "plt.plot(data, 'k--', label='Default')\n",
        "plt.plot(data, 'k-', drawstyle='steps-post', label='steps-post')\n",
        "plt.legend(loc='best')"
      ],
      "execution_count": 0,
      "outputs": []
    },
    {
      "cell_type": "markdown",
      "metadata": {
        "deletable": true,
        "editable": true,
        "id": "ZncfnKM_Yd1j",
        "colab_type": "text"
      },
      "source": [
        "### Ticks, Labels, and Legends"
      ]
    },
    {
      "cell_type": "markdown",
      "metadata": {
        "deletable": true,
        "editable": true,
        "id": "i5PJCv8RYd1j",
        "colab_type": "text"
      },
      "source": [
        "#### Setting the title, axis labels, ticks, and ticklabels"
      ]
    },
    {
      "cell_type": "code",
      "metadata": {
        "deletable": true,
        "editable": true,
        "id": "ww1xtzrTYd1k",
        "colab_type": "code",
        "colab": {}
      },
      "source": [
        "fig = plt.figure()\n",
        "ax = fig.add_subplot(1, 1, 1)\n",
        "ax.plot(np.random.randn(1000).cumsum())"
      ],
      "execution_count": 0,
      "outputs": []
    },
    {
      "cell_type": "code",
      "metadata": {
        "deletable": true,
        "editable": true,
        "id": "E573tKe6Yd1n",
        "colab_type": "code",
        "colab": {}
      },
      "source": [
        "ticks = ax.set_xticks([0, 250, 500, 750, 1000])\n",
        "labels = ax.set_xticklabels(['one', 'two', 'three', 'four', 'five'],\n",
        "                            rotation=30, fontsize='small')"
      ],
      "execution_count": 0,
      "outputs": []
    },
    {
      "cell_type": "code",
      "metadata": {
        "deletable": true,
        "editable": true,
        "id": "d5WVfFFuYd1p",
        "colab_type": "code",
        "colab": {}
      },
      "source": [
        "ax.set_title('My first matplotlib plot')\n",
        "ax.set_xlabel('Stages')"
      ],
      "execution_count": 0,
      "outputs": []
    },
    {
      "cell_type": "markdown",
      "metadata": {
        "deletable": true,
        "editable": true,
        "id": "fPIN5IiOYd1s",
        "colab_type": "text"
      },
      "source": [
        "props = {\n",
        "    'title': 'My first matplotlib plot',\n",
        "    'xlabel': 'Stages'\n",
        "}\n",
        "ax.set(**props)"
      ]
    },
    {
      "cell_type": "markdown",
      "metadata": {
        "deletable": true,
        "editable": true,
        "id": "EQcoJ0gvYd1t",
        "colab_type": "text"
      },
      "source": [
        "#### Adding legends"
      ]
    },
    {
      "cell_type": "code",
      "metadata": {
        "deletable": true,
        "editable": true,
        "id": "p_sCJR1XYd1u",
        "colab_type": "code",
        "colab": {}
      },
      "source": [
        "from numpy.random import randn\n",
        "fig = plt.figure(); ax = fig.add_subplot(1, 1, 1)\n",
        "ax.plot(randn(1000).cumsum(), 'k', label='one')\n",
        "ax.plot(randn(1000).cumsum(), 'k--', label='two')\n",
        "ax.plot(randn(1000).cumsum(), 'k.', label='three')"
      ],
      "execution_count": 0,
      "outputs": []
    },
    {
      "cell_type": "code",
      "metadata": {
        "deletable": true,
        "editable": true,
        "id": "rHLAVPl2Yd1x",
        "colab_type": "code",
        "colab": {}
      },
      "source": [
        "ax.legend(loc='best')"
      ],
      "execution_count": 0,
      "outputs": []
    },
    {
      "cell_type": "markdown",
      "metadata": {
        "deletable": true,
        "editable": true,
        "id": "FDSA8OPrYd10",
        "colab_type": "text"
      },
      "source": [
        "### Annotations and Drawing on a Subplot"
      ]
    },
    {
      "cell_type": "markdown",
      "metadata": {
        "deletable": true,
        "editable": true,
        "id": "MO13lHc-Yd10",
        "colab_type": "text"
      },
      "source": [
        "ax.text(x, y, 'Hello world!',\n",
        "        family='monospace', fontsize=10)"
      ]
    },
    {
      "cell_type": "code",
      "metadata": {
        "deletable": true,
        "editable": true,
        "id": "TY-OKfL6Yd11",
        "colab_type": "code",
        "colab": {}
      },
      "source": [
        "from datetime import datetime\n",
        "\n",
        "fig = plt.figure()\n",
        "ax = fig.add_subplot(1, 1, 1)\n",
        "\n",
        "data = pd.read_csv('examples/spx.csv', index_col=0, parse_dates=True)\n",
        "spx = data['SPX']\n",
        "\n",
        "spx.plot(ax=ax, style='k-')\n",
        "\n",
        "crisis_data = [\n",
        "    (datetime(2007, 10, 11), 'Peak of bull market'),\n",
        "    (datetime(2008, 3, 12), 'Bear Stearns Fails'),\n",
        "    (datetime(2008, 9, 15), 'Lehman Bankruptcy')\n",
        "]\n",
        "\n",
        "for date, label in crisis_data:\n",
        "    ax.annotate(label, xy=(date, spx.asof(date) + 75),\n",
        "                xytext=(date, spx.asof(date) + 225),\n",
        "                arrowprops=dict(facecolor='black', headwidth=4, width=2,\n",
        "                                headlength=4),\n",
        "                horizontalalignment='left', verticalalignment='top')\n",
        "\n",
        "# Zoom in on 2007-2010\n",
        "ax.set_xlim(['1/1/2007', '1/1/2011'])\n",
        "ax.set_ylim([600, 1800])\n",
        "\n",
        "ax.set_title('Important dates in the 2008-2009 financial crisis')"
      ],
      "execution_count": 0,
      "outputs": []
    },
    {
      "cell_type": "code",
      "metadata": {
        "deletable": true,
        "editable": true,
        "id": "2DViCPYzYd14",
        "colab_type": "code",
        "colab": {}
      },
      "source": [
        "ax.set_title('Important dates in the 2008–2009 financial crisis')"
      ],
      "execution_count": 0,
      "outputs": []
    },
    {
      "cell_type": "markdown",
      "metadata": {
        "deletable": true,
        "editable": true,
        "id": "Y7QonayUYd17",
        "colab_type": "text"
      },
      "source": [
        "fig = plt.figure()\n",
        "ax = fig.add_subplot(1, 1, 1)\n",
        "\n",
        "rect = plt.Rectangle((0.2, 0.75), 0.4, 0.15, color='k', alpha=0.3)\n",
        "circ = plt.Circle((0.7, 0.2), 0.15, color='b', alpha=0.3)\n",
        "pgon = plt.Polygon([[0.15, 0.15], [0.35, 0.4], [0.2, 0.6]],\n",
        "                   color='g', alpha=0.5)\n",
        "\n",
        "ax.add_patch(rect)\n",
        "ax.add_patch(circ)\n",
        "ax.add_patch(pgon)"
      ]
    },
    {
      "cell_type": "code",
      "metadata": {
        "deletable": true,
        "editable": true,
        "id": "xBhcQHa5Yd19",
        "colab_type": "code",
        "colab": {}
      },
      "source": [
        "fig = plt.figure(figsize=(12, 6)); ax = fig.add_subplot(1, 1, 1)\n",
        "rect = plt.Rectangle((0.2, 0.75), 0.4, 0.15, color='k', alpha=0.3)\n",
        "circ = plt.Circle((0.7, 0.2), 0.15, color='b', alpha=0.3)\n",
        "pgon = plt.Polygon([[0.15, 0.15], [0.35, 0.4], [0.2, 0.6]],\n",
        "                   color='g', alpha=0.5)\n",
        "ax.add_patch(rect)\n",
        "ax.add_patch(circ)\n",
        "ax.add_patch(pgon)"
      ],
      "execution_count": 0,
      "outputs": []
    },
    {
      "cell_type": "markdown",
      "metadata": {
        "deletable": true,
        "editable": true,
        "id": "4g1K9BSLYd2A",
        "colab_type": "text"
      },
      "source": [
        "### Saving Plots to File"
      ]
    },
    {
      "cell_type": "markdown",
      "metadata": {
        "deletable": true,
        "editable": true,
        "id": "qnS6hCzzYd2A",
        "colab_type": "text"
      },
      "source": [
        "plt.savefig('figpath.svg')"
      ]
    },
    {
      "cell_type": "markdown",
      "metadata": {
        "deletable": true,
        "editable": true,
        "id": "B_Bibx3QYd2B",
        "colab_type": "text"
      },
      "source": [
        "plt.savefig('figpath.png', dpi=400, bbox_inches='tight')"
      ]
    },
    {
      "cell_type": "markdown",
      "metadata": {
        "deletable": true,
        "editable": true,
        "id": "yk8Sm0oSYd2B",
        "colab_type": "text"
      },
      "source": [
        "from io import BytesIO\n",
        "buffer = BytesIO()\n",
        "plt.savefig(buffer)\n",
        "plot_data = buffer.getvalue()"
      ]
    },
    {
      "cell_type": "markdown",
      "metadata": {
        "deletable": true,
        "editable": true,
        "id": "_NOOCBFtYd2C",
        "colab_type": "text"
      },
      "source": [
        "### matplotlib Configuration"
      ]
    },
    {
      "cell_type": "markdown",
      "metadata": {
        "deletable": true,
        "editable": true,
        "id": "BjOEFlmIYd2D",
        "colab_type": "text"
      },
      "source": [
        "plt.rc('figure', figsize=(10, 10))"
      ]
    },
    {
      "cell_type": "markdown",
      "metadata": {
        "deletable": true,
        "editable": true,
        "id": "NoCOtYLgYd2D",
        "colab_type": "text"
      },
      "source": [
        "font_options = {'family' : 'monospace',\n",
        "                'weight' : 'bold',\n",
        "                'size'   : 'small'}\n",
        "plt.rc('font', **font_options)"
      ]
    },
    {
      "cell_type": "markdown",
      "metadata": {
        "deletable": true,
        "editable": true,
        "id": "Qrpf1W67Yd2E",
        "colab_type": "text"
      },
      "source": [
        "## Plotting with pandas and seaborn"
      ]
    },
    {
      "cell_type": "markdown",
      "metadata": {
        "deletable": true,
        "editable": true,
        "id": "vGUqcQs6Yd2E",
        "colab_type": "text"
      },
      "source": [
        "### Line Plots"
      ]
    },
    {
      "cell_type": "code",
      "metadata": {
        "deletable": true,
        "editable": true,
        "id": "Qeh_60YOYd2F",
        "colab_type": "code",
        "colab": {}
      },
      "source": [
        "plt.close('all')"
      ],
      "execution_count": 0,
      "outputs": []
    },
    {
      "cell_type": "code",
      "metadata": {
        "deletable": true,
        "editable": true,
        "id": "KJ1GPaaHYd2H",
        "colab_type": "code",
        "colab": {}
      },
      "source": [
        "s = pd.Series(np.random.randn(10).cumsum(), index=np.arange(0, 100, 10))\n",
        "s.plot()"
      ],
      "execution_count": 0,
      "outputs": []
    },
    {
      "cell_type": "code",
      "metadata": {
        "deletable": true,
        "editable": true,
        "id": "Usij3W6HYd2K",
        "colab_type": "code",
        "colab": {}
      },
      "source": [
        "df = pd.DataFrame(np.random.randn(10, 4).cumsum(0),\n",
        "                  columns=['A', 'B', 'C', 'D'],\n",
        "                  index=np.arange(0, 100, 10))\n",
        "df.plot()"
      ],
      "execution_count": 0,
      "outputs": []
    },
    {
      "cell_type": "markdown",
      "metadata": {
        "deletable": true,
        "editable": true,
        "id": "P9FqNA1sYd2O",
        "colab_type": "text"
      },
      "source": [
        "### Bar Plots"
      ]
    },
    {
      "cell_type": "code",
      "metadata": {
        "deletable": true,
        "editable": true,
        "id": "r-pM_ZM-Yd2O",
        "colab_type": "code",
        "colab": {}
      },
      "source": [
        "fig, axes = plt.subplots(2, 1)\n",
        "data = pd.Series(np.random.rand(16), index=list('abcdefghijklmnop'))\n",
        "data.plot.bar(ax=axes[0], color='k', alpha=0.7)\n",
        "data.plot.barh(ax=axes[1], color='k', alpha=0.7)"
      ],
      "execution_count": 0,
      "outputs": []
    },
    {
      "cell_type": "code",
      "metadata": {
        "deletable": true,
        "editable": true,
        "id": "daks9FSYYd2R",
        "colab_type": "code",
        "colab": {}
      },
      "source": [
        "np.random.seed(12348)"
      ],
      "execution_count": 0,
      "outputs": []
    },
    {
      "cell_type": "code",
      "metadata": {
        "deletable": true,
        "editable": true,
        "id": "LIciVaHwYd2T",
        "colab_type": "code",
        "colab": {}
      },
      "source": [
        "df = pd.DataFrame(np.random.rand(6, 4),\n",
        "                  index=['one', 'two', 'three', 'four', 'five', 'six'],\n",
        "                  columns=pd.Index(['A', 'B', 'C', 'D'], name='Genus'))\n",
        "df\n",
        "df.plot.bar()"
      ],
      "execution_count": 0,
      "outputs": []
    },
    {
      "cell_type": "code",
      "metadata": {
        "deletable": true,
        "editable": true,
        "id": "jToKQetTYd2W",
        "colab_type": "code",
        "colab": {}
      },
      "source": [
        "plt.figure()"
      ],
      "execution_count": 0,
      "outputs": []
    },
    {
      "cell_type": "code",
      "metadata": {
        "deletable": true,
        "editable": true,
        "id": "lW44TrFWYd2Y",
        "colab_type": "code",
        "colab": {}
      },
      "source": [
        "df.plot.barh(stacked=True, alpha=0.5)"
      ],
      "execution_count": 0,
      "outputs": []
    },
    {
      "cell_type": "code",
      "metadata": {
        "deletable": true,
        "editable": true,
        "id": "_KNxUSQ1Yd2b",
        "colab_type": "code",
        "colab": {}
      },
      "source": [
        "plt.close('all')"
      ],
      "execution_count": 0,
      "outputs": []
    },
    {
      "cell_type": "code",
      "metadata": {
        "deletable": true,
        "editable": true,
        "id": "r0HpqxUuYd2h",
        "colab_type": "code",
        "colab": {}
      },
      "source": [
        "tips = pd.read_csv('examples/tips.csv')\n",
        "party_counts = pd.crosstab(tips['day'], tips['size'])\n",
        "party_counts\n",
        "# Not many 1- and 6-person parties\n",
        "party_counts = party_counts.loc[:, 2:5]"
      ],
      "execution_count": 0,
      "outputs": []
    },
    {
      "cell_type": "code",
      "metadata": {
        "deletable": true,
        "editable": true,
        "id": "Xih-ojX0Yd2k",
        "colab_type": "code",
        "colab": {}
      },
      "source": [
        "# Normalize to sum to 1\n",
        "party_pcts = party_counts.div(party_counts.sum(1), axis=0)\n",
        "party_pcts\n",
        "party_pcts.plot.bar()"
      ],
      "execution_count": 0,
      "outputs": []
    },
    {
      "cell_type": "code",
      "metadata": {
        "deletable": true,
        "editable": true,
        "id": "4U5SkIqMYd2o",
        "colab_type": "code",
        "colab": {}
      },
      "source": [
        "plt.close('all')"
      ],
      "execution_count": 0,
      "outputs": []
    },
    {
      "cell_type": "code",
      "metadata": {
        "deletable": true,
        "editable": true,
        "id": "-kD8T3YtYd2t",
        "colab_type": "code",
        "colab": {}
      },
      "source": [
        "import seaborn as sns\n",
        "tips['tip_pct'] = tips['tip'] / (tips['total_bill'] - tips['tip'])\n",
        "tips.head()\n",
        "sns.barplot(x='tip_pct', y='day', data=tips, orient='h')"
      ],
      "execution_count": 0,
      "outputs": []
    },
    {
      "cell_type": "code",
      "metadata": {
        "deletable": true,
        "editable": true,
        "id": "wS-vkagRYd2x",
        "colab_type": "code",
        "colab": {}
      },
      "source": [
        "plt.close('all')"
      ],
      "execution_count": 0,
      "outputs": []
    },
    {
      "cell_type": "code",
      "metadata": {
        "deletable": true,
        "editable": true,
        "id": "gh5b8wcYYd21",
        "colab_type": "code",
        "colab": {}
      },
      "source": [
        "sns.barplot(x='tip_pct', y='day', hue='time', data=tips, orient='h')"
      ],
      "execution_count": 0,
      "outputs": []
    },
    {
      "cell_type": "code",
      "metadata": {
        "deletable": true,
        "editable": true,
        "id": "Bz4eimToYd25",
        "colab_type": "code",
        "colab": {}
      },
      "source": [
        "plt.close('all')"
      ],
      "execution_count": 0,
      "outputs": []
    },
    {
      "cell_type": "code",
      "metadata": {
        "deletable": true,
        "editable": true,
        "id": "UxG575rmYd29",
        "colab_type": "code",
        "colab": {}
      },
      "source": [
        "sns.set(style=\"whitegrid\")"
      ],
      "execution_count": 0,
      "outputs": []
    },
    {
      "cell_type": "markdown",
      "metadata": {
        "deletable": true,
        "editable": true,
        "id": "WvYMsyQRYd3C",
        "colab_type": "text"
      },
      "source": [
        "### Histograms and Density Plots"
      ]
    },
    {
      "cell_type": "code",
      "metadata": {
        "deletable": true,
        "editable": true,
        "id": "WgpszYgPYd3C",
        "colab_type": "code",
        "colab": {}
      },
      "source": [
        "plt.figure()"
      ],
      "execution_count": 0,
      "outputs": []
    },
    {
      "cell_type": "code",
      "metadata": {
        "deletable": true,
        "editable": true,
        "id": "X1pRSI5MYd3G",
        "colab_type": "code",
        "colab": {}
      },
      "source": [
        "tips['tip_pct'].plot.hist(bins=50)"
      ],
      "execution_count": 0,
      "outputs": []
    },
    {
      "cell_type": "code",
      "metadata": {
        "deletable": true,
        "editable": true,
        "id": "NKasVFrLYd3K",
        "colab_type": "code",
        "colab": {}
      },
      "source": [
        "plt.figure()"
      ],
      "execution_count": 0,
      "outputs": []
    },
    {
      "cell_type": "code",
      "metadata": {
        "deletable": true,
        "editable": true,
        "id": "u-8bKRpDYd3M",
        "colab_type": "code",
        "colab": {}
      },
      "source": [
        "tips['tip_pct'].plot.density()"
      ],
      "execution_count": 0,
      "outputs": []
    },
    {
      "cell_type": "code",
      "metadata": {
        "deletable": true,
        "editable": true,
        "id": "65xVOwLSYd3Q",
        "colab_type": "code",
        "colab": {}
      },
      "source": [
        "plt.figure()"
      ],
      "execution_count": 0,
      "outputs": []
    },
    {
      "cell_type": "code",
      "metadata": {
        "deletable": true,
        "editable": true,
        "id": "8hdHQK-aYd3T",
        "colab_type": "code",
        "colab": {}
      },
      "source": [
        "comp1 = np.random.normal(0, 1, size=200)\n",
        "comp2 = np.random.normal(10, 2, size=200)\n",
        "values = pd.Series(np.concatenate([comp1, comp2]))\n",
        "sns.distplot(values, bins=100, color='k')"
      ],
      "execution_count": 0,
      "outputs": []
    },
    {
      "cell_type": "markdown",
      "metadata": {
        "deletable": true,
        "editable": true,
        "id": "pkM_q6-SYd3W",
        "colab_type": "text"
      },
      "source": [
        "### Scatter or Point Plots"
      ]
    },
    {
      "cell_type": "code",
      "metadata": {
        "deletable": true,
        "editable": true,
        "id": "ydkINShPYd3X",
        "colab_type": "code",
        "colab": {}
      },
      "source": [
        "macro = pd.read_csv('examples/macrodata.csv')\n",
        "data = macro[['cpi', 'm1', 'tbilrate', 'unemp']]\n",
        "trans_data = np.log(data).diff().dropna()\n",
        "trans_data[-5:]"
      ],
      "execution_count": 0,
      "outputs": []
    },
    {
      "cell_type": "code",
      "metadata": {
        "deletable": true,
        "editable": true,
        "id": "5Bq-RkO0Yd3e",
        "colab_type": "code",
        "colab": {}
      },
      "source": [
        "plt.figure()"
      ],
      "execution_count": 0,
      "outputs": []
    },
    {
      "cell_type": "code",
      "metadata": {
        "deletable": true,
        "editable": true,
        "id": "sgNeqgteYd3k",
        "colab_type": "code",
        "colab": {}
      },
      "source": [
        "sns.regplot('m1', 'unemp', data=trans_data)\n",
        "plt.title('Changes in log %s versus log %s' % ('m1', 'unemp'))"
      ],
      "execution_count": 0,
      "outputs": []
    },
    {
      "cell_type": "code",
      "metadata": {
        "deletable": true,
        "editable": true,
        "id": "dKS5XGwDYd3r",
        "colab_type": "code",
        "colab": {}
      },
      "source": [
        "sns.pairplot(trans_data, diag_kind='kde', plot_kws={'alpha': 0.2})"
      ],
      "execution_count": 0,
      "outputs": []
    },
    {
      "cell_type": "markdown",
      "metadata": {
        "deletable": true,
        "editable": true,
        "id": "9wS7V_q4Yd3u",
        "colab_type": "text"
      },
      "source": [
        "### Facet Grids and Categorical Data"
      ]
    },
    {
      "cell_type": "code",
      "metadata": {
        "deletable": true,
        "editable": true,
        "id": "EVgK116fYd3u",
        "colab_type": "code",
        "colab": {}
      },
      "source": [
        "sns.factorplot(x='day', y='tip_pct', hue='time', col='smoker',\n",
        "               kind='bar', data=tips[tips.tip_pct < 1])"
      ],
      "execution_count": 0,
      "outputs": []
    },
    {
      "cell_type": "code",
      "metadata": {
        "deletable": true,
        "editable": true,
        "id": "BjzqI1YLYd3y",
        "colab_type": "code",
        "colab": {}
      },
      "source": [
        "sns.factorplot(x='day', y='tip_pct', row='time',\n",
        "               col='smoker',\n",
        "               kind='bar', data=tips[tips.tip_pct < 1])"
      ],
      "execution_count": 0,
      "outputs": []
    },
    {
      "cell_type": "code",
      "metadata": {
        "deletable": true,
        "editable": true,
        "id": "alUD7J6XYd30",
        "colab_type": "code",
        "colab": {}
      },
      "source": [
        "sns.factorplot(x='tip_pct', y='day', kind='box',\n",
        "               data=tips[tips.tip_pct < 0.5])"
      ],
      "execution_count": 0,
      "outputs": []
    },
    {
      "cell_type": "markdown",
      "metadata": {
        "deletable": true,
        "editable": true,
        "id": "AJrDTEFbYd34",
        "colab_type": "text"
      },
      "source": [
        "## Other Python Visualization Tools"
      ]
    },
    {
      "cell_type": "code",
      "metadata": {
        "deletable": true,
        "editable": true,
        "id": "ICWAi5gCYd36",
        "colab_type": "code",
        "colab": {}
      },
      "source": [
        "pd.options.display.max_rows = PREVIOUS_MAX_ROWS"
      ],
      "execution_count": 0,
      "outputs": []
    },
    {
      "cell_type": "markdown",
      "metadata": {
        "deletable": true,
        "editable": true,
        "id": "O3MARtEYYd39",
        "colab_type": "text"
      },
      "source": [
        "## Conclusion"
      ]
    }
  ]
}