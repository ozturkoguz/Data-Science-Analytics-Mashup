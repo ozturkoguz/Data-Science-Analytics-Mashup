{
  "nbformat": 4,
  "nbformat_minor": 0,
  "metadata": {
    "kernelspec": {
      "display_name": "Python 3",
      "language": "python",
      "name": "python3"
    },
    "language_info": {
      "codemirror_mode": {
        "name": "ipython",
        "version": 3
      },
      "file_extension": ".py",
      "mimetype": "text/x-python",
      "name": "python",
      "nbconvert_exporter": "python",
      "pygments_lexer": "ipython3",
      "version": "3.6.0"
    },
    "colab": {
      "name": "ch11.ipynb",
      "provenance": []
    }
  },
  "cells": [
    {
      "cell_type": "markdown",
      "metadata": {
        "deletable": true,
        "editable": true,
        "id": "il8wJwU-03Hk",
        "colab_type": "text"
      },
      "source": [
        "# Time Series"
      ]
    },
    {
      "cell_type": "code",
      "metadata": {
        "deletable": true,
        "editable": true,
        "id": "QOvA2gHo03Hl",
        "colab_type": "code",
        "colab": {}
      },
      "source": [
        "import numpy as np\n",
        "import pandas as pd\n",
        "np.random.seed(12345)\n",
        "import matplotlib.pyplot as plt\n",
        "plt.rc('figure', figsize=(10, 6))\n",
        "PREVIOUS_MAX_ROWS = pd.options.display.max_rows\n",
        "pd.options.display.max_rows = 20\n",
        "np.set_printoptions(precision=4, suppress=True)"
      ],
      "execution_count": 0,
      "outputs": []
    },
    {
      "cell_type": "markdown",
      "metadata": {
        "deletable": true,
        "editable": true,
        "id": "kS3l-hbt03Hp",
        "colab_type": "text"
      },
      "source": [
        "## Date and Time Data Types and Tools"
      ]
    },
    {
      "cell_type": "code",
      "metadata": {
        "deletable": true,
        "editable": true,
        "id": "fZVPD2sI03Hq",
        "colab_type": "code",
        "colab": {}
      },
      "source": [
        "from datetime import datetime\n",
        "now = datetime.now()\n",
        "now\n",
        "now.year, now.month, now.day"
      ],
      "execution_count": 0,
      "outputs": []
    },
    {
      "cell_type": "code",
      "metadata": {
        "deletable": true,
        "editable": true,
        "id": "raP9EZ8U03Hu",
        "colab_type": "code",
        "colab": {}
      },
      "source": [
        "delta = datetime(2011, 1, 7) - datetime(2008, 6, 24, 8, 15)\n",
        "delta\n",
        "delta.days\n",
        "delta.seconds"
      ],
      "execution_count": 0,
      "outputs": []
    },
    {
      "cell_type": "code",
      "metadata": {
        "deletable": true,
        "editable": true,
        "id": "0aLWZd0y03Hx",
        "colab_type": "code",
        "colab": {}
      },
      "source": [
        "from datetime import timedelta\n",
        "start = datetime(2011, 1, 7)\n",
        "start + timedelta(12)\n",
        "start - 2 * timedelta(12)"
      ],
      "execution_count": 0,
      "outputs": []
    },
    {
      "cell_type": "markdown",
      "metadata": {
        "deletable": true,
        "editable": true,
        "id": "JaLoGlhu03H0",
        "colab_type": "text"
      },
      "source": [
        "### Converting Between String and Datetime"
      ]
    },
    {
      "cell_type": "code",
      "metadata": {
        "deletable": true,
        "editable": true,
        "id": "YtoDI9vy03H0",
        "colab_type": "code",
        "colab": {}
      },
      "source": [
        "stamp = datetime(2011, 1, 3)\n",
        "str(stamp)\n",
        "stamp.strftime('%Y-%m-%d')"
      ],
      "execution_count": 0,
      "outputs": []
    },
    {
      "cell_type": "code",
      "metadata": {
        "deletable": true,
        "editable": true,
        "id": "PAzEKWzU03H3",
        "colab_type": "code",
        "colab": {}
      },
      "source": [
        "value = '2011-01-03'\n",
        "datetime.strptime(value, '%Y-%m-%d')\n",
        "datestrs = ['7/6/2011', '8/6/2011']\n",
        "[datetime.strptime(x, '%m/%d/%Y') for x in datestrs]"
      ],
      "execution_count": 0,
      "outputs": []
    },
    {
      "cell_type": "code",
      "metadata": {
        "deletable": true,
        "editable": true,
        "id": "XLd0DdV903H8",
        "colab_type": "code",
        "colab": {}
      },
      "source": [
        "from dateutil.parser import parse\n",
        "parse('2011-01-03')"
      ],
      "execution_count": 0,
      "outputs": []
    },
    {
      "cell_type": "code",
      "metadata": {
        "deletable": true,
        "editable": true,
        "id": "GaQmIBnl03IA",
        "colab_type": "code",
        "colab": {}
      },
      "source": [
        "parse('Jan 31, 1997 10:45 PM')"
      ],
      "execution_count": 0,
      "outputs": []
    },
    {
      "cell_type": "code",
      "metadata": {
        "deletable": true,
        "editable": true,
        "id": "4nqB4P7n03IC",
        "colab_type": "code",
        "colab": {}
      },
      "source": [
        "parse('6/12/2011', dayfirst=True)"
      ],
      "execution_count": 0,
      "outputs": []
    },
    {
      "cell_type": "code",
      "metadata": {
        "deletable": true,
        "editable": true,
        "id": "VRu0kVUz03IF",
        "colab_type": "code",
        "colab": {}
      },
      "source": [
        "datestrs = ['2011-07-06 12:00:00', '2011-08-06 00:00:00']\n",
        "pd.to_datetime(datestrs)"
      ],
      "execution_count": 0,
      "outputs": []
    },
    {
      "cell_type": "code",
      "metadata": {
        "deletable": true,
        "editable": true,
        "id": "tDk_gQsK03II",
        "colab_type": "code",
        "colab": {}
      },
      "source": [
        "idx = pd.to_datetime(datestrs + [None])\n",
        "idx\n",
        "idx[2]\n",
        "pd.isnull(idx)"
      ],
      "execution_count": 0,
      "outputs": []
    },
    {
      "cell_type": "markdown",
      "metadata": {
        "deletable": true,
        "editable": true,
        "id": "vIh8kz9C03IQ",
        "colab_type": "text"
      },
      "source": [
        "## Time Series Basics"
      ]
    },
    {
      "cell_type": "code",
      "metadata": {
        "deletable": true,
        "editable": true,
        "id": "xkM4AN9i03IQ",
        "colab_type": "code",
        "colab": {}
      },
      "source": [
        "from datetime import datetime\n",
        "dates = [datetime(2011, 1, 2), datetime(2011, 1, 5),\n",
        "         datetime(2011, 1, 7), datetime(2011, 1, 8),\n",
        "         datetime(2011, 1, 10), datetime(2011, 1, 12)]\n",
        "ts = pd.Series(np.random.randn(6), index=dates)\n",
        "ts"
      ],
      "execution_count": 0,
      "outputs": []
    },
    {
      "cell_type": "code",
      "metadata": {
        "deletable": true,
        "editable": true,
        "id": "yRFwHzxh03IS",
        "colab_type": "code",
        "colab": {}
      },
      "source": [
        "ts.index"
      ],
      "execution_count": 0,
      "outputs": []
    },
    {
      "cell_type": "code",
      "metadata": {
        "deletable": true,
        "editable": true,
        "id": "RA5TUF7K03IV",
        "colab_type": "code",
        "colab": {}
      },
      "source": [
        "ts + ts[::2]"
      ],
      "execution_count": 0,
      "outputs": []
    },
    {
      "cell_type": "code",
      "metadata": {
        "deletable": true,
        "editable": true,
        "id": "P4EiwmGC03IY",
        "colab_type": "code",
        "colab": {}
      },
      "source": [
        "ts.index.dtype"
      ],
      "execution_count": 0,
      "outputs": []
    },
    {
      "cell_type": "code",
      "metadata": {
        "deletable": true,
        "editable": true,
        "id": "nj9No2Z003Ia",
        "colab_type": "code",
        "colab": {}
      },
      "source": [
        "stamp = ts.index[0]\n",
        "stamp"
      ],
      "execution_count": 0,
      "outputs": []
    },
    {
      "cell_type": "markdown",
      "metadata": {
        "deletable": true,
        "editable": true,
        "id": "v9w96gxG03Ie",
        "colab_type": "text"
      },
      "source": [
        "### Indexing, Selection, Subsetting"
      ]
    },
    {
      "cell_type": "code",
      "metadata": {
        "deletable": true,
        "editable": true,
        "id": "q1iRvFGw03Ig",
        "colab_type": "code",
        "colab": {}
      },
      "source": [
        "stamp = ts.index[2]\n",
        "ts[stamp]"
      ],
      "execution_count": 0,
      "outputs": []
    },
    {
      "cell_type": "code",
      "metadata": {
        "deletable": true,
        "editable": true,
        "id": "M_7H7PMO03Ii",
        "colab_type": "code",
        "colab": {}
      },
      "source": [
        "ts['1/10/2011']\n",
        "ts['20110110']"
      ],
      "execution_count": 0,
      "outputs": []
    },
    {
      "cell_type": "code",
      "metadata": {
        "deletable": true,
        "editable": true,
        "id": "UT4b_8Hc03Ik",
        "colab_type": "code",
        "colab": {}
      },
      "source": [
        "longer_ts = pd.Series(np.random.randn(1000),\n",
        "                      index=pd.date_range('1/1/2000', periods=1000))\n",
        "longer_ts\n",
        "longer_ts['2001']"
      ],
      "execution_count": 0,
      "outputs": []
    },
    {
      "cell_type": "code",
      "metadata": {
        "deletable": true,
        "editable": true,
        "id": "nEPhFMux03In",
        "colab_type": "code",
        "colab": {}
      },
      "source": [
        "longer_ts['2001-05']"
      ],
      "execution_count": 0,
      "outputs": []
    },
    {
      "cell_type": "code",
      "metadata": {
        "deletable": true,
        "editable": true,
        "id": "yQbMfRCF03Ip",
        "colab_type": "code",
        "colab": {}
      },
      "source": [
        "ts[datetime(2011, 1, 7):]"
      ],
      "execution_count": 0,
      "outputs": []
    },
    {
      "cell_type": "code",
      "metadata": {
        "deletable": true,
        "editable": true,
        "id": "Ccs-XF7T03Is",
        "colab_type": "code",
        "colab": {}
      },
      "source": [
        "ts\n",
        "ts['1/6/2011':'1/11/2011']"
      ],
      "execution_count": 0,
      "outputs": []
    },
    {
      "cell_type": "code",
      "metadata": {
        "deletable": true,
        "editable": true,
        "id": "yZFCHNu903Iv",
        "colab_type": "code",
        "colab": {}
      },
      "source": [
        "ts.truncate(after='1/9/2011')"
      ],
      "execution_count": 0,
      "outputs": []
    },
    {
      "cell_type": "code",
      "metadata": {
        "deletable": true,
        "editable": true,
        "id": "zMLPTUDC03I0",
        "colab_type": "code",
        "colab": {}
      },
      "source": [
        "dates = pd.date_range('1/1/2000', periods=100, freq='W-WED')\n",
        "long_df = pd.DataFrame(np.random.randn(100, 4),\n",
        "                       index=dates,\n",
        "                       columns=['Colorado', 'Texas',\n",
        "                                'New York', 'Ohio'])\n",
        "long_df.loc['5-2001']"
      ],
      "execution_count": 0,
      "outputs": []
    },
    {
      "cell_type": "markdown",
      "metadata": {
        "deletable": true,
        "editable": true,
        "id": "iRJNI_WK03I2",
        "colab_type": "text"
      },
      "source": [
        "### Time Series with Duplicate Indices"
      ]
    },
    {
      "cell_type": "code",
      "metadata": {
        "deletable": true,
        "editable": true,
        "id": "sf_lk6CQ03I3",
        "colab_type": "code",
        "colab": {}
      },
      "source": [
        "dates = pd.DatetimeIndex(['1/1/2000', '1/2/2000', '1/2/2000',\n",
        "                          '1/2/2000', '1/3/2000'])\n",
        "dup_ts = pd.Series(np.arange(5), index=dates)\n",
        "dup_ts"
      ],
      "execution_count": 0,
      "outputs": []
    },
    {
      "cell_type": "code",
      "metadata": {
        "deletable": true,
        "editable": true,
        "id": "IUmz0W6-03I5",
        "colab_type": "code",
        "colab": {}
      },
      "source": [
        "dup_ts.index.is_unique"
      ],
      "execution_count": 0,
      "outputs": []
    },
    {
      "cell_type": "code",
      "metadata": {
        "deletable": true,
        "editable": true,
        "id": "L0SPCUsv03I8",
        "colab_type": "code",
        "colab": {}
      },
      "source": [
        "dup_ts['1/3/2000']  # not duplicated\n",
        "dup_ts['1/2/2000']  # duplicated"
      ],
      "execution_count": 0,
      "outputs": []
    },
    {
      "cell_type": "code",
      "metadata": {
        "deletable": true,
        "editable": true,
        "id": "vhzYUmoy03I-",
        "colab_type": "code",
        "colab": {}
      },
      "source": [
        "grouped = dup_ts.groupby(level=0)\n",
        "grouped.mean()\n",
        "grouped.count()"
      ],
      "execution_count": 0,
      "outputs": []
    },
    {
      "cell_type": "markdown",
      "metadata": {
        "deletable": true,
        "editable": true,
        "id": "dBbbdmtt03JH",
        "colab_type": "text"
      },
      "source": [
        "## Date Ranges, Frequencies, and Shifting"
      ]
    },
    {
      "cell_type": "code",
      "metadata": {
        "deletable": true,
        "editable": true,
        "id": "4EZXEPwy03JI",
        "colab_type": "code",
        "colab": {}
      },
      "source": [
        "ts\n",
        "resampler = ts.resample('D')"
      ],
      "execution_count": 0,
      "outputs": []
    },
    {
      "cell_type": "markdown",
      "metadata": {
        "deletable": true,
        "editable": true,
        "id": "NsE6uPEQ03JL",
        "colab_type": "text"
      },
      "source": [
        "### Generating Date Ranges"
      ]
    },
    {
      "cell_type": "code",
      "metadata": {
        "deletable": true,
        "editable": true,
        "id": "gZ4hTC-P03JL",
        "colab_type": "code",
        "colab": {}
      },
      "source": [
        "index = pd.date_range('2012-04-01', '2012-06-01')\n",
        "index"
      ],
      "execution_count": 0,
      "outputs": []
    },
    {
      "cell_type": "code",
      "metadata": {
        "deletable": true,
        "editable": true,
        "id": "Yk1OM6PC03JO",
        "colab_type": "code",
        "colab": {}
      },
      "source": [
        "pd.date_range(start='2012-04-01', periods=20)\n",
        "pd.date_range(end='2012-06-01', periods=20)"
      ],
      "execution_count": 0,
      "outputs": []
    },
    {
      "cell_type": "code",
      "metadata": {
        "deletable": true,
        "editable": true,
        "id": "WbDuH1gw03JW",
        "colab_type": "code",
        "colab": {}
      },
      "source": [
        "pd.date_range('2000-01-01', '2000-12-01', freq='BM')"
      ],
      "execution_count": 0,
      "outputs": []
    },
    {
      "cell_type": "code",
      "metadata": {
        "deletable": true,
        "editable": true,
        "id": "YieftMkY03JZ",
        "colab_type": "code",
        "colab": {}
      },
      "source": [
        "pd.date_range('2012-05-02 12:56:31', periods=5)"
      ],
      "execution_count": 0,
      "outputs": []
    },
    {
      "cell_type": "code",
      "metadata": {
        "deletable": true,
        "editable": true,
        "id": "fpigJ5z803Jf",
        "colab_type": "code",
        "colab": {}
      },
      "source": [
        "pd.date_range('2012-05-02 12:56:31', periods=5, normalize=True)"
      ],
      "execution_count": 0,
      "outputs": []
    },
    {
      "cell_type": "markdown",
      "metadata": {
        "deletable": true,
        "editable": true,
        "id": "2wGRVcWw03Jk",
        "colab_type": "text"
      },
      "source": [
        "### Frequencies and Date Offsets"
      ]
    },
    {
      "cell_type": "code",
      "metadata": {
        "deletable": true,
        "editable": true,
        "id": "YynOCWe_03Jk",
        "colab_type": "code",
        "colab": {}
      },
      "source": [
        "from pandas.tseries.offsets import Hour, Minute\n",
        "hour = Hour()\n",
        "hour"
      ],
      "execution_count": 0,
      "outputs": []
    },
    {
      "cell_type": "code",
      "metadata": {
        "deletable": true,
        "editable": true,
        "id": "iQkvQKkd03Jo",
        "colab_type": "code",
        "colab": {}
      },
      "source": [
        "four_hours = Hour(4)\n",
        "four_hours"
      ],
      "execution_count": 0,
      "outputs": []
    },
    {
      "cell_type": "code",
      "metadata": {
        "deletable": true,
        "editable": true,
        "id": "SgjNmj-b03Jr",
        "colab_type": "code",
        "colab": {}
      },
      "source": [
        "pd.date_range('2000-01-01', '2000-01-03 23:59', freq='4h')"
      ],
      "execution_count": 0,
      "outputs": []
    },
    {
      "cell_type": "code",
      "metadata": {
        "deletable": true,
        "editable": true,
        "id": "STXHP02z03Jw",
        "colab_type": "code",
        "colab": {}
      },
      "source": [
        "Hour(2) + Minute(30)"
      ],
      "execution_count": 0,
      "outputs": []
    },
    {
      "cell_type": "code",
      "metadata": {
        "deletable": true,
        "editable": true,
        "id": "3epwFTyC03J2",
        "colab_type": "code",
        "colab": {}
      },
      "source": [
        "pd.date_range('2000-01-01', periods=10, freq='1h30min')"
      ],
      "execution_count": 0,
      "outputs": []
    },
    {
      "cell_type": "markdown",
      "metadata": {
        "deletable": true,
        "editable": true,
        "id": "RIOwkzjU03J4",
        "colab_type": "text"
      },
      "source": [
        "#### Week of month dates"
      ]
    },
    {
      "cell_type": "code",
      "metadata": {
        "deletable": true,
        "editable": true,
        "id": "44xku6wp03J5",
        "colab_type": "code",
        "colab": {}
      },
      "source": [
        "rng = pd.date_range('2012-01-01', '2012-09-01', freq='WOM-3FRI')\n",
        "list(rng)"
      ],
      "execution_count": 0,
      "outputs": []
    },
    {
      "cell_type": "markdown",
      "metadata": {
        "deletable": true,
        "editable": true,
        "id": "xmAOuOhm03J7",
        "colab_type": "text"
      },
      "source": [
        "### Shifting (Leading and Lagging) Data"
      ]
    },
    {
      "cell_type": "code",
      "metadata": {
        "deletable": true,
        "editable": true,
        "id": "DeIuv66g03J8",
        "colab_type": "code",
        "colab": {}
      },
      "source": [
        "ts = pd.Series(np.random.randn(4),\n",
        "               index=pd.date_range('1/1/2000', periods=4, freq='M'))\n",
        "ts\n",
        "ts.shift(2)\n",
        "ts.shift(-2)"
      ],
      "execution_count": 0,
      "outputs": []
    },
    {
      "cell_type": "markdown",
      "metadata": {
        "deletable": true,
        "editable": true,
        "id": "gebv-vtT03J_",
        "colab_type": "text"
      },
      "source": [
        "ts / ts.shift(1) - 1"
      ]
    },
    {
      "cell_type": "code",
      "metadata": {
        "deletable": true,
        "editable": true,
        "id": "gkfcQdkc03J_",
        "colab_type": "code",
        "colab": {}
      },
      "source": [
        "ts.shift(2, freq='M')"
      ],
      "execution_count": 0,
      "outputs": []
    },
    {
      "cell_type": "code",
      "metadata": {
        "deletable": true,
        "editable": true,
        "id": "6jqxwX0I03KD",
        "colab_type": "code",
        "colab": {}
      },
      "source": [
        "ts.shift(3, freq='D')\n",
        "ts.shift(1, freq='90T')"
      ],
      "execution_count": 0,
      "outputs": []
    },
    {
      "cell_type": "markdown",
      "metadata": {
        "deletable": true,
        "editable": true,
        "id": "QoMvyCW203KI",
        "colab_type": "text"
      },
      "source": [
        "#### Shifting dates with offsets"
      ]
    },
    {
      "cell_type": "code",
      "metadata": {
        "deletable": true,
        "editable": true,
        "id": "BN5xBU3M03KJ",
        "colab_type": "code",
        "colab": {}
      },
      "source": [
        "from pandas.tseries.offsets import Day, MonthEnd\n",
        "now = datetime(2011, 11, 17)\n",
        "now + 3 * Day()"
      ],
      "execution_count": 0,
      "outputs": []
    },
    {
      "cell_type": "code",
      "metadata": {
        "deletable": true,
        "editable": true,
        "id": "RJK-qtWO03KM",
        "colab_type": "code",
        "colab": {}
      },
      "source": [
        "now + MonthEnd()\n",
        "now + MonthEnd(2)"
      ],
      "execution_count": 0,
      "outputs": []
    },
    {
      "cell_type": "code",
      "metadata": {
        "deletable": true,
        "editable": true,
        "id": "Voos-zBF03KO",
        "colab_type": "code",
        "colab": {}
      },
      "source": [
        "offset = MonthEnd()\n",
        "offset.rollforward(now)\n",
        "offset.rollback(now)"
      ],
      "execution_count": 0,
      "outputs": []
    },
    {
      "cell_type": "code",
      "metadata": {
        "deletable": true,
        "editable": true,
        "id": "Jt8yosk403KQ",
        "colab_type": "code",
        "colab": {}
      },
      "source": [
        "ts = pd.Series(np.random.randn(20),\n",
        "               index=pd.date_range('1/15/2000', periods=20, freq='4d'))\n",
        "ts\n",
        "ts.groupby(offset.rollforward).mean()"
      ],
      "execution_count": 0,
      "outputs": []
    },
    {
      "cell_type": "code",
      "metadata": {
        "deletable": true,
        "editable": true,
        "id": "z4xrLhSO03KU",
        "colab_type": "code",
        "colab": {}
      },
      "source": [
        "ts.resample('M').mean()"
      ],
      "execution_count": 0,
      "outputs": []
    },
    {
      "cell_type": "markdown",
      "metadata": {
        "deletable": true,
        "editable": true,
        "id": "NOvVDgVn03KY",
        "colab_type": "text"
      },
      "source": [
        "## Time Zone Handling"
      ]
    },
    {
      "cell_type": "code",
      "metadata": {
        "deletable": true,
        "editable": true,
        "id": "kaPAOOoU03KY",
        "colab_type": "code",
        "colab": {}
      },
      "source": [
        "import pytz\n",
        "pytz.common_timezones[-5:]"
      ],
      "execution_count": 0,
      "outputs": []
    },
    {
      "cell_type": "code",
      "metadata": {
        "deletable": true,
        "editable": true,
        "id": "WIRzt2fs03Kd",
        "colab_type": "code",
        "colab": {}
      },
      "source": [
        "tz = pytz.timezone('America/New_York')\n",
        "tz"
      ],
      "execution_count": 0,
      "outputs": []
    },
    {
      "cell_type": "markdown",
      "metadata": {
        "deletable": true,
        "editable": true,
        "id": "W6sNUQlJ03Kg",
        "colab_type": "text"
      },
      "source": [
        "### Time Zone Localization and Conversion"
      ]
    },
    {
      "cell_type": "code",
      "metadata": {
        "deletable": true,
        "editable": true,
        "id": "eOMGkm4U03Kh",
        "colab_type": "code",
        "colab": {}
      },
      "source": [
        "rng = pd.date_range('3/9/2012 9:30', periods=6, freq='D')\n",
        "ts = pd.Series(np.random.randn(len(rng)), index=rng)\n",
        "ts"
      ],
      "execution_count": 0,
      "outputs": []
    },
    {
      "cell_type": "code",
      "metadata": {
        "deletable": true,
        "editable": true,
        "id": "8dozzRiM03Ks",
        "colab_type": "code",
        "colab": {}
      },
      "source": [
        "print(ts.index.tz)"
      ],
      "execution_count": 0,
      "outputs": []
    },
    {
      "cell_type": "code",
      "metadata": {
        "deletable": true,
        "editable": true,
        "id": "ywn-kqDI03Kw",
        "colab_type": "code",
        "colab": {}
      },
      "source": [
        "pd.date_range('3/9/2012 9:30', periods=10, freq='D', tz='UTC')"
      ],
      "execution_count": 0,
      "outputs": []
    },
    {
      "cell_type": "code",
      "metadata": {
        "deletable": true,
        "editable": true,
        "id": "uV8NdmUI03K5",
        "colab_type": "code",
        "colab": {}
      },
      "source": [
        "ts\n",
        "ts_utc = ts.tz_localize('UTC')\n",
        "ts_utc\n",
        "ts_utc.index"
      ],
      "execution_count": 0,
      "outputs": []
    },
    {
      "cell_type": "code",
      "metadata": {
        "deletable": true,
        "editable": true,
        "id": "ZuFU9XW903K-",
        "colab_type": "code",
        "colab": {}
      },
      "source": [
        "ts_utc.tz_convert('America/New_York')"
      ],
      "execution_count": 0,
      "outputs": []
    },
    {
      "cell_type": "code",
      "metadata": {
        "deletable": true,
        "editable": true,
        "id": "B7f8Ky2G03LC",
        "colab_type": "code",
        "colab": {}
      },
      "source": [
        "ts_eastern = ts.tz_localize('America/New_York')\n",
        "ts_eastern.tz_convert('UTC')\n",
        "ts_eastern.tz_convert('Europe/Berlin')"
      ],
      "execution_count": 0,
      "outputs": []
    },
    {
      "cell_type": "code",
      "metadata": {
        "deletable": true,
        "editable": true,
        "id": "RbqwMyPG03LH",
        "colab_type": "code",
        "colab": {}
      },
      "source": [
        "ts.index.tz_localize('Asia/Shanghai')"
      ],
      "execution_count": 0,
      "outputs": []
    },
    {
      "cell_type": "markdown",
      "metadata": {
        "deletable": true,
        "editable": true,
        "id": "SgqiofNt03LN",
        "colab_type": "text"
      },
      "source": [
        "### Operations with Time Zone−Aware Timestamp Objects"
      ]
    },
    {
      "cell_type": "code",
      "metadata": {
        "deletable": true,
        "editable": true,
        "id": "jhUeknCp03LN",
        "colab_type": "code",
        "colab": {}
      },
      "source": [
        "stamp = pd.Timestamp('2011-03-12 04:00')\n",
        "stamp_utc = stamp.tz_localize('utc')\n",
        "stamp_utc.tz_convert('America/New_York')"
      ],
      "execution_count": 0,
      "outputs": []
    },
    {
      "cell_type": "code",
      "metadata": {
        "deletable": true,
        "editable": true,
        "id": "fGLJtGEl03LP",
        "colab_type": "code",
        "colab": {}
      },
      "source": [
        "stamp_moscow = pd.Timestamp('2011-03-12 04:00', tz='Europe/Moscow')\n",
        "stamp_moscow"
      ],
      "execution_count": 0,
      "outputs": []
    },
    {
      "cell_type": "code",
      "metadata": {
        "deletable": true,
        "editable": true,
        "id": "asFMzXhI03LS",
        "colab_type": "code",
        "colab": {}
      },
      "source": [
        "stamp_utc.value\n",
        "stamp_utc.tz_convert('America/New_York').value"
      ],
      "execution_count": 0,
      "outputs": []
    },
    {
      "cell_type": "code",
      "metadata": {
        "deletable": true,
        "editable": true,
        "id": "xYWvZUm303LU",
        "colab_type": "code",
        "colab": {}
      },
      "source": [
        "from pandas.tseries.offsets import Hour\n",
        "stamp = pd.Timestamp('2012-03-12 01:30', tz='US/Eastern')\n",
        "stamp\n",
        "stamp + Hour()"
      ],
      "execution_count": 0,
      "outputs": []
    },
    {
      "cell_type": "code",
      "metadata": {
        "deletable": true,
        "editable": true,
        "id": "8Np73sLl03LW",
        "colab_type": "code",
        "colab": {}
      },
      "source": [
        "stamp = pd.Timestamp('2012-11-04 00:30', tz='US/Eastern')\n",
        "stamp\n",
        "stamp + 2 * Hour()"
      ],
      "execution_count": 0,
      "outputs": []
    },
    {
      "cell_type": "markdown",
      "metadata": {
        "deletable": true,
        "editable": true,
        "id": "sukUYxqJ03LZ",
        "colab_type": "text"
      },
      "source": [
        "### Operations Between Different Time Zones"
      ]
    },
    {
      "cell_type": "code",
      "metadata": {
        "deletable": true,
        "editable": true,
        "id": "WaRJ0EUl03LZ",
        "colab_type": "code",
        "colab": {}
      },
      "source": [
        "rng = pd.date_range('3/7/2012 9:30', periods=10, freq='B')\n",
        "ts = pd.Series(np.random.randn(len(rng)), index=rng)\n",
        "ts\n",
        "ts1 = ts[:7].tz_localize('Europe/London')\n",
        "ts2 = ts1[2:].tz_convert('Europe/Moscow')\n",
        "result = ts1 + ts2\n",
        "result.index"
      ],
      "execution_count": 0,
      "outputs": []
    },
    {
      "cell_type": "markdown",
      "metadata": {
        "deletable": true,
        "editable": true,
        "id": "LN5sULhp03Lb",
        "colab_type": "text"
      },
      "source": [
        "## Periods and Period Arithmetic"
      ]
    },
    {
      "cell_type": "code",
      "metadata": {
        "deletable": true,
        "editable": true,
        "id": "OJhzrHcv03Lb",
        "colab_type": "code",
        "colab": {}
      },
      "source": [
        "p = pd.Period(2007, freq='A-DEC')\n",
        "p"
      ],
      "execution_count": 0,
      "outputs": []
    },
    {
      "cell_type": "code",
      "metadata": {
        "deletable": true,
        "editable": true,
        "id": "61UjPFJC03Ld",
        "colab_type": "code",
        "colab": {}
      },
      "source": [
        "p + 5\n",
        "p - 2"
      ],
      "execution_count": 0,
      "outputs": []
    },
    {
      "cell_type": "code",
      "metadata": {
        "deletable": true,
        "editable": true,
        "id": "xLxfl2kU03Lf",
        "colab_type": "code",
        "colab": {}
      },
      "source": [
        "pd.Period('2014', freq='A-DEC') - p"
      ],
      "execution_count": 0,
      "outputs": []
    },
    {
      "cell_type": "code",
      "metadata": {
        "deletable": true,
        "editable": true,
        "id": "iiFd-dcQ03Lg",
        "colab_type": "code",
        "colab": {}
      },
      "source": [
        "rng = pd.period_range('2000-01-01', '2000-06-30', freq='M')\n",
        "rng"
      ],
      "execution_count": 0,
      "outputs": []
    },
    {
      "cell_type": "code",
      "metadata": {
        "deletable": true,
        "editable": true,
        "id": "cGIsp4k903Lk",
        "colab_type": "code",
        "colab": {}
      },
      "source": [
        "pd.Series(np.random.randn(6), index=rng)"
      ],
      "execution_count": 0,
      "outputs": []
    },
    {
      "cell_type": "code",
      "metadata": {
        "deletable": true,
        "editable": true,
        "id": "y9or8lf403Ln",
        "colab_type": "code",
        "colab": {}
      },
      "source": [
        "values = ['2001Q3', '2002Q2', '2003Q1']\n",
        "index = pd.PeriodIndex(values, freq='Q-DEC')\n",
        "index"
      ],
      "execution_count": 0,
      "outputs": []
    },
    {
      "cell_type": "markdown",
      "metadata": {
        "deletable": true,
        "editable": true,
        "id": "T6xXEvq403Lp",
        "colab_type": "text"
      },
      "source": [
        "### Period Frequency Conversion"
      ]
    },
    {
      "cell_type": "code",
      "metadata": {
        "deletable": true,
        "editable": true,
        "id": "pTImK0U203Lq",
        "colab_type": "code",
        "colab": {}
      },
      "source": [
        "p = pd.Period('2007', freq='A-DEC')\n",
        "p\n",
        "p.asfreq('M', how='start')\n",
        "p.asfreq('M', how='end')"
      ],
      "execution_count": 0,
      "outputs": []
    },
    {
      "cell_type": "code",
      "metadata": {
        "deletable": true,
        "editable": true,
        "id": "PLAC7pAP03Lr",
        "colab_type": "code",
        "colab": {}
      },
      "source": [
        "p = pd.Period('2007', freq='A-JUN')\n",
        "p\n",
        "p.asfreq('M', 'start')\n",
        "p.asfreq('M', 'end')"
      ],
      "execution_count": 0,
      "outputs": []
    },
    {
      "cell_type": "code",
      "metadata": {
        "deletable": true,
        "editable": true,
        "id": "QN01T22j03Lt",
        "colab_type": "code",
        "colab": {}
      },
      "source": [
        "p = pd.Period('Aug-2007', 'M')\n",
        "p.asfreq('A-JUN')"
      ],
      "execution_count": 0,
      "outputs": []
    },
    {
      "cell_type": "code",
      "metadata": {
        "deletable": true,
        "editable": true,
        "id": "WyXuJ-gF03Lv",
        "colab_type": "code",
        "colab": {}
      },
      "source": [
        "rng = pd.period_range('2006', '2009', freq='A-DEC')\n",
        "ts = pd.Series(np.random.randn(len(rng)), index=rng)\n",
        "ts\n",
        "ts.asfreq('M', how='start')"
      ],
      "execution_count": 0,
      "outputs": []
    },
    {
      "cell_type": "code",
      "metadata": {
        "deletable": true,
        "editable": true,
        "id": "UFWnn6MJ03Lw",
        "colab_type": "code",
        "colab": {}
      },
      "source": [
        "ts.asfreq('B', how='end')"
      ],
      "execution_count": 0,
      "outputs": []
    },
    {
      "cell_type": "markdown",
      "metadata": {
        "deletable": true,
        "editable": true,
        "id": "HXZ5RKjG03Ly",
        "colab_type": "text"
      },
      "source": [
        "### Quarterly Period Frequencies"
      ]
    },
    {
      "cell_type": "code",
      "metadata": {
        "deletable": true,
        "editable": true,
        "id": "KU_JRUF503Ly",
        "colab_type": "code",
        "colab": {}
      },
      "source": [
        "p = pd.Period('2012Q4', freq='Q-JAN')\n",
        "p"
      ],
      "execution_count": 0,
      "outputs": []
    },
    {
      "cell_type": "code",
      "metadata": {
        "deletable": true,
        "editable": true,
        "id": "h0plHv-q03L0",
        "colab_type": "code",
        "colab": {}
      },
      "source": [
        "p.asfreq('D', 'start')\n",
        "p.asfreq('D', 'end')"
      ],
      "execution_count": 0,
      "outputs": []
    },
    {
      "cell_type": "code",
      "metadata": {
        "deletable": true,
        "editable": true,
        "id": "Hesm0Hfq03L5",
        "colab_type": "code",
        "colab": {}
      },
      "source": [
        "p4pm = (p.asfreq('B', 'e') - 1).asfreq('T', 's') + 16 * 60\n",
        "p4pm\n",
        "p4pm.to_timestamp()"
      ],
      "execution_count": 0,
      "outputs": []
    },
    {
      "cell_type": "code",
      "metadata": {
        "deletable": true,
        "editable": true,
        "id": "zZYrJ0Eo03L8",
        "colab_type": "code",
        "colab": {}
      },
      "source": [
        "rng = pd.period_range('2011Q3', '2012Q4', freq='Q-JAN')\n",
        "ts = pd.Series(np.arange(len(rng)), index=rng)\n",
        "ts\n",
        "new_rng = (rng.asfreq('B', 'e') - 1).asfreq('T', 's') + 16 * 60\n",
        "ts.index = new_rng.to_timestamp()\n",
        "ts"
      ],
      "execution_count": 0,
      "outputs": []
    },
    {
      "cell_type": "markdown",
      "metadata": {
        "deletable": true,
        "editable": true,
        "id": "WCONrAnf03L_",
        "colab_type": "text"
      },
      "source": [
        "### Converting Timestamps to Periods (and Back)"
      ]
    },
    {
      "cell_type": "code",
      "metadata": {
        "deletable": true,
        "editable": true,
        "id": "Tejzrpog03L_",
        "colab_type": "code",
        "colab": {}
      },
      "source": [
        "rng = pd.date_range('2000-01-01', periods=3, freq='M')\n",
        "ts = pd.Series(np.random.randn(3), index=rng)\n",
        "ts\n",
        "pts = ts.to_period()\n",
        "pts"
      ],
      "execution_count": 0,
      "outputs": []
    },
    {
      "cell_type": "code",
      "metadata": {
        "deletable": true,
        "editable": true,
        "id": "xcsm7kUz03MC",
        "colab_type": "code",
        "colab": {}
      },
      "source": [
        "rng = pd.date_range('1/29/2000', periods=6, freq='D')\n",
        "ts2 = pd.Series(np.random.randn(6), index=rng)\n",
        "ts2\n",
        "ts2.to_period('M')"
      ],
      "execution_count": 0,
      "outputs": []
    },
    {
      "cell_type": "code",
      "metadata": {
        "deletable": true,
        "editable": true,
        "id": "SB2X82dG03MD",
        "colab_type": "code",
        "colab": {}
      },
      "source": [
        "pts = ts2.to_period()\n",
        "pts\n",
        "pts.to_timestamp(how='end')"
      ],
      "execution_count": 0,
      "outputs": []
    },
    {
      "cell_type": "markdown",
      "metadata": {
        "deletable": true,
        "editable": true,
        "id": "iyGWmf7P03MF",
        "colab_type": "text"
      },
      "source": [
        "### Creating a PeriodIndex from Arrays"
      ]
    },
    {
      "cell_type": "code",
      "metadata": {
        "deletable": true,
        "editable": true,
        "id": "Xg8mS_x703MG",
        "colab_type": "code",
        "colab": {}
      },
      "source": [
        "data = pd.read_csv('examples/macrodata.csv')\n",
        "data.head(5)\n",
        "data.year\n",
        "data.quarter"
      ],
      "execution_count": 0,
      "outputs": []
    },
    {
      "cell_type": "code",
      "metadata": {
        "deletable": true,
        "editable": true,
        "id": "BXrE9Us003MI",
        "colab_type": "code",
        "colab": {}
      },
      "source": [
        "index = pd.PeriodIndex(year=data.year, quarter=data.quarter,\n",
        "                       freq='Q-DEC')\n",
        "index\n",
        "data.index = index\n",
        "data.infl"
      ],
      "execution_count": 0,
      "outputs": []
    },
    {
      "cell_type": "markdown",
      "metadata": {
        "deletable": true,
        "editable": true,
        "id": "TBYgvP3Z03MM",
        "colab_type": "text"
      },
      "source": [
        "## Resampling and Frequency Conversion"
      ]
    },
    {
      "cell_type": "code",
      "metadata": {
        "deletable": true,
        "editable": true,
        "id": "ykmPKK2G03MM",
        "colab_type": "code",
        "colab": {}
      },
      "source": [
        "rng = pd.date_range('2000-01-01', periods=100, freq='D')\n",
        "ts = pd.Series(np.random.randn(len(rng)), index=rng)\n",
        "ts\n",
        "ts.resample('M').mean()\n",
        "ts.resample('M', kind='period').mean()"
      ],
      "execution_count": 0,
      "outputs": []
    },
    {
      "cell_type": "markdown",
      "metadata": {
        "deletable": true,
        "editable": true,
        "id": "QUlUHbaM03MO",
        "colab_type": "text"
      },
      "source": [
        "### Downsampling"
      ]
    },
    {
      "cell_type": "code",
      "metadata": {
        "deletable": true,
        "editable": true,
        "id": "7GfgsRow03MP",
        "colab_type": "code",
        "colab": {}
      },
      "source": [
        "rng = pd.date_range('2000-01-01', periods=12, freq='T')\n",
        "ts = pd.Series(np.arange(12), index=rng)\n",
        "ts"
      ],
      "execution_count": 0,
      "outputs": []
    },
    {
      "cell_type": "code",
      "metadata": {
        "deletable": true,
        "editable": true,
        "id": "IO0L-gAy03MS",
        "colab_type": "code",
        "colab": {}
      },
      "source": [
        "ts.resample('5min', closed='right').sum()"
      ],
      "execution_count": 0,
      "outputs": []
    },
    {
      "cell_type": "code",
      "metadata": {
        "deletable": true,
        "editable": true,
        "id": "F6cMOKxJ03MU",
        "colab_type": "code",
        "colab": {}
      },
      "source": [
        "ts.resample('5min', closed='right').sum()"
      ],
      "execution_count": 0,
      "outputs": []
    },
    {
      "cell_type": "code",
      "metadata": {
        "deletable": true,
        "editable": true,
        "id": "rYXr7_Et03MV",
        "colab_type": "code",
        "colab": {}
      },
      "source": [
        "ts.resample('5min', closed='right', label='right').sum()"
      ],
      "execution_count": 0,
      "outputs": []
    },
    {
      "cell_type": "code",
      "metadata": {
        "deletable": true,
        "editable": true,
        "id": "wyBey46P03MX",
        "colab_type": "code",
        "colab": {}
      },
      "source": [
        "ts.resample('5min', closed='right',\n",
        "            label='right', loffset='-1s').sum()"
      ],
      "execution_count": 0,
      "outputs": []
    },
    {
      "cell_type": "markdown",
      "metadata": {
        "deletable": true,
        "editable": true,
        "id": "ndNq-jMN03Mb",
        "colab_type": "text"
      },
      "source": [
        "#### Open-High-Low-Close (OHLC) resampling"
      ]
    },
    {
      "cell_type": "code",
      "metadata": {
        "deletable": true,
        "editable": true,
        "id": "EUOdtMb103Mb",
        "colab_type": "code",
        "colab": {}
      },
      "source": [
        "ts.resample('5min').ohlc()"
      ],
      "execution_count": 0,
      "outputs": []
    },
    {
      "cell_type": "markdown",
      "metadata": {
        "deletable": true,
        "editable": true,
        "id": "T2Iy8hTY03Me",
        "colab_type": "text"
      },
      "source": [
        "### Upsampling and Interpolation"
      ]
    },
    {
      "cell_type": "code",
      "metadata": {
        "deletable": true,
        "editable": true,
        "id": "zGyr8hsT03Me",
        "colab_type": "code",
        "colab": {}
      },
      "source": [
        "frame = pd.DataFrame(np.random.randn(2, 4),\n",
        "                     index=pd.date_range('1/1/2000', periods=2,\n",
        "                                         freq='W-WED'),\n",
        "                     columns=['Colorado', 'Texas', 'New York', 'Ohio'])\n",
        "frame"
      ],
      "execution_count": 0,
      "outputs": []
    },
    {
      "cell_type": "code",
      "metadata": {
        "deletable": true,
        "editable": true,
        "id": "8xm9uyAY03Mg",
        "colab_type": "code",
        "colab": {}
      },
      "source": [
        "df_daily = frame.resample('D').asfreq()\n",
        "df_daily"
      ],
      "execution_count": 0,
      "outputs": []
    },
    {
      "cell_type": "code",
      "metadata": {
        "deletable": true,
        "editable": true,
        "id": "uadl_WER03Mk",
        "colab_type": "code",
        "colab": {}
      },
      "source": [
        "frame.resample('D').ffill()"
      ],
      "execution_count": 0,
      "outputs": []
    },
    {
      "cell_type": "code",
      "metadata": {
        "deletable": true,
        "editable": true,
        "id": "YQmDcg0V03Ml",
        "colab_type": "code",
        "colab": {}
      },
      "source": [
        "frame.resample('D').ffill(limit=2)"
      ],
      "execution_count": 0,
      "outputs": []
    },
    {
      "cell_type": "code",
      "metadata": {
        "deletable": true,
        "editable": true,
        "id": "pQWlxjKi03Mm",
        "colab_type": "code",
        "colab": {}
      },
      "source": [
        "frame.resample('W-THU').ffill()"
      ],
      "execution_count": 0,
      "outputs": []
    },
    {
      "cell_type": "markdown",
      "metadata": {
        "deletable": true,
        "editable": true,
        "id": "oXv0YNfq03Mo",
        "colab_type": "text"
      },
      "source": [
        "### Resampling with Periods"
      ]
    },
    {
      "cell_type": "code",
      "metadata": {
        "deletable": true,
        "editable": true,
        "id": "PavQgjZI03Mp",
        "colab_type": "code",
        "colab": {}
      },
      "source": [
        "frame = pd.DataFrame(np.random.randn(24, 4),\n",
        "                     index=pd.period_range('1-2000', '12-2001',\n",
        "                                           freq='M'),\n",
        "                     columns=['Colorado', 'Texas', 'New York', 'Ohio'])\n",
        "frame[:5]\n",
        "annual_frame = frame.resample('A-DEC').mean()\n",
        "annual_frame"
      ],
      "execution_count": 0,
      "outputs": []
    },
    {
      "cell_type": "code",
      "metadata": {
        "deletable": true,
        "editable": true,
        "id": "N_wg8mHr03Mq",
        "colab_type": "code",
        "colab": {}
      },
      "source": [
        "# Q-DEC: Quarterly, year ending in December\n",
        "annual_frame.resample('Q-DEC').ffill()\n",
        "annual_frame.resample('Q-DEC', convention='end').ffill()"
      ],
      "execution_count": 0,
      "outputs": []
    },
    {
      "cell_type": "code",
      "metadata": {
        "deletable": true,
        "editable": true,
        "id": "-2OHUdrY03Mt",
        "colab_type": "code",
        "colab": {}
      },
      "source": [
        "annual_frame.resample('Q-MAR').ffill()"
      ],
      "execution_count": 0,
      "outputs": []
    },
    {
      "cell_type": "markdown",
      "metadata": {
        "deletable": true,
        "editable": true,
        "id": "v_bUJUeL03Mu",
        "colab_type": "text"
      },
      "source": [
        "## Moving Window Functions"
      ]
    },
    {
      "cell_type": "code",
      "metadata": {
        "deletable": true,
        "editable": true,
        "id": "9TnYyLay03Mv",
        "colab_type": "code",
        "colab": {}
      },
      "source": [
        "close_px_all = pd.read_csv('examples/stock_px_2.csv',\n",
        "                           parse_dates=True, index_col=0)\n",
        "close_px = close_px_all[['AAPL', 'MSFT', 'XOM']]\n",
        "close_px = close_px.resample('B').ffill()"
      ],
      "execution_count": 0,
      "outputs": []
    },
    {
      "cell_type": "code",
      "metadata": {
        "deletable": true,
        "editable": true,
        "id": "J10ubySv03Mw",
        "colab_type": "code",
        "colab": {}
      },
      "source": [
        "close_px.AAPL.plot()\n",
        "close_px.AAPL.rolling(250).mean().plot()"
      ],
      "execution_count": 0,
      "outputs": []
    },
    {
      "cell_type": "code",
      "metadata": {
        "deletable": true,
        "editable": true,
        "id": "DiJLg85m03My",
        "colab_type": "code",
        "colab": {}
      },
      "source": [
        "plt.figure()"
      ],
      "execution_count": 0,
      "outputs": []
    },
    {
      "cell_type": "code",
      "metadata": {
        "deletable": true,
        "editable": true,
        "id": "Cq5Cr3nj03Mz",
        "colab_type": "code",
        "colab": {}
      },
      "source": [
        "appl_std250 = close_px.AAPL.rolling(250, min_periods=10).std()\n",
        "appl_std250[5:12]\n",
        "appl_std250.plot()"
      ],
      "execution_count": 0,
      "outputs": []
    },
    {
      "cell_type": "code",
      "metadata": {
        "deletable": true,
        "editable": true,
        "id": "vhUzWfZl03M2",
        "colab_type": "code",
        "colab": {}
      },
      "source": [
        "expanding_mean = appl_std250.expanding().mean()"
      ],
      "execution_count": 0,
      "outputs": []
    },
    {
      "cell_type": "code",
      "metadata": {
        "deletable": true,
        "editable": true,
        "id": "tLk35JqJ03M7",
        "colab_type": "code",
        "colab": {}
      },
      "source": [
        "plt.figure()"
      ],
      "execution_count": 0,
      "outputs": []
    },
    {
      "cell_type": "code",
      "metadata": {
        "deletable": true,
        "editable": true,
        "id": "om2o0BLe03M9",
        "colab_type": "code",
        "colab": {}
      },
      "source": [
        "close_px.rolling(60).mean().plot(logy=True)"
      ],
      "execution_count": 0,
      "outputs": []
    },
    {
      "cell_type": "code",
      "metadata": {
        "deletable": true,
        "editable": true,
        "id": "wKv8T6J_03NC",
        "colab_type": "code",
        "colab": {}
      },
      "source": [
        "close_px.rolling('20D').mean()"
      ],
      "execution_count": 0,
      "outputs": []
    },
    {
      "cell_type": "markdown",
      "metadata": {
        "deletable": true,
        "editable": true,
        "id": "kZjWXxjY03NF",
        "colab_type": "text"
      },
      "source": [
        "### Exponentially Weighted Functions"
      ]
    },
    {
      "cell_type": "code",
      "metadata": {
        "deletable": true,
        "editable": true,
        "id": "-35tJ8HJ03NF",
        "colab_type": "code",
        "colab": {}
      },
      "source": [
        "plt.figure()"
      ],
      "execution_count": 0,
      "outputs": []
    },
    {
      "cell_type": "code",
      "metadata": {
        "deletable": true,
        "editable": true,
        "id": "dQQ2xRzH03NJ",
        "colab_type": "code",
        "colab": {}
      },
      "source": [
        "aapl_px = close_px.AAPL['2006':'2007']\n",
        "ma60 = aapl_px.rolling(30, min_periods=20).mean()\n",
        "ewma60 = aapl_px.ewm(span=30).mean()\n",
        "ma60.plot(style='k--', label='Simple MA')\n",
        "ewma60.plot(style='k-', label='EW MA')\n",
        "plt.legend()"
      ],
      "execution_count": 0,
      "outputs": []
    },
    {
      "cell_type": "markdown",
      "metadata": {
        "deletable": true,
        "editable": true,
        "id": "lFI4Mitq03NL",
        "colab_type": "text"
      },
      "source": [
        "### Binary Moving Window Functions"
      ]
    },
    {
      "cell_type": "code",
      "metadata": {
        "deletable": true,
        "editable": true,
        "id": "Oiunv4aZ03NL",
        "colab_type": "code",
        "colab": {}
      },
      "source": [
        "plt.figure()"
      ],
      "execution_count": 0,
      "outputs": []
    },
    {
      "cell_type": "code",
      "metadata": {
        "deletable": true,
        "editable": true,
        "id": "hUNrTVfk03NN",
        "colab_type": "code",
        "colab": {}
      },
      "source": [
        "spx_px = close_px_all['SPX']\n",
        "spx_rets = spx_px.pct_change()\n",
        "returns = close_px.pct_change()"
      ],
      "execution_count": 0,
      "outputs": []
    },
    {
      "cell_type": "code",
      "metadata": {
        "deletable": true,
        "editable": true,
        "id": "bkZqg-TG03NP",
        "colab_type": "code",
        "colab": {}
      },
      "source": [
        "corr = returns.AAPL.rolling(125, min_periods=100).corr(spx_rets)\n",
        "corr.plot()"
      ],
      "execution_count": 0,
      "outputs": []
    },
    {
      "cell_type": "code",
      "metadata": {
        "deletable": true,
        "editable": true,
        "id": "zxv1EisW03NV",
        "colab_type": "code",
        "colab": {}
      },
      "source": [
        "plt.figure()"
      ],
      "execution_count": 0,
      "outputs": []
    },
    {
      "cell_type": "code",
      "metadata": {
        "deletable": true,
        "editable": true,
        "id": "q2NuDdiH03NW",
        "colab_type": "code",
        "colab": {}
      },
      "source": [
        "corr = returns.rolling(125, min_periods=100).corr(spx_rets)\n",
        "corr.plot()"
      ],
      "execution_count": 0,
      "outputs": []
    },
    {
      "cell_type": "markdown",
      "metadata": {
        "deletable": true,
        "editable": true,
        "id": "LJXoDCit03NY",
        "colab_type": "text"
      },
      "source": [
        "### User-Defined Moving Window Functions"
      ]
    },
    {
      "cell_type": "code",
      "metadata": {
        "deletable": true,
        "editable": true,
        "id": "IYzp1XJO03NY",
        "colab_type": "code",
        "colab": {}
      },
      "source": [
        "plt.figure()"
      ],
      "execution_count": 0,
      "outputs": []
    },
    {
      "cell_type": "code",
      "metadata": {
        "deletable": true,
        "editable": true,
        "id": "sebFZZz403Nc",
        "colab_type": "code",
        "colab": {}
      },
      "source": [
        "from scipy.stats import percentileofscore\n",
        "score_at_2percent = lambda x: percentileofscore(x, 0.02)\n",
        "result = returns.AAPL.rolling(250).apply(score_at_2percent)\n",
        "result.plot()"
      ],
      "execution_count": 0,
      "outputs": []
    },
    {
      "cell_type": "code",
      "metadata": {
        "deletable": true,
        "editable": true,
        "id": "KbJBh63503Nd",
        "colab_type": "code",
        "colab": {}
      },
      "source": [
        "pd.options.display.max_rows = PREVIOUS_MAX_ROWS"
      ],
      "execution_count": 0,
      "outputs": []
    },
    {
      "cell_type": "markdown",
      "metadata": {
        "deletable": true,
        "editable": true,
        "id": "OmM_ncS703Nf",
        "colab_type": "text"
      },
      "source": [
        "## Conclusion"
      ]
    }
  ]
}